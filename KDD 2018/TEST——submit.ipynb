{
 "cells": [
  {
   "cell_type": "code",
   "execution_count": 3,
   "metadata": {},
   "outputs": [
    {
     "name": "stdout",
     "output_type": "stream",
     "text": [
      "{\"success\": true}\n"
     ]
    }
   ],
   "source": [
    "import requests\n",
    "data_submit = '2018-5-4'\n",
    "files={'files': open('/home/lifuzhen/KDD2018/Result/result72_'+data_submit+'.csv','rb')}\n",
    "data = {\n",
    "    \"user_id\": \"weisong\",\n",
    "    \"team_token\": \"78f2d7aa87c14330a71e318fb3eba352603bf4492b935f00d355f843a74e9ac9\",\n",
    "    \"description\": '72',\n",
    "    \"filename\": \"5&6\",\n",
    "}\n",
    "url = 'https://biendata.com/competition/kdd_2018_submit/'\n",
    "response = requests.post(url, files=files, data=data)\n",
    "print(response.text)"
   ]
  },
  {
   "cell_type": "code",
   "execution_count": 4,
   "metadata": {},
   "outputs": [
    {
     "name": "stdout",
     "output_type": "stream",
     "text": [
      "{\"success\": true}\n"
     ]
    }
   ],
   "source": [
    "import requests\n",
    "data_submit = '2018-5-4'\n",
    "files={'files': open('/home/lifuzhen/KDD2018/Result/result_'+data_submit+'.csv','rb')}\n",
    "data = {\n",
    "    \"user_id\": \"weisong\",\n",
    "    \"team_token\": \"78f2d7aa87c14330a71e318fb3eba352603bf4492b935f00d355f843a74e9ac9\",\n",
    "    \"description\": '48',\n",
    "    \"filename\": \"5&6\",\n",
    "}\n",
    "url = 'https://biendata.com/competition/kdd_2018_submit/'\n",
    "response = requests.post(url, files=files, data=data)\n",
    "print(response.text)"
   ]
  },
  {
   "cell_type": "code",
   "execution_count": 10,
   "metadata": {},
   "outputs": [
    {
     "name": "stdout",
     "output_type": "stream",
     "text": [
      "{\"success\": true}\n"
     ]
    }
   ],
   "source": [
    "import requests\n",
    "data_submit = '2018-5-6'\n",
    "files={'files': open('/home/lifuzhen/KDD2018/Result/result48_drop1_'+data_submit+'.csv','rb')}\n",
    "data = {\n",
    "    \"user_id\": \"weisong\",\n",
    "    \"team_token\": \"78f2d7aa87c14330a71e318fb3eba352603bf4492b935f00d355f843a74e9ac9\",\n",
    "    \"description\": '48 drop1',\n",
    "    \"filename\": \"7&8\",\n",
    "}\n",
    "url = 'https://biendata.com/competition/kdd_2018_submit/'\n",
    "response = requests.post(url, files=files, data=data)\n",
    "print(response.text)"
   ]
  },
  {
   "cell_type": "code",
   "execution_count": 3,
   "metadata": {},
   "outputs": [
    {
     "name": "stdout",
     "output_type": "stream",
     "text": [
      "{\"success\": true}\n"
     ]
    }
   ],
   "source": [
    "import requests\n",
    "# data_submit = '2018-5-8'\n",
    "files={'files': open('/home/lifuzhen/KDD2018/Result/result_Mini_2018-5-28_big_old_S.csv','rb')}\n",
    "data = {\n",
    "    \"user_id\": \"weisong\",\n",
    "    \"team_token\": \"78f2d7aa87c14330a71e318fb3eba352603bf4492b935f00d355f843a74e9ac9\",\n",
    "    \"description\": 'BO72',\n",
    "    \"filename\": \"29&30\",\n",
    "}\n",
    "url = 'https://biendata.com/competition/kdd_2018_submit/'\n",
    "response = requests.post(url, files=files, data=data)\n",
    "print(response.text)"
   ]
  },
  {
   "cell_type": "code",
   "execution_count": 5,
   "metadata": {},
   "outputs": [
    {
     "name": "stdout",
     "output_type": "stream",
     "text": [
      "{\"success\": true}\n"
     ]
    }
   ],
   "source": [
    "import requests\n",
    "# data_submit = '2018-5-7_1'\n",
    "files={'files': open('/home/lifuzhen/.ipython/profile_myserver/KDD 2018/Result/5-16_sta.csv','rb')}\n",
    "data = {\n",
    "    \"user_id\": \"weisong\",\n",
    "    \"team_token\": \"78f2d7aa87c14330a71e318fb3eba352603bf4492b935f00d355f843a74e9ac9\",\n",
    "    \"description\": 'BS + BO',\n",
    "    \"filename\": \"17&18\",\n",
    "}\n",
    "url = 'https://biendata.com/competition/kdd_2018_submit/'\n",
    "response = requests.post(url, files=files, data=data)\n",
    "print(response.text)"
   ]
  },
  {
   "cell_type": "code",
   "execution_count": null,
   "metadata": {},
   "outputs": [],
   "source": []
  }
 ],
 "metadata": {
  "kernelspec": {
   "display_name": "Python 3",
   "language": "python",
   "name": "python3"
  },
  "language_info": {
   "codemirror_mode": {
    "name": "ipython",
    "version": 3
   },
   "file_extension": ".py",
   "mimetype": "text/x-python",
   "name": "python",
   "nbconvert_exporter": "python",
   "pygments_lexer": "ipython3",
   "version": "3.5.2"
  }
 },
 "nbformat": 4,
 "nbformat_minor": 2
}
