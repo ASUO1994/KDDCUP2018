{
 "cells": [
  {
   "cell_type": "markdown",
   "metadata": {},
   "source": [
    "# beijing"
   ]
  },
  {
   "cell_type": "code",
   "execution_count": 10,
   "metadata": {},
   "outputs": [],
   "source": [
    "import requests\n",
    "for i in range(11,31):\n",
    "    for j in range(0,24):\n",
    "        end   = '2018-04-'+str(i).zfill(2)+'-'+str(j)\n",
    "        url = 'http://kdd.caiyunapp.com/competition/forecast/bj/'+end+'/2k0d1d8'\n",
    "        respones= requests.get(url)\n",
    "        with open ('/home/lifuzhen/KDD2018/Mini_train/bj_grid_meteorology_forecast_48_hours'+'_'+end+'.csv','w') as f:\n",
    "            f.write(respones.text)"
   ]
  },
  {
   "cell_type": "code",
   "execution_count": 52,
   "metadata": {},
   "outputs": [
    {
     "name": "stdout",
     "output_type": "stream",
     "text": [
      "1\n"
     ]
    }
   ],
   "source": [
    "# end   = '2018-04-19-7'\n",
    "# url = 'http://kdd.caiyunapp.com/competition/forecast/bj/'+end+'/2k0d1d8'\n",
    "# respones= requests.get(url)\n",
    "# with open ('/home/lifuzhen/KDD2018/Mini_train/bj_grid_meteorology_forecast_48_hours'+'_'+end+'.csv','w') as f:\n",
    "#     f.write(respones.text)\n",
    "df = pd.read_csv('/home/lifuzhen/KDD2018/Mini_train/bj_grid_meteorology_forecast_48_hours_2018-04-19-7.csv')\n",
    "np.array(df)\n",
    "if np.array(df).tolist() == []:\n",
    "    print(1)"
   ]
  },
  {
   "cell_type": "code",
   "execution_count": 9,
   "metadata": {},
   "outputs": [],
   "source": [
    "start = '2018-04-11-0'\n",
    "end   = '2018-05-05-23'\n",
    "url = 'https://biendata.com/competition/airquality/bj/'+start +'/'+end+'/2k0d1d8'\n",
    "respones= requests.get(url)\n",
    "with open ('/home/lifuzhen/KDD2018/Mini_train/bj_airquality_'+start +'_'+end+'.csv','w') as f:\n",
    "    f.write(respones.text)\n",
    "    \n",
    "url = 'https://biendata.com/competition/meteorology/bj/'+start +'/'+end+'/2k0d1d8'\n",
    "respones= requests.get(url)\n",
    "with open ('/home/lifuzhen/KDD2018/Mini_train/bj_meteorology_'+start +'_'+end+'.csv','w') as f:\n",
    "    f.write(respones.text)\n",
    "\n",
    "url = 'https://biendata.com/competition/meteorology/bj_grid/'+start +'/'+end+'/2k0d1d8'\n",
    "respones= requests.get(url)\n",
    "with open ('/home/lifuzhen/KDD2018/Mini_train/bj_grid_meteorology_'+start +'_'+end+'.csv','w') as f:\n",
    "    f.write(respones.text)"
   ]
  },
  {
   "cell_type": "code",
   "execution_count": 92,
   "metadata": {},
   "outputs": [],
   "source": [
    "import pandas as pd\n",
    "import numpy as np\n",
    "from tqdm import tqdm\n",
    "from datetime import timedelta\n",
    "from datetime import datetime\n",
    "from datetime import date\n",
    "import pandas as pd\n",
    "import numpy as np\n",
    "import matplotlib.pyplot as plt\n",
    "from tqdm import tqdm\n",
    "import copy\n",
    "\n",
    "def gen_dates(b_date, count):\n",
    "    hour = timedelta(hours=1)\n",
    "    for i in range(count+1):\n",
    "        yield b_date + hour*i\n",
    "\n",
    "\n",
    "def get_date_list(start=None, end=None):\n",
    "    \"\"\"\n",
    "    获取日期列表\n",
    "    :param start: 开始日期\n",
    "    :param end: 结束日期\n",
    "    :return:\n",
    "    \"\"\"\n",
    "    if start is None:\n",
    "        start = datetime.strptime(\"2000-01-01 00:00:00\", \"%Y-%m-%d %H:%M:%S\")\n",
    "    if end is None:\n",
    "        end = datetime.now()\n",
    "    data = []\n",
    "    for d in gen_dates(start, int((end-start).total_seconds()/3600)):\n",
    "        data.append(str(d))\n",
    "    return data\n",
    "\n",
    "\n",
    "Medium_PM10 = 88\n",
    "Medium_PM25 = 59\n",
    "Medium_O3   = 56\n",
    "Medium_NO2  = 46\n",
    "Medium_CO   = 1\n",
    "Medium_SO2  = 9\n",
    "def to_timedict_bj(start, end):\n",
    "    \"输入时间和表格，返回字典\"\n",
    "    aq = pd.read_csv('/home/lifuzhen/KDD2018/Mini_train/bj_airquality_'+str(start).split(' ')[0]+'-'+str(int(str(start).split(' ')[1].split(':')[0])) +'_'+str(end).split(' ')[0]+'-'+str(int(str(end).split(' ')[1].split(':')[0]))+'.csv')\n",
    "    meo = pd.read_csv('/home/lifuzhen/KDD2018/Mini_train/bj_meteorology_'+str(start).split(' ')[0]+'-'+str(int(str(start).split(' ')[1].split(':')[0])) +'_'+str(end).split(' ')[0]+'-'+str(int(str(end).split(' ')[1].split(':')[0]))+'.csv')\n",
    "    meo_grid = pd.read_csv('/home/lifuzhen/KDD2018/Mini_train/bj_grid_meteorology_'+str(start).split(' ')[0]+'-'+str(int(str(start).split(' ')[1].split(':')[0])) +'_'+str(end).split(' ')[0]+'-'+str(int(str(end).split(' ')[1].split(':')[0]))+'.csv')\n",
    "    \n",
    "    alt_list = get_date_list(Start , End)\n",
    "    alt_dict = {}\n",
    "    recons = pd.DataFrame(columns=('stationId','utc_time','PM2.5','PM10','NO2','CO','O3','SO2'))\n",
    "    \n",
    "    for i in alt_list:\n",
    "        alt_dict[i] = []\n",
    "    alt = np.array(aq[['station_id','time','PM25_Concentration','PM10_Concentration','NO2_Concentration','CO_Concentration','O3_Concentration','SO2_Concentration']]).tolist()\n",
    "    for i in tqdm(['aotizhongxin', 'badaling', 'beibuxinqu', 'daxing', 'dingling', 'donggaocun', 'dongsi','dongsihuan','fangshan', 'fengtaihuayuan', 'guanyuan', 'gucheng','huairou', 'liulihe', 'mentougou', 'miyun', 'miyunshuiku', 'nansanhuan', 'nongzhanguan', 'pingchang', 'pinggu','qianmen','shunyi','tiantan','tongzhou','wanliu','wanshouxigong','xizhimenbei','yanqin','yizhuang','yongdingmennei','yongledian','yufa','yungang']):\n",
    "        count = 0\n",
    "        for j in aq['station_id']:\n",
    "            if j.split('_')[0] == i:\n",
    "                recons.loc[count] = alt[count]\n",
    "            count += 1 \n",
    "#     print(recons)\n",
    "    recons.reset_index(drop=True,inplace=True)\n",
    "#     recons.loc[recons['stationId'] == 'zhiwuyuan_aq',['PM2.5','PM10','NO2','CO','O3','SO2']] = [Medium_PM25,Medium_PM10,Medium_NO2,Medium_CO,Medium_O3,Medium_SO2]\n",
    "\n",
    "#     print(recons.loc[recons['stationId'] == 'zhiwuyuan_aq'])\n",
    "    recons.interpolate(inplace = True)\n",
    "#     print(recons.loc[recons['stationId'] == 'zhiwuyuan_aq'])\n",
    "    recons['PM2.5'].fillna(Medium_PM25, inplace = True)\n",
    "    recons['PM10'].fillna(Medium_PM10, inplace = True)\n",
    "    recons['NO2'].fillna(Medium_NO2, inplace = True)\n",
    "    recons['CO'].fillna(Medium_CO, inplace = True)\n",
    "    recons['O3'].fillna(Medium_O3, inplace = True)\n",
    "    recons['SO2'].fillna(Medium_SO2, inplace = True)\n",
    "    \n",
    "    recons['lon'] = 0 ##经度\n",
    "    recons['lat'] = 0  ##纬度\n",
    "    recons.loc[recons['stationId']=='dongsi_aq',['lon','lat']] = [116.417,39.929]\n",
    "    recons.loc[recons['stationId']=='tiantan_aq',['lon','lat']] = [116.407,39.886]\n",
    "    recons.loc[recons['stationId']=='guanyuan_aq',['lon','lat']] = [116.339,39.929]\n",
    "    recons.loc[recons['stationId']=='wanshouxigong_aq',['lon','lat']] = [116.352,39.878]\n",
    "    recons.loc[recons['stationId']=='aotizhongxin_aq',['lon','lat']] = [116.397,39.982]\n",
    "    recons.loc[recons['stationId']=='nongzhanguan_aq',['lon','lat']] = [116.461,39.937]\n",
    "    recons.loc[recons['stationId']=='wanliu_aq',['lon','lat']] = [116.287,39.987]\n",
    "    recons.loc[recons['stationId']=='beibuxinqu_aq',['lon','lat']] = [116.174,40.09]\n",
    "    recons.loc[recons['stationId']=='zhiwuyuan_aq',['lon','lat']] = [116.207,40.002]\n",
    "    recons.loc[recons['stationId']=='fengtaihuayuan_aq',['lon','lat']] = [116.279,39.863]\n",
    "    recons.loc[recons['stationId']=='yungang_aq',['lon','lat']] = [116.146,39.824]\n",
    "    recons.loc[recons['stationId']=='gucheng_aq',['lon','lat']] = [116.184,39.914]\n",
    "    recons.loc[recons['stationId']=='fangshan_aq',['lon','lat']] = [116.136,39.742]\n",
    "    recons.loc[recons['stationId']=='daxing_aq',['lon','lat']] = [116.404,39.718]\n",
    "    recons.loc[recons['stationId']=='yizhuang_aq',['lon','lat']] = [116.506,39.795]\n",
    "    recons.loc[recons['stationId']=='tongzhou_aq',['lon','lat']] = [116.663,39.886]\n",
    "    recons.loc[recons['stationId']=='shunyi_aq',['lon','lat']] = [116.655,40.127]\n",
    "    recons.loc[recons['stationId']=='pingchang_aq',['lon','lat']] = [116.23,40.217]\n",
    "    recons.loc[recons['stationId']=='mentougou_aq',['lon','lat']] = [116.106,39.937]\n",
    "    recons.loc[recons['stationId']=='pinggu_aq',['lon','lat']] = [117.1,40.143]\n",
    "    recons.loc[recons['stationId']=='hureconsou_aq',['lon','lat']] = [116.628,40.328]\n",
    "    recons.loc[recons['stationId']=='miyun_aq',['lon','lat']] = [116.832,40.37]\n",
    "    recons.loc[recons['stationId']=='yanqin_aq',['lon','lat']] = [115.972,40.453]\n",
    "    recons.loc[recons['stationId']=='dingling_aq',['lon','lat']] = [116.22,40.292]\n",
    "    recons.loc[recons['stationId']=='badaling_aq',['lon','lat']] = [115.988,40.365]\n",
    "    recons.loc[recons['stationId']=='miyunshuiku_aq',['lon','lat']] = [116.911,40.499]\n",
    "    recons.loc[recons['stationId']=='donggaocun_aq',['lon','lat']] = [117.12,40.1]\n",
    "    recons.loc[recons['stationId']=='yongledian_aq',['lon','lat']] = [116.783,39.712]\n",
    "    recons.loc[recons['stationId']=='yufa_aq',['lon','lat']] = [116.3,39.52]\n",
    "    recons.loc[recons['stationId']=='liulihe_aq',['lon','lat']] = [116,39.58]\n",
    "    recons.loc[recons['stationId']=='qianmen_aq',['lon','lat']] = [116.395,39.899]\n",
    "    recons.loc[recons['stationId']=='yongdingmennei_aq',['lon','lat']] = [116.394,39.876]\n",
    "    recons.loc[recons['stationId']=='xizhimenbei_aq',['lon','lat']] = [116.349,39.954]\n",
    "    recons.loc[recons['stationId']=='nansanhuan_aq',['lon','lat']] = [116.368,39.856]\n",
    "    recons.loc[recons['stationId']=='dongsihuan_aq',['lon','lat']] = [116.483,39.939]\n",
    "    count = 0\n",
    "    Idx = 0  ####索引记录####\n",
    "    recons_list = np.array(recons[['lon','lat']]).tolist()\n",
    "    for i in tqdm(np.array(recons['utc_time']).tolist()):\n",
    "        if i in alt_dict.keys():\n",
    "            alt_dict[i].extend(recons_list[Idx])\n",
    "\n",
    "        Idx += 1\n",
    "    \n",
    "    count = 0\n",
    "    Idx = 0  ####索引记录####\n",
    "    recons_list = np.array(recons[['PM2.5','PM10','NO2','CO','O3','SO2']]).tolist()\n",
    "    for i in tqdm(np.array(recons['utc_time']).tolist()):\n",
    "        if i in alt_dict.keys():\n",
    "            alt_dict[i].extend(recons_list[Idx])\n",
    "\n",
    "        Idx += 1\n",
    "        \n",
    "    for k,v in alt_dict.items():\n",
    "        if len(v) == 0:\n",
    "            if int(k.split(' ')[1].split(':')[0]) != 0:\n",
    "                alt_dict[k] = copy.deepcopy(alt_dict[k.split(' ')[0]+' '+str(int(k.split(' ')[1].split(':')[0])-1).zfill(2)+':00:00'])\n",
    "            else:\n",
    "                alt_dict[k] = copy.deepcopy(alt_dict[k.split(' ')[0]+' '+str(int(k.split(' ')[1].split(':')[0])+1).zfill(2)+':00:00'])\n",
    "    for k,v in alt_dict.items():\n",
    "        if len(v) == 0:\n",
    "            if int(k.split(' ')[1].split(':')[0]) != 0:\n",
    "                alt_dict[k] = copy.deepcopy(alt_dict[k.split(' ')[0]+' '+str(int(k.split(' ')[1].split(':')[0])-1).zfill(2)+':00:00'])\n",
    "            else:\n",
    "                alt_dict[k] = copy.deepcopy(alt_dict[k.split(' ')[0]+' '+str(int(k.split(' ')[1].split(':')[0])+1).zfill(2)+':00:00'])\n",
    "    length = []\n",
    "    for k,v in alt_dict.items():\n",
    "        length.append(len(v))\n",
    "        if len(v) == 272:\n",
    "            print(k)\n",
    "            print(len(v))\n",
    "    print(max(length))\n",
    "    print(min(length))\n",
    "#     print(recons)\n",
    "    ######################处理缺失时间点完毕#####################shunyi_meo\n",
    "\n",
    "\n",
    "#     recons_meo = pd.DataFrame(columns=('station_id','time','temperature','pressure','humidity','wind_direction','wind_speed','weather'))\n",
    "\n",
    "#     alt = np.array(meo[['station_id','time','temperature','pressure','humidity','wind_direction','wind_speed','weather']]).tolist()\n",
    "#     for i in tqdm(['shunyi_meo','hadian_meo','yanqing_meo','miyun_meo','huairou_meo','shangdianzi_meo','pinggu_meo','tongzhou_meo','chaoyang_meo','pingchang_meo','zhaitang_meo','mentougou_meo','beijing_meo','shijingshan_meo','fengtai_meo','daxing_meo','fangshan_meo','xiayunling_meo']):\n",
    "#         count = 0\n",
    "#         for j in meo['station_id']:\n",
    "#             if j == i:\n",
    "#                 recons_meo.loc[count] = alt[count]\n",
    "#             count += 1 \n",
    "    \n",
    "#     for i in range(len(recons_meo['wind_speed'])):\n",
    "#         if recons_meo['wind_speed'][i] == 999017:\n",
    "#             recons_meo.loc[i,'wind_speed'] = recons_meo.loc[i-1,'wind_speed']\n",
    "#     recons_meo['longitude'] = 0 ##经度\n",
    "#     recons_meo['latitude'] = 0  ##纬度\n",
    "#     recons_meo.loc[recons_meo['station_id']=='shunyi_meo',['longitude','latitude']] = [116.6153,40.12667]\n",
    "#     recons_meo.loc[recons_meo['station_id']=='haidian_meo',['longitude','latitude']] = [116.2906,39.98694]\n",
    "#     recons_meo.loc[recons_meo['station_id']=='yanqing_meo',['longitude','latitude']] = [115.9689,40.44944]\n",
    "#     recons_meo.loc[recons_meo['station_id']=='miyun_meo',['longitude','latitude']] = [116.8642,40.3775]\n",
    "#     recons_meo.loc[recons_meo['station_id']=='huairou_meo',['longitude','latitude']] = [116.6269,40.35778]\n",
    "#     recons_meo.loc[recons_meo['station_id']=='shangdianzi_meo',['longitude','latitude']] = [117.1117,40.65889]\n",
    "#     recons_meo.loc[recons_meo['station_id']=='pinggu_meo',['longitude','latitude']] = [117.1178,40.16944]\n",
    "#     recons_meo.loc[recons_meo['station_id']=='tongzhou_meo',['longitude','latitude']] = [116.7567,39.8475]\n",
    "#     recons_meo.loc[recons_meo['station_id']=='chaoyang_meo',['longitude','latitude']] = [116.5008,39.9525]\n",
    "#     recons_meo.loc[recons_meo['station_id']=='pingchang_meo',['longitude','latitude']] = [116.2117,40.22333]\n",
    "#     recons_meo.loc[recons_meo['station_id']=='zhaitang_meo',['longitude','latitude']] = [115.6922,39.97389]\n",
    "#     recons_meo.loc[recons_meo['station_id']=='mentougou_meo',['longitude','latitude']] = [116.1564,39.88778]\n",
    "#     recons_meo.loc[recons_meo['station_id']=='beijing_meo',['longitude','latitude']] = [116.4694,39.80611]\n",
    "#     recons_meo.loc[recons_meo['station_id']=='shijingshan_meo',['longitude','latitude']] = [116.2053,39.9425]\n",
    "#     recons_meo.loc[recons_meo['station_id']=='fengtai_meo',['longitude','latitude']] = [116.2453,39.87028]\n",
    "#     recons_meo.loc[recons_meo['station_id']=='daxing_meo',['longitude','latitude']] = [116.3544,39.71861]\n",
    "#     recons_meo.loc[recons_meo['station_id']=='fangshan_meo',['longitude','latitude']] = [116.1942,39.77306]\n",
    "#     recons_meo.loc[recons_meo['station_id']=='xiayunling_meo',['longitude','latitude']] = [115.7406,39.72861]\n",
    "\n",
    "#     recons_meo.loc[meo['weather'] == 'Sunny/clear' , 'weather'] = 0\n",
    "#     recons_meo.loc[meo['weather'] == 'Snow' , 'weather'] = 1\n",
    "#     recons_meo.loc[meo['weather'] == 'Sleet' , 'weather'] = 2\n",
    "#     recons_meo.loc[meo['weather'] == 'Sand' , 'weather'] = 3\n",
    "#     recons_meo.loc[meo['weather'] == 'Rain/Snow with Hail' , 'weather'] = 4\n",
    "#     recons_meo.loc[meo['weather'] == 'Rain with Hail' , 'weather'] = 5\n",
    "#     recons_meo.loc[meo['weather'] == 'Rain' , 'weather'] = 6\n",
    "#     recons_meo.loc[meo['weather'] == 'Haze' , 'weather'] = 7\n",
    "#     recons_meo.loc[meo['weather'] == 'Fog' , 'weather'] = 8\n",
    "#     recons_meo.loc[meo['weather'] == 'Dust' , 'weather'] = 9\n",
    "#     recons_meo.loc[meo['weather'] == 'Hail' , 'weather'] = 4\n",
    "#     recons_meo.loc[meo['weather'] == 'Cloudy' , 'weather'] = 0\n",
    "#     recons_meo.loc[meo['weather'] == 'Overcast' , 'weather'] = 0\n",
    "#     recons_meo.loc[meo['weather'] == 'Thundershower' , 'weather'] = 6\n",
    "#     def div5(x):\n",
    "#         return int(x/5)\n",
    "#     def div15(x):\n",
    "#         return int(x/15)\n",
    "#     def div05(x):\n",
    "#         return int(x/0.5)\n",
    "#     recons_meo['temperature'] = recons_meo['temperature'].apply(div5)\n",
    "#     recons_meo['pressure'] = recons_meo['pressure'].apply(div5)\n",
    "#     recons_meo['humidity'] = recons_meo['humidity'].apply(div5)\n",
    "#     recons_meo['wind_direction'] = recons_meo['wind_direction'].apply(div15)\n",
    "#     recons_meo['wind_speed/kph'] = recons_meo['wind_speed'].apply(div05)\n",
    "#     #############wether量化###############\n",
    "\n",
    "#     #############处理缺失时间点##########\n",
    "#     count = 0\n",
    "#     Idx = 0  ####索引记录####\n",
    "#     meo_list = np.array(recons_meo[['temperature','pressure','humidity','wind_direction','wind_speed','weather']]).tolist()\n",
    "    \n",
    "\n",
    "#     for i in tqdm(np.array(recons_meo['time']).tolist()):\n",
    "#         if i in alt_dict.keys():\n",
    "#             alt_dict[i].extend(meo_list[Idx])\n",
    "\n",
    "#         Idx += 1\n",
    "        \n",
    "#     length = []  \n",
    "    \n",
    "#     for k,v in alt_dict.items():\n",
    "#         length.append(len(v))\n",
    "# #         if len(v) != 416:\n",
    "# #             print(k)\n",
    "# #             print(len(v))\n",
    "#     print(max(length))\n",
    "#     print(min(length))  \n",
    "    \n",
    "#     for i in range(3):\n",
    "#         for k,v in alt_dict.items():\n",
    "#             if len(v) < max(length):\n",
    "#                 if int(k.split(' ')[1].split(':')[0]) != 0:\n",
    "#                     alt_dict[k] = copy.deepcopy(alt_dict[k.split(' ')[0]+' '+str(int(k.split(' ')[1].split(':')[0])-1).zfill(2)+':00:00'])\n",
    "#                 else:\n",
    "#                     alt_dict[k] = copy.deepcopy(alt_dict[k.split(' ')[0]+' '+str(int(k.split(' ')[1].split(':')[0])+1).zfill(2)+':00:00'])\n",
    "                \n",
    "#     length = []\n",
    "#     for k,v in alt_dict.items():\n",
    "#         length.append(len(v))\n",
    "# #         if len(v) != 416:\n",
    "# #             print(k)\n",
    "# #             print(len(v))\n",
    "#     print(max(length))\n",
    "#     print(min(length))  \n",
    "#     ######################处理缺失时间点完毕#####################\n",
    "#     meo_grid['longitude'] = 0 ##经度\n",
    "#     meo_grid['latitude'] = 0  ##纬度\n",
    "#     count = 0\n",
    "#     for i in range(1150,1181,1):\n",
    "#         for j in range(390,411,1):\n",
    "#             if (i >= 1156 and i <= 1172) and (j >= 395 and j <= 407):\n",
    "#                 meo_grid.loc[meo_grid['station_id']=='beijing_grid_'+str(count).zfill(3),['longitude','latitude']] = [i/10.0,j/10.0]\n",
    "# #                 print([i,j])\n",
    "#             count += 1\n",
    "    \n",
    "#     meo_grid.drop(meo_grid[meo_grid['longitude'] < 115.6].index.tolist(),inplace= True)\n",
    "#     meo_grid.drop(meo_grid[meo_grid['longitude'] > 117.2].index.tolist(),inplace= True)\n",
    "#     meo_grid.drop(meo_grid[meo_grid['latitude']  < 39.5].index.tolist(),inplace= True)\n",
    "#     meo_grid.drop(meo_grid[meo_grid['latitude']  > 40.7].index.tolist(),inplace= True)\n",
    "#     meo_grid.drop('id',axis = 1)\n",
    "#     meo_grid.drop_duplicates(inplace=True)\n",
    "#     meo_grid.reset_index(drop=True,inplace=True)\n",
    "# #     print(meo_grid.head(100))\n",
    "#     def div5(x):\n",
    "#         return int(x/5)\n",
    "#     def div15(x):\n",
    "#         return int(x/15)\n",
    "#     def div05(x):\n",
    "#         return int(x/0.5)\n",
    "#     meo_grid['temperature'] = meo_grid['temperature'].apply(div5)\n",
    "#     meo_grid['pressure'] = meo_grid['pressure'].apply(div5)\n",
    "#     meo_grid['humidity'] = meo_grid['humidity'].apply(div5)\n",
    "#     meo_grid['wind_direction'] = meo_grid['wind_direction'].apply(div15)\n",
    "#     meo_grid['wind_speed/kph'] = meo_grid['wind_speed'].apply(div05)\n",
    "    \n",
    "    \n",
    "    \n",
    "    \n",
    "#     count = 1\n",
    "#     Idx = 0  ####索引记录####\n",
    "\n",
    "#     meo_grid_list = np.array(meo_grid[['temperature','pressure','humidity','wind_direction','wind_speed']]).tolist()\n",
    "#     for i in tqdm(meo_grid['time']):\n",
    "#         if i in alt_dict.keys():\n",
    "#             if Idx > 0:\n",
    "#                 count = int(meo_grid['station_id'][Idx].split('_')[2]) - int(meo_grid['station_id'][Idx-1].split('_')[2])\n",
    "                \n",
    "#             if count > 1 and count < 9:\n",
    "#                 for j in range(count-1):\n",
    "#                     alt_dict[i].extend(meo_grid_list[Idx-1])\n",
    "#             if count > 9:\n",
    "#                 for j in range(count-9):\n",
    "#                     alt_dict[i].extend(meo_grid_list[Idx+1])\n",
    "#             alt_dict[i].extend(meo_grid_list[Idx])\n",
    "#         Idx += 1\n",
    "        \n",
    "        \n",
    "        \n",
    "        \n",
    "        \n",
    "        \n",
    "        \n",
    "#     length = []\n",
    "#     for k,v in alt_dict.items():\n",
    "#         length.append(len(v))\n",
    "# #         if len(v) != 1963:\n",
    "# #             print(k)\n",
    "# #             print(len(v))\n",
    "#     print(max(length))\n",
    "#     print(min(length))\n",
    "#     for i in range(3):\n",
    "#         for k,v in alt_dict.items():\n",
    "#             if len(v) != 1485:\n",
    "#                 if int(k.split(' ')[1].split(':')[0]) != 0:\n",
    "#                     alt_dict[k] = copy.deepcopy(alt_dict[k.split(' ')[0]+' '+str(int(k.split(' ')[1].split(':')[0])-1).zfill(2)+':00:00'])\n",
    "#                 else:\n",
    "#                     alt_dict[k] = copy.deepcopy(alt_dict[k.split(' ')[0]+' '+str(int(k.split(' ')[1].split(':')[0])+1).zfill(2)+':00:00'])\n",
    "                \n",
    "            \n",
    "            \n",
    "        \n",
    "        \n",
    "#     length = []\n",
    "#     for k,v in alt_dict.items():\n",
    "#         length.append(len(v))\n",
    "# #         if len(v) != 1963:\n",
    "# #             print(k)\n",
    "# #             print(len(v))\n",
    "#     print(max(length))\n",
    "#     print(min(length))\n",
    "    pop_list = []\n",
    "    for k in tqdm(alt_dict.keys()):\n",
    "        weather_fore = pd.read_csv('/home/lifuzhen/KDD2018/Mini_train/bj_grid_meteorology_forecast_48_hours_'+k.split(' ')[0]+'-'+str(int(k.split(' ')[1].split(':')[0]))+'.csv')\n",
    "        if np.array(weather_fore).tolist() == []:\n",
    "            pop_list.append(k)\n",
    "            continue\n",
    "        weather_fore['weather'].replace(['CLEAR_DAY','CLEAR_NIGHT','CLOUDY','PARTLY_CLOUDY_DAY','PARTLY_CLOUDY_NIGHT','RAIN','SNOW','WIND','HAZE'],[0,1,2,3,4,5,6,7,8],inplace = True)\n",
    "        weather_fore['longitude'] = 0 ##经度\n",
    "        weather_fore['latitude'] = 0  ##纬度\n",
    "        count = 0\n",
    "#         print(k)\n",
    "        for i in range(1150,1181,1):\n",
    "            for j in range(390,411,1):\n",
    "                if (i >= 1156 and i <= 1172) and (j >= 395 and j <= 407):\n",
    "                    weather_fore.loc[weather_fore['station_id']=='beijing_grid_'+str(count).zfill(3),['longitude','latitude']] = [i/10.0,j/10.0]\n",
    "#                     print([i,j])\n",
    "                count += 1\n",
    "\n",
    "        weather_fore.drop(weather_fore[weather_fore['longitude'] < 115.6].index.tolist(),inplace= True)\n",
    "        weather_fore.drop(weather_fore[weather_fore['longitude'] > 117.2].index.tolist(),inplace= True)\n",
    "        weather_fore.drop(weather_fore[weather_fore['latitude']  < 39.5].index.tolist(),inplace= True)\n",
    "        weather_fore.drop(weather_fore[weather_fore['latitude']  > 40.7].index.tolist(),inplace= True)\n",
    "        weather_fore.reset_index(drop=True,inplace=True)\n",
    "        \n",
    "        weather_fore_array = np.array(weather_fore['weather'])\n",
    "        alt_dict[k].extend(weather_fore_array.tolist())\n",
    "#         print(len(alt_dict[k]))\n",
    "        if len(alt_dict[k]) != 10880:\n",
    "            pop_list.append(k)\n",
    "    print(pop_list)\n",
    "    for i in pop_list:\n",
    "        alt_dict[i].extend(np.zeros(10880-len(alt_dict[i])).tolist())\n",
    "    for k,v in alt_dict.items():\n",
    "        length.append(len(v))\n",
    "#         if len(v) != 1963:\n",
    "#             print(k)\n",
    "#             print(len(v))\n",
    "    print(max(length))\n",
    "    print(min(length))\n",
    "    \n",
    "    alt_frame = pd.DataFrame.from_dict(alt_dict).T\n",
    "    count = 0\n",
    "    for i in list(alt_frame.index):\n",
    "        if i in pop_list:\n",
    "            alt_frame.iloc[count,list(range(272,10880))] = copy.deepcopy(alt_frame.iloc[count-1,list(range(272,10880))])\n",
    "            alt_dict[i][272:10880] = copy.deepcopy(alt_frame.iloc[count-1,list(range(272,10880))]).tolist()\n",
    "        count += 1\n",
    "    ##########提取aq 48小时滑窗##########\n",
    "    win = 48\n",
    "#     win = 72\n",
    "#     win = 16\n",
    "#     win = 168\n",
    "    \n",
    "    for i in tqdm(range(68,272)):  \n",
    "        count = 0\n",
    "        for j in alt_frame[i]:\n",
    "            if count >= win:\n",
    "                alt_dict[alt_frame.index[count]].extend(np.array(alt_frame[i][count-win:count]).tolist())\n",
    "                if i == 271:\n",
    "                    if date.isoweekday(datetime.strptime(alt_frame.index[count], \"%Y-%m-%d %H:%M:%S\")) == 3 or date.isoweekday(datetime.strptime(alt_frame.index[count], \"%Y-%m-%d %H:%M:%S\")) == 4: ###要预测的是周末\n",
    "                        alt_dict[alt_frame.index[count]].extend([1])\n",
    "                    else:\n",
    "                        alt_dict[alt_frame.index[count]].extend([0])\n",
    "                    if int(alt_frame.index[count].split(' ')[1].split(':')[0]) in [0,1,2,10,11,12]: #####是否为早晚高峰时段（北京转utc时间）\n",
    "                        alt_dict[alt_frame.index[count]].extend([2])\n",
    "                    elif int(alt_frame.index[count].split(' ')[1].split(':')[0]) in [16,17,18,19,20]:\n",
    "                        alt_dict[alt_frame.index[count]].extend([1])\n",
    "                    else:\n",
    "                        alt_dict[alt_frame.index[count]].extend([0])\n",
    "                    alt_dict[alt_frame.index[count]].append(int(alt_frame.index[count].split(' ')[1].split(':')[0]))\n",
    "            count += 1\n",
    "            \n",
    "    hour_last = ''\n",
    "    count = 0\n",
    "    for k in tqdm(list(alt_frame.index)):\n",
    "        for i in range(0,6):\n",
    "            SUM = 0\n",
    "            for j in range(0,34):\n",
    "                SUM += alt_dict[k][68+j*6+i]\n",
    "            alt_dict[k].append(SUM)\n",
    "\n",
    "        if count == 0:\n",
    "            alt_dict[k].extend([0,0,0,0,0,0])\n",
    "        else:\n",
    "            for m,n in zip(alt_dict[k][-6:] ,alt_dict[hour_last][-12:-6]):\n",
    "                alt_dict[k].append(m-n)\n",
    "\n",
    "        hour_last = k\n",
    "        count += 1\n",
    "    ##########标签值 PM10 PM2.5 O3##########\n",
    "    step = 72  ####预测间隔\n",
    "    for i in tqdm(range(68,272)):  ##训练数据\n",
    "        count = 0\n",
    "        for j in alt_frame[i]:\n",
    "            if count+step < len(alt_frame[i]) and ((i-68)%6 == 0 or (i-68)%6 == 1 or (i-68)%6 == 4):\n",
    "                alt_dict[alt_frame.index[count]].append(np.array(alt_frame[i][count+step]).tolist())\n",
    "            count += 1\n",
    "    length = []\n",
    "    for k,v in alt_dict.items():\n",
    "        length.append(len(v))\n",
    "#         if len(v) < 4973:\n",
    "#             print(k)\n",
    "#             print(len(v))\n",
    "    print(max(length))\n",
    "    print(min(length))\n",
    "    \n",
    "    pop_list = []\n",
    "    for i in alt_dict.keys():\n",
    "        if len(alt_dict[i]) <  max(length):\n",
    "            pop_list.append(i)\n",
    "    for i in pop_list:\n",
    "        alt_dict.pop(i)\n",
    "        \n",
    "    length = []\n",
    "    for k,v in alt_dict.items():\n",
    "        length.append(len(v))\n",
    "#         if len(v) == 4960:\n",
    "#             print(k)\n",
    "#             print(len(v))\n",
    "    print(max(length))\n",
    "    print(min(length))\n",
    "    \n",
    "    return alt_dict"
   ]
  },
  {
   "cell_type": "code",
   "execution_count": 93,
   "metadata": {},
   "outputs": [
    {
     "name": "stderr",
     "output_type": "stream",
     "text": [
      "\n",
      "  0%|          | 0/34 [00:00<?, ?it/s]\u001b[A\n",
      "Exception in thread Thread-104:\n",
      "Traceback (most recent call last):\n",
      "  File \"/usr/lib/python3.5/threading.py\", line 914, in _bootstrap_inner\n",
      "    self.run()\n",
      "  File \"/home/lifuzhen/virtual_pytorch_py3.5/lib/python3.5/site-packages/tqdm/_tqdm.py\", line 144, in run\n",
      "    for instance in self.tqdm_cls._instances:\n",
      "  File \"/home/lifuzhen/virtual_pytorch_py3.5/lib/python3.5/_weakrefset.py\", line 60, in __iter__\n",
      "    for itemref in self.data:\n",
      "RuntimeError: Set changed size during iteration\n",
      "\n",
      "100%|██████████| 34/34 [00:57<00:00,  1.70s/it]\n",
      "100%|██████████| 21726/21726 [00:00<00:00, 1575420.09it/s]\n",
      "100%|██████████| 21726/21726 [00:00<00:00, 1375416.19it/s]\n",
      "  0%|          | 0/672 [00:00<?, ?it/s]"
     ]
    },
    {
     "name": "stdout",
     "output_type": "stream",
     "text": [
      "2018-05-01 05:00:00\n",
      "272\n",
      "2018-04-28 09:00:00\n",
      "272\n",
      "2018-04-22 18:00:00\n",
      "272\n",
      "2018-04-20 07:00:00\n",
      "272\n",
      "2018-04-12 15:00:00\n",
      "272\n",
      "2018-04-11 20:00:00\n",
      "272\n",
      "2018-04-30 01:00:00\n",
      "272\n",
      "2018-04-29 17:00:00\n",
      "272\n",
      "2018-04-13 00:00:00\n",
      "272\n",
      "2018-05-04 07:00:00\n",
      "272\n",
      "2018-04-23 15:00:00\n",
      "272\n",
      "2018-04-12 05:00:00\n",
      "272\n",
      "2018-05-03 11:00:00\n",
      "272\n",
      "2018-04-23 21:00:00\n",
      "272\n",
      "2018-04-29 00:00:00\n",
      "272\n",
      "2018-05-01 10:00:00\n",
      "272\n",
      "2018-04-24 04:00:00\n",
      "272\n",
      "2018-04-15 00:00:00\n",
      "272\n",
      "2018-04-16 11:00:00\n",
      "272\n",
      "2018-04-15 09:00:00\n",
      "272\n",
      "2018-04-11 14:00:00\n",
      "272\n",
      "2018-04-15 01:00:00\n",
      "272\n",
      "2018-05-04 06:00:00\n",
      "272\n",
      "2018-04-21 11:00:00\n",
      "272\n",
      "2018-04-20 15:00:00\n",
      "272\n",
      "2018-05-06 18:00:00\n",
      "272\n",
      "2018-05-08 19:00:00\n",
      "272\n",
      "2018-04-26 03:00:00\n",
      "272\n",
      "2018-04-18 18:00:00\n",
      "272\n",
      "2018-04-30 12:00:00\n",
      "272\n",
      "2018-04-19 13:00:00\n",
      "272\n",
      "2018-05-02 05:00:00\n",
      "272\n",
      "2018-04-28 17:00:00\n",
      "272\n",
      "2018-04-21 20:00:00\n",
      "272\n",
      "2018-05-05 07:00:00\n",
      "272\n",
      "2018-05-02 22:00:00\n",
      "272\n",
      "2018-04-12 12:00:00\n",
      "272\n",
      "2018-04-12 17:00:00\n",
      "272\n",
      "2018-05-03 23:00:00\n",
      "272\n",
      "2018-04-27 08:00:00\n",
      "272\n",
      "2018-04-16 08:00:00\n",
      "272\n",
      "2018-04-23 19:00:00\n",
      "272\n",
      "2018-04-11 11:00:00\n",
      "272\n",
      "2018-04-13 21:00:00\n",
      "272\n",
      "2018-04-25 20:00:00\n",
      "272\n",
      "2018-04-28 12:00:00\n",
      "272\n",
      "2018-04-18 15:00:00\n",
      "272\n",
      "2018-04-28 13:00:00\n",
      "272\n",
      "2018-04-22 06:00:00\n",
      "272\n",
      "2018-05-03 22:00:00\n",
      "272\n",
      "2018-04-25 00:00:00\n",
      "272\n",
      "2018-05-06 05:00:00\n",
      "272\n",
      "2018-04-23 11:00:00\n",
      "272\n",
      "2018-04-18 16:00:00\n",
      "272\n",
      "2018-04-14 12:00:00\n",
      "272\n",
      "2018-04-13 02:00:00\n",
      "272\n",
      "2018-04-16 19:00:00\n",
      "272\n",
      "2018-05-07 02:00:00\n",
      "272\n",
      "2018-05-03 10:00:00\n",
      "272\n",
      "2018-04-12 08:00:00\n",
      "272\n",
      "2018-04-18 21:00:00\n",
      "272\n",
      "2018-04-14 20:00:00\n",
      "272\n",
      "2018-04-29 10:00:00\n",
      "272\n",
      "2018-04-12 19:00:00\n",
      "272\n",
      "2018-04-21 09:00:00\n",
      "272\n",
      "2018-05-06 02:00:00\n",
      "272\n",
      "2018-04-30 11:00:00\n",
      "272\n",
      "2018-05-06 07:00:00\n",
      "272\n",
      "2018-05-05 12:00:00\n",
      "272\n",
      "2018-04-25 17:00:00\n",
      "272\n",
      "2018-04-28 23:00:00\n",
      "272\n",
      "2018-04-25 14:00:00\n",
      "272\n",
      "2018-04-27 11:00:00\n",
      "272\n",
      "2018-05-01 17:00:00\n",
      "272\n",
      "2018-04-13 03:00:00\n",
      "272\n",
      "2018-04-26 05:00:00\n",
      "272\n",
      "2018-05-05 03:00:00\n",
      "272\n",
      "2018-05-05 20:00:00\n",
      "272\n",
      "2018-04-23 14:00:00\n",
      "272\n",
      "2018-05-02 07:00:00\n",
      "272\n",
      "2018-05-04 14:00:00\n",
      "272\n",
      "2018-04-19 19:00:00\n",
      "272\n",
      "2018-04-17 10:00:00\n",
      "272\n",
      "2018-05-07 17:00:00\n",
      "272\n",
      "2018-04-24 14:00:00\n",
      "272\n",
      "2018-04-15 11:00:00\n",
      "272\n",
      "2018-05-06 01:00:00\n",
      "272\n",
      "2018-04-29 06:00:00\n",
      "272\n",
      "2018-04-21 05:00:00\n",
      "272\n",
      "2018-04-13 13:00:00\n",
      "272\n",
      "2018-04-12 06:00:00\n",
      "272\n",
      "2018-05-06 19:00:00\n",
      "272\n",
      "2018-04-19 23:00:00\n",
      "272\n",
      "2018-04-26 12:00:00\n",
      "272\n",
      "2018-05-03 02:00:00\n",
      "272\n",
      "2018-04-11 07:00:00\n",
      "272\n",
      "2018-04-20 21:00:00\n",
      "272\n",
      "2018-04-22 12:00:00\n",
      "272\n",
      "2018-04-24 11:00:00\n",
      "272\n",
      "2018-04-20 09:00:00\n",
      "272\n",
      "2018-04-18 03:00:00\n",
      "272\n",
      "2018-04-17 20:00:00\n",
      "272\n",
      "2018-04-17 07:00:00\n",
      "272\n",
      "2018-05-04 19:00:00\n",
      "272\n",
      "2018-05-08 23:00:00\n",
      "272\n",
      "2018-05-08 18:00:00\n",
      "272\n",
      "2018-04-12 11:00:00\n",
      "272\n",
      "2018-04-19 20:00:00\n",
      "272\n",
      "2018-04-20 19:00:00\n",
      "272\n",
      "2018-04-29 07:00:00\n",
      "272\n",
      "2018-05-03 17:00:00\n",
      "272\n",
      "2018-05-01 09:00:00\n",
      "272\n",
      "2018-04-26 17:00:00\n",
      "272\n",
      "2018-05-01 08:00:00\n",
      "272\n",
      "2018-04-11 05:00:00\n",
      "272\n",
      "2018-05-06 10:00:00\n",
      "272\n",
      "2018-04-24 16:00:00\n",
      "272\n",
      "2018-05-01 01:00:00\n",
      "272\n",
      "2018-04-15 16:00:00\n",
      "272\n",
      "2018-04-22 00:00:00\n",
      "272\n",
      "2018-04-26 02:00:00\n",
      "272\n",
      "2018-04-27 15:00:00\n",
      "272\n",
      "2018-04-16 21:00:00\n",
      "272\n",
      "2018-04-21 16:00:00\n",
      "272\n",
      "2018-04-27 18:00:00\n",
      "272\n",
      "2018-04-18 08:00:00\n",
      "272\n",
      "2018-04-26 09:00:00\n",
      "272\n",
      "2018-04-29 14:00:00\n",
      "272\n",
      "2018-04-16 14:00:00\n",
      "272\n",
      "2018-04-19 12:00:00\n",
      "272\n",
      "2018-05-05 23:00:00\n",
      "272\n",
      "2018-04-20 00:00:00\n",
      "272\n",
      "2018-04-30 13:00:00\n",
      "272\n",
      "2018-05-07 01:00:00\n",
      "272\n",
      "2018-04-17 02:00:00\n",
      "272\n",
      "2018-05-06 08:00:00\n",
      "272\n",
      "2018-05-06 06:00:00\n",
      "272\n",
      "2018-04-19 00:00:00\n",
      "272\n",
      "2018-04-23 09:00:00\n",
      "272\n",
      "2018-04-12 03:00:00\n",
      "272\n",
      "2018-04-27 09:00:00\n",
      "272\n",
      "2018-04-13 20:00:00\n",
      "272\n",
      "2018-04-24 19:00:00\n",
      "272\n",
      "2018-04-16 17:00:00\n",
      "272\n",
      "2018-04-20 04:00:00\n",
      "272\n",
      "2018-04-29 03:00:00\n",
      "272\n",
      "2018-04-14 10:00:00\n",
      "272\n",
      "2018-04-26 23:00:00\n",
      "272\n",
      "2018-04-13 11:00:00\n",
      "272\n",
      "2018-04-16 10:00:00\n",
      "272\n",
      "2018-04-29 15:00:00\n",
      "272\n",
      "2018-04-12 01:00:00\n",
      "272\n",
      "2018-05-05 04:00:00\n",
      "272\n",
      "2018-05-02 10:00:00\n",
      "272\n",
      "2018-04-30 08:00:00\n",
      "272\n",
      "2018-05-02 12:00:00\n",
      "272\n",
      "2018-04-16 00:00:00\n",
      "272\n",
      "2018-04-12 21:00:00\n",
      "272\n",
      "2018-04-13 07:00:00\n",
      "272\n",
      "2018-05-08 12:00:00\n",
      "272\n",
      "2018-04-20 01:00:00\n",
      "272\n",
      "2018-04-15 08:00:00\n",
      "272\n",
      "2018-04-22 04:00:00\n",
      "272\n",
      "2018-04-21 08:00:00\n",
      "272\n",
      "2018-05-04 13:00:00\n",
      "272\n",
      "2018-05-03 04:00:00\n",
      "272\n",
      "2018-05-05 17:00:00\n",
      "272\n",
      "2018-04-19 03:00:00\n",
      "272\n",
      "2018-05-02 02:00:00\n",
      "272\n",
      "2018-04-30 14:00:00\n",
      "272\n",
      "2018-04-15 22:00:00\n",
      "272\n",
      "2018-04-24 00:00:00\n",
      "272\n",
      "2018-04-19 18:00:00\n",
      "272\n",
      "2018-04-19 01:00:00\n",
      "272\n",
      "2018-05-02 21:00:00\n",
      "272\n",
      "2018-04-15 02:00:00\n",
      "272\n",
      "2018-04-15 12:00:00\n",
      "272\n",
      "2018-04-28 05:00:00\n",
      "272\n",
      "2018-04-14 11:00:00\n",
      "272\n",
      "2018-04-13 18:00:00\n",
      "272\n",
      "2018-05-07 22:00:00\n",
      "272\n",
      "2018-04-25 05:00:00\n",
      "272\n",
      "2018-05-03 14:00:00\n",
      "272\n",
      "2018-04-22 13:00:00\n",
      "272\n",
      "2018-04-25 10:00:00\n",
      "272\n",
      "2018-05-08 02:00:00\n",
      "272\n",
      "2018-04-21 17:00:00\n",
      "272\n",
      "2018-04-17 21:00:00\n",
      "272\n",
      "2018-04-18 09:00:00\n",
      "272\n",
      "2018-04-22 02:00:00\n",
      "272\n",
      "2018-05-07 08:00:00\n",
      "272\n",
      "2018-04-25 19:00:00\n",
      "272\n",
      "2018-04-16 23:00:00\n",
      "272\n",
      "2018-05-07 13:00:00\n",
      "272\n",
      "2018-05-06 17:00:00\n",
      "272\n",
      "2018-04-14 09:00:00\n",
      "272\n",
      "2018-04-24 23:00:00\n",
      "272\n",
      "2018-04-29 19:00:00\n",
      "272\n",
      "2018-05-08 01:00:00\n",
      "272\n",
      "2018-05-06 09:00:00\n",
      "272\n",
      "2018-04-28 15:00:00\n",
      "272\n",
      "2018-05-08 08:00:00\n",
      "272\n",
      "2018-04-26 07:00:00\n",
      "272\n",
      "2018-04-24 02:00:00\n",
      "272\n",
      "2018-04-23 18:00:00\n",
      "272\n",
      "2018-05-03 03:00:00\n",
      "272\n",
      "2018-05-07 16:00:00\n",
      "272\n",
      "2018-04-17 06:00:00\n",
      "272\n",
      "2018-05-03 06:00:00\n",
      "272\n",
      "2018-04-14 04:00:00\n",
      "272\n",
      "2018-04-19 09:00:00\n",
      "272\n",
      "2018-04-13 17:00:00\n",
      "272\n",
      "2018-04-21 13:00:00\n",
      "272\n",
      "2018-04-29 05:00:00\n",
      "272\n",
      "2018-05-08 00:00:00\n",
      "272\n",
      "2018-04-26 14:00:00\n",
      "272\n",
      "2018-04-13 16:00:00\n",
      "272\n",
      "2018-04-15 23:00:00\n",
      "272\n",
      "2018-05-04 09:00:00\n",
      "272\n",
      "2018-05-03 15:00:00\n",
      "272\n",
      "2018-05-02 04:00:00\n",
      "272\n",
      "2018-04-18 06:00:00\n",
      "272\n",
      "2018-05-01 00:00:00\n",
      "272\n",
      "2018-05-07 10:00:00\n",
      "272\n",
      "2018-04-25 09:00:00\n",
      "272\n",
      "2018-04-13 19:00:00\n",
      "272\n",
      "2018-05-01 13:00:00\n",
      "272\n",
      "2018-04-27 10:00:00\n",
      "272\n",
      "2018-04-13 23:00:00\n",
      "272\n",
      "2018-04-16 05:00:00\n",
      "272\n",
      "2018-04-15 06:00:00\n",
      "272\n",
      "2018-04-13 10:00:00\n",
      "272\n",
      "2018-04-15 13:00:00\n",
      "272\n",
      "2018-05-01 14:00:00\n",
      "272\n",
      "2018-05-04 20:00:00\n",
      "272\n",
      "2018-04-24 03:00:00\n",
      "272\n",
      "2018-04-14 15:00:00\n",
      "272\n",
      "2018-04-25 06:00:00\n",
      "272\n",
      "2018-05-02 17:00:00\n",
      "272\n",
      "2018-05-08 15:00:00\n",
      "272\n",
      "2018-04-16 15:00:00\n",
      "272\n",
      "2018-04-19 07:00:00\n",
      "272\n",
      "2018-04-29 01:00:00\n",
      "272\n",
      "2018-04-28 04:00:00\n",
      "272\n",
      "2018-04-21 01:00:00\n",
      "272\n",
      "2018-04-22 19:00:00\n",
      "272\n",
      "2018-04-12 10:00:00\n",
      "272\n",
      "2018-05-05 08:00:00\n",
      "272\n",
      "2018-04-21 06:00:00\n",
      "272\n",
      "2018-04-25 13:00:00\n",
      "272\n",
      "2018-05-05 00:00:00\n",
      "272\n",
      "2018-04-19 04:00:00\n",
      "272\n",
      "2018-04-11 06:00:00\n",
      "272\n",
      "2018-05-07 14:00:00\n",
      "272\n",
      "2018-04-19 21:00:00\n",
      "272\n",
      "2018-04-30 05:00:00\n",
      "272\n",
      "2018-04-22 05:00:00\n",
      "272\n",
      "2018-04-20 17:00:00\n",
      "272\n",
      "2018-04-14 14:00:00\n",
      "272\n",
      "2018-05-06 23:00:00\n",
      "272\n",
      "2018-04-29 02:00:00\n",
      "272\n",
      "2018-04-12 18:00:00\n",
      "272\n",
      "2018-04-30 06:00:00\n",
      "272\n",
      "2018-04-23 16:00:00\n",
      "272\n",
      "2018-04-20 16:00:00\n",
      "272\n",
      "2018-04-11 15:00:00\n",
      "272\n",
      "2018-04-24 08:00:00\n",
      "272\n",
      "2018-04-21 07:00:00\n",
      "272\n",
      "2018-05-08 14:00:00\n",
      "272\n",
      "2018-04-14 01:00:00\n",
      "272\n",
      "2018-04-11 02:00:00\n",
      "272\n",
      "2018-04-22 20:00:00\n",
      "272\n",
      "2018-04-16 09:00:00\n",
      "272\n",
      "2018-04-29 09:00:00\n",
      "272\n",
      "2018-04-30 17:00:00\n",
      "272\n",
      "2018-05-01 03:00:00\n",
      "272\n",
      "2018-05-07 03:00:00\n",
      "272\n",
      "2018-04-26 10:00:00\n",
      "272\n",
      "2018-05-03 07:00:00\n",
      "272\n",
      "2018-04-15 10:00:00\n",
      "272\n",
      "2018-04-24 17:00:00\n",
      "272\n",
      "2018-04-23 10:00:00\n",
      "272\n",
      "2018-04-17 16:00:00\n",
      "272\n",
      "2018-04-17 01:00:00\n",
      "272\n",
      "2018-05-01 02:00:00\n",
      "272\n",
      "2018-05-01 15:00:00\n",
      "272\n",
      "2018-05-05 02:00:00\n",
      "272\n",
      "2018-04-16 20:00:00\n",
      "272\n",
      "2018-05-06 04:00:00\n",
      "272\n",
      "2018-04-25 04:00:00\n",
      "272\n",
      "2018-04-24 06:00:00\n",
      "272\n",
      "2018-05-07 09:00:00\n",
      "272\n",
      "2018-04-30 00:00:00\n",
      "272\n",
      "2018-04-23 04:00:00\n",
      "272\n",
      "2018-05-07 07:00:00\n",
      "272\n",
      "2018-04-18 13:00:00\n",
      "272\n",
      "2018-04-24 01:00:00\n",
      "272\n",
      "2018-05-06 00:00:00\n",
      "272\n",
      "2018-04-14 07:00:00\n",
      "272\n",
      "2018-05-04 16:00:00\n",
      "272\n",
      "2018-04-21 14:00:00\n",
      "272\n",
      "2018-04-21 23:00:00\n",
      "272\n",
      "2018-04-26 04:00:00\n",
      "272\n",
      "2018-05-03 21:00:00\n",
      "272\n",
      "2018-05-04 22:00:00\n",
      "272\n",
      "2018-04-25 23:00:00\n",
      "272\n",
      "2018-04-30 07:00:00\n",
      "272\n",
      "2018-04-27 21:00:00\n",
      "272\n",
      "2018-05-04 00:00:00\n",
      "272\n",
      "2018-04-18 05:00:00\n",
      "272\n",
      "2018-05-03 01:00:00\n",
      "272\n",
      "2018-04-13 14:00:00\n",
      "272\n",
      "2018-05-07 23:00:00\n",
      "272\n",
      "2018-04-30 02:00:00\n",
      "272\n",
      "2018-05-08 21:00:00\n",
      "272\n",
      "2018-04-16 13:00:00\n",
      "272\n",
      "2018-05-03 00:00:00\n",
      "272\n",
      "2018-04-11 21:00:00\n",
      "272\n",
      "2018-04-13 06:00:00\n",
      "272\n",
      "2018-05-01 19:00:00\n",
      "272\n",
      "2018-04-28 10:00:00\n",
      "272\n",
      "2018-04-13 01:00:00\n",
      "272\n",
      "2018-05-06 13:00:00\n",
      "272\n",
      "2018-04-27 22:00:00\n",
      "272\n",
      "2018-04-26 15:00:00\n",
      "272\n",
      "2018-05-04 15:00:00\n",
      "272\n",
      "2018-04-12 07:00:00\n",
      "272\n",
      "2018-05-07 11:00:00\n",
      "272\n",
      "2018-04-19 16:00:00\n",
      "272\n",
      "2018-05-05 18:00:00\n",
      "272\n",
      "2018-04-24 20:00:00\n",
      "272\n",
      "2018-04-26 00:00:00\n",
      "272\n",
      "2018-04-12 00:00:00\n",
      "272\n",
      "2018-04-25 15:00:00\n",
      "272\n",
      "2018-05-05 11:00:00\n",
      "272\n",
      "2018-05-05 05:00:00\n",
      "272\n",
      "2018-04-19 15:00:00\n",
      "272\n",
      "2018-04-11 00:00:00\n",
      "272\n",
      "2018-04-30 09:00:00\n",
      "272\n",
      "2018-04-11 03:00:00\n",
      "272\n",
      "2018-04-24 07:00:00\n",
      "272\n",
      "2018-04-27 17:00:00\n",
      "272\n",
      "2018-04-12 13:00:00\n",
      "272\n",
      "2018-04-16 07:00:00\n",
      "272\n",
      "2018-04-27 12:00:00\n",
      "272\n",
      "2018-04-23 03:00:00\n",
      "272\n",
      "2018-04-29 12:00:00\n",
      "272\n",
      "2018-04-17 15:00:00\n",
      "272\n",
      "2018-05-05 10:00:00\n",
      "272\n",
      "2018-05-04 02:00:00\n",
      "272\n",
      "2018-05-02 20:00:00\n",
      "272\n",
      "2018-04-15 15:00:00\n",
      "272\n",
      "2018-04-16 01:00:00\n",
      "272\n",
      "2018-04-22 10:00:00\n",
      "272\n",
      "2018-04-29 20:00:00\n",
      "272\n",
      "2018-04-18 01:00:00\n",
      "272\n",
      "2018-04-22 07:00:00\n",
      "272\n",
      "2018-04-22 11:00:00\n",
      "272\n",
      "2018-04-23 07:00:00\n",
      "272\n",
      "2018-04-26 01:00:00\n",
      "272\n",
      "2018-05-05 06:00:00\n",
      "272\n",
      "2018-04-18 20:00:00\n",
      "272\n",
      "2018-04-29 22:00:00\n",
      "272\n",
      "2018-04-11 04:00:00\n",
      "272\n",
      "2018-04-28 07:00:00\n",
      "272\n",
      "2018-04-28 20:00:00\n",
      "272\n",
      "2018-04-11 12:00:00\n",
      "272\n",
      "2018-04-30 19:00:00\n",
      "272\n",
      "2018-04-17 12:00:00\n",
      "272\n",
      "2018-04-17 17:00:00\n",
      "272\n",
      "2018-04-28 00:00:00\n",
      "272\n",
      "2018-04-20 12:00:00\n",
      "272\n",
      "2018-04-12 22:00:00\n",
      "272\n",
      "2018-05-06 14:00:00\n",
      "272\n",
      "2018-04-30 20:00:00\n",
      "272\n",
      "2018-05-06 15:00:00\n",
      "272\n",
      "2018-04-28 02:00:00\n",
      "272\n",
      "2018-04-25 03:00:00\n",
      "272\n",
      "2018-04-16 16:00:00\n",
      "272\n",
      "2018-04-18 11:00:00\n",
      "272\n",
      "2018-04-20 11:00:00\n",
      "272\n",
      "2018-04-21 00:00:00\n",
      "272\n",
      "2018-05-01 20:00:00\n",
      "272\n",
      "2018-04-14 21:00:00\n",
      "272\n",
      "2018-04-19 05:00:00\n",
      "272\n",
      "2018-05-08 07:00:00\n",
      "272\n",
      "2018-05-08 22:00:00\n",
      "272\n",
      "2018-04-17 05:00:00\n",
      "272\n",
      "2018-04-22 23:00:00\n",
      "272\n",
      "2018-04-30 18:00:00\n",
      "272\n",
      "2018-04-19 10:00:00\n",
      "272\n",
      "2018-04-26 18:00:00\n",
      "272\n",
      "2018-04-15 18:00:00\n",
      "272\n",
      "2018-04-13 04:00:00\n",
      "272\n",
      "2018-05-03 16:00:00\n",
      "272\n",
      "2018-04-28 06:00:00\n",
      "272\n",
      "2018-04-23 02:00:00\n",
      "272\n",
      "2018-05-02 13:00:00\n",
      "272\n",
      "2018-04-24 12:00:00\n",
      "272\n",
      "2018-04-17 13:00:00\n",
      "272\n",
      "2018-04-25 11:00:00\n",
      "272\n",
      "2018-05-04 01:00:00\n",
      "272\n",
      "2018-04-11 17:00:00\n",
      "272\n",
      "2018-05-05 15:00:00\n",
      "272\n",
      "2018-04-21 19:00:00\n",
      "272\n",
      "2018-04-28 19:00:00\n",
      "272\n",
      "2018-04-23 23:00:00\n",
      "272\n",
      "2018-04-27 14:00:00\n",
      "272\n",
      "2018-04-20 10:00:00\n",
      "272\n",
      "2018-04-21 15:00:00\n",
      "272\n",
      "2018-05-04 12:00:00\n",
      "272\n",
      "2018-04-28 22:00:00\n",
      "272\n",
      "2018-04-23 08:00:00\n",
      "272\n",
      "2018-04-17 23:00:00\n",
      "272\n",
      "2018-04-11 19:00:00\n",
      "272\n",
      "2018-04-15 04:00:00\n",
      "272\n",
      "2018-04-14 00:00:00\n",
      "272\n",
      "2018-05-05 14:00:00\n",
      "272\n",
      "2018-05-08 13:00:00\n",
      "272\n",
      "2018-04-25 12:00:00\n",
      "272\n",
      "2018-04-28 18:00:00\n",
      "272\n",
      "2018-04-27 16:00:00\n",
      "272\n",
      "2018-04-28 11:00:00\n",
      "272\n",
      "2018-04-22 22:00:00\n",
      "272\n",
      "2018-04-28 14:00:00\n",
      "272\n",
      "2018-05-03 19:00:00\n",
      "272\n",
      "2018-04-24 22:00:00\n",
      "272\n",
      "2018-05-02 00:00:00\n",
      "272\n",
      "2018-05-06 16:00:00\n",
      "272\n",
      "2018-04-29 23:00:00\n",
      "272\n",
      "2018-04-23 00:00:00\n",
      "272\n",
      "2018-04-18 19:00:00\n",
      "272\n",
      "2018-05-02 08:00:00\n",
      "272\n",
      "2018-05-03 18:00:00\n",
      "272\n",
      "2018-04-27 03:00:00\n",
      "272\n",
      "2018-04-27 02:00:00\n",
      "272\n",
      "2018-05-01 22:00:00\n",
      "272\n",
      "2018-05-08 17:00:00\n",
      "272\n",
      "2018-05-03 08:00:00\n",
      "272\n",
      "2018-04-21 22:00:00\n",
      "272\n",
      "2018-04-21 10:00:00\n",
      "272\n",
      "2018-04-26 16:00:00\n",
      "272\n",
      "2018-04-27 00:00:00\n",
      "272\n",
      "2018-04-15 19:00:00\n",
      "272\n",
      "2018-05-01 06:00:00\n",
      "272\n",
      "2018-05-07 18:00:00\n",
      "272\n",
      "2018-04-30 21:00:00\n",
      "272\n",
      "2018-04-23 01:00:00\n",
      "272\n",
      "2018-04-18 23:00:00\n",
      "272\n",
      "2018-04-16 22:00:00\n",
      "272\n",
      "2018-04-20 06:00:00\n",
      "272\n",
      "2018-04-27 06:00:00\n",
      "272\n",
      "2018-05-08 11:00:00\n",
      "272\n",
      "2018-05-01 18:00:00\n",
      "272\n",
      "2018-05-03 20:00:00\n",
      "272\n",
      "2018-05-07 21:00:00\n",
      "272\n",
      "2018-05-07 05:00:00\n",
      "272\n",
      "2018-04-24 15:00:00\n",
      "272\n",
      "2018-04-29 08:00:00\n",
      "272\n",
      "2018-05-04 10:00:00\n",
      "272\n",
      "2018-04-23 06:00:00\n",
      "272\n",
      "2018-04-29 11:00:00\n",
      "272\n",
      "2018-04-24 18:00:00\n",
      "272\n",
      "2018-04-27 05:00:00\n",
      "272\n",
      "2018-04-29 13:00:00\n",
      "272\n",
      "2018-04-14 13:00:00\n",
      "272\n",
      "2018-04-18 14:00:00\n",
      "272\n",
      "2018-04-11 22:00:00\n",
      "272\n",
      "2018-04-22 01:00:00\n",
      "272\n",
      "2018-04-26 13:00:00\n",
      "272\n",
      "2018-04-29 16:00:00\n",
      "272\n",
      "2018-05-05 01:00:00\n",
      "272\n",
      "2018-04-26 20:00:00\n",
      "272\n",
      "2018-04-11 18:00:00\n",
      "272\n",
      "2018-04-11 10:00:00\n",
      "272\n",
      "2018-04-17 08:00:00\n",
      "272\n",
      "2018-04-25 22:00:00\n",
      "272\n",
      "2018-04-18 00:00:00\n",
      "272\n",
      "2018-05-08 20:00:00\n",
      "272\n",
      "2018-04-25 02:00:00\n",
      "272\n",
      "2018-04-26 08:00:00\n",
      "272\n",
      "2018-04-14 06:00:00\n",
      "272\n",
      "2018-04-20 14:00:00\n",
      "272\n",
      "2018-04-21 04:00:00\n",
      "272\n",
      "2018-04-19 08:00:00\n",
      "272\n",
      "2018-04-14 16:00:00\n",
      "272\n",
      "2018-04-15 21:00:00\n",
      "272\n",
      "2018-05-01 07:00:00\n",
      "272\n",
      "2018-04-26 11:00:00\n",
      "272\n",
      "2018-04-15 20:00:00\n",
      "272\n",
      "2018-04-13 05:00:00\n",
      "272\n",
      "2018-04-12 20:00:00\n",
      "272\n",
      "2018-05-07 12:00:00\n",
      "272\n",
      "2018-05-03 05:00:00\n",
      "272\n",
      "2018-04-25 01:00:00\n",
      "272\n",
      "2018-05-04 11:00:00\n",
      "272\n",
      "2018-04-23 17:00:00\n",
      "272\n",
      "2018-04-12 02:00:00\n",
      "272\n",
      "2018-05-07 19:00:00\n",
      "272\n",
      "2018-04-23 13:00:00\n",
      "272\n",
      "2018-05-05 21:00:00\n",
      "272\n",
      "2018-04-30 03:00:00\n",
      "272\n",
      "2018-04-13 08:00:00\n",
      "272\n",
      "2018-04-17 11:00:00\n",
      "272\n",
      "2018-04-15 17:00:00\n",
      "272\n",
      "2018-04-22 15:00:00\n",
      "272\n",
      "2018-05-03 12:00:00\n",
      "272\n",
      "2018-04-12 16:00:00\n",
      "272\n",
      "2018-04-16 03:00:00\n",
      "272\n",
      "2018-04-17 04:00:00\n",
      "272\n",
      "2018-04-20 13:00:00\n",
      "272\n",
      "2018-04-28 08:00:00\n",
      "272\n",
      "2018-04-17 00:00:00\n",
      "272\n",
      "2018-04-30 23:00:00\n",
      "272\n",
      "2018-04-14 19:00:00\n",
      "272\n",
      "2018-05-02 15:00:00\n",
      "272\n",
      "2018-04-28 16:00:00\n",
      "272\n",
      "2018-05-08 16:00:00\n",
      "272\n",
      "2018-04-17 19:00:00\n",
      "272\n",
      "2018-05-04 04:00:00\n",
      "272\n",
      "2018-05-05 19:00:00\n",
      "272\n",
      "2018-04-24 05:00:00\n",
      "272\n",
      "2018-04-26 06:00:00\n",
      "272\n",
      "2018-05-02 01:00:00\n",
      "272\n",
      "2018-04-13 12:00:00\n",
      "272\n",
      "2018-04-19 14:00:00\n",
      "272\n",
      "2018-05-06 11:00:00\n",
      "272\n",
      "2018-05-07 04:00:00\n",
      "272\n",
      "2018-04-18 10:00:00\n",
      "272\n",
      "2018-04-30 15:00:00\n",
      "272\n",
      "2018-05-01 04:00:00\n",
      "272\n",
      "2018-04-27 20:00:00\n",
      "272\n",
      "2018-05-01 16:00:00\n",
      "272\n",
      "2018-04-27 01:00:00\n",
      "272\n",
      "2018-04-14 03:00:00\n",
      "272\n",
      "2018-04-23 05:00:00\n",
      "272\n",
      "2018-04-25 16:00:00\n",
      "272\n",
      "2018-04-27 07:00:00\n",
      "272\n",
      "2018-05-04 08:00:00\n",
      "272\n",
      "2018-04-25 21:00:00\n",
      "272\n",
      "2018-05-02 11:00:00\n",
      "272\n",
      "2018-05-02 19:00:00\n",
      "272\n",
      "2018-04-15 05:00:00\n",
      "272\n",
      "2018-05-06 22:00:00\n",
      "272\n",
      "2018-04-12 14:00:00\n",
      "272\n",
      "2018-05-04 21:00:00\n",
      "272\n",
      "2018-05-01 23:00:00\n",
      "272\n",
      "2018-04-16 04:00:00\n",
      "272\n",
      "2018-04-19 17:00:00\n",
      "272\n",
      "2018-04-19 11:00:00\n",
      "272\n",
      "2018-04-22 16:00:00\n",
      "272\n",
      "2018-04-17 09:00:00\n",
      "272\n",
      "2018-04-13 15:00:00\n",
      "272\n",
      "2018-04-22 21:00:00\n",
      "272\n",
      "2018-04-23 20:00:00\n",
      "272\n",
      "2018-05-04 03:00:00\n",
      "272\n",
      "2018-04-20 23:00:00\n",
      "272\n",
      "2018-04-18 04:00:00\n",
      "272\n",
      "2018-04-20 18:00:00\n",
      "272\n",
      "2018-04-25 07:00:00\n",
      "272\n",
      "2018-04-27 13:00:00\n",
      "272\n",
      "2018-04-18 07:00:00\n",
      "272\n",
      "2018-04-14 23:00:00\n",
      "272\n",
      "2018-05-02 23:00:00\n",
      "272\n",
      "2018-05-07 00:00:00\n",
      "272\n",
      "2018-04-15 03:00:00\n",
      "272\n",
      "2018-04-20 03:00:00\n",
      "272\n",
      "2018-04-20 08:00:00\n",
      "272\n",
      "2018-04-16 18:00:00\n",
      "272\n",
      "2018-05-03 09:00:00\n",
      "272\n",
      "2018-04-25 18:00:00\n",
      "272\n",
      "2018-05-08 09:00:00\n",
      "272\n",
      "2018-04-28 21:00:00\n",
      "272\n",
      "2018-04-14 08:00:00\n",
      "272\n",
      "2018-04-21 21:00:00\n",
      "272\n",
      "2018-04-16 02:00:00\n",
      "272\n",
      "2018-04-16 06:00:00\n",
      "272\n",
      "2018-05-04 23:00:00\n",
      "272\n",
      "2018-04-24 13:00:00\n",
      "272\n",
      "2018-04-15 14:00:00\n",
      "272\n",
      "2018-05-06 20:00:00\n",
      "272\n",
      "2018-04-19 02:00:00\n",
      "272\n",
      "2018-05-04 17:00:00\n",
      "272\n",
      "2018-05-07 20:00:00\n",
      "272\n",
      "2018-05-08 05:00:00\n",
      "272\n",
      "2018-04-16 12:00:00\n",
      "272\n",
      "2018-05-08 10:00:00\n",
      "272\n",
      "2018-04-22 14:00:00\n",
      "272\n",
      "2018-05-02 16:00:00\n",
      "272\n",
      "2018-04-11 16:00:00\n",
      "272\n",
      "2018-05-05 13:00:00\n",
      "272\n",
      "2018-05-08 04:00:00\n",
      "272\n",
      "2018-04-14 05:00:00\n",
      "272\n",
      "2018-04-14 18:00:00\n",
      "272\n",
      "2018-05-01 11:00:00\n",
      "272\n",
      "2018-04-26 19:00:00\n",
      "272\n",
      "2018-05-06 03:00:00\n",
      "272\n",
      "2018-04-30 22:00:00\n",
      "272\n",
      "2018-04-11 01:00:00\n",
      "272\n",
      "2018-04-14 17:00:00\n",
      "272\n",
      "2018-04-19 06:00:00\n",
      "272\n",
      "2018-04-24 10:00:00\n",
      "272\n",
      "2018-05-02 09:00:00\n",
      "272\n",
      "2018-04-30 16:00:00\n",
      "272\n",
      "2018-05-02 14:00:00\n",
      "272\n",
      "2018-04-26 22:00:00\n",
      "272\n",
      "2018-05-01 12:00:00\n",
      "272\n",
      "2018-05-02 18:00:00\n",
      "272\n",
      "2018-05-02 06:00:00\n",
      "272\n",
      "2018-04-21 18:00:00\n",
      "272\n",
      "2018-04-29 04:00:00\n",
      "272\n",
      "2018-04-21 03:00:00\n",
      "272\n",
      "2018-04-23 22:00:00\n",
      "272\n",
      "2018-04-12 09:00:00\n",
      "272\n",
      "2018-04-28 01:00:00\n",
      "272\n",
      "2018-05-05 22:00:00\n",
      "272\n",
      "2018-05-04 05:00:00\n",
      "272\n",
      "2018-04-12 23:00:00\n",
      "272\n",
      "2018-04-22 09:00:00\n",
      "272\n",
      "2018-05-05 09:00:00\n",
      "272\n",
      "2018-05-01 21:00:00\n",
      "272\n",
      "2018-04-24 09:00:00\n",
      "272\n",
      "2018-04-30 04:00:00\n",
      "272\n",
      "2018-04-17 22:00:00\n",
      "272\n",
      "2018-04-28 03:00:00\n",
      "272\n",
      "2018-05-03 13:00:00\n",
      "272\n",
      "2018-05-07 06:00:00\n",
      "272\n",
      "2018-04-29 21:00:00\n",
      "272\n",
      "2018-04-18 12:00:00\n",
      "272\n",
      "2018-04-13 22:00:00\n",
      "272\n",
      "2018-05-06 12:00:00\n",
      "272\n",
      "2018-04-17 18:00:00\n",
      "272\n",
      "2018-04-25 08:00:00\n",
      "272\n",
      "2018-05-04 18:00:00\n",
      "272\n",
      "2018-04-14 02:00:00\n",
      "272\n",
      "2018-05-08 03:00:00\n",
      "272\n",
      "2018-04-18 17:00:00\n",
      "272\n",
      "2018-04-11 08:00:00\n",
      "272\n",
      "2018-04-11 23:00:00\n",
      "272\n",
      "2018-04-17 14:00:00\n",
      "272\n",
      "2018-05-02 03:00:00\n",
      "272\n",
      "2018-04-24 21:00:00\n",
      "272\n",
      "2018-04-20 02:00:00\n",
      "272\n",
      "2018-04-29 18:00:00\n",
      "272\n",
      "2018-04-23 12:00:00\n",
      "272\n",
      "2018-04-21 12:00:00\n",
      "272\n",
      "2018-04-27 04:00:00\n",
      "272\n",
      "2018-04-27 19:00:00\n",
      "272\n",
      "2018-04-19 22:00:00\n",
      "272\n",
      "2018-04-11 13:00:00\n",
      "272\n",
      "2018-04-18 22:00:00\n",
      "272\n",
      "2018-04-26 21:00:00\n",
      "272\n",
      "2018-04-30 10:00:00\n",
      "272\n",
      "2018-04-21 02:00:00\n",
      "272\n",
      "2018-05-05 16:00:00\n",
      "272\n",
      "2018-05-06 21:00:00\n",
      "272\n",
      "2018-04-14 22:00:00\n",
      "272\n",
      "2018-05-08 06:00:00\n",
      "272\n",
      "2018-04-22 03:00:00\n",
      "272\n",
      "2018-05-07 15:00:00\n",
      "272\n",
      "2018-04-17 03:00:00\n",
      "272\n",
      "2018-04-22 08:00:00\n",
      "272\n",
      "2018-04-20 05:00:00\n",
      "272\n",
      "2018-04-15 07:00:00\n",
      "272\n",
      "2018-04-18 02:00:00\n",
      "272\n",
      "2018-04-20 22:00:00\n",
      "272\n",
      "2018-04-22 17:00:00\n",
      "272\n",
      "2018-04-12 04:00:00\n",
      "272\n",
      "2018-04-27 23:00:00\n",
      "272\n",
      "2018-04-11 09:00:00\n",
      "272\n",
      "2018-04-13 09:00:00\n",
      "272\n",
      "2018-04-20 20:00:00\n",
      "272\n",
      "272\n",
      "272\n"
     ]
    },
    {
     "name": "stdout",
     "output_type": "stream",
     "text": [
      "2018-05-01 05:00:00\n"
     ]
    },
    {
     "name": "stderr",
     "output_type": "stream",
     "text": [
      "\r",
      "  0%|          | 1/672 [00:01<15:41,  1.40s/it]"
     ]
    },
    {
     "name": "stdout",
     "output_type": "stream",
     "text": [
      "2018-04-28 09:00:00\n"
     ]
    },
    {
     "name": "stderr",
     "output_type": "stream",
     "text": [
      "\r",
      "  0%|          | 2/672 [00:02<13:39,  1.22s/it]"
     ]
    },
    {
     "name": "stdout",
     "output_type": "stream",
     "text": [
      "2018-04-22 18:00:00\n"
     ]
    },
    {
     "name": "stderr",
     "output_type": "stream",
     "text": [
      "\r",
      "  0%|          | 3/672 [00:03<12:57,  1.16s/it]"
     ]
    },
    {
     "name": "stdout",
     "output_type": "stream",
     "text": [
      "2018-04-20 07:00:00\n"
     ]
    },
    {
     "name": "stderr",
     "output_type": "stream",
     "text": [
      "\r",
      "  1%|          | 4/672 [00:04<13:18,  1.20s/it]"
     ]
    },
    {
     "name": "stdout",
     "output_type": "stream",
     "text": [
      "2018-04-12 15:00:00\n"
     ]
    },
    {
     "name": "stderr",
     "output_type": "stream",
     "text": [
      "\r",
      "  1%|          | 5/672 [00:05<12:56,  1.16s/it]"
     ]
    },
    {
     "name": "stdout",
     "output_type": "stream",
     "text": [
      "2018-04-11 20:00:00\n"
     ]
    },
    {
     "name": "stderr",
     "output_type": "stream",
     "text": [
      "\r",
      "  1%|          | 6/672 [00:06<12:43,  1.15s/it]"
     ]
    },
    {
     "name": "stdout",
     "output_type": "stream",
     "text": [
      "2018-04-30 01:00:00\n"
     ]
    },
    {
     "name": "stderr",
     "output_type": "stream",
     "text": [
      "\r",
      "  1%|          | 7/672 [00:07<12:33,  1.13s/it]"
     ]
    },
    {
     "name": "stdout",
     "output_type": "stream",
     "text": [
      "2018-04-29 17:00:00\n"
     ]
    },
    {
     "name": "stderr",
     "output_type": "stream",
     "text": [
      "\r",
      "  1%|          | 8/672 [00:09<12:45,  1.15s/it]"
     ]
    },
    {
     "name": "stdout",
     "output_type": "stream",
     "text": [
      "2018-04-13 00:00:00\n"
     ]
    },
    {
     "name": "stderr",
     "output_type": "stream",
     "text": [
      "\r",
      "  1%|▏         | 9/672 [00:10<12:36,  1.14s/it]"
     ]
    },
    {
     "name": "stdout",
     "output_type": "stream",
     "text": [
      "2018-05-04 07:00:00\n"
     ]
    },
    {
     "name": "stderr",
     "output_type": "stream",
     "text": [
      "\r",
      "  1%|▏         | 10/672 [00:11<12:29,  1.13s/it]"
     ]
    },
    {
     "name": "stdout",
     "output_type": "stream",
     "text": [
      "2018-04-23 15:00:00\n"
     ]
    },
    {
     "name": "stderr",
     "output_type": "stream",
     "text": [
      "\r",
      "  2%|▏         | 11/672 [00:12<12:23,  1.12s/it]"
     ]
    },
    {
     "name": "stdout",
     "output_type": "stream",
     "text": [
      "2018-04-12 05:00:00\n"
     ]
    },
    {
     "name": "stderr",
     "output_type": "stream",
     "text": [
      "\r",
      "  2%|▏         | 12/672 [00:12<11:54,  1.08s/it]"
     ]
    },
    {
     "name": "stdout",
     "output_type": "stream",
     "text": [
      "2018-05-03 11:00:00\n"
     ]
    },
    {
     "name": "stderr",
     "output_type": "stream",
     "text": [
      "\r",
      "  2%|▏         | 13/672 [00:14<12:04,  1.10s/it]"
     ]
    },
    {
     "name": "stdout",
     "output_type": "stream",
     "text": [
      "2018-04-23 21:00:00\n"
     ]
    },
    {
     "name": "stderr",
     "output_type": "stream",
     "text": [
      "\r",
      "  2%|▏         | 14/672 [00:15<12:05,  1.10s/it]"
     ]
    },
    {
     "name": "stdout",
     "output_type": "stream",
     "text": [
      "2018-04-29 00:00:00\n"
     ]
    },
    {
     "name": "stderr",
     "output_type": "stream",
     "text": [
      "\r",
      "  2%|▏         | 15/672 [00:16<12:07,  1.11s/it]"
     ]
    },
    {
     "name": "stdout",
     "output_type": "stream",
     "text": [
      "2018-05-01 10:00:00\n"
     ]
    },
    {
     "name": "stderr",
     "output_type": "stream",
     "text": [
      "\r",
      "  2%|▏         | 16/672 [00:17<12:07,  1.11s/it]"
     ]
    },
    {
     "name": "stdout",
     "output_type": "stream",
     "text": [
      "2018-04-24 04:00:00\n"
     ]
    },
    {
     "name": "stderr",
     "output_type": "stream",
     "text": [
      "\r",
      "  3%|▎         | 17/672 [00:19<12:13,  1.12s/it]"
     ]
    },
    {
     "name": "stdout",
     "output_type": "stream",
     "text": [
      "2018-04-15 00:00:00\n"
     ]
    },
    {
     "name": "stderr",
     "output_type": "stream",
     "text": [
      "\r",
      "  3%|▎         | 18/672 [00:20<12:09,  1.12s/it]"
     ]
    },
    {
     "name": "stdout",
     "output_type": "stream",
     "text": [
      "2018-04-16 11:00:00\n"
     ]
    },
    {
     "name": "stderr",
     "output_type": "stream",
     "text": [
      "\r",
      "  3%|▎         | 19/672 [00:21<12:06,  1.11s/it]"
     ]
    },
    {
     "name": "stdout",
     "output_type": "stream",
     "text": [
      "2018-04-15 09:00:00\n"
     ]
    },
    {
     "name": "stderr",
     "output_type": "stream",
     "text": [
      "\r",
      "  3%|▎         | 20/672 [00:22<12:02,  1.11s/it]"
     ]
    },
    {
     "name": "stdout",
     "output_type": "stream",
     "text": [
      "2018-04-11 14:00:00\n"
     ]
    },
    {
     "name": "stderr",
     "output_type": "stream",
     "text": [
      "\r",
      "  3%|▎         | 21/672 [00:23<12:07,  1.12s/it]"
     ]
    },
    {
     "name": "stdout",
     "output_type": "stream",
     "text": [
      "2018-04-15 01:00:00\n"
     ]
    },
    {
     "name": "stderr",
     "output_type": "stream",
     "text": [
      "\r",
      "  3%|▎         | 22/672 [00:24<12:04,  1.11s/it]"
     ]
    },
    {
     "name": "stdout",
     "output_type": "stream",
     "text": [
      "2018-05-04 06:00:00\n"
     ]
    },
    {
     "name": "stderr",
     "output_type": "stream",
     "text": [
      "\r",
      "  3%|▎         | 23/672 [00:25<12:01,  1.11s/it]"
     ]
    },
    {
     "name": "stdout",
     "output_type": "stream",
     "text": [
      "2018-04-21 11:00:00\n"
     ]
    },
    {
     "name": "stderr",
     "output_type": "stream",
     "text": [
      "\r",
      "  4%|▎         | 24/672 [00:26<11:58,  1.11s/it]"
     ]
    },
    {
     "name": "stdout",
     "output_type": "stream",
     "text": [
      "2018-04-20 15:00:00\n"
     ]
    },
    {
     "name": "stderr",
     "output_type": "stream",
     "text": [
      "\r",
      "  4%|▎         | 25/672 [00:27<12:02,  1.12s/it]"
     ]
    },
    {
     "name": "stdout",
     "output_type": "stream",
     "text": [
      "2018-05-06 18:00:00\n"
     ]
    },
    {
     "name": "stderr",
     "output_type": "stream",
     "text": [
      "\r",
      "  4%|▍         | 26/672 [00:28<11:59,  1.11s/it]"
     ]
    },
    {
     "name": "stdout",
     "output_type": "stream",
     "text": [
      "2018-05-08 19:00:00\n"
     ]
    },
    {
     "name": "stderr",
     "output_type": "stream",
     "text": [
      "\r",
      "  4%|▍         | 27/672 [00:30<11:56,  1.11s/it]"
     ]
    },
    {
     "name": "stdout",
     "output_type": "stream",
     "text": [
      "2018-04-26 03:00:00\n"
     ]
    },
    {
     "name": "stderr",
     "output_type": "stream",
     "text": [
      "\r",
      "  4%|▍         | 28/672 [00:31<11:54,  1.11s/it]"
     ]
    },
    {
     "name": "stdout",
     "output_type": "stream",
     "text": [
      "2018-04-18 18:00:00\n"
     ]
    },
    {
     "name": "stderr",
     "output_type": "stream",
     "text": [
      "\r",
      "  4%|▍         | 29/672 [00:32<11:51,  1.11s/it]"
     ]
    },
    {
     "name": "stdout",
     "output_type": "stream",
     "text": [
      "2018-04-30 12:00:00\n"
     ]
    },
    {
     "name": "stderr",
     "output_type": "stream",
     "text": [
      "\r",
      "  4%|▍         | 30/672 [00:33<11:54,  1.11s/it]"
     ]
    },
    {
     "name": "stdout",
     "output_type": "stream",
     "text": [
      "2018-04-19 13:00:00\n"
     ]
    },
    {
     "name": "stderr",
     "output_type": "stream",
     "text": [
      "\r",
      "  5%|▍         | 31/672 [00:34<11:51,  1.11s/it]"
     ]
    },
    {
     "name": "stdout",
     "output_type": "stream",
     "text": [
      "2018-05-02 05:00:00\n"
     ]
    },
    {
     "name": "stderr",
     "output_type": "stream",
     "text": [
      "\r",
      "  5%|▍         | 32/672 [00:35<11:49,  1.11s/it]"
     ]
    },
    {
     "name": "stdout",
     "output_type": "stream",
     "text": [
      "2018-04-28 17:00:00\n"
     ]
    },
    {
     "name": "stderr",
     "output_type": "stream",
     "text": [
      "\r",
      "  5%|▍         | 33/672 [00:36<11:52,  1.11s/it]"
     ]
    },
    {
     "name": "stdout",
     "output_type": "stream",
     "text": [
      "2018-04-21 20:00:00\n"
     ]
    },
    {
     "name": "stderr",
     "output_type": "stream",
     "text": [
      "\r",
      "  5%|▌         | 34/672 [00:37<11:50,  1.11s/it]"
     ]
    },
    {
     "name": "stdout",
     "output_type": "stream",
     "text": [
      "2018-05-05 07:00:00\n"
     ]
    },
    {
     "name": "stderr",
     "output_type": "stream",
     "text": [
      "\r",
      "  5%|▌         | 35/672 [00:39<11:51,  1.12s/it]"
     ]
    },
    {
     "name": "stdout",
     "output_type": "stream",
     "text": [
      "2018-05-02 22:00:00\n"
     ]
    },
    {
     "name": "stderr",
     "output_type": "stream",
     "text": [
      "\r",
      "  5%|▌         | 36/672 [00:40<11:49,  1.12s/it]"
     ]
    },
    {
     "name": "stdout",
     "output_type": "stream",
     "text": [
      "2018-04-12 12:00:00\n"
     ]
    },
    {
     "name": "stderr",
     "output_type": "stream",
     "text": [
      "\r",
      "  6%|▌         | 37/672 [00:41<11:51,  1.12s/it]"
     ]
    },
    {
     "name": "stdout",
     "output_type": "stream",
     "text": [
      "2018-04-12 17:00:00\n"
     ]
    },
    {
     "name": "stderr",
     "output_type": "stream",
     "text": [
      "\r",
      "  6%|▌         | 38/672 [00:42<11:49,  1.12s/it]"
     ]
    },
    {
     "name": "stdout",
     "output_type": "stream",
     "text": [
      "2018-05-03 23:00:00\n"
     ]
    },
    {
     "name": "stderr",
     "output_type": "stream",
     "text": [
      "\r",
      "  6%|▌         | 39/672 [00:43<11:48,  1.12s/it]"
     ]
    },
    {
     "name": "stdout",
     "output_type": "stream",
     "text": [
      "2018-04-27 08:00:00\n"
     ]
    },
    {
     "name": "stderr",
     "output_type": "stream",
     "text": [
      "\r",
      "  6%|▌         | 40/672 [00:45<11:52,  1.13s/it]"
     ]
    },
    {
     "name": "stdout",
     "output_type": "stream",
     "text": [
      "2018-04-16 08:00:00\n"
     ]
    },
    {
     "name": "stderr",
     "output_type": "stream",
     "text": [
      "\r",
      "  6%|▌         | 41/672 [00:46<11:50,  1.13s/it]"
     ]
    },
    {
     "name": "stdout",
     "output_type": "stream",
     "text": [
      "2018-04-23 19:00:00\n"
     ]
    },
    {
     "name": "stderr",
     "output_type": "stream",
     "text": [
      "\r",
      "  6%|▋         | 42/672 [00:47<11:47,  1.12s/it]"
     ]
    },
    {
     "name": "stdout",
     "output_type": "stream",
     "text": [
      "2018-04-11 11:00:00\n"
     ]
    },
    {
     "name": "stderr",
     "output_type": "stream",
     "text": [
      "\r",
      "  6%|▋         | 43/672 [00:48<11:45,  1.12s/it]"
     ]
    },
    {
     "name": "stdout",
     "output_type": "stream",
     "text": [
      "2018-04-13 21:00:00\n"
     ]
    },
    {
     "name": "stderr",
     "output_type": "stream",
     "text": [
      "\r",
      "  7%|▋         | 44/672 [00:49<11:47,  1.13s/it]"
     ]
    },
    {
     "name": "stdout",
     "output_type": "stream",
     "text": [
      "2018-04-25 20:00:00\n"
     ]
    },
    {
     "name": "stderr",
     "output_type": "stream",
     "text": [
      "\r",
      "  7%|▋         | 45/672 [00:50<11:44,  1.12s/it]"
     ]
    },
    {
     "name": "stdout",
     "output_type": "stream",
     "text": [
      "2018-04-28 12:00:00\n"
     ]
    },
    {
     "name": "stderr",
     "output_type": "stream",
     "text": [
      "\r",
      "  7%|▋         | 46/672 [00:51<11:42,  1.12s/it]"
     ]
    },
    {
     "name": "stdout",
     "output_type": "stream",
     "text": [
      "2018-04-18 15:00:00\n"
     ]
    },
    {
     "name": "stderr",
     "output_type": "stream",
     "text": [
      "\r",
      "  7%|▋         | 47/672 [00:52<11:40,  1.12s/it]"
     ]
    },
    {
     "name": "stdout",
     "output_type": "stream",
     "text": [
      "2018-04-28 13:00:00\n"
     ]
    },
    {
     "name": "stderr",
     "output_type": "stream",
     "text": [
      "\r",
      "  7%|▋         | 48/672 [00:54<11:42,  1.13s/it]"
     ]
    },
    {
     "name": "stdout",
     "output_type": "stream",
     "text": [
      "2018-04-22 06:00:00\n"
     ]
    },
    {
     "name": "stderr",
     "output_type": "stream",
     "text": [
      "\r",
      "  7%|▋         | 49/672 [00:55<11:40,  1.12s/it]"
     ]
    },
    {
     "name": "stdout",
     "output_type": "stream",
     "text": [
      "2018-05-03 22:00:00\n"
     ]
    },
    {
     "name": "stderr",
     "output_type": "stream",
     "text": [
      "\r",
      "  7%|▋         | 50/672 [00:56<11:37,  1.12s/it]"
     ]
    },
    {
     "name": "stdout",
     "output_type": "stream",
     "text": [
      "2018-04-25 00:00:00\n"
     ]
    },
    {
     "name": "stderr",
     "output_type": "stream",
     "text": [
      "\r",
      "  8%|▊         | 51/672 [00:57<11:35,  1.12s/it]"
     ]
    },
    {
     "name": "stdout",
     "output_type": "stream",
     "text": [
      "2018-05-06 05:00:00\n"
     ]
    },
    {
     "name": "stderr",
     "output_type": "stream",
     "text": [
      "\r",
      "  8%|▊         | 52/672 [00:58<11:33,  1.12s/it]"
     ]
    },
    {
     "name": "stdout",
     "output_type": "stream",
     "text": [
      "2018-04-23 11:00:00\n"
     ]
    },
    {
     "name": "stderr",
     "output_type": "stream",
     "text": [
      "\r",
      "  8%|▊         | 53/672 [00:59<11:34,  1.12s/it]"
     ]
    },
    {
     "name": "stdout",
     "output_type": "stream",
     "text": [
      "2018-04-18 16:00:00\n"
     ]
    },
    {
     "name": "stderr",
     "output_type": "stream",
     "text": [
      "\r",
      "  8%|▊         | 54/672 [01:00<11:32,  1.12s/it]"
     ]
    },
    {
     "name": "stdout",
     "output_type": "stream",
     "text": [
      "2018-04-14 12:00:00\n"
     ]
    },
    {
     "name": "stderr",
     "output_type": "stream",
     "text": [
      "\r",
      "  8%|▊         | 55/672 [01:01<11:31,  1.12s/it]"
     ]
    },
    {
     "name": "stdout",
     "output_type": "stream",
     "text": [
      "2018-04-13 02:00:00\n"
     ]
    },
    {
     "name": "stderr",
     "output_type": "stream",
     "text": [
      "\r",
      "  8%|▊         | 56/672 [01:02<11:29,  1.12s/it]"
     ]
    },
    {
     "name": "stdout",
     "output_type": "stream",
     "text": [
      "2018-04-16 19:00:00\n"
     ]
    },
    {
     "name": "stderr",
     "output_type": "stream",
     "text": [
      "\r",
      "  8%|▊         | 57/672 [01:03<11:29,  1.12s/it]"
     ]
    },
    {
     "name": "stdout",
     "output_type": "stream",
     "text": [
      "2018-05-07 02:00:00\n"
     ]
    },
    {
     "name": "stderr",
     "output_type": "stream",
     "text": [
      "\r",
      "  9%|▊         | 58/672 [01:04<11:27,  1.12s/it]"
     ]
    },
    {
     "name": "stdout",
     "output_type": "stream",
     "text": [
      "2018-05-03 10:00:00\n"
     ]
    },
    {
     "name": "stderr",
     "output_type": "stream",
     "text": [
      "\r",
      "  9%|▉         | 59/672 [01:06<11:26,  1.12s/it]"
     ]
    },
    {
     "name": "stdout",
     "output_type": "stream",
     "text": [
      "2018-04-12 08:00:00\n"
     ]
    },
    {
     "name": "stderr",
     "output_type": "stream",
     "text": [
      "\r",
      "  9%|▉         | 60/672 [01:07<11:24,  1.12s/it]"
     ]
    },
    {
     "name": "stdout",
     "output_type": "stream",
     "text": [
      "2018-04-18 21:00:00\n"
     ]
    },
    {
     "name": "stderr",
     "output_type": "stream",
     "text": [
      "\r",
      "  9%|▉         | 61/672 [01:08<11:25,  1.12s/it]"
     ]
    },
    {
     "name": "stdout",
     "output_type": "stream",
     "text": [
      "2018-04-14 20:00:00\n"
     ]
    },
    {
     "name": "stderr",
     "output_type": "stream",
     "text": [
      "\r",
      "  9%|▉         | 62/672 [01:09<11:23,  1.12s/it]"
     ]
    },
    {
     "name": "stdout",
     "output_type": "stream",
     "text": [
      "2018-04-29 10:00:00\n"
     ]
    },
    {
     "name": "stderr",
     "output_type": "stream",
     "text": [
      "\r",
      "  9%|▉         | 63/672 [01:10<11:22,  1.12s/it]"
     ]
    },
    {
     "name": "stdout",
     "output_type": "stream",
     "text": [
      "2018-04-12 19:00:00\n"
     ]
    },
    {
     "name": "stderr",
     "output_type": "stream",
     "text": [
      "\r",
      " 10%|▉         | 64/672 [01:11<11:22,  1.12s/it]"
     ]
    },
    {
     "name": "stdout",
     "output_type": "stream",
     "text": [
      "2018-04-21 09:00:00\n"
     ]
    },
    {
     "name": "stderr",
     "output_type": "stream",
     "text": [
      "\r",
      " 10%|▉         | 65/672 [01:12<11:21,  1.12s/it]"
     ]
    },
    {
     "name": "stdout",
     "output_type": "stream",
     "text": [
      "2018-05-06 02:00:00\n"
     ]
    },
    {
     "name": "stderr",
     "output_type": "stream",
     "text": [
      "\r",
      " 10%|▉         | 66/672 [01:14<11:19,  1.12s/it]"
     ]
    },
    {
     "name": "stdout",
     "output_type": "stream",
     "text": [
      "2018-04-30 11:00:00\n"
     ]
    },
    {
     "name": "stderr",
     "output_type": "stream",
     "text": [
      "\r",
      " 10%|▉         | 67/672 [01:15<11:17,  1.12s/it]"
     ]
    },
    {
     "name": "stdout",
     "output_type": "stream",
     "text": [
      "2018-05-06 07:00:00\n"
     ]
    },
    {
     "name": "stderr",
     "output_type": "stream",
     "text": [
      "\r",
      " 10%|█         | 68/672 [01:16<11:18,  1.12s/it]"
     ]
    },
    {
     "name": "stdout",
     "output_type": "stream",
     "text": [
      "2018-04-25 17:00:00\n"
     ]
    },
    {
     "name": "stderr",
     "output_type": "stream",
     "text": [
      "\r",
      " 10%|█         | 70/672 [01:17<11:05,  1.11s/it]"
     ]
    },
    {
     "name": "stdout",
     "output_type": "stream",
     "text": [
      "2018-04-28 23:00:00\n"
     ]
    },
    {
     "name": "stderr",
     "output_type": "stream",
     "text": [
      "\r",
      " 11%|█         | 71/672 [01:18<11:04,  1.10s/it]"
     ]
    },
    {
     "name": "stdout",
     "output_type": "stream",
     "text": [
      "2018-04-25 14:00:00\n"
     ]
    },
    {
     "name": "stderr",
     "output_type": "stream",
     "text": [
      "\r",
      " 11%|█         | 72/672 [01:19<11:03,  1.11s/it]"
     ]
    },
    {
     "name": "stdout",
     "output_type": "stream",
     "text": [
      "2018-04-27 11:00:00\n"
     ]
    },
    {
     "name": "stderr",
     "output_type": "stream",
     "text": [
      "\r",
      " 11%|█         | 73/672 [01:20<11:04,  1.11s/it]"
     ]
    },
    {
     "name": "stdout",
     "output_type": "stream",
     "text": [
      "2018-05-01 17:00:00\n"
     ]
    },
    {
     "name": "stderr",
     "output_type": "stream",
     "text": [
      "\r",
      " 11%|█         | 74/672 [01:22<11:03,  1.11s/it]"
     ]
    },
    {
     "name": "stdout",
     "output_type": "stream",
     "text": [
      "2018-04-13 03:00:00\n"
     ]
    },
    {
     "name": "stderr",
     "output_type": "stream",
     "text": [
      "\r",
      " 11%|█         | 75/672 [01:23<11:01,  1.11s/it]"
     ]
    },
    {
     "name": "stdout",
     "output_type": "stream",
     "text": [
      "2018-04-26 05:00:00\n"
     ]
    },
    {
     "name": "stderr",
     "output_type": "stream",
     "text": [
      "\r",
      " 11%|█▏        | 76/672 [01:24<11:00,  1.11s/it]"
     ]
    },
    {
     "name": "stdout",
     "output_type": "stream",
     "text": [
      "2018-05-05 03:00:00\n"
     ]
    },
    {
     "name": "stderr",
     "output_type": "stream",
     "text": [
      "\r",
      " 11%|█▏        | 77/672 [01:25<11:01,  1.11s/it]"
     ]
    },
    {
     "name": "stdout",
     "output_type": "stream",
     "text": [
      "2018-04-23 14:00:00\n"
     ]
    },
    {
     "name": "stderr",
     "output_type": "stream",
     "text": [
      "\r",
      " 12%|█▏        | 79/672 [01:26<10:50,  1.10s/it]"
     ]
    },
    {
     "name": "stdout",
     "output_type": "stream",
     "text": [
      "2018-05-02 07:00:00\n"
     ]
    },
    {
     "name": "stderr",
     "output_type": "stream",
     "text": [
      "\r",
      " 12%|█▏        | 80/672 [01:27<10:49,  1.10s/it]"
     ]
    },
    {
     "name": "stdout",
     "output_type": "stream",
     "text": [
      "2018-05-04 14:00:00\n"
     ]
    },
    {
     "name": "stderr",
     "output_type": "stream",
     "text": [
      "\r",
      " 12%|█▏        | 81/672 [01:28<10:48,  1.10s/it]"
     ]
    },
    {
     "name": "stdout",
     "output_type": "stream",
     "text": [
      "2018-04-19 19:00:00\n"
     ]
    },
    {
     "name": "stderr",
     "output_type": "stream",
     "text": [
      "\r",
      " 12%|█▏        | 82/672 [01:29<10:47,  1.10s/it]"
     ]
    },
    {
     "name": "stdout",
     "output_type": "stream",
     "text": [
      "2018-04-17 10:00:00\n"
     ]
    },
    {
     "name": "stderr",
     "output_type": "stream",
     "text": [
      "\r",
      " 12%|█▏        | 83/672 [01:31<10:47,  1.10s/it]"
     ]
    },
    {
     "name": "stdout",
     "output_type": "stream",
     "text": [
      "2018-05-07 17:00:00\n"
     ]
    },
    {
     "name": "stderr",
     "output_type": "stream",
     "text": [
      "\r",
      " 12%|█▎        | 84/672 [01:32<10:46,  1.10s/it]"
     ]
    },
    {
     "name": "stdout",
     "output_type": "stream",
     "text": [
      "2018-04-24 14:00:00\n"
     ]
    },
    {
     "name": "stderr",
     "output_type": "stream",
     "text": [
      "\r",
      " 13%|█▎        | 85/672 [01:33<10:44,  1.10s/it]"
     ]
    },
    {
     "name": "stdout",
     "output_type": "stream",
     "text": [
      "2018-04-15 11:00:00\n"
     ]
    },
    {
     "name": "stderr",
     "output_type": "stream",
     "text": [
      "\r",
      " 13%|█▎        | 86/672 [01:34<10:43,  1.10s/it]"
     ]
    },
    {
     "name": "stdout",
     "output_type": "stream",
     "text": [
      "2018-05-06 01:00:00\n"
     ]
    },
    {
     "name": "stderr",
     "output_type": "stream",
     "text": [
      "\r",
      " 13%|█▎        | 87/672 [01:35<10:43,  1.10s/it]"
     ]
    },
    {
     "name": "stdout",
     "output_type": "stream",
     "text": [
      "2018-04-29 06:00:00\n"
     ]
    },
    {
     "name": "stderr",
     "output_type": "stream",
     "text": [
      "\r",
      " 13%|█▎        | 88/672 [01:36<10:42,  1.10s/it]"
     ]
    },
    {
     "name": "stdout",
     "output_type": "stream",
     "text": [
      "2018-04-21 05:00:00\n"
     ]
    },
    {
     "name": "stderr",
     "output_type": "stream",
     "text": [
      "\r",
      " 13%|█▎        | 89/672 [01:37<10:40,  1.10s/it]"
     ]
    },
    {
     "name": "stdout",
     "output_type": "stream",
     "text": [
      "2018-04-13 13:00:00\n"
     ]
    },
    {
     "name": "stderr",
     "output_type": "stream",
     "text": [
      "\r",
      " 13%|█▎        | 90/672 [01:39<10:41,  1.10s/it]"
     ]
    },
    {
     "name": "stdout",
     "output_type": "stream",
     "text": [
      "2018-04-12 06:00:00\n"
     ]
    },
    {
     "name": "stderr",
     "output_type": "stream",
     "text": [
      "\r",
      " 14%|█▎        | 91/672 [01:40<10:39,  1.10s/it]"
     ]
    },
    {
     "name": "stdout",
     "output_type": "stream",
     "text": [
      "2018-05-06 19:00:00\n"
     ]
    },
    {
     "name": "stderr",
     "output_type": "stream",
     "text": [
      "\r",
      " 14%|█▎        | 92/672 [01:41<10:38,  1.10s/it]"
     ]
    },
    {
     "name": "stdout",
     "output_type": "stream",
     "text": [
      "2018-04-19 23:00:00\n"
     ]
    },
    {
     "name": "stderr",
     "output_type": "stream",
     "text": [
      "\r",
      " 14%|█▍        | 93/672 [01:42<10:37,  1.10s/it]"
     ]
    },
    {
     "name": "stdout",
     "output_type": "stream",
     "text": [
      "2018-04-26 12:00:00\n"
     ]
    },
    {
     "name": "stderr",
     "output_type": "stream",
     "text": [
      "\r",
      " 14%|█▍        | 94/672 [01:43<10:37,  1.10s/it]"
     ]
    },
    {
     "name": "stdout",
     "output_type": "stream",
     "text": [
      "2018-05-03 02:00:00\n"
     ]
    },
    {
     "name": "stderr",
     "output_type": "stream",
     "text": [
      "\r",
      " 14%|█▍        | 95/672 [01:44<10:36,  1.10s/it]"
     ]
    },
    {
     "name": "stdout",
     "output_type": "stream",
     "text": [
      "2018-04-11 07:00:00\n"
     ]
    },
    {
     "name": "stderr",
     "output_type": "stream",
     "text": [
      "\r",
      " 14%|█▍        | 96/672 [01:45<10:34,  1.10s/it]"
     ]
    },
    {
     "name": "stdout",
     "output_type": "stream",
     "text": [
      "2018-04-20 21:00:00\n"
     ]
    },
    {
     "name": "stderr",
     "output_type": "stream",
     "text": [
      "\r",
      " 14%|█▍        | 97/672 [01:46<10:33,  1.10s/it]"
     ]
    },
    {
     "name": "stdout",
     "output_type": "stream",
     "text": [
      "2018-04-22 12:00:00\n"
     ]
    },
    {
     "name": "stderr",
     "output_type": "stream",
     "text": [
      "\r",
      " 15%|█▍        | 98/672 [01:48<10:33,  1.10s/it]"
     ]
    },
    {
     "name": "stdout",
     "output_type": "stream",
     "text": [
      "2018-04-24 11:00:00\n"
     ]
    },
    {
     "name": "stderr",
     "output_type": "stream",
     "text": [
      "\r",
      " 15%|█▍        | 99/672 [01:49<10:32,  1.10s/it]"
     ]
    },
    {
     "name": "stdout",
     "output_type": "stream",
     "text": [
      "2018-04-20 09:00:00\n"
     ]
    },
    {
     "name": "stderr",
     "output_type": "stream",
     "text": [
      "\r",
      " 15%|█▍        | 100/672 [01:50<10:31,  1.10s/it]"
     ]
    },
    {
     "name": "stdout",
     "output_type": "stream",
     "text": [
      "2018-04-18 03:00:00\n"
     ]
    },
    {
     "name": "stderr",
     "output_type": "stream",
     "text": [
      "\r",
      " 15%|█▌        | 101/672 [01:51<10:29,  1.10s/it]"
     ]
    },
    {
     "name": "stdout",
     "output_type": "stream",
     "text": [
      "2018-04-17 20:00:00\n"
     ]
    },
    {
     "name": "stderr",
     "output_type": "stream",
     "text": [
      "\r",
      " 15%|█▌        | 102/672 [01:52<10:30,  1.11s/it]"
     ]
    },
    {
     "name": "stdout",
     "output_type": "stream",
     "text": [
      "2018-04-17 07:00:00\n"
     ]
    },
    {
     "name": "stderr",
     "output_type": "stream",
     "text": [
      "\r",
      " 15%|█▌        | 103/672 [01:53<10:29,  1.11s/it]"
     ]
    },
    {
     "name": "stdout",
     "output_type": "stream",
     "text": [
      "2018-05-04 19:00:00\n"
     ]
    },
    {
     "name": "stderr",
     "output_type": "stream",
     "text": [
      "\r",
      " 15%|█▌        | 104/672 [01:54<10:27,  1.11s/it]"
     ]
    },
    {
     "name": "stdout",
     "output_type": "stream",
     "text": [
      "2018-05-08 23:00:00\n"
     ]
    },
    {
     "name": "stderr",
     "output_type": "stream",
     "text": [
      "\r",
      " 16%|█▌        | 105/672 [01:56<10:27,  1.11s/it]"
     ]
    },
    {
     "name": "stdout",
     "output_type": "stream",
     "text": [
      "2018-05-08 18:00:00\n"
     ]
    },
    {
     "name": "stderr",
     "output_type": "stream",
     "text": [
      "\r",
      " 16%|█▌        | 106/672 [01:57<10:25,  1.11s/it]"
     ]
    },
    {
     "name": "stdout",
     "output_type": "stream",
     "text": [
      "2018-04-12 11:00:00\n"
     ]
    },
    {
     "name": "stderr",
     "output_type": "stream",
     "text": [
      "\r",
      " 16%|█▌        | 107/672 [01:58<10:25,  1.11s/it]"
     ]
    },
    {
     "name": "stdout",
     "output_type": "stream",
     "text": [
      "2018-04-19 20:00:00\n"
     ]
    },
    {
     "name": "stderr",
     "output_type": "stream",
     "text": [
      "\r",
      " 16%|█▌        | 108/672 [01:59<10:24,  1.11s/it]"
     ]
    },
    {
     "name": "stdout",
     "output_type": "stream",
     "text": [
      "2018-04-20 19:00:00\n"
     ]
    },
    {
     "name": "stderr",
     "output_type": "stream",
     "text": [
      "\r",
      " 16%|█▌        | 109/672 [02:00<10:23,  1.11s/it]"
     ]
    },
    {
     "name": "stdout",
     "output_type": "stream",
     "text": [
      "2018-04-29 07:00:00\n"
     ]
    },
    {
     "name": "stderr",
     "output_type": "stream",
     "text": [
      "\r",
      " 16%|█▋        | 110/672 [02:01<10:21,  1.11s/it]"
     ]
    },
    {
     "name": "stdout",
     "output_type": "stream",
     "text": [
      "2018-05-03 17:00:00\n"
     ]
    },
    {
     "name": "stderr",
     "output_type": "stream",
     "text": [
      "\r",
      " 17%|█▋        | 111/672 [02:03<10:22,  1.11s/it]"
     ]
    },
    {
     "name": "stdout",
     "output_type": "stream",
     "text": [
      "2018-05-01 09:00:00\n"
     ]
    },
    {
     "name": "stderr",
     "output_type": "stream",
     "text": [
      "\r",
      " 17%|█▋        | 112/672 [02:04<10:21,  1.11s/it]"
     ]
    },
    {
     "name": "stdout",
     "output_type": "stream",
     "text": [
      "2018-04-26 17:00:00\n"
     ]
    },
    {
     "name": "stderr",
     "output_type": "stream",
     "text": [
      "\r",
      " 17%|█▋        | 113/672 [02:05<10:20,  1.11s/it]"
     ]
    },
    {
     "name": "stdout",
     "output_type": "stream",
     "text": [
      "2018-05-01 08:00:00\n"
     ]
    },
    {
     "name": "stderr",
     "output_type": "stream",
     "text": [
      "\r",
      " 17%|█▋        | 114/672 [02:06<10:19,  1.11s/it]"
     ]
    },
    {
     "name": "stdout",
     "output_type": "stream",
     "text": [
      "2018-04-11 05:00:00\n"
     ]
    },
    {
     "name": "stderr",
     "output_type": "stream",
     "text": [
      "\r",
      " 17%|█▋        | 115/672 [02:07<10:18,  1.11s/it]"
     ]
    },
    {
     "name": "stdout",
     "output_type": "stream",
     "text": [
      "2018-05-06 10:00:00\n"
     ]
    },
    {
     "name": "stderr",
     "output_type": "stream",
     "text": [
      "\r",
      " 17%|█▋        | 116/672 [02:08<10:16,  1.11s/it]"
     ]
    },
    {
     "name": "stdout",
     "output_type": "stream",
     "text": [
      "2018-04-24 16:00:00\n"
     ]
    },
    {
     "name": "stderr",
     "output_type": "stream",
     "text": [
      "\r",
      " 17%|█▋        | 117/672 [02:09<10:15,  1.11s/it]"
     ]
    },
    {
     "name": "stdout",
     "output_type": "stream",
     "text": [
      "2018-05-01 01:00:00\n"
     ]
    },
    {
     "name": "stderr",
     "output_type": "stream",
     "text": [
      "\r",
      " 18%|█▊        | 118/672 [02:11<10:15,  1.11s/it]"
     ]
    },
    {
     "name": "stdout",
     "output_type": "stream",
     "text": [
      "2018-04-15 16:00:00\n"
     ]
    },
    {
     "name": "stderr",
     "output_type": "stream",
     "text": [
      "\r",
      " 18%|█▊        | 119/672 [02:12<10:13,  1.11s/it]"
     ]
    },
    {
     "name": "stdout",
     "output_type": "stream",
     "text": [
      "2018-04-22 00:00:00\n"
     ]
    },
    {
     "name": "stderr",
     "output_type": "stream",
     "text": [
      "\r",
      " 18%|█▊        | 120/672 [02:13<10:12,  1.11s/it]"
     ]
    },
    {
     "name": "stdout",
     "output_type": "stream",
     "text": [
      "2018-04-26 02:00:00\n"
     ]
    },
    {
     "name": "stderr",
     "output_type": "stream",
     "text": [
      "\r",
      " 18%|█▊        | 121/672 [02:14<10:11,  1.11s/it]"
     ]
    },
    {
     "name": "stdout",
     "output_type": "stream",
     "text": [
      "2018-04-27 15:00:00\n"
     ]
    },
    {
     "name": "stderr",
     "output_type": "stream",
     "text": [
      "\r",
      " 18%|█▊        | 122/672 [02:15<10:10,  1.11s/it]"
     ]
    },
    {
     "name": "stdout",
     "output_type": "stream",
     "text": [
      "2018-04-16 21:00:00\n"
     ]
    },
    {
     "name": "stderr",
     "output_type": "stream",
     "text": [
      "\r",
      " 18%|█▊        | 123/672 [02:16<10:09,  1.11s/it]"
     ]
    },
    {
     "name": "stdout",
     "output_type": "stream",
     "text": [
      "2018-04-21 16:00:00\n"
     ]
    },
    {
     "name": "stderr",
     "output_type": "stream",
     "text": [
      "\r",
      " 18%|█▊        | 124/672 [02:17<10:08,  1.11s/it]"
     ]
    },
    {
     "name": "stdout",
     "output_type": "stream",
     "text": [
      "2018-04-27 18:00:00\n"
     ]
    },
    {
     "name": "stderr",
     "output_type": "stream",
     "text": [
      "\r",
      " 19%|█▊        | 125/672 [02:18<10:06,  1.11s/it]"
     ]
    },
    {
     "name": "stdout",
     "output_type": "stream",
     "text": [
      "2018-04-18 08:00:00\n"
     ]
    },
    {
     "name": "stderr",
     "output_type": "stream",
     "text": [
      "\r",
      " 19%|█▉        | 126/672 [02:19<10:06,  1.11s/it]"
     ]
    },
    {
     "name": "stdout",
     "output_type": "stream",
     "text": [
      "2018-04-26 09:00:00\n"
     ]
    },
    {
     "name": "stderr",
     "output_type": "stream",
     "text": [
      "\r",
      " 19%|█▉        | 127/672 [02:20<10:04,  1.11s/it]"
     ]
    },
    {
     "name": "stdout",
     "output_type": "stream",
     "text": [
      "2018-04-29 14:00:00\n"
     ]
    },
    {
     "name": "stderr",
     "output_type": "stream",
     "text": [
      "\r",
      " 19%|█▉        | 128/672 [02:22<10:03,  1.11s/it]"
     ]
    },
    {
     "name": "stdout",
     "output_type": "stream",
     "text": [
      "2018-04-16 14:00:00\n"
     ]
    },
    {
     "name": "stderr",
     "output_type": "stream",
     "text": [
      "\r",
      " 19%|█▉        | 129/672 [02:23<10:02,  1.11s/it]"
     ]
    },
    {
     "name": "stdout",
     "output_type": "stream",
     "text": [
      "2018-04-19 12:00:00\n"
     ]
    },
    {
     "name": "stderr",
     "output_type": "stream",
     "text": [
      "\r",
      " 19%|█▉        | 130/672 [02:24<10:00,  1.11s/it]"
     ]
    },
    {
     "name": "stdout",
     "output_type": "stream",
     "text": [
      "2018-04-20 00:00:00\n"
     ]
    },
    {
     "name": "stderr",
     "output_type": "stream",
     "text": [
      "\r",
      " 20%|█▉        | 132/672 [02:25<09:54,  1.10s/it]"
     ]
    },
    {
     "name": "stdout",
     "output_type": "stream",
     "text": [
      "2018-04-30 13:00:00\n"
     ]
    },
    {
     "name": "stderr",
     "output_type": "stream",
     "text": [
      "\r",
      " 20%|█▉        | 133/672 [02:26<09:53,  1.10s/it]"
     ]
    },
    {
     "name": "stdout",
     "output_type": "stream",
     "text": [
      "2018-05-07 01:00:00\n"
     ]
    },
    {
     "name": "stderr",
     "output_type": "stream",
     "text": [
      "\r",
      " 20%|█▉        | 134/672 [02:27<09:52,  1.10s/it]"
     ]
    },
    {
     "name": "stdout",
     "output_type": "stream",
     "text": [
      "2018-04-17 02:00:00\n"
     ]
    },
    {
     "name": "stderr",
     "output_type": "stream",
     "text": [
      "\r",
      " 20%|██        | 135/672 [02:28<09:50,  1.10s/it]"
     ]
    },
    {
     "name": "stdout",
     "output_type": "stream",
     "text": [
      "2018-05-06 08:00:00\n"
     ]
    },
    {
     "name": "stderr",
     "output_type": "stream",
     "text": [
      "\r",
      " 20%|██        | 136/672 [02:29<09:50,  1.10s/it]"
     ]
    },
    {
     "name": "stdout",
     "output_type": "stream",
     "text": [
      "2018-05-06 06:00:00\n"
     ]
    },
    {
     "name": "stderr",
     "output_type": "stream",
     "text": [
      "\r",
      " 20%|██        | 137/672 [02:30<09:49,  1.10s/it]"
     ]
    },
    {
     "name": "stdout",
     "output_type": "stream",
     "text": [
      "2018-04-19 00:00:00\n"
     ]
    },
    {
     "name": "stderr",
     "output_type": "stream",
     "text": [
      "\r",
      " 21%|██        | 138/672 [02:31<09:47,  1.10s/it]"
     ]
    },
    {
     "name": "stdout",
     "output_type": "stream",
     "text": [
      "2018-04-23 09:00:00\n"
     ]
    },
    {
     "name": "stderr",
     "output_type": "stream",
     "text": [
      "\r",
      " 21%|██        | 139/672 [02:33<09:47,  1.10s/it]"
     ]
    },
    {
     "name": "stdout",
     "output_type": "stream",
     "text": [
      "2018-04-12 03:00:00\n"
     ]
    },
    {
     "name": "stderr",
     "output_type": "stream",
     "text": [
      "\r",
      " 21%|██        | 140/672 [02:34<09:45,  1.10s/it]"
     ]
    },
    {
     "name": "stdout",
     "output_type": "stream",
     "text": [
      "2018-04-27 09:00:00\n"
     ]
    },
    {
     "name": "stderr",
     "output_type": "stream",
     "text": [
      "\r",
      " 21%|██        | 141/672 [02:35<09:44,  1.10s/it]"
     ]
    },
    {
     "name": "stdout",
     "output_type": "stream",
     "text": [
      "2018-04-13 20:00:00\n"
     ]
    },
    {
     "name": "stderr",
     "output_type": "stream",
     "text": [
      "\r",
      " 21%|██        | 142/672 [02:36<09:43,  1.10s/it]"
     ]
    },
    {
     "name": "stdout",
     "output_type": "stream",
     "text": [
      "2018-04-24 19:00:00\n"
     ]
    },
    {
     "name": "stderr",
     "output_type": "stream",
     "text": [
      "\r",
      " 21%|██▏       | 143/672 [02:37<09:43,  1.10s/it]"
     ]
    },
    {
     "name": "stdout",
     "output_type": "stream",
     "text": [
      "2018-04-16 17:00:00\n"
     ]
    },
    {
     "name": "stderr",
     "output_type": "stream",
     "text": [
      "\r",
      " 21%|██▏       | 144/672 [02:38<09:42,  1.10s/it]"
     ]
    },
    {
     "name": "stdout",
     "output_type": "stream",
     "text": [
      "2018-04-20 04:00:00\n"
     ]
    },
    {
     "name": "stderr",
     "output_type": "stream",
     "text": [
      "\r",
      " 22%|██▏       | 145/672 [02:40<09:42,  1.11s/it]"
     ]
    },
    {
     "name": "stdout",
     "output_type": "stream",
     "text": [
      "2018-04-29 03:00:00\n"
     ]
    },
    {
     "name": "stderr",
     "output_type": "stream",
     "text": [
      "\r",
      " 22%|██▏       | 146/672 [02:41<09:41,  1.11s/it]"
     ]
    },
    {
     "name": "stdout",
     "output_type": "stream",
     "text": [
      "2018-04-14 10:00:00\n"
     ]
    },
    {
     "name": "stderr",
     "output_type": "stream",
     "text": [
      "\r",
      " 22%|██▏       | 147/672 [02:42<09:40,  1.10s/it]"
     ]
    },
    {
     "name": "stdout",
     "output_type": "stream",
     "text": [
      "2018-04-26 23:00:00\n"
     ]
    },
    {
     "name": "stderr",
     "output_type": "stream",
     "text": [
      "\r",
      " 22%|██▏       | 148/672 [02:43<09:39,  1.11s/it]"
     ]
    },
    {
     "name": "stdout",
     "output_type": "stream",
     "text": [
      "2018-04-13 11:00:00\n"
     ]
    },
    {
     "name": "stderr",
     "output_type": "stream",
     "text": [
      "\r",
      " 22%|██▏       | 149/672 [02:44<09:38,  1.11s/it]"
     ]
    },
    {
     "name": "stdout",
     "output_type": "stream",
     "text": [
      "2018-04-16 10:00:00\n"
     ]
    },
    {
     "name": "stderr",
     "output_type": "stream",
     "text": [
      "\r",
      " 22%|██▏       | 150/672 [02:45<09:36,  1.11s/it]"
     ]
    },
    {
     "name": "stdout",
     "output_type": "stream",
     "text": [
      "2018-04-29 15:00:00\n"
     ]
    },
    {
     "name": "stderr",
     "output_type": "stream",
     "text": [
      "\r",
      " 22%|██▏       | 151/672 [02:46<09:35,  1.10s/it]"
     ]
    },
    {
     "name": "stdout",
     "output_type": "stream",
     "text": [
      "2018-04-12 01:00:00\n"
     ]
    },
    {
     "name": "stderr",
     "output_type": "stream",
     "text": [
      "\r",
      " 23%|██▎       | 152/672 [02:48<09:35,  1.11s/it]"
     ]
    },
    {
     "name": "stdout",
     "output_type": "stream",
     "text": [
      "2018-05-05 04:00:00\n"
     ]
    },
    {
     "name": "stderr",
     "output_type": "stream",
     "text": [
      "\r",
      " 23%|██▎       | 153/672 [02:49<09:34,  1.11s/it]"
     ]
    },
    {
     "name": "stdout",
     "output_type": "stream",
     "text": [
      "2018-05-02 10:00:00\n"
     ]
    },
    {
     "name": "stderr",
     "output_type": "stream",
     "text": [
      "\r",
      " 23%|██▎       | 154/672 [02:50<09:32,  1.11s/it]"
     ]
    },
    {
     "name": "stdout",
     "output_type": "stream",
     "text": [
      "2018-04-30 08:00:00\n"
     ]
    },
    {
     "name": "stderr",
     "output_type": "stream",
     "text": [
      "\r",
      " 23%|██▎       | 155/672 [02:51<09:31,  1.11s/it]"
     ]
    },
    {
     "name": "stdout",
     "output_type": "stream",
     "text": [
      "2018-05-02 12:00:00\n"
     ]
    },
    {
     "name": "stderr",
     "output_type": "stream",
     "text": [
      "\r",
      " 23%|██▎       | 156/672 [02:52<09:31,  1.11s/it]"
     ]
    },
    {
     "name": "stdout",
     "output_type": "stream",
     "text": [
      "2018-04-16 00:00:00\n"
     ]
    },
    {
     "name": "stderr",
     "output_type": "stream",
     "text": [
      "\r",
      " 23%|██▎       | 157/672 [02:53<09:30,  1.11s/it]"
     ]
    },
    {
     "name": "stdout",
     "output_type": "stream",
     "text": [
      "2018-04-12 21:00:00\n"
     ]
    },
    {
     "name": "stderr",
     "output_type": "stream",
     "text": [
      "\r",
      " 24%|██▎       | 158/672 [02:54<09:28,  1.11s/it]"
     ]
    },
    {
     "name": "stdout",
     "output_type": "stream",
     "text": [
      "2018-04-13 07:00:00\n"
     ]
    },
    {
     "name": "stderr",
     "output_type": "stream",
     "text": [
      "\r",
      " 24%|██▎       | 159/672 [02:56<09:28,  1.11s/it]"
     ]
    },
    {
     "name": "stdout",
     "output_type": "stream",
     "text": [
      "2018-05-08 12:00:00\n"
     ]
    },
    {
     "name": "stderr",
     "output_type": "stream",
     "text": [
      "\r",
      " 24%|██▍       | 160/672 [02:57<09:26,  1.11s/it]"
     ]
    },
    {
     "name": "stdout",
     "output_type": "stream",
     "text": [
      "2018-04-20 01:00:00\n"
     ]
    },
    {
     "name": "stderr",
     "output_type": "stream",
     "text": [
      "\r",
      " 24%|██▍       | 161/672 [02:58<09:25,  1.11s/it]"
     ]
    },
    {
     "name": "stdout",
     "output_type": "stream",
     "text": [
      "2018-04-15 08:00:00\n"
     ]
    },
    {
     "name": "stderr",
     "output_type": "stream",
     "text": [
      "\r",
      " 24%|██▍       | 162/672 [02:59<09:24,  1.11s/it]"
     ]
    },
    {
     "name": "stdout",
     "output_type": "stream",
     "text": [
      "2018-04-22 04:00:00\n"
     ]
    },
    {
     "name": "stderr",
     "output_type": "stream",
     "text": [
      "\r",
      " 24%|██▍       | 163/672 [03:00<09:23,  1.11s/it]"
     ]
    },
    {
     "name": "stdout",
     "output_type": "stream",
     "text": [
      "2018-04-21 08:00:00\n"
     ]
    },
    {
     "name": "stderr",
     "output_type": "stream",
     "text": [
      "\r",
      " 24%|██▍       | 164/672 [03:01<09:22,  1.11s/it]"
     ]
    },
    {
     "name": "stdout",
     "output_type": "stream",
     "text": [
      "2018-05-04 13:00:00\n"
     ]
    },
    {
     "name": "stderr",
     "output_type": "stream",
     "text": [
      "\r",
      " 25%|██▍       | 165/672 [03:02<09:21,  1.11s/it]"
     ]
    },
    {
     "name": "stdout",
     "output_type": "stream",
     "text": [
      "2018-05-03 04:00:00\n"
     ]
    },
    {
     "name": "stderr",
     "output_type": "stream",
     "text": [
      "\r",
      " 25%|██▍       | 166/672 [03:03<09:20,  1.11s/it]"
     ]
    },
    {
     "name": "stdout",
     "output_type": "stream",
     "text": [
      "2018-04-19 03:00:00\n"
     ]
    },
    {
     "name": "stderr",
     "output_type": "stream",
     "text": [
      "\r",
      " 25%|██▌       | 168/672 [03:05<09:15,  1.10s/it]"
     ]
    },
    {
     "name": "stdout",
     "output_type": "stream",
     "text": [
      "2018-05-02 02:00:00\n"
     ]
    },
    {
     "name": "stderr",
     "output_type": "stream",
     "text": [
      "\r",
      " 25%|██▌       | 169/672 [03:06<09:14,  1.10s/it]"
     ]
    },
    {
     "name": "stdout",
     "output_type": "stream",
     "text": [
      "2018-04-30 14:00:00\n"
     ]
    },
    {
     "name": "stderr",
     "output_type": "stream",
     "text": [
      "\r",
      " 25%|██▌       | 170/672 [03:07<09:13,  1.10s/it]"
     ]
    },
    {
     "name": "stdout",
     "output_type": "stream",
     "text": [
      "2018-04-15 22:00:00\n"
     ]
    },
    {
     "name": "stderr",
     "output_type": "stream",
     "text": [
      "\r",
      " 25%|██▌       | 171/672 [03:08<09:12,  1.10s/it]"
     ]
    },
    {
     "name": "stdout",
     "output_type": "stream",
     "text": [
      "2018-04-24 00:00:00\n"
     ]
    },
    {
     "name": "stderr",
     "output_type": "stream",
     "text": [
      "\r",
      " 26%|██▌       | 172/672 [03:09<09:11,  1.10s/it]"
     ]
    },
    {
     "name": "stdout",
     "output_type": "stream",
     "text": [
      "2018-04-19 18:00:00\n"
     ]
    },
    {
     "name": "stderr",
     "output_type": "stream",
     "text": [
      "\r",
      " 26%|██▌       | 173/672 [03:10<09:10,  1.10s/it]"
     ]
    },
    {
     "name": "stdout",
     "output_type": "stream",
     "text": [
      "2018-04-19 01:00:00\n"
     ]
    },
    {
     "name": "stderr",
     "output_type": "stream",
     "text": [
      "\r",
      " 26%|██▌       | 174/672 [03:12<09:09,  1.10s/it]"
     ]
    },
    {
     "name": "stdout",
     "output_type": "stream",
     "text": [
      "2018-05-02 21:00:00\n"
     ]
    },
    {
     "name": "stderr",
     "output_type": "stream",
     "text": [
      "\r",
      " 26%|██▌       | 175/672 [03:13<09:08,  1.10s/it]"
     ]
    },
    {
     "name": "stdout",
     "output_type": "stream",
     "text": [
      "2018-04-15 02:00:00\n"
     ]
    },
    {
     "name": "stderr",
     "output_type": "stream",
     "text": [
      "\r",
      " 26%|██▌       | 176/672 [03:14<09:07,  1.10s/it]"
     ]
    },
    {
     "name": "stdout",
     "output_type": "stream",
     "text": [
      "2018-04-15 12:00:00\n"
     ]
    },
    {
     "name": "stderr",
     "output_type": "stream",
     "text": [
      "\r",
      " 26%|██▋       | 177/672 [03:15<09:06,  1.10s/it]"
     ]
    },
    {
     "name": "stdout",
     "output_type": "stream",
     "text": [
      "2018-04-28 05:00:00\n"
     ]
    },
    {
     "name": "stderr",
     "output_type": "stream",
     "text": [
      "\r",
      " 26%|██▋       | 178/672 [03:16<09:05,  1.10s/it]"
     ]
    },
    {
     "name": "stdout",
     "output_type": "stream",
     "text": [
      "2018-04-14 11:00:00\n"
     ]
    },
    {
     "name": "stderr",
     "output_type": "stream",
     "text": [
      "\r",
      " 27%|██▋       | 179/672 [03:17<09:04,  1.10s/it]"
     ]
    },
    {
     "name": "stdout",
     "output_type": "stream",
     "text": [
      "2018-04-13 18:00:00\n"
     ]
    },
    {
     "name": "stderr",
     "output_type": "stream",
     "text": [
      "\r",
      " 27%|██▋       | 180/672 [03:18<09:03,  1.10s/it]"
     ]
    },
    {
     "name": "stdout",
     "output_type": "stream",
     "text": [
      "2018-05-07 22:00:00\n"
     ]
    },
    {
     "name": "stderr",
     "output_type": "stream",
     "text": [
      "\r",
      " 27%|██▋       | 181/672 [03:20<09:03,  1.11s/it]"
     ]
    },
    {
     "name": "stdout",
     "output_type": "stream",
     "text": [
      "2018-04-25 05:00:00\n"
     ]
    },
    {
     "name": "stderr",
     "output_type": "stream",
     "text": [
      "\r",
      " 27%|██▋       | 182/672 [03:21<09:01,  1.11s/it]"
     ]
    },
    {
     "name": "stdout",
     "output_type": "stream",
     "text": [
      "2018-05-03 14:00:00\n"
     ]
    },
    {
     "name": "stderr",
     "output_type": "stream",
     "text": [
      "\r",
      " 27%|██▋       | 183/672 [03:22<09:00,  1.11s/it]"
     ]
    },
    {
     "name": "stdout",
     "output_type": "stream",
     "text": [
      "2018-04-22 13:00:00\n"
     ]
    },
    {
     "name": "stderr",
     "output_type": "stream",
     "text": [
      "\r",
      " 27%|██▋       | 184/672 [03:23<08:59,  1.11s/it]"
     ]
    },
    {
     "name": "stdout",
     "output_type": "stream",
     "text": [
      "2018-04-25 10:00:00\n"
     ]
    },
    {
     "name": "stderr",
     "output_type": "stream",
     "text": [
      "\r",
      " 28%|██▊       | 185/672 [03:24<08:58,  1.11s/it]"
     ]
    },
    {
     "name": "stdout",
     "output_type": "stream",
     "text": [
      "2018-05-08 02:00:00\n"
     ]
    },
    {
     "name": "stderr",
     "output_type": "stream",
     "text": [
      "\r",
      " 28%|██▊       | 186/672 [03:25<08:57,  1.11s/it]"
     ]
    },
    {
     "name": "stdout",
     "output_type": "stream",
     "text": [
      "2018-04-21 17:00:00\n"
     ]
    },
    {
     "name": "stderr",
     "output_type": "stream",
     "text": [
      "\r",
      " 28%|██▊       | 187/672 [03:26<08:56,  1.11s/it]"
     ]
    },
    {
     "name": "stdout",
     "output_type": "stream",
     "text": [
      "2018-04-17 21:00:00\n"
     ]
    },
    {
     "name": "stderr",
     "output_type": "stream",
     "text": [
      "\r",
      " 28%|██▊       | 188/672 [03:28<08:55,  1.11s/it]"
     ]
    },
    {
     "name": "stdout",
     "output_type": "stream",
     "text": [
      "2018-04-18 09:00:00\n"
     ]
    },
    {
     "name": "stderr",
     "output_type": "stream",
     "text": [
      "\r",
      " 28%|██▊       | 189/672 [03:29<08:54,  1.11s/it]"
     ]
    },
    {
     "name": "stdout",
     "output_type": "stream",
     "text": [
      "2018-04-22 02:00:00\n"
     ]
    },
    {
     "name": "stderr",
     "output_type": "stream",
     "text": [
      "\r",
      " 28%|██▊       | 190/672 [03:30<08:53,  1.11s/it]"
     ]
    },
    {
     "name": "stdout",
     "output_type": "stream",
     "text": [
      "2018-05-07 08:00:00\n"
     ]
    },
    {
     "name": "stderr",
     "output_type": "stream",
     "text": [
      "\r",
      " 28%|██▊       | 191/672 [03:31<08:52,  1.11s/it]"
     ]
    },
    {
     "name": "stdout",
     "output_type": "stream",
     "text": [
      "2018-04-25 19:00:00\n"
     ]
    },
    {
     "name": "stderr",
     "output_type": "stream",
     "text": [
      "\r",
      " 29%|██▊       | 192/672 [03:32<08:51,  1.11s/it]"
     ]
    },
    {
     "name": "stdout",
     "output_type": "stream",
     "text": [
      "2018-04-16 23:00:00\n"
     ]
    },
    {
     "name": "stderr",
     "output_type": "stream",
     "text": [
      "\r",
      " 29%|██▊       | 193/672 [03:33<08:50,  1.11s/it]"
     ]
    },
    {
     "name": "stdout",
     "output_type": "stream",
     "text": [
      "2018-05-07 13:00:00\n"
     ]
    },
    {
     "name": "stderr",
     "output_type": "stream",
     "text": [
      "\r",
      " 29%|██▉       | 194/672 [03:34<08:49,  1.11s/it]"
     ]
    },
    {
     "name": "stdout",
     "output_type": "stream",
     "text": [
      "2018-05-06 17:00:00\n"
     ]
    },
    {
     "name": "stderr",
     "output_type": "stream",
     "text": [
      "\r",
      " 29%|██▉       | 195/672 [03:35<08:48,  1.11s/it]"
     ]
    },
    {
     "name": "stdout",
     "output_type": "stream",
     "text": [
      "2018-04-14 09:00:00\n"
     ]
    },
    {
     "name": "stderr",
     "output_type": "stream",
     "text": [
      "\r",
      " 29%|██▉       | 196/672 [03:37<08:47,  1.11s/it]"
     ]
    },
    {
     "name": "stdout",
     "output_type": "stream",
     "text": [
      "2018-04-24 23:00:00\n"
     ]
    },
    {
     "name": "stderr",
     "output_type": "stream",
     "text": [
      "\r",
      " 29%|██▉       | 197/672 [03:38<08:46,  1.11s/it]"
     ]
    },
    {
     "name": "stdout",
     "output_type": "stream",
     "text": [
      "2018-04-29 19:00:00\n"
     ]
    },
    {
     "name": "stderr",
     "output_type": "stream",
     "text": [
      "\r",
      " 29%|██▉       | 198/672 [03:39<08:45,  1.11s/it]"
     ]
    },
    {
     "name": "stdout",
     "output_type": "stream",
     "text": [
      "2018-05-08 01:00:00\n"
     ]
    },
    {
     "name": "stderr",
     "output_type": "stream",
     "text": [
      "\r",
      " 30%|██▉       | 199/672 [03:40<08:43,  1.11s/it]"
     ]
    },
    {
     "name": "stdout",
     "output_type": "stream",
     "text": [
      "2018-05-06 09:00:00\n"
     ]
    },
    {
     "name": "stderr",
     "output_type": "stream",
     "text": [
      "\r",
      " 30%|██▉       | 200/672 [03:41<08:42,  1.11s/it]"
     ]
    },
    {
     "name": "stdout",
     "output_type": "stream",
     "text": [
      "2018-04-28 15:00:00\n"
     ]
    },
    {
     "name": "stderr",
     "output_type": "stream",
     "text": [
      "\r",
      " 30%|██▉       | 201/672 [03:42<08:42,  1.11s/it]"
     ]
    },
    {
     "name": "stdout",
     "output_type": "stream",
     "text": [
      "2018-05-08 08:00:00\n"
     ]
    },
    {
     "name": "stderr",
     "output_type": "stream",
     "text": [
      "\r",
      " 30%|███       | 202/672 [03:43<08:41,  1.11s/it]"
     ]
    },
    {
     "name": "stdout",
     "output_type": "stream",
     "text": [
      "2018-04-26 07:00:00\n"
     ]
    },
    {
     "name": "stderr",
     "output_type": "stream",
     "text": [
      "\r",
      " 30%|███       | 203/672 [03:44<08:39,  1.11s/it]"
     ]
    },
    {
     "name": "stdout",
     "output_type": "stream",
     "text": [
      "2018-04-24 02:00:00\n"
     ]
    },
    {
     "name": "stderr",
     "output_type": "stream",
     "text": [
      "\r",
      " 30%|███       | 204/672 [03:46<08:38,  1.11s/it]"
     ]
    },
    {
     "name": "stdout",
     "output_type": "stream",
     "text": [
      "2018-04-23 18:00:00\n"
     ]
    },
    {
     "name": "stderr",
     "output_type": "stream",
     "text": [
      "\r",
      " 31%|███       | 205/672 [03:47<08:38,  1.11s/it]"
     ]
    },
    {
     "name": "stdout",
     "output_type": "stream",
     "text": [
      "2018-05-03 03:00:00\n"
     ]
    },
    {
     "name": "stderr",
     "output_type": "stream",
     "text": [
      "\r",
      " 31%|███       | 206/672 [03:48<08:36,  1.11s/it]"
     ]
    },
    {
     "name": "stdout",
     "output_type": "stream",
     "text": [
      "2018-05-07 16:00:00\n"
     ]
    },
    {
     "name": "stderr",
     "output_type": "stream",
     "text": [
      "\r",
      " 31%|███       | 207/672 [03:49<08:35,  1.11s/it]"
     ]
    },
    {
     "name": "stdout",
     "output_type": "stream",
     "text": [
      "2018-04-17 06:00:00\n"
     ]
    },
    {
     "name": "stderr",
     "output_type": "stream",
     "text": [
      "\r",
      " 31%|███       | 208/672 [03:50<08:34,  1.11s/it]"
     ]
    },
    {
     "name": "stdout",
     "output_type": "stream",
     "text": [
      "2018-05-03 06:00:00\n"
     ]
    },
    {
     "name": "stderr",
     "output_type": "stream",
     "text": [
      "\r",
      " 31%|███       | 209/672 [03:51<08:33,  1.11s/it]"
     ]
    },
    {
     "name": "stdout",
     "output_type": "stream",
     "text": [
      "2018-04-14 04:00:00\n"
     ]
    },
    {
     "name": "stderr",
     "output_type": "stream",
     "text": [
      "\r",
      " 31%|███▏      | 210/672 [03:52<08:32,  1.11s/it]"
     ]
    },
    {
     "name": "stdout",
     "output_type": "stream",
     "text": [
      "2018-04-19 09:00:00\n"
     ]
    },
    {
     "name": "stderr",
     "output_type": "stream",
     "text": [
      "\r",
      " 31%|███▏      | 211/672 [03:53<08:31,  1.11s/it]"
     ]
    },
    {
     "name": "stdout",
     "output_type": "stream",
     "text": [
      "2018-04-13 17:00:00\n"
     ]
    },
    {
     "name": "stderr",
     "output_type": "stream",
     "text": [
      "\r",
      " 32%|███▏      | 212/672 [03:55<08:30,  1.11s/it]"
     ]
    },
    {
     "name": "stdout",
     "output_type": "stream",
     "text": [
      "2018-04-21 13:00:00\n"
     ]
    },
    {
     "name": "stderr",
     "output_type": "stream",
     "text": [
      "\r",
      " 32%|███▏      | 213/672 [03:56<08:29,  1.11s/it]"
     ]
    },
    {
     "name": "stdout",
     "output_type": "stream",
     "text": [
      "2018-04-29 05:00:00\n"
     ]
    },
    {
     "name": "stderr",
     "output_type": "stream",
     "text": [
      "\r",
      " 32%|███▏      | 214/672 [03:57<08:27,  1.11s/it]"
     ]
    },
    {
     "name": "stdout",
     "output_type": "stream",
     "text": [
      "2018-05-08 00:00:00\n"
     ]
    },
    {
     "name": "stderr",
     "output_type": "stream",
     "text": [
      "\r",
      " 32%|███▏      | 215/672 [03:58<08:26,  1.11s/it]"
     ]
    },
    {
     "name": "stdout",
     "output_type": "stream",
     "text": [
      "2018-04-26 14:00:00\n"
     ]
    },
    {
     "name": "stderr",
     "output_type": "stream",
     "text": [
      "\r",
      " 32%|███▏      | 216/672 [03:59<08:26,  1.11s/it]"
     ]
    },
    {
     "name": "stdout",
     "output_type": "stream",
     "text": [
      "2018-04-13 16:00:00\n"
     ]
    },
    {
     "name": "stderr",
     "output_type": "stream",
     "text": [
      "\r",
      " 32%|███▏      | 217/672 [04:00<08:25,  1.11s/it]"
     ]
    },
    {
     "name": "stdout",
     "output_type": "stream",
     "text": [
      "2018-04-15 23:00:00\n"
     ]
    },
    {
     "name": "stderr",
     "output_type": "stream",
     "text": [
      "\r",
      " 32%|███▏      | 218/672 [04:01<08:23,  1.11s/it]"
     ]
    },
    {
     "name": "stdout",
     "output_type": "stream",
     "text": [
      "2018-05-04 09:00:00\n"
     ]
    },
    {
     "name": "stderr",
     "output_type": "stream",
     "text": [
      "\r",
      " 33%|███▎      | 219/672 [04:03<08:22,  1.11s/it]"
     ]
    },
    {
     "name": "stdout",
     "output_type": "stream",
     "text": [
      "2018-05-03 15:00:00\n"
     ]
    },
    {
     "name": "stderr",
     "output_type": "stream",
     "text": [
      "\r",
      " 33%|███▎      | 220/672 [04:04<08:22,  1.11s/it]"
     ]
    },
    {
     "name": "stdout",
     "output_type": "stream",
     "text": [
      "2018-05-02 04:00:00\n"
     ]
    },
    {
     "name": "stderr",
     "output_type": "stream",
     "text": [
      "\r",
      " 33%|███▎      | 221/672 [04:05<08:20,  1.11s/it]"
     ]
    },
    {
     "name": "stdout",
     "output_type": "stream",
     "text": [
      "2018-04-18 06:00:00\n"
     ]
    },
    {
     "name": "stderr",
     "output_type": "stream",
     "text": [
      "\r",
      " 33%|███▎      | 222/672 [04:06<08:19,  1.11s/it]"
     ]
    },
    {
     "name": "stdout",
     "output_type": "stream",
     "text": [
      "2018-05-01 00:00:00\n"
     ]
    },
    {
     "name": "stderr",
     "output_type": "stream",
     "text": [
      "\r",
      " 33%|███▎      | 223/672 [04:07<08:18,  1.11s/it]"
     ]
    },
    {
     "name": "stdout",
     "output_type": "stream",
     "text": [
      "2018-05-07 10:00:00\n"
     ]
    },
    {
     "name": "stderr",
     "output_type": "stream",
     "text": [
      "\r",
      " 33%|███▎      | 224/672 [04:08<08:17,  1.11s/it]"
     ]
    },
    {
     "name": "stdout",
     "output_type": "stream",
     "text": [
      "2018-04-25 09:00:00\n"
     ]
    },
    {
     "name": "stderr",
     "output_type": "stream",
     "text": [
      "\r",
      " 33%|███▎      | 225/672 [04:10<08:16,  1.11s/it]"
     ]
    },
    {
     "name": "stdout",
     "output_type": "stream",
     "text": [
      "2018-04-13 19:00:00\n"
     ]
    },
    {
     "name": "stderr",
     "output_type": "stream",
     "text": [
      "\r",
      " 34%|███▎      | 226/672 [04:11<08:15,  1.11s/it]"
     ]
    },
    {
     "name": "stdout",
     "output_type": "stream",
     "text": [
      "2018-05-01 13:00:00\n"
     ]
    },
    {
     "name": "stderr",
     "output_type": "stream",
     "text": [
      "\r",
      " 34%|███▍      | 227/672 [04:12<08:14,  1.11s/it]"
     ]
    },
    {
     "name": "stdout",
     "output_type": "stream",
     "text": [
      "2018-04-27 10:00:00\n"
     ]
    },
    {
     "name": "stderr",
     "output_type": "stream",
     "text": [
      "\r",
      " 34%|███▍      | 228/672 [04:13<08:13,  1.11s/it]"
     ]
    },
    {
     "name": "stdout",
     "output_type": "stream",
     "text": [
      "2018-04-13 23:00:00\n"
     ]
    },
    {
     "name": "stderr",
     "output_type": "stream",
     "text": [
      "\r",
      " 34%|███▍      | 229/672 [04:14<08:12,  1.11s/it]"
     ]
    },
    {
     "name": "stdout",
     "output_type": "stream",
     "text": [
      "2018-04-16 05:00:00\n"
     ]
    },
    {
     "name": "stderr",
     "output_type": "stream",
     "text": [
      "\r",
      " 34%|███▍      | 230/672 [04:15<08:11,  1.11s/it]"
     ]
    },
    {
     "name": "stdout",
     "output_type": "stream",
     "text": [
      "2018-04-15 06:00:00\n"
     ]
    },
    {
     "name": "stderr",
     "output_type": "stream",
     "text": [
      "\r",
      " 34%|███▍      | 231/672 [04:16<08:10,  1.11s/it]"
     ]
    },
    {
     "name": "stdout",
     "output_type": "stream",
     "text": [
      "2018-04-13 10:00:00\n"
     ]
    },
    {
     "name": "stderr",
     "output_type": "stream",
     "text": [
      "\r",
      " 35%|███▍      | 232/672 [04:18<08:09,  1.11s/it]"
     ]
    },
    {
     "name": "stdout",
     "output_type": "stream",
     "text": [
      "2018-04-15 13:00:00\n"
     ]
    },
    {
     "name": "stderr",
     "output_type": "stream",
     "text": [
      "\r",
      " 35%|███▍      | 233/672 [04:19<08:08,  1.11s/it]"
     ]
    },
    {
     "name": "stdout",
     "output_type": "stream",
     "text": [
      "2018-05-01 14:00:00\n"
     ]
    },
    {
     "name": "stderr",
     "output_type": "stream",
     "text": [
      "\r",
      " 35%|███▍      | 234/672 [04:20<08:07,  1.11s/it]"
     ]
    },
    {
     "name": "stdout",
     "output_type": "stream",
     "text": [
      "2018-05-04 20:00:00\n"
     ]
    },
    {
     "name": "stderr",
     "output_type": "stream",
     "text": [
      "\r",
      " 35%|███▍      | 235/672 [04:21<08:06,  1.11s/it]"
     ]
    },
    {
     "name": "stdout",
     "output_type": "stream",
     "text": [
      "2018-04-24 03:00:00\n"
     ]
    },
    {
     "name": "stderr",
     "output_type": "stream",
     "text": [
      "\r",
      " 35%|███▌      | 236/672 [04:22<08:05,  1.11s/it]"
     ]
    },
    {
     "name": "stdout",
     "output_type": "stream",
     "text": [
      "2018-04-14 15:00:00\n"
     ]
    },
    {
     "name": "stderr",
     "output_type": "stream",
     "text": [
      "\r",
      " 35%|███▌      | 237/672 [04:23<08:04,  1.11s/it]"
     ]
    },
    {
     "name": "stdout",
     "output_type": "stream",
     "text": [
      "2018-04-25 06:00:00\n"
     ]
    },
    {
     "name": "stderr",
     "output_type": "stream",
     "text": [
      "\r",
      " 35%|███▌      | 238/672 [04:25<08:03,  1.11s/it]"
     ]
    },
    {
     "name": "stdout",
     "output_type": "stream",
     "text": [
      "2018-05-02 17:00:00\n"
     ]
    },
    {
     "name": "stderr",
     "output_type": "stream",
     "text": [
      "\r",
      " 36%|███▌      | 239/672 [04:26<08:01,  1.11s/it]"
     ]
    },
    {
     "name": "stdout",
     "output_type": "stream",
     "text": [
      "2018-05-08 15:00:00\n"
     ]
    },
    {
     "name": "stderr",
     "output_type": "stream",
     "text": [
      "\r",
      " 36%|███▌      | 240/672 [04:27<08:01,  1.11s/it]"
     ]
    },
    {
     "name": "stdout",
     "output_type": "stream",
     "text": [
      "2018-04-16 15:00:00\n"
     ]
    },
    {
     "name": "stderr",
     "output_type": "stream",
     "text": [
      "\r",
      " 36%|███▌      | 241/672 [04:28<07:59,  1.11s/it]"
     ]
    },
    {
     "name": "stdout",
     "output_type": "stream",
     "text": [
      "2018-04-29 01:00:00\n"
     ]
    },
    {
     "name": "stderr",
     "output_type": "stream",
     "text": [
      "\r",
      " 36%|███▌      | 243/672 [04:29<07:55,  1.11s/it]"
     ]
    },
    {
     "name": "stdout",
     "output_type": "stream",
     "text": [
      "2018-04-28 04:00:00\n"
     ]
    },
    {
     "name": "stderr",
     "output_type": "stream",
     "text": [
      "\r",
      " 36%|███▋      | 244/672 [04:30<07:54,  1.11s/it]"
     ]
    },
    {
     "name": "stdout",
     "output_type": "stream",
     "text": [
      "2018-04-21 01:00:00\n"
     ]
    },
    {
     "name": "stderr",
     "output_type": "stream",
     "text": [
      "\r",
      " 36%|███▋      | 245/672 [04:31<07:53,  1.11s/it]"
     ]
    },
    {
     "name": "stdout",
     "output_type": "stream",
     "text": [
      "2018-04-22 19:00:00\n"
     ]
    },
    {
     "name": "stderr",
     "output_type": "stream",
     "text": [
      "\r",
      " 37%|███▋      | 246/672 [04:32<07:52,  1.11s/it]"
     ]
    },
    {
     "name": "stdout",
     "output_type": "stream",
     "text": [
      "2018-04-12 10:00:00\n"
     ]
    },
    {
     "name": "stderr",
     "output_type": "stream",
     "text": [
      "\r",
      " 37%|███▋      | 247/672 [04:33<07:51,  1.11s/it]"
     ]
    },
    {
     "name": "stdout",
     "output_type": "stream",
     "text": [
      "2018-05-05 08:00:00\n"
     ]
    },
    {
     "name": "stderr",
     "output_type": "stream",
     "text": [
      "\r",
      " 37%|███▋      | 248/672 [04:34<07:50,  1.11s/it]"
     ]
    },
    {
     "name": "stdout",
     "output_type": "stream",
     "text": [
      "2018-04-21 06:00:00\n"
     ]
    },
    {
     "name": "stderr",
     "output_type": "stream",
     "text": [
      "\r",
      " 37%|███▋      | 249/672 [04:35<07:48,  1.11s/it]"
     ]
    },
    {
     "name": "stdout",
     "output_type": "stream",
     "text": [
      "2018-04-25 13:00:00\n"
     ]
    },
    {
     "name": "stderr",
     "output_type": "stream",
     "text": [
      "\r",
      " 37%|███▋      | 250/672 [04:37<07:48,  1.11s/it]"
     ]
    },
    {
     "name": "stdout",
     "output_type": "stream",
     "text": [
      "2018-05-05 00:00:00\n"
     ]
    },
    {
     "name": "stderr",
     "output_type": "stream",
     "text": [
      "\r",
      " 37%|███▋      | 251/672 [04:38<07:47,  1.11s/it]"
     ]
    },
    {
     "name": "stdout",
     "output_type": "stream",
     "text": [
      "2018-04-19 04:00:00\n"
     ]
    },
    {
     "name": "stderr",
     "output_type": "stream",
     "text": [
      "\r",
      " 38%|███▊      | 252/672 [04:39<07:45,  1.11s/it]"
     ]
    },
    {
     "name": "stdout",
     "output_type": "stream",
     "text": [
      "2018-04-11 06:00:00\n"
     ]
    },
    {
     "name": "stderr",
     "output_type": "stream",
     "text": [
      "\r",
      " 38%|███▊      | 253/672 [04:40<07:44,  1.11s/it]"
     ]
    },
    {
     "name": "stdout",
     "output_type": "stream",
     "text": [
      "2018-05-07 14:00:00\n"
     ]
    },
    {
     "name": "stderr",
     "output_type": "stream",
     "text": [
      "\r",
      " 38%|███▊      | 254/672 [04:41<07:44,  1.11s/it]"
     ]
    },
    {
     "name": "stdout",
     "output_type": "stream",
     "text": [
      "2018-04-19 21:00:00\n"
     ]
    },
    {
     "name": "stderr",
     "output_type": "stream",
     "text": [
      "\r",
      " 38%|███▊      | 255/672 [04:43<07:42,  1.11s/it]"
     ]
    },
    {
     "name": "stdout",
     "output_type": "stream",
     "text": [
      "2018-04-30 05:00:00\n"
     ]
    },
    {
     "name": "stderr",
     "output_type": "stream",
     "text": [
      "\r",
      " 38%|███▊      | 256/672 [04:44<07:41,  1.11s/it]"
     ]
    },
    {
     "name": "stdout",
     "output_type": "stream",
     "text": [
      "2018-04-22 05:00:00\n"
     ]
    },
    {
     "name": "stderr",
     "output_type": "stream",
     "text": [
      "\r",
      " 38%|███▊      | 257/672 [04:45<07:40,  1.11s/it]"
     ]
    },
    {
     "name": "stdout",
     "output_type": "stream",
     "text": [
      "2018-04-20 17:00:00\n"
     ]
    },
    {
     "name": "stderr",
     "output_type": "stream",
     "text": [
      "\r",
      " 38%|███▊      | 258/672 [04:46<07:39,  1.11s/it]"
     ]
    },
    {
     "name": "stdout",
     "output_type": "stream",
     "text": [
      "2018-04-14 14:00:00\n"
     ]
    },
    {
     "name": "stderr",
     "output_type": "stream",
     "text": [
      "\r",
      " 39%|███▊      | 259/672 [04:47<07:38,  1.11s/it]"
     ]
    },
    {
     "name": "stdout",
     "output_type": "stream",
     "text": [
      "2018-05-06 23:00:00\n"
     ]
    },
    {
     "name": "stderr",
     "output_type": "stream",
     "text": [
      "\r",
      " 39%|███▊      | 260/672 [04:48<07:37,  1.11s/it]"
     ]
    },
    {
     "name": "stdout",
     "output_type": "stream",
     "text": [
      "2018-04-29 02:00:00\n"
     ]
    },
    {
     "name": "stderr",
     "output_type": "stream",
     "text": [
      "\r",
      " 39%|███▉      | 261/672 [04:49<07:36,  1.11s/it]"
     ]
    },
    {
     "name": "stdout",
     "output_type": "stream",
     "text": [
      "2018-04-12 18:00:00\n"
     ]
    },
    {
     "name": "stderr",
     "output_type": "stream",
     "text": [
      "\r",
      " 39%|███▉      | 262/672 [04:50<07:35,  1.11s/it]"
     ]
    },
    {
     "name": "stdout",
     "output_type": "stream",
     "text": [
      "2018-04-30 06:00:00\n"
     ]
    },
    {
     "name": "stderr",
     "output_type": "stream",
     "text": [
      "\r",
      " 39%|███▉      | 263/672 [04:51<07:34,  1.11s/it]"
     ]
    },
    {
     "name": "stdout",
     "output_type": "stream",
     "text": [
      "2018-04-23 16:00:00\n"
     ]
    },
    {
     "name": "stderr",
     "output_type": "stream",
     "text": [
      "\r",
      " 39%|███▉      | 264/672 [04:52<07:32,  1.11s/it]"
     ]
    },
    {
     "name": "stdout",
     "output_type": "stream",
     "text": [
      "2018-04-20 16:00:00\n"
     ]
    },
    {
     "name": "stderr",
     "output_type": "stream",
     "text": [
      "\r",
      " 39%|███▉      | 265/672 [04:54<07:32,  1.11s/it]"
     ]
    },
    {
     "name": "stdout",
     "output_type": "stream",
     "text": [
      "2018-04-11 15:00:00\n"
     ]
    },
    {
     "name": "stderr",
     "output_type": "stream",
     "text": [
      "\r",
      " 40%|███▉      | 266/672 [04:55<07:30,  1.11s/it]"
     ]
    },
    {
     "name": "stdout",
     "output_type": "stream",
     "text": [
      "2018-04-24 08:00:00\n"
     ]
    },
    {
     "name": "stderr",
     "output_type": "stream",
     "text": [
      "\r",
      " 40%|███▉      | 267/672 [04:56<07:29,  1.11s/it]"
     ]
    },
    {
     "name": "stdout",
     "output_type": "stream",
     "text": [
      "2018-04-21 07:00:00\n"
     ]
    },
    {
     "name": "stderr",
     "output_type": "stream",
     "text": [
      "\r",
      " 40%|███▉      | 268/672 [04:57<07:28,  1.11s/it]"
     ]
    },
    {
     "name": "stdout",
     "output_type": "stream",
     "text": [
      "2018-05-08 14:00:00\n"
     ]
    },
    {
     "name": "stderr",
     "output_type": "stream",
     "text": [
      "\r",
      " 40%|████      | 269/672 [04:58<07:27,  1.11s/it]"
     ]
    },
    {
     "name": "stdout",
     "output_type": "stream",
     "text": [
      "2018-04-14 01:00:00\n"
     ]
    },
    {
     "name": "stderr",
     "output_type": "stream",
     "text": [
      "\r",
      " 40%|████      | 270/672 [04:59<07:26,  1.11s/it]"
     ]
    },
    {
     "name": "stdout",
     "output_type": "stream",
     "text": [
      "2018-04-11 02:00:00\n"
     ]
    },
    {
     "name": "stderr",
     "output_type": "stream",
     "text": [
      "\r",
      " 40%|████      | 271/672 [05:00<07:25,  1.11s/it]"
     ]
    },
    {
     "name": "stdout",
     "output_type": "stream",
     "text": [
      "2018-04-22 20:00:00\n"
     ]
    },
    {
     "name": "stderr",
     "output_type": "stream",
     "text": [
      "\r",
      " 40%|████      | 272/672 [05:01<07:23,  1.11s/it]"
     ]
    },
    {
     "name": "stdout",
     "output_type": "stream",
     "text": [
      "2018-04-16 09:00:00\n"
     ]
    },
    {
     "name": "stderr",
     "output_type": "stream",
     "text": [
      "\r",
      " 41%|████      | 273/672 [05:02<07:22,  1.11s/it]"
     ]
    },
    {
     "name": "stdout",
     "output_type": "stream",
     "text": [
      "2018-04-29 09:00:00\n"
     ]
    },
    {
     "name": "stderr",
     "output_type": "stream",
     "text": [
      "\r",
      " 41%|████      | 274/672 [05:04<07:21,  1.11s/it]"
     ]
    },
    {
     "name": "stdout",
     "output_type": "stream",
     "text": [
      "2018-04-30 17:00:00\n"
     ]
    },
    {
     "name": "stderr",
     "output_type": "stream",
     "text": [
      "\r",
      " 41%|████      | 275/672 [05:05<07:20,  1.11s/it]"
     ]
    },
    {
     "name": "stdout",
     "output_type": "stream",
     "text": [
      "2018-05-01 03:00:00\n"
     ]
    },
    {
     "name": "stderr",
     "output_type": "stream",
     "text": [
      "\r",
      " 41%|████      | 276/672 [05:06<07:19,  1.11s/it]"
     ]
    },
    {
     "name": "stdout",
     "output_type": "stream",
     "text": [
      "2018-05-07 03:00:00\n"
     ]
    },
    {
     "name": "stderr",
     "output_type": "stream",
     "text": [
      "\r",
      " 41%|████      | 277/672 [05:07<07:18,  1.11s/it]"
     ]
    },
    {
     "name": "stdout",
     "output_type": "stream",
     "text": [
      "2018-04-26 10:00:00\n"
     ]
    },
    {
     "name": "stderr",
     "output_type": "stream",
     "text": [
      "\r",
      " 41%|████▏     | 278/672 [05:08<07:17,  1.11s/it]"
     ]
    },
    {
     "name": "stdout",
     "output_type": "stream",
     "text": [
      "2018-05-03 07:00:00\n"
     ]
    },
    {
     "name": "stderr",
     "output_type": "stream",
     "text": [
      "\r",
      " 42%|████▏     | 279/672 [05:09<07:16,  1.11s/it]"
     ]
    },
    {
     "name": "stdout",
     "output_type": "stream",
     "text": [
      "2018-04-15 10:00:00\n"
     ]
    },
    {
     "name": "stderr",
     "output_type": "stream",
     "text": [
      "\r",
      " 42%|████▏     | 280/672 [05:11<07:15,  1.11s/it]"
     ]
    },
    {
     "name": "stdout",
     "output_type": "stream",
     "text": [
      "2018-04-24 17:00:00\n"
     ]
    },
    {
     "name": "stderr",
     "output_type": "stream",
     "text": [
      "\r",
      " 42%|████▏     | 281/672 [05:12<07:14,  1.11s/it]"
     ]
    },
    {
     "name": "stdout",
     "output_type": "stream",
     "text": [
      "2018-04-23 10:00:00\n"
     ]
    },
    {
     "name": "stderr",
     "output_type": "stream",
     "text": [
      "\r",
      " 42%|████▏     | 282/672 [05:13<07:13,  1.11s/it]"
     ]
    },
    {
     "name": "stdout",
     "output_type": "stream",
     "text": [
      "2018-04-17 16:00:00\n"
     ]
    },
    {
     "name": "stderr",
     "output_type": "stream",
     "text": [
      "\r",
      " 42%|████▏     | 283/672 [05:14<07:12,  1.11s/it]"
     ]
    },
    {
     "name": "stdout",
     "output_type": "stream",
     "text": [
      "2018-04-17 01:00:00\n"
     ]
    },
    {
     "name": "stderr",
     "output_type": "stream",
     "text": [
      "\r",
      " 42%|████▏     | 284/672 [05:15<07:10,  1.11s/it]"
     ]
    },
    {
     "name": "stdout",
     "output_type": "stream",
     "text": [
      "2018-05-01 02:00:00\n"
     ]
    },
    {
     "name": "stderr",
     "output_type": "stream",
     "text": [
      "\r",
      " 42%|████▏     | 285/672 [05:16<07:10,  1.11s/it]"
     ]
    },
    {
     "name": "stdout",
     "output_type": "stream",
     "text": [
      "2018-05-01 15:00:00\n"
     ]
    },
    {
     "name": "stderr",
     "output_type": "stream",
     "text": [
      "\r",
      " 43%|████▎     | 286/672 [05:17<07:09,  1.11s/it]"
     ]
    },
    {
     "name": "stdout",
     "output_type": "stream",
     "text": [
      "2018-05-05 02:00:00\n"
     ]
    },
    {
     "name": "stderr",
     "output_type": "stream",
     "text": [
      "\r",
      " 43%|████▎     | 287/672 [05:19<07:08,  1.11s/it]"
     ]
    },
    {
     "name": "stdout",
     "output_type": "stream",
     "text": [
      "2018-04-16 20:00:00\n"
     ]
    },
    {
     "name": "stderr",
     "output_type": "stream",
     "text": [
      "\r",
      " 43%|████▎     | 288/672 [05:20<07:06,  1.11s/it]"
     ]
    },
    {
     "name": "stdout",
     "output_type": "stream",
     "text": [
      "2018-05-06 04:00:00\n"
     ]
    },
    {
     "name": "stderr",
     "output_type": "stream",
     "text": [
      "\r",
      " 43%|████▎     | 289/672 [05:21<07:06,  1.11s/it]"
     ]
    },
    {
     "name": "stdout",
     "output_type": "stream",
     "text": [
      "2018-04-25 04:00:00\n"
     ]
    },
    {
     "name": "stderr",
     "output_type": "stream",
     "text": [
      "\r",
      " 43%|████▎     | 290/672 [05:22<07:04,  1.11s/it]"
     ]
    },
    {
     "name": "stdout",
     "output_type": "stream",
     "text": [
      "2018-04-24 06:00:00\n"
     ]
    },
    {
     "name": "stderr",
     "output_type": "stream",
     "text": [
      "\r",
      " 43%|████▎     | 291/672 [05:23<07:03,  1.11s/it]"
     ]
    },
    {
     "name": "stdout",
     "output_type": "stream",
     "text": [
      "2018-04-30 00:00:00\n"
     ]
    },
    {
     "name": "stderr",
     "output_type": "stream",
     "text": [
      "\r",
      " 44%|████▎     | 293/672 [05:24<07:00,  1.11s/it]"
     ]
    },
    {
     "name": "stdout",
     "output_type": "stream",
     "text": [
      "2018-04-23 04:00:00\n"
     ]
    },
    {
     "name": "stderr",
     "output_type": "stream",
     "text": [
      "\r",
      " 44%|████▍     | 294/672 [05:26<06:59,  1.11s/it]"
     ]
    },
    {
     "name": "stdout",
     "output_type": "stream",
     "text": [
      "2018-05-07 07:00:00\n"
     ]
    },
    {
     "name": "stderr",
     "output_type": "stream",
     "text": [
      "\r",
      " 44%|████▍     | 295/672 [05:27<06:58,  1.11s/it]"
     ]
    },
    {
     "name": "stdout",
     "output_type": "stream",
     "text": [
      "2018-04-18 13:00:00\n"
     ]
    },
    {
     "name": "stderr",
     "output_type": "stream",
     "text": [
      "\r",
      " 44%|████▍     | 296/672 [05:28<06:56,  1.11s/it]"
     ]
    },
    {
     "name": "stdout",
     "output_type": "stream",
     "text": [
      "2018-04-24 01:00:00\n"
     ]
    },
    {
     "name": "stderr",
     "output_type": "stream",
     "text": [
      "\r",
      " 44%|████▍     | 297/672 [05:29<06:55,  1.11s/it]"
     ]
    },
    {
     "name": "stdout",
     "output_type": "stream",
     "text": [
      "2018-05-06 00:00:00\n"
     ]
    },
    {
     "name": "stderr",
     "output_type": "stream",
     "text": [
      "\r",
      " 44%|████▍     | 298/672 [05:30<06:54,  1.11s/it]"
     ]
    },
    {
     "name": "stdout",
     "output_type": "stream",
     "text": [
      "2018-04-14 07:00:00\n"
     ]
    },
    {
     "name": "stderr",
     "output_type": "stream",
     "text": [
      "\r",
      " 44%|████▍     | 299/672 [05:31<06:53,  1.11s/it]"
     ]
    },
    {
     "name": "stdout",
     "output_type": "stream",
     "text": [
      "2018-05-04 16:00:00\n"
     ]
    },
    {
     "name": "stderr",
     "output_type": "stream",
     "text": [
      "\r",
      " 45%|████▍     | 300/672 [05:32<06:52,  1.11s/it]"
     ]
    },
    {
     "name": "stdout",
     "output_type": "stream",
     "text": [
      "2018-04-21 14:00:00\n"
     ]
    },
    {
     "name": "stderr",
     "output_type": "stream",
     "text": [
      "\r",
      " 45%|████▍     | 301/672 [05:33<06:51,  1.11s/it]"
     ]
    },
    {
     "name": "stdout",
     "output_type": "stream",
     "text": [
      "2018-04-21 23:00:00\n"
     ]
    },
    {
     "name": "stderr",
     "output_type": "stream",
     "text": [
      "\r",
      " 45%|████▍     | 302/672 [05:35<06:50,  1.11s/it]"
     ]
    },
    {
     "name": "stdout",
     "output_type": "stream",
     "text": [
      "2018-04-26 04:00:00\n"
     ]
    },
    {
     "name": "stderr",
     "output_type": "stream",
     "text": [
      "\r",
      " 45%|████▌     | 303/672 [05:36<06:49,  1.11s/it]"
     ]
    },
    {
     "name": "stdout",
     "output_type": "stream",
     "text": [
      "2018-05-03 21:00:00\n"
     ]
    },
    {
     "name": "stderr",
     "output_type": "stream",
     "text": [
      "\r",
      " 45%|████▌     | 304/672 [05:37<06:48,  1.11s/it]"
     ]
    },
    {
     "name": "stdout",
     "output_type": "stream",
     "text": [
      "2018-05-04 22:00:00\n"
     ]
    },
    {
     "name": "stderr",
     "output_type": "stream",
     "text": [
      "\r",
      " 45%|████▌     | 305/672 [05:38<06:47,  1.11s/it]"
     ]
    },
    {
     "name": "stdout",
     "output_type": "stream",
     "text": [
      "2018-04-25 23:00:00\n"
     ]
    },
    {
     "name": "stderr",
     "output_type": "stream",
     "text": [
      "\r",
      " 46%|████▌     | 306/672 [05:39<06:46,  1.11s/it]"
     ]
    },
    {
     "name": "stdout",
     "output_type": "stream",
     "text": [
      "2018-04-30 07:00:00\n"
     ]
    },
    {
     "name": "stderr",
     "output_type": "stream",
     "text": [
      "\r",
      " 46%|████▌     | 307/672 [05:40<06:45,  1.11s/it]"
     ]
    },
    {
     "name": "stdout",
     "output_type": "stream",
     "text": [
      "2018-04-27 21:00:00\n"
     ]
    },
    {
     "name": "stderr",
     "output_type": "stream",
     "text": [
      "\r",
      " 46%|████▌     | 308/672 [05:41<06:43,  1.11s/it]"
     ]
    },
    {
     "name": "stdout",
     "output_type": "stream",
     "text": [
      "2018-05-04 00:00:00\n"
     ]
    },
    {
     "name": "stderr",
     "output_type": "stream",
     "text": [
      "\r",
      " 46%|████▌     | 309/672 [05:42<06:42,  1.11s/it]"
     ]
    },
    {
     "name": "stdout",
     "output_type": "stream",
     "text": [
      "2018-04-18 05:00:00\n"
     ]
    },
    {
     "name": "stderr",
     "output_type": "stream",
     "text": [
      "\r",
      " 46%|████▌     | 310/672 [05:44<06:41,  1.11s/it]"
     ]
    },
    {
     "name": "stdout",
     "output_type": "stream",
     "text": [
      "2018-05-03 01:00:00\n"
     ]
    },
    {
     "name": "stderr",
     "output_type": "stream",
     "text": [
      "\r",
      " 46%|████▋     | 311/672 [05:45<06:40,  1.11s/it]"
     ]
    },
    {
     "name": "stdout",
     "output_type": "stream",
     "text": [
      "2018-04-13 14:00:00\n"
     ]
    },
    {
     "name": "stderr",
     "output_type": "stream",
     "text": [
      "\r",
      " 46%|████▋     | 312/672 [05:46<06:39,  1.11s/it]"
     ]
    },
    {
     "name": "stdout",
     "output_type": "stream",
     "text": [
      "2018-05-07 23:00:00\n"
     ]
    },
    {
     "name": "stderr",
     "output_type": "stream",
     "text": [
      "\r",
      " 47%|████▋     | 313/672 [05:47<06:38,  1.11s/it]"
     ]
    },
    {
     "name": "stdout",
     "output_type": "stream",
     "text": [
      "2018-04-30 02:00:00\n"
     ]
    },
    {
     "name": "stderr",
     "output_type": "stream",
     "text": [
      "\r",
      " 47%|████▋     | 314/672 [05:48<06:37,  1.11s/it]"
     ]
    },
    {
     "name": "stdout",
     "output_type": "stream",
     "text": [
      "2018-05-08 21:00:00\n"
     ]
    },
    {
     "name": "stderr",
     "output_type": "stream",
     "text": [
      "\r",
      " 47%|████▋     | 315/672 [05:49<06:36,  1.11s/it]"
     ]
    },
    {
     "name": "stdout",
     "output_type": "stream",
     "text": [
      "2018-04-16 13:00:00\n"
     ]
    },
    {
     "name": "stderr",
     "output_type": "stream",
     "text": [
      "\r",
      " 47%|████▋     | 316/672 [05:50<06:35,  1.11s/it]"
     ]
    },
    {
     "name": "stdout",
     "output_type": "stream",
     "text": [
      "2018-05-03 00:00:00\n"
     ]
    },
    {
     "name": "stderr",
     "output_type": "stream",
     "text": [
      "\r",
      " 47%|████▋     | 317/672 [05:51<06:33,  1.11s/it]"
     ]
    },
    {
     "name": "stdout",
     "output_type": "stream",
     "text": [
      "2018-04-11 21:00:00\n"
     ]
    },
    {
     "name": "stderr",
     "output_type": "stream",
     "text": [
      "\r",
      " 47%|████▋     | 318/672 [05:53<06:33,  1.11s/it]"
     ]
    },
    {
     "name": "stdout",
     "output_type": "stream",
     "text": [
      "2018-04-13 06:00:00\n"
     ]
    },
    {
     "name": "stderr",
     "output_type": "stream",
     "text": [
      "\r",
      " 47%|████▋     | 319/672 [05:54<06:31,  1.11s/it]"
     ]
    },
    {
     "name": "stdout",
     "output_type": "stream",
     "text": [
      "2018-05-01 19:00:00\n"
     ]
    },
    {
     "name": "stderr",
     "output_type": "stream",
     "text": [
      "\r",
      " 48%|████▊     | 320/672 [05:55<06:30,  1.11s/it]"
     ]
    },
    {
     "name": "stdout",
     "output_type": "stream",
     "text": [
      "2018-04-28 10:00:00\n"
     ]
    },
    {
     "name": "stderr",
     "output_type": "stream",
     "text": [
      "\r",
      " 48%|████▊     | 321/672 [05:56<06:29,  1.11s/it]"
     ]
    },
    {
     "name": "stdout",
     "output_type": "stream",
     "text": [
      "2018-04-13 01:00:00\n"
     ]
    },
    {
     "name": "stderr",
     "output_type": "stream",
     "text": [
      "\r",
      " 48%|████▊     | 322/672 [05:57<06:28,  1.11s/it]"
     ]
    },
    {
     "name": "stdout",
     "output_type": "stream",
     "text": [
      "2018-05-06 13:00:00\n"
     ]
    },
    {
     "name": "stderr",
     "output_type": "stream",
     "text": [
      "\r",
      " 48%|████▊     | 323/672 [05:59<06:27,  1.11s/it]"
     ]
    },
    {
     "name": "stdout",
     "output_type": "stream",
     "text": [
      "2018-04-27 22:00:00\n"
     ]
    },
    {
     "name": "stderr",
     "output_type": "stream",
     "text": [
      "\r",
      " 48%|████▊     | 324/672 [06:00<06:27,  1.11s/it]"
     ]
    },
    {
     "name": "stdout",
     "output_type": "stream",
     "text": [
      "2018-04-26 15:00:00\n"
     ]
    },
    {
     "name": "stderr",
     "output_type": "stream",
     "text": [
      "\r",
      " 48%|████▊     | 325/672 [06:01<06:26,  1.11s/it]"
     ]
    },
    {
     "name": "stdout",
     "output_type": "stream",
     "text": [
      "2018-05-04 15:00:00\n"
     ]
    },
    {
     "name": "stderr",
     "output_type": "stream",
     "text": [
      "\r",
      " 49%|████▊     | 326/672 [06:02<06:24,  1.11s/it]"
     ]
    },
    {
     "name": "stdout",
     "output_type": "stream",
     "text": [
      "2018-04-12 07:00:00\n"
     ]
    },
    {
     "name": "stderr",
     "output_type": "stream",
     "text": [
      "\r",
      " 49%|████▊     | 327/672 [06:04<06:24,  1.11s/it]"
     ]
    },
    {
     "name": "stdout",
     "output_type": "stream",
     "text": [
      "2018-05-07 11:00:00\n"
     ]
    },
    {
     "name": "stderr",
     "output_type": "stream",
     "text": [
      "\r",
      " 49%|████▉     | 328/672 [06:05<06:23,  1.11s/it]"
     ]
    },
    {
     "name": "stdout",
     "output_type": "stream",
     "text": [
      "2018-04-19 16:00:00\n"
     ]
    },
    {
     "name": "stderr",
     "output_type": "stream",
     "text": [
      "\r",
      " 49%|████▉     | 329/672 [06:06<06:21,  1.11s/it]"
     ]
    },
    {
     "name": "stdout",
     "output_type": "stream",
     "text": [
      "2018-04-24 20:00:00\n"
     ]
    },
    {
     "name": "stderr",
     "output_type": "stream",
     "text": [
      "\r",
      " 49%|████▉     | 331/672 [06:07<06:18,  1.11s/it]"
     ]
    },
    {
     "name": "stdout",
     "output_type": "stream",
     "text": [
      "2018-04-26 00:00:00\n"
     ]
    },
    {
     "name": "stderr",
     "output_type": "stream",
     "text": [
      "\r",
      " 49%|████▉     | 332/672 [06:08<06:17,  1.11s/it]"
     ]
    },
    {
     "name": "stdout",
     "output_type": "stream",
     "text": [
      "2018-04-12 00:00:00\n"
     ]
    },
    {
     "name": "stderr",
     "output_type": "stream",
     "text": [
      "\r",
      " 50%|████▉     | 333/672 [06:09<06:16,  1.11s/it]"
     ]
    },
    {
     "name": "stdout",
     "output_type": "stream",
     "text": [
      "2018-04-25 15:00:00\n"
     ]
    },
    {
     "name": "stderr",
     "output_type": "stream",
     "text": [
      "\r",
      " 50%|████▉     | 334/672 [06:10<06:15,  1.11s/it]"
     ]
    },
    {
     "name": "stdout",
     "output_type": "stream",
     "text": [
      "2018-05-05 05:00:00\n"
     ]
    },
    {
     "name": "stderr",
     "output_type": "stream",
     "text": [
      "\r",
      " 50%|█████     | 336/672 [06:12<06:12,  1.11s/it]"
     ]
    },
    {
     "name": "stdout",
     "output_type": "stream",
     "text": [
      "2018-04-19 15:00:00\n"
     ]
    },
    {
     "name": "stderr",
     "output_type": "stream",
     "text": [
      "\r",
      " 50%|█████     | 337/672 [06:13<06:11,  1.11s/it]"
     ]
    },
    {
     "name": "stdout",
     "output_type": "stream",
     "text": [
      "2018-04-11 00:00:00\n"
     ]
    },
    {
     "name": "stderr",
     "output_type": "stream",
     "text": [
      "\r",
      " 50%|█████     | 338/672 [06:14<06:09,  1.11s/it]"
     ]
    },
    {
     "name": "stdout",
     "output_type": "stream",
     "text": [
      "2018-04-30 09:00:00\n"
     ]
    },
    {
     "name": "stderr",
     "output_type": "stream",
     "text": [
      "\r",
      " 50%|█████     | 339/672 [06:15<06:08,  1.11s/it]"
     ]
    },
    {
     "name": "stdout",
     "output_type": "stream",
     "text": [
      "2018-04-11 03:00:00\n"
     ]
    },
    {
     "name": "stderr",
     "output_type": "stream",
     "text": [
      "\r",
      " 51%|█████     | 340/672 [06:16<06:07,  1.11s/it]"
     ]
    },
    {
     "name": "stdout",
     "output_type": "stream",
     "text": [
      "2018-04-24 07:00:00\n"
     ]
    },
    {
     "name": "stderr",
     "output_type": "stream",
     "text": [
      "\r",
      " 51%|█████     | 341/672 [06:17<06:06,  1.11s/it]"
     ]
    },
    {
     "name": "stdout",
     "output_type": "stream",
     "text": [
      "2018-04-27 17:00:00\n"
     ]
    },
    {
     "name": "stderr",
     "output_type": "stream",
     "text": [
      "\r",
      " 51%|█████     | 342/672 [06:18<06:05,  1.11s/it]"
     ]
    },
    {
     "name": "stdout",
     "output_type": "stream",
     "text": [
      "2018-04-12 13:00:00\n"
     ]
    },
    {
     "name": "stderr",
     "output_type": "stream",
     "text": [
      "\r",
      " 51%|█████     | 343/672 [06:19<06:04,  1.11s/it]"
     ]
    },
    {
     "name": "stdout",
     "output_type": "stream",
     "text": [
      "2018-04-16 07:00:00\n"
     ]
    },
    {
     "name": "stderr",
     "output_type": "stream",
     "text": [
      "\r",
      " 51%|█████     | 344/672 [06:21<06:03,  1.11s/it]"
     ]
    },
    {
     "name": "stdout",
     "output_type": "stream",
     "text": [
      "2018-04-27 12:00:00\n"
     ]
    },
    {
     "name": "stderr",
     "output_type": "stream",
     "text": [
      "\r",
      " 51%|█████▏    | 345/672 [06:22<06:02,  1.11s/it]"
     ]
    },
    {
     "name": "stdout",
     "output_type": "stream",
     "text": [
      "2018-04-23 03:00:00\n"
     ]
    },
    {
     "name": "stderr",
     "output_type": "stream",
     "text": [
      "\r",
      " 51%|█████▏    | 346/672 [06:23<06:01,  1.11s/it]"
     ]
    },
    {
     "name": "stdout",
     "output_type": "stream",
     "text": [
      "2018-04-29 12:00:00\n"
     ]
    },
    {
     "name": "stderr",
     "output_type": "stream",
     "text": [
      "\r",
      " 52%|█████▏    | 347/672 [06:24<06:00,  1.11s/it]"
     ]
    },
    {
     "name": "stdout",
     "output_type": "stream",
     "text": [
      "2018-04-17 15:00:00\n"
     ]
    },
    {
     "name": "stderr",
     "output_type": "stream",
     "text": [
      "\r",
      " 52%|█████▏    | 348/672 [06:25<05:59,  1.11s/it]"
     ]
    },
    {
     "name": "stdout",
     "output_type": "stream",
     "text": [
      "2018-05-04 02:00:00\n"
     ]
    },
    {
     "name": "stderr",
     "output_type": "stream",
     "text": [
      "\r",
      " 52%|█████▏    | 350/672 [06:27<05:56,  1.11s/it]"
     ]
    },
    {
     "name": "stdout",
     "output_type": "stream",
     "text": [
      "2018-05-02 20:00:00\n"
     ]
    },
    {
     "name": "stderr",
     "output_type": "stream",
     "text": [
      "\r",
      " 52%|█████▏    | 351/672 [06:28<05:54,  1.11s/it]"
     ]
    },
    {
     "name": "stdout",
     "output_type": "stream",
     "text": [
      "2018-04-15 15:00:00\n"
     ]
    },
    {
     "name": "stderr",
     "output_type": "stream",
     "text": [
      "\r",
      " 52%|█████▏    | 352/672 [06:29<05:53,  1.11s/it]"
     ]
    },
    {
     "name": "stdout",
     "output_type": "stream",
     "text": [
      "2018-04-16 01:00:00\n"
     ]
    },
    {
     "name": "stderr",
     "output_type": "stream",
     "text": [
      "\r",
      " 53%|█████▎    | 353/672 [06:30<05:52,  1.11s/it]"
     ]
    },
    {
     "name": "stdout",
     "output_type": "stream",
     "text": [
      "2018-04-22 10:00:00\n"
     ]
    },
    {
     "name": "stderr",
     "output_type": "stream",
     "text": [
      "\r",
      " 53%|█████▎    | 354/672 [06:31<05:51,  1.11s/it]"
     ]
    },
    {
     "name": "stdout",
     "output_type": "stream",
     "text": [
      "2018-04-29 20:00:00\n"
     ]
    },
    {
     "name": "stderr",
     "output_type": "stream",
     "text": [
      "\r",
      " 53%|█████▎    | 355/672 [06:32<05:50,  1.11s/it]"
     ]
    },
    {
     "name": "stdout",
     "output_type": "stream",
     "text": [
      "2018-04-18 01:00:00\n"
     ]
    },
    {
     "name": "stderr",
     "output_type": "stream",
     "text": [
      "\r",
      " 53%|█████▎    | 356/672 [06:33<05:49,  1.11s/it]"
     ]
    },
    {
     "name": "stdout",
     "output_type": "stream",
     "text": [
      "2018-04-22 07:00:00\n"
     ]
    },
    {
     "name": "stderr",
     "output_type": "stream",
     "text": [
      "\r",
      " 53%|█████▎    | 357/672 [06:34<05:48,  1.11s/it]"
     ]
    },
    {
     "name": "stdout",
     "output_type": "stream",
     "text": [
      "2018-04-22 11:00:00\n"
     ]
    },
    {
     "name": "stderr",
     "output_type": "stream",
     "text": [
      "\r",
      " 53%|█████▎    | 358/672 [06:36<05:47,  1.11s/it]"
     ]
    },
    {
     "name": "stdout",
     "output_type": "stream",
     "text": [
      "2018-04-23 07:00:00\n"
     ]
    },
    {
     "name": "stderr",
     "output_type": "stream",
     "text": [
      "\r",
      " 53%|█████▎    | 359/672 [06:37<05:46,  1.11s/it]"
     ]
    },
    {
     "name": "stdout",
     "output_type": "stream",
     "text": [
      "2018-04-26 01:00:00\n"
     ]
    },
    {
     "name": "stderr",
     "output_type": "stream",
     "text": [
      "\r",
      " 54%|█████▎    | 360/672 [06:38<05:45,  1.11s/it]"
     ]
    },
    {
     "name": "stdout",
     "output_type": "stream",
     "text": [
      "2018-05-05 06:00:00\n"
     ]
    },
    {
     "name": "stderr",
     "output_type": "stream",
     "text": [
      "\r",
      " 54%|█████▎    | 361/672 [06:39<05:44,  1.11s/it]"
     ]
    },
    {
     "name": "stdout",
     "output_type": "stream",
     "text": [
      "2018-04-18 20:00:00\n"
     ]
    },
    {
     "name": "stderr",
     "output_type": "stream",
     "text": [
      "\r",
      " 54%|█████▍    | 362/672 [06:40<05:43,  1.11s/it]"
     ]
    },
    {
     "name": "stdout",
     "output_type": "stream",
     "text": [
      "2018-04-29 22:00:00\n"
     ]
    },
    {
     "name": "stderr",
     "output_type": "stream",
     "text": [
      "\r",
      " 54%|█████▍    | 363/672 [06:41<05:42,  1.11s/it]"
     ]
    },
    {
     "name": "stdout",
     "output_type": "stream",
     "text": [
      "2018-04-11 04:00:00\n"
     ]
    },
    {
     "name": "stderr",
     "output_type": "stream",
     "text": [
      "\r",
      " 54%|█████▍    | 364/672 [06:42<05:40,  1.11s/it]"
     ]
    },
    {
     "name": "stdout",
     "output_type": "stream",
     "text": [
      "2018-04-28 07:00:00\n"
     ]
    },
    {
     "name": "stderr",
     "output_type": "stream",
     "text": [
      "\r",
      " 54%|█████▍    | 365/672 [06:44<05:40,  1.11s/it]"
     ]
    },
    {
     "name": "stdout",
     "output_type": "stream",
     "text": [
      "2018-04-28 20:00:00\n"
     ]
    },
    {
     "name": "stderr",
     "output_type": "stream",
     "text": [
      "\r",
      " 54%|█████▍    | 366/672 [06:45<05:38,  1.11s/it]"
     ]
    },
    {
     "name": "stdout",
     "output_type": "stream",
     "text": [
      "2018-04-11 12:00:00\n"
     ]
    },
    {
     "name": "stderr",
     "output_type": "stream",
     "text": [
      "\r",
      " 55%|█████▍    | 367/672 [06:46<05:37,  1.11s/it]"
     ]
    },
    {
     "name": "stdout",
     "output_type": "stream",
     "text": [
      "2018-04-30 19:00:00\n"
     ]
    },
    {
     "name": "stderr",
     "output_type": "stream",
     "text": [
      "\r",
      " 55%|█████▍    | 368/672 [06:47<05:36,  1.11s/it]"
     ]
    },
    {
     "name": "stdout",
     "output_type": "stream",
     "text": [
      "2018-04-17 12:00:00\n"
     ]
    },
    {
     "name": "stderr",
     "output_type": "stream",
     "text": [
      "\r",
      " 55%|█████▍    | 369/672 [06:48<05:35,  1.11s/it]"
     ]
    },
    {
     "name": "stdout",
     "output_type": "stream",
     "text": [
      "2018-04-17 17:00:00\n"
     ]
    },
    {
     "name": "stderr",
     "output_type": "stream",
     "text": [
      "\r",
      " 55%|█████▌    | 370/672 [06:49<05:34,  1.11s/it]"
     ]
    },
    {
     "name": "stdout",
     "output_type": "stream",
     "text": [
      "2018-04-28 00:00:00\n"
     ]
    },
    {
     "name": "stderr",
     "output_type": "stream",
     "text": [
      "\r",
      " 55%|█████▌    | 371/672 [06:50<05:33,  1.11s/it]"
     ]
    },
    {
     "name": "stdout",
     "output_type": "stream",
     "text": [
      "2018-04-20 12:00:00\n"
     ]
    },
    {
     "name": "stderr",
     "output_type": "stream",
     "text": [
      "\r",
      " 55%|█████▌    | 372/672 [06:51<05:32,  1.11s/it]"
     ]
    },
    {
     "name": "stdout",
     "output_type": "stream",
     "text": [
      "2018-04-12 22:00:00\n"
     ]
    },
    {
     "name": "stderr",
     "output_type": "stream",
     "text": [
      "\r",
      " 56%|█████▌    | 373/672 [06:52<05:31,  1.11s/it]"
     ]
    },
    {
     "name": "stdout",
     "output_type": "stream",
     "text": [
      "2018-05-06 14:00:00\n"
     ]
    },
    {
     "name": "stderr",
     "output_type": "stream",
     "text": [
      "\r",
      " 56%|█████▌    | 374/672 [06:54<05:30,  1.11s/it]"
     ]
    },
    {
     "name": "stdout",
     "output_type": "stream",
     "text": [
      "2018-04-30 20:00:00\n"
     ]
    },
    {
     "name": "stderr",
     "output_type": "stream",
     "text": [
      "\r",
      " 56%|█████▌    | 375/672 [06:55<05:28,  1.11s/it]"
     ]
    },
    {
     "name": "stdout",
     "output_type": "stream",
     "text": [
      "2018-05-06 15:00:00\n"
     ]
    },
    {
     "name": "stderr",
     "output_type": "stream",
     "text": [
      "\r",
      " 56%|█████▌    | 376/672 [06:56<05:27,  1.11s/it]"
     ]
    },
    {
     "name": "stdout",
     "output_type": "stream",
     "text": [
      "2018-04-28 02:00:00\n"
     ]
    },
    {
     "name": "stderr",
     "output_type": "stream",
     "text": [
      "\r",
      " 56%|█████▌    | 377/672 [06:57<05:26,  1.11s/it]"
     ]
    },
    {
     "name": "stdout",
     "output_type": "stream",
     "text": [
      "2018-04-25 03:00:00\n"
     ]
    },
    {
     "name": "stderr",
     "output_type": "stream",
     "text": [
      "\r",
      " 56%|█████▋    | 378/672 [06:58<05:25,  1.11s/it]"
     ]
    },
    {
     "name": "stdout",
     "output_type": "stream",
     "text": [
      "2018-04-16 16:00:00\n"
     ]
    },
    {
     "name": "stderr",
     "output_type": "stream",
     "text": [
      "\r",
      " 56%|█████▋    | 379/672 [06:59<05:24,  1.11s/it]"
     ]
    },
    {
     "name": "stdout",
     "output_type": "stream",
     "text": [
      "2018-04-18 11:00:00\n"
     ]
    },
    {
     "name": "stderr",
     "output_type": "stream",
     "text": [
      "\r",
      " 57%|█████▋    | 380/672 [07:00<05:23,  1.11s/it]"
     ]
    },
    {
     "name": "stdout",
     "output_type": "stream",
     "text": [
      "2018-04-20 11:00:00\n"
     ]
    },
    {
     "name": "stderr",
     "output_type": "stream",
     "text": [
      "\r",
      " 57%|█████▋    | 381/672 [07:02<05:22,  1.11s/it]"
     ]
    },
    {
     "name": "stdout",
     "output_type": "stream",
     "text": [
      "2018-04-21 00:00:00\n"
     ]
    },
    {
     "name": "stderr",
     "output_type": "stream",
     "text": [
      "\r",
      " 57%|█████▋    | 382/672 [07:03<05:21,  1.11s/it]"
     ]
    },
    {
     "name": "stdout",
     "output_type": "stream",
     "text": [
      "2018-05-01 20:00:00\n"
     ]
    },
    {
     "name": "stderr",
     "output_type": "stream",
     "text": [
      "\r",
      " 57%|█████▋    | 383/672 [07:04<05:20,  1.11s/it]"
     ]
    },
    {
     "name": "stdout",
     "output_type": "stream",
     "text": [
      "2018-04-14 21:00:00\n"
     ]
    },
    {
     "name": "stderr",
     "output_type": "stream",
     "text": [
      "\r",
      " 57%|█████▋    | 384/672 [07:05<05:19,  1.11s/it]"
     ]
    },
    {
     "name": "stdout",
     "output_type": "stream",
     "text": [
      "2018-04-19 05:00:00\n"
     ]
    },
    {
     "name": "stderr",
     "output_type": "stream",
     "text": [
      "\r",
      " 57%|█████▋    | 385/672 [07:06<05:18,  1.11s/it]"
     ]
    },
    {
     "name": "stdout",
     "output_type": "stream",
     "text": [
      "2018-05-08 07:00:00\n"
     ]
    },
    {
     "name": "stderr",
     "output_type": "stream",
     "text": [
      "\r",
      " 57%|█████▋    | 386/672 [07:07<05:17,  1.11s/it]"
     ]
    },
    {
     "name": "stdout",
     "output_type": "stream",
     "text": [
      "2018-05-08 22:00:00\n"
     ]
    },
    {
     "name": "stderr",
     "output_type": "stream",
     "text": [
      "\r",
      " 58%|█████▊    | 387/672 [07:09<05:15,  1.11s/it]"
     ]
    },
    {
     "name": "stdout",
     "output_type": "stream",
     "text": [
      "2018-04-17 05:00:00\n"
     ]
    },
    {
     "name": "stderr",
     "output_type": "stream",
     "text": [
      "\r",
      " 58%|█████▊    | 388/672 [07:10<05:14,  1.11s/it]"
     ]
    },
    {
     "name": "stdout",
     "output_type": "stream",
     "text": [
      "2018-04-22 23:00:00\n"
     ]
    },
    {
     "name": "stderr",
     "output_type": "stream",
     "text": [
      "\r",
      " 58%|█████▊    | 389/672 [07:11<05:13,  1.11s/it]"
     ]
    },
    {
     "name": "stdout",
     "output_type": "stream",
     "text": [
      "2018-04-30 18:00:00\n"
     ]
    },
    {
     "name": "stderr",
     "output_type": "stream",
     "text": [
      "\r",
      " 58%|█████▊    | 390/672 [07:12<05:12,  1.11s/it]"
     ]
    },
    {
     "name": "stdout",
     "output_type": "stream",
     "text": [
      "2018-04-19 10:00:00\n"
     ]
    },
    {
     "name": "stderr",
     "output_type": "stream",
     "text": [
      "\r",
      " 58%|█████▊    | 391/672 [07:13<05:11,  1.11s/it]"
     ]
    },
    {
     "name": "stdout",
     "output_type": "stream",
     "text": [
      "2018-04-26 18:00:00\n"
     ]
    },
    {
     "name": "stderr",
     "output_type": "stream",
     "text": [
      "\r",
      " 58%|█████▊    | 392/672 [07:14<05:10,  1.11s/it]"
     ]
    },
    {
     "name": "stdout",
     "output_type": "stream",
     "text": [
      "2018-04-15 18:00:00\n"
     ]
    },
    {
     "name": "stderr",
     "output_type": "stream",
     "text": [
      "\r",
      " 58%|█████▊    | 393/672 [07:16<05:09,  1.11s/it]"
     ]
    },
    {
     "name": "stdout",
     "output_type": "stream",
     "text": [
      "2018-04-13 04:00:00\n"
     ]
    },
    {
     "name": "stderr",
     "output_type": "stream",
     "text": [
      "\r",
      " 59%|█████▊    | 394/672 [07:17<05:08,  1.11s/it]"
     ]
    },
    {
     "name": "stdout",
     "output_type": "stream",
     "text": [
      "2018-05-03 16:00:00\n"
     ]
    },
    {
     "name": "stderr",
     "output_type": "stream",
     "text": [
      "\r",
      " 59%|█████▉    | 395/672 [07:18<05:07,  1.11s/it]"
     ]
    },
    {
     "name": "stdout",
     "output_type": "stream",
     "text": [
      "2018-04-28 06:00:00\n"
     ]
    },
    {
     "name": "stderr",
     "output_type": "stream",
     "text": [
      "\r",
      " 59%|█████▉    | 396/672 [07:19<05:06,  1.11s/it]"
     ]
    },
    {
     "name": "stdout",
     "output_type": "stream",
     "text": [
      "2018-04-23 02:00:00\n"
     ]
    },
    {
     "name": "stderr",
     "output_type": "stream",
     "text": [
      "\r",
      " 59%|█████▉    | 397/672 [07:20<05:04,  1.11s/it]"
     ]
    },
    {
     "name": "stdout",
     "output_type": "stream",
     "text": [
      "2018-05-02 13:00:00\n"
     ]
    },
    {
     "name": "stderr",
     "output_type": "stream",
     "text": [
      "\r",
      " 59%|█████▉    | 398/672 [07:21<05:03,  1.11s/it]"
     ]
    },
    {
     "name": "stdout",
     "output_type": "stream",
     "text": [
      "2018-04-24 12:00:00\n"
     ]
    },
    {
     "name": "stderr",
     "output_type": "stream",
     "text": [
      "\r",
      " 59%|█████▉    | 399/672 [07:22<05:02,  1.11s/it]"
     ]
    },
    {
     "name": "stdout",
     "output_type": "stream",
     "text": [
      "2018-04-17 13:00:00\n"
     ]
    },
    {
     "name": "stderr",
     "output_type": "stream",
     "text": [
      "\r",
      " 60%|█████▉    | 400/672 [07:23<05:01,  1.11s/it]"
     ]
    },
    {
     "name": "stdout",
     "output_type": "stream",
     "text": [
      "2018-04-25 11:00:00\n"
     ]
    },
    {
     "name": "stderr",
     "output_type": "stream",
     "text": [
      "\r",
      " 60%|█████▉    | 401/672 [07:24<05:00,  1.11s/it]"
     ]
    },
    {
     "name": "stdout",
     "output_type": "stream",
     "text": [
      "2018-05-04 01:00:00\n"
     ]
    },
    {
     "name": "stderr",
     "output_type": "stream",
     "text": [
      "\r",
      " 60%|█████▉    | 402/672 [07:25<04:59,  1.11s/it]"
     ]
    },
    {
     "name": "stdout",
     "output_type": "stream",
     "text": [
      "2018-04-11 17:00:00\n"
     ]
    },
    {
     "name": "stderr",
     "output_type": "stream",
     "text": [
      "\r",
      " 60%|█████▉    | 403/672 [07:26<04:58,  1.11s/it]"
     ]
    },
    {
     "name": "stdout",
     "output_type": "stream",
     "text": [
      "2018-04-21 19:00:00\n"
     ]
    },
    {
     "name": "stderr",
     "output_type": "stream",
     "text": [
      "\r",
      " 60%|██████    | 405/672 [07:28<04:55,  1.11s/it]"
     ]
    },
    {
     "name": "stdout",
     "output_type": "stream",
     "text": [
      "2018-04-28 19:00:00\n"
     ]
    },
    {
     "name": "stderr",
     "output_type": "stream",
     "text": [
      "\r",
      " 60%|██████    | 406/672 [07:29<04:54,  1.11s/it]"
     ]
    },
    {
     "name": "stdout",
     "output_type": "stream",
     "text": [
      "2018-04-23 23:00:00\n"
     ]
    },
    {
     "name": "stderr",
     "output_type": "stream",
     "text": [
      "\r",
      " 61%|██████    | 407/672 [07:30<04:53,  1.11s/it]"
     ]
    },
    {
     "name": "stdout",
     "output_type": "stream",
     "text": [
      "2018-04-27 14:00:00\n"
     ]
    },
    {
     "name": "stderr",
     "output_type": "stream",
     "text": [
      "\r",
      " 61%|██████    | 408/672 [07:31<04:52,  1.11s/it]"
     ]
    },
    {
     "name": "stdout",
     "output_type": "stream",
     "text": [
      "2018-04-20 10:00:00\n"
     ]
    },
    {
     "name": "stderr",
     "output_type": "stream",
     "text": [
      "\r",
      " 61%|██████    | 409/672 [07:32<04:50,  1.11s/it]"
     ]
    },
    {
     "name": "stdout",
     "output_type": "stream",
     "text": [
      "2018-04-21 15:00:00\n"
     ]
    },
    {
     "name": "stderr",
     "output_type": "stream",
     "text": [
      "\r",
      " 61%|██████    | 410/672 [07:33<04:49,  1.11s/it]"
     ]
    },
    {
     "name": "stdout",
     "output_type": "stream",
     "text": [
      "2018-05-04 12:00:00\n"
     ]
    },
    {
     "name": "stderr",
     "output_type": "stream",
     "text": [
      "\r",
      " 61%|██████    | 411/672 [07:34<04:48,  1.11s/it]"
     ]
    },
    {
     "name": "stdout",
     "output_type": "stream",
     "text": [
      "2018-04-28 22:00:00\n"
     ]
    },
    {
     "name": "stderr",
     "output_type": "stream",
     "text": [
      "\r",
      " 61%|██████▏   | 412/672 [07:35<04:47,  1.11s/it]"
     ]
    },
    {
     "name": "stdout",
     "output_type": "stream",
     "text": [
      "2018-04-23 08:00:00\n"
     ]
    },
    {
     "name": "stderr",
     "output_type": "stream",
     "text": [
      "\r",
      " 61%|██████▏   | 413/672 [07:36<04:46,  1.11s/it]"
     ]
    },
    {
     "name": "stdout",
     "output_type": "stream",
     "text": [
      "2018-04-17 23:00:00\n"
     ]
    },
    {
     "name": "stderr",
     "output_type": "stream",
     "text": [
      "\r",
      " 62%|██████▏   | 414/672 [07:38<04:45,  1.11s/it]"
     ]
    },
    {
     "name": "stdout",
     "output_type": "stream",
     "text": [
      "2018-04-11 19:00:00\n"
     ]
    },
    {
     "name": "stderr",
     "output_type": "stream",
     "text": [
      "\r",
      " 62%|██████▏   | 415/672 [07:39<04:44,  1.11s/it]"
     ]
    },
    {
     "name": "stdout",
     "output_type": "stream",
     "text": [
      "2018-04-15 04:00:00\n"
     ]
    },
    {
     "name": "stderr",
     "output_type": "stream",
     "text": [
      "\r",
      " 62%|██████▏   | 416/672 [07:40<04:43,  1.11s/it]"
     ]
    },
    {
     "name": "stdout",
     "output_type": "stream",
     "text": [
      "2018-04-14 00:00:00\n"
     ]
    },
    {
     "name": "stderr",
     "output_type": "stream",
     "text": [
      "\r",
      " 62%|██████▏   | 417/672 [07:41<04:42,  1.11s/it]"
     ]
    },
    {
     "name": "stdout",
     "output_type": "stream",
     "text": [
      "2018-05-08 13:00:00\n"
     ]
    },
    {
     "name": "stderr",
     "output_type": "stream",
     "text": [
      "\r",
      " 62%|██████▏   | 419/672 [07:42<04:39,  1.10s/it]"
     ]
    },
    {
     "name": "stdout",
     "output_type": "stream",
     "text": [
      "2018-04-25 12:00:00\n"
     ]
    },
    {
     "name": "stderr",
     "output_type": "stream",
     "text": [
      "\r",
      " 62%|██████▎   | 420/672 [07:43<04:38,  1.10s/it]"
     ]
    },
    {
     "name": "stdout",
     "output_type": "stream",
     "text": [
      "2018-04-28 18:00:00\n"
     ]
    },
    {
     "name": "stderr",
     "output_type": "stream",
     "text": [
      "\r",
      " 63%|██████▎   | 421/672 [07:44<04:36,  1.10s/it]"
     ]
    },
    {
     "name": "stdout",
     "output_type": "stream",
     "text": [
      "2018-04-27 16:00:00\n"
     ]
    },
    {
     "name": "stderr",
     "output_type": "stream",
     "text": [
      "\r",
      " 63%|██████▎   | 422/672 [07:45<04:35,  1.10s/it]"
     ]
    },
    {
     "name": "stdout",
     "output_type": "stream",
     "text": [
      "2018-04-28 11:00:00\n"
     ]
    },
    {
     "name": "stderr",
     "output_type": "stream",
     "text": [
      "\r",
      " 63%|██████▎   | 423/672 [07:46<04:34,  1.10s/it]"
     ]
    },
    {
     "name": "stdout",
     "output_type": "stream",
     "text": [
      "2018-04-22 22:00:00\n"
     ]
    },
    {
     "name": "stderr",
     "output_type": "stream",
     "text": [
      "\r",
      " 63%|██████▎   | 424/672 [07:47<04:33,  1.10s/it]"
     ]
    },
    {
     "name": "stdout",
     "output_type": "stream",
     "text": [
      "2018-04-28 14:00:00\n"
     ]
    },
    {
     "name": "stderr",
     "output_type": "stream",
     "text": [
      "\r",
      " 63%|██████▎   | 425/672 [07:48<04:32,  1.10s/it]"
     ]
    },
    {
     "name": "stdout",
     "output_type": "stream",
     "text": [
      "2018-04-24 22:00:00\n"
     ]
    },
    {
     "name": "stderr",
     "output_type": "stream",
     "text": [
      "\r",
      " 64%|██████▎   | 427/672 [07:49<04:29,  1.10s/it]"
     ]
    },
    {
     "name": "stdout",
     "output_type": "stream",
     "text": [
      "2018-05-02 00:00:00\n"
     ]
    },
    {
     "name": "stderr",
     "output_type": "stream",
     "text": [
      "\r",
      " 64%|██████▎   | 428/672 [07:51<04:28,  1.10s/it]"
     ]
    },
    {
     "name": "stdout",
     "output_type": "stream",
     "text": [
      "2018-05-06 16:00:00\n"
     ]
    },
    {
     "name": "stderr",
     "output_type": "stream",
     "text": [
      "\r",
      " 64%|██████▍   | 429/672 [07:52<04:27,  1.10s/it]"
     ]
    },
    {
     "name": "stdout",
     "output_type": "stream",
     "text": [
      "2018-04-29 23:00:00\n"
     ]
    },
    {
     "name": "stderr",
     "output_type": "stream",
     "text": [
      "\r",
      " 64%|██████▍   | 430/672 [07:53<04:26,  1.10s/it]"
     ]
    },
    {
     "name": "stdout",
     "output_type": "stream",
     "text": [
      "2018-04-23 00:00:00\n"
     ]
    },
    {
     "name": "stderr",
     "output_type": "stream",
     "text": [
      "\r",
      " 64%|██████▍   | 431/672 [07:54<04:25,  1.10s/it]"
     ]
    },
    {
     "name": "stdout",
     "output_type": "stream",
     "text": [
      "2018-04-18 19:00:00\n"
     ]
    },
    {
     "name": "stderr",
     "output_type": "stream",
     "text": [
      "\r",
      " 64%|██████▍   | 432/672 [07:55<04:24,  1.10s/it]"
     ]
    },
    {
     "name": "stdout",
     "output_type": "stream",
     "text": [
      "2018-05-02 08:00:00\n"
     ]
    },
    {
     "name": "stderr",
     "output_type": "stream",
     "text": [
      "\r",
      " 64%|██████▍   | 433/672 [07:56<04:23,  1.10s/it]"
     ]
    },
    {
     "name": "stdout",
     "output_type": "stream",
     "text": [
      "2018-04-27 03:00:00\n"
     ]
    },
    {
     "name": "stderr",
     "output_type": "stream",
     "text": [
      "\r",
      " 65%|██████▍   | 435/672 [07:57<04:20,  1.10s/it]"
     ]
    },
    {
     "name": "stdout",
     "output_type": "stream",
     "text": [
      "2018-04-27 02:00:00\n"
     ]
    },
    {
     "name": "stderr",
     "output_type": "stream",
     "text": [
      "\r",
      " 65%|██████▍   | 436/672 [07:58<04:19,  1.10s/it]"
     ]
    },
    {
     "name": "stdout",
     "output_type": "stream",
     "text": [
      "2018-05-01 22:00:00\n"
     ]
    },
    {
     "name": "stderr",
     "output_type": "stream",
     "text": [
      "\r",
      " 65%|██████▌   | 437/672 [08:00<04:18,  1.10s/it]"
     ]
    },
    {
     "name": "stdout",
     "output_type": "stream",
     "text": [
      "2018-05-08 17:00:00\n"
     ]
    },
    {
     "name": "stderr",
     "output_type": "stream",
     "text": [
      "\r",
      " 65%|██████▌   | 438/672 [08:01<04:17,  1.10s/it]"
     ]
    },
    {
     "name": "stdout",
     "output_type": "stream",
     "text": [
      "2018-05-03 08:00:00\n"
     ]
    },
    {
     "name": "stderr",
     "output_type": "stream",
     "text": [
      "\r",
      " 65%|██████▌   | 439/672 [08:02<04:15,  1.10s/it]"
     ]
    },
    {
     "name": "stdout",
     "output_type": "stream",
     "text": [
      "2018-04-21 22:00:00\n"
     ]
    },
    {
     "name": "stderr",
     "output_type": "stream",
     "text": [
      "\r",
      " 65%|██████▌   | 440/672 [08:03<04:14,  1.10s/it]"
     ]
    },
    {
     "name": "stdout",
     "output_type": "stream",
     "text": [
      "2018-04-21 10:00:00\n"
     ]
    },
    {
     "name": "stderr",
     "output_type": "stream",
     "text": [
      "\r",
      " 66%|██████▌   | 441/672 [08:04<04:13,  1.10s/it]"
     ]
    },
    {
     "name": "stdout",
     "output_type": "stream",
     "text": [
      "2018-04-26 16:00:00\n"
     ]
    },
    {
     "name": "stderr",
     "output_type": "stream",
     "text": [
      "\r",
      " 66%|██████▌   | 442/672 [08:05<04:12,  1.10s/it]"
     ]
    },
    {
     "name": "stdout",
     "output_type": "stream",
     "text": [
      "2018-04-27 00:00:00\n"
     ]
    },
    {
     "name": "stderr",
     "output_type": "stream",
     "text": [
      "\r",
      " 66%|██████▌   | 443/672 [08:06<04:11,  1.10s/it]"
     ]
    },
    {
     "name": "stdout",
     "output_type": "stream",
     "text": [
      "2018-04-15 19:00:00\n"
     ]
    },
    {
     "name": "stderr",
     "output_type": "stream",
     "text": [
      "\r",
      " 66%|██████▌   | 444/672 [08:07<04:10,  1.10s/it]"
     ]
    },
    {
     "name": "stdout",
     "output_type": "stream",
     "text": [
      "2018-05-01 06:00:00\n"
     ]
    },
    {
     "name": "stderr",
     "output_type": "stream",
     "text": [
      "\r",
      " 66%|██████▌   | 445/672 [08:08<04:09,  1.10s/it]"
     ]
    },
    {
     "name": "stdout",
     "output_type": "stream",
     "text": [
      "2018-05-07 18:00:00\n"
     ]
    },
    {
     "name": "stderr",
     "output_type": "stream",
     "text": [
      "\r",
      " 66%|██████▋   | 446/672 [08:09<04:08,  1.10s/it]"
     ]
    },
    {
     "name": "stdout",
     "output_type": "stream",
     "text": [
      "2018-04-30 21:00:00\n"
     ]
    },
    {
     "name": "stderr",
     "output_type": "stream",
     "text": [
      "\r",
      " 67%|██████▋   | 447/672 [08:10<04:07,  1.10s/it]"
     ]
    },
    {
     "name": "stdout",
     "output_type": "stream",
     "text": [
      "2018-04-23 01:00:00\n"
     ]
    },
    {
     "name": "stderr",
     "output_type": "stream",
     "text": [
      "\r",
      " 67%|██████▋   | 448/672 [08:11<04:05,  1.10s/it]"
     ]
    },
    {
     "name": "stdout",
     "output_type": "stream",
     "text": [
      "2018-04-18 23:00:00\n"
     ]
    },
    {
     "name": "stderr",
     "output_type": "stream",
     "text": [
      "\r",
      " 67%|██████▋   | 449/672 [08:12<04:04,  1.10s/it]"
     ]
    },
    {
     "name": "stdout",
     "output_type": "stream",
     "text": [
      "2018-04-16 22:00:00\n"
     ]
    },
    {
     "name": "stderr",
     "output_type": "stream",
     "text": [
      "\r",
      " 67%|██████▋   | 450/672 [08:14<04:03,  1.10s/it]"
     ]
    },
    {
     "name": "stdout",
     "output_type": "stream",
     "text": [
      "2018-04-20 06:00:00\n"
     ]
    },
    {
     "name": "stderr",
     "output_type": "stream",
     "text": [
      "\r",
      " 67%|██████▋   | 451/672 [08:15<04:02,  1.10s/it]"
     ]
    },
    {
     "name": "stdout",
     "output_type": "stream",
     "text": [
      "2018-04-27 06:00:00\n"
     ]
    },
    {
     "name": "stderr",
     "output_type": "stream",
     "text": [
      "\r",
      " 67%|██████▋   | 452/672 [08:16<04:01,  1.10s/it]"
     ]
    },
    {
     "name": "stdout",
     "output_type": "stream",
     "text": [
      "2018-05-08 11:00:00\n"
     ]
    },
    {
     "name": "stderr",
     "output_type": "stream",
     "text": [
      "\r",
      " 67%|██████▋   | 453/672 [08:17<04:00,  1.10s/it]"
     ]
    },
    {
     "name": "stdout",
     "output_type": "stream",
     "text": [
      "2018-05-01 18:00:00\n"
     ]
    },
    {
     "name": "stderr",
     "output_type": "stream",
     "text": [
      "\r",
      " 68%|██████▊   | 454/672 [08:18<03:59,  1.10s/it]"
     ]
    },
    {
     "name": "stdout",
     "output_type": "stream",
     "text": [
      "2018-05-07 21:00:00\n"
     ]
    },
    {
     "name": "stderr",
     "output_type": "stream",
     "text": [
      "\r",
      " 68%|██████▊   | 456/672 [08:19<03:56,  1.10s/it]"
     ]
    },
    {
     "name": "stdout",
     "output_type": "stream",
     "text": [
      "2018-05-07 05:00:00\n"
     ]
    },
    {
     "name": "stderr",
     "output_type": "stream",
     "text": [
      "\r",
      " 68%|██████▊   | 457/672 [08:20<03:55,  1.10s/it]"
     ]
    },
    {
     "name": "stdout",
     "output_type": "stream",
     "text": [
      "2018-04-24 15:00:00\n"
     ]
    },
    {
     "name": "stderr",
     "output_type": "stream",
     "text": [
      "\r",
      " 68%|██████▊   | 458/672 [08:22<03:54,  1.10s/it]"
     ]
    },
    {
     "name": "stdout",
     "output_type": "stream",
     "text": [
      "2018-04-29 08:00:00\n"
     ]
    },
    {
     "name": "stderr",
     "output_type": "stream",
     "text": [
      "\r",
      " 68%|██████▊   | 459/672 [08:23<03:53,  1.10s/it]"
     ]
    },
    {
     "name": "stdout",
     "output_type": "stream",
     "text": [
      "2018-05-04 10:00:00\n"
     ]
    },
    {
     "name": "stderr",
     "output_type": "stream",
     "text": [
      "\r",
      " 68%|██████▊   | 460/672 [08:24<03:52,  1.10s/it]"
     ]
    },
    {
     "name": "stdout",
     "output_type": "stream",
     "text": [
      "2018-04-23 06:00:00\n"
     ]
    },
    {
     "name": "stderr",
     "output_type": "stream",
     "text": [
      "\r",
      " 69%|██████▊   | 461/672 [08:25<03:51,  1.10s/it]"
     ]
    },
    {
     "name": "stdout",
     "output_type": "stream",
     "text": [
      "2018-04-29 11:00:00\n"
     ]
    },
    {
     "name": "stderr",
     "output_type": "stream",
     "text": [
      "\r",
      " 69%|██████▉   | 462/672 [08:26<03:50,  1.10s/it]"
     ]
    },
    {
     "name": "stdout",
     "output_type": "stream",
     "text": [
      "2018-04-24 18:00:00\n"
     ]
    },
    {
     "name": "stderr",
     "output_type": "stream",
     "text": [
      "\r",
      " 69%|██████▉   | 463/672 [08:27<03:49,  1.10s/it]"
     ]
    },
    {
     "name": "stdout",
     "output_type": "stream",
     "text": [
      "2018-04-27 05:00:00\n"
     ]
    },
    {
     "name": "stderr",
     "output_type": "stream",
     "text": [
      "\r",
      " 69%|██████▉   | 464/672 [08:28<03:47,  1.10s/it]"
     ]
    },
    {
     "name": "stdout",
     "output_type": "stream",
     "text": [
      "2018-04-29 13:00:00\n"
     ]
    },
    {
     "name": "stderr",
     "output_type": "stream",
     "text": [
      "\r",
      " 69%|██████▉   | 465/672 [08:29<03:46,  1.10s/it]"
     ]
    },
    {
     "name": "stdout",
     "output_type": "stream",
     "text": [
      "2018-04-14 13:00:00\n"
     ]
    },
    {
     "name": "stderr",
     "output_type": "stream",
     "text": [
      "\r",
      " 69%|██████▉   | 466/672 [08:30<03:45,  1.10s/it]"
     ]
    },
    {
     "name": "stdout",
     "output_type": "stream",
     "text": [
      "2018-04-18 14:00:00\n"
     ]
    },
    {
     "name": "stderr",
     "output_type": "stream",
     "text": [
      "\r",
      " 69%|██████▉   | 467/672 [08:31<03:44,  1.10s/it]"
     ]
    },
    {
     "name": "stdout",
     "output_type": "stream",
     "text": [
      "2018-04-11 22:00:00\n"
     ]
    },
    {
     "name": "stderr",
     "output_type": "stream",
     "text": [
      "\r",
      " 70%|██████▉   | 468/672 [08:32<03:43,  1.10s/it]"
     ]
    },
    {
     "name": "stdout",
     "output_type": "stream",
     "text": [
      "2018-04-22 01:00:00\n"
     ]
    },
    {
     "name": "stderr",
     "output_type": "stream",
     "text": [
      "\r",
      " 70%|██████▉   | 469/672 [08:33<03:42,  1.10s/it]"
     ]
    },
    {
     "name": "stdout",
     "output_type": "stream",
     "text": [
      "2018-04-26 13:00:00\n"
     ]
    },
    {
     "name": "stderr",
     "output_type": "stream",
     "text": [
      "\r",
      " 70%|██████▉   | 470/672 [08:35<03:41,  1.10s/it]"
     ]
    },
    {
     "name": "stdout",
     "output_type": "stream",
     "text": [
      "2018-04-29 16:00:00\n"
     ]
    },
    {
     "name": "stderr",
     "output_type": "stream",
     "text": [
      "\r",
      " 70%|███████   | 471/672 [08:36<03:40,  1.10s/it]"
     ]
    },
    {
     "name": "stdout",
     "output_type": "stream",
     "text": [
      "2018-05-05 01:00:00\n"
     ]
    },
    {
     "name": "stderr",
     "output_type": "stream",
     "text": [
      "\r",
      " 70%|███████   | 472/672 [08:37<03:39,  1.10s/it]"
     ]
    },
    {
     "name": "stdout",
     "output_type": "stream",
     "text": [
      "2018-04-26 20:00:00\n"
     ]
    },
    {
     "name": "stderr",
     "output_type": "stream",
     "text": [
      "\r",
      " 70%|███████   | 473/672 [08:38<03:38,  1.10s/it]"
     ]
    },
    {
     "name": "stdout",
     "output_type": "stream",
     "text": [
      "2018-04-11 18:00:00\n"
     ]
    },
    {
     "name": "stderr",
     "output_type": "stream",
     "text": [
      "\r",
      " 71%|███████   | 474/672 [08:39<03:36,  1.10s/it]"
     ]
    },
    {
     "name": "stdout",
     "output_type": "stream",
     "text": [
      "2018-04-11 10:00:00\n"
     ]
    },
    {
     "name": "stderr",
     "output_type": "stream",
     "text": [
      "\r",
      " 71%|███████   | 475/672 [08:40<03:35,  1.10s/it]"
     ]
    },
    {
     "name": "stdout",
     "output_type": "stream",
     "text": [
      "2018-04-17 08:00:00\n"
     ]
    },
    {
     "name": "stderr",
     "output_type": "stream",
     "text": [
      "\r",
      " 71%|███████   | 476/672 [08:41<03:34,  1.10s/it]"
     ]
    },
    {
     "name": "stdout",
     "output_type": "stream",
     "text": [
      "2018-04-25 22:00:00\n"
     ]
    },
    {
     "name": "stderr",
     "output_type": "stream",
     "text": [
      "\r",
      " 71%|███████   | 477/672 [08:42<03:33,  1.10s/it]"
     ]
    },
    {
     "name": "stdout",
     "output_type": "stream",
     "text": [
      "2018-04-18 00:00:00\n"
     ]
    },
    {
     "name": "stderr",
     "output_type": "stream",
     "text": [
      "\r",
      " 71%|███████   | 478/672 [08:43<03:32,  1.10s/it]"
     ]
    },
    {
     "name": "stdout",
     "output_type": "stream",
     "text": [
      "2018-05-08 20:00:00\n"
     ]
    },
    {
     "name": "stderr",
     "output_type": "stream",
     "text": [
      "\r",
      " 71%|███████▏  | 479/672 [08:45<03:31,  1.10s/it]"
     ]
    },
    {
     "name": "stdout",
     "output_type": "stream",
     "text": [
      "2018-04-25 02:00:00\n"
     ]
    },
    {
     "name": "stderr",
     "output_type": "stream",
     "text": [
      "\r",
      " 71%|███████▏  | 480/672 [08:46<03:30,  1.10s/it]"
     ]
    },
    {
     "name": "stdout",
     "output_type": "stream",
     "text": [
      "2018-04-26 08:00:00\n"
     ]
    },
    {
     "name": "stderr",
     "output_type": "stream",
     "text": [
      "\r",
      " 72%|███████▏  | 481/672 [08:47<03:29,  1.10s/it]"
     ]
    },
    {
     "name": "stdout",
     "output_type": "stream",
     "text": [
      "2018-04-14 06:00:00\n"
     ]
    },
    {
     "name": "stderr",
     "output_type": "stream",
     "text": [
      "\r",
      " 72%|███████▏  | 482/672 [08:48<03:28,  1.10s/it]"
     ]
    },
    {
     "name": "stdout",
     "output_type": "stream",
     "text": [
      "2018-04-20 14:00:00\n"
     ]
    },
    {
     "name": "stderr",
     "output_type": "stream",
     "text": [
      "\r",
      " 72%|███████▏  | 483/672 [08:49<03:27,  1.10s/it]"
     ]
    },
    {
     "name": "stdout",
     "output_type": "stream",
     "text": [
      "2018-04-21 04:00:00\n"
     ]
    },
    {
     "name": "stderr",
     "output_type": "stream",
     "text": [
      "\r",
      " 72%|███████▏  | 484/672 [08:50<03:26,  1.10s/it]"
     ]
    },
    {
     "name": "stdout",
     "output_type": "stream",
     "text": [
      "2018-04-19 08:00:00\n"
     ]
    },
    {
     "name": "stderr",
     "output_type": "stream",
     "text": [
      "\r",
      " 72%|███████▏  | 485/672 [08:51<03:24,  1.10s/it]"
     ]
    },
    {
     "name": "stdout",
     "output_type": "stream",
     "text": [
      "2018-04-14 16:00:00\n"
     ]
    },
    {
     "name": "stderr",
     "output_type": "stream",
     "text": [
      "\r",
      " 72%|███████▏  | 486/672 [08:52<03:23,  1.10s/it]"
     ]
    },
    {
     "name": "stdout",
     "output_type": "stream",
     "text": [
      "2018-04-15 21:00:00\n"
     ]
    },
    {
     "name": "stderr",
     "output_type": "stream",
     "text": [
      "\r",
      " 72%|███████▏  | 487/672 [08:53<03:22,  1.10s/it]"
     ]
    },
    {
     "name": "stdout",
     "output_type": "stream",
     "text": [
      "2018-05-01 07:00:00\n"
     ]
    },
    {
     "name": "stderr",
     "output_type": "stream",
     "text": [
      "\r",
      " 73%|███████▎  | 488/672 [08:54<03:21,  1.10s/it]"
     ]
    },
    {
     "name": "stdout",
     "output_type": "stream",
     "text": [
      "2018-04-26 11:00:00\n"
     ]
    },
    {
     "name": "stderr",
     "output_type": "stream",
     "text": [
      "\r",
      " 73%|███████▎  | 489/672 [08:55<03:20,  1.10s/it]"
     ]
    },
    {
     "name": "stdout",
     "output_type": "stream",
     "text": [
      "2018-04-15 20:00:00\n"
     ]
    },
    {
     "name": "stderr",
     "output_type": "stream",
     "text": [
      "\r",
      " 73%|███████▎  | 490/672 [08:57<03:19,  1.10s/it]"
     ]
    },
    {
     "name": "stdout",
     "output_type": "stream",
     "text": [
      "2018-04-13 05:00:00\n"
     ]
    },
    {
     "name": "stderr",
     "output_type": "stream",
     "text": [
      "\r",
      " 73%|███████▎  | 491/672 [08:58<03:18,  1.10s/it]"
     ]
    },
    {
     "name": "stdout",
     "output_type": "stream",
     "text": [
      "2018-04-12 20:00:00\n"
     ]
    },
    {
     "name": "stderr",
     "output_type": "stream",
     "text": [
      "\r",
      " 73%|███████▎  | 492/672 [08:59<03:17,  1.10s/it]"
     ]
    },
    {
     "name": "stdout",
     "output_type": "stream",
     "text": [
      "2018-05-07 12:00:00\n"
     ]
    },
    {
     "name": "stderr",
     "output_type": "stream",
     "text": [
      "\r",
      " 73%|███████▎  | 493/672 [09:00<03:16,  1.10s/it]"
     ]
    },
    {
     "name": "stdout",
     "output_type": "stream",
     "text": [
      "2018-05-03 05:00:00\n"
     ]
    },
    {
     "name": "stderr",
     "output_type": "stream",
     "text": [
      "\r",
      " 74%|███████▎  | 494/672 [09:01<03:15,  1.10s/it]"
     ]
    },
    {
     "name": "stdout",
     "output_type": "stream",
     "text": [
      "2018-04-25 01:00:00\n"
     ]
    },
    {
     "name": "stderr",
     "output_type": "stream",
     "text": [
      "\r",
      " 74%|███████▎  | 495/672 [09:02<03:14,  1.10s/it]"
     ]
    },
    {
     "name": "stdout",
     "output_type": "stream",
     "text": [
      "2018-05-04 11:00:00\n"
     ]
    },
    {
     "name": "stderr",
     "output_type": "stream",
     "text": [
      "\r",
      " 74%|███████▍  | 496/672 [09:03<03:12,  1.10s/it]"
     ]
    },
    {
     "name": "stdout",
     "output_type": "stream",
     "text": [
      "2018-04-23 17:00:00\n"
     ]
    },
    {
     "name": "stderr",
     "output_type": "stream",
     "text": [
      "\r",
      " 74%|███████▍  | 497/672 [09:04<03:11,  1.10s/it]"
     ]
    },
    {
     "name": "stdout",
     "output_type": "stream",
     "text": [
      "2018-04-12 02:00:00\n"
     ]
    },
    {
     "name": "stderr",
     "output_type": "stream",
     "text": [
      "\r",
      " 74%|███████▍  | 498/672 [09:05<03:10,  1.10s/it]"
     ]
    },
    {
     "name": "stdout",
     "output_type": "stream",
     "text": [
      "2018-05-07 19:00:00\n"
     ]
    },
    {
     "name": "stderr",
     "output_type": "stream",
     "text": [
      "\r",
      " 74%|███████▍  | 499/672 [09:06<03:09,  1.10s/it]"
     ]
    },
    {
     "name": "stdout",
     "output_type": "stream",
     "text": [
      "2018-04-23 13:00:00\n"
     ]
    },
    {
     "name": "stderr",
     "output_type": "stream",
     "text": [
      "\r",
      " 74%|███████▍  | 500/672 [09:08<03:08,  1.10s/it]"
     ]
    },
    {
     "name": "stdout",
     "output_type": "stream",
     "text": [
      "2018-04-30 03:00:00\n"
     ]
    },
    {
     "name": "stderr",
     "output_type": "stream",
     "text": [
      "\r",
      " 75%|███████▍  | 502/672 [09:09<03:05,  1.09s/it]"
     ]
    },
    {
     "name": "stdout",
     "output_type": "stream",
     "text": [
      "2018-04-13 08:00:00\n"
     ]
    },
    {
     "name": "stderr",
     "output_type": "stream",
     "text": [
      "\r",
      " 75%|███████▍  | 503/672 [09:10<03:04,  1.09s/it]"
     ]
    },
    {
     "name": "stdout",
     "output_type": "stream",
     "text": [
      "2018-04-17 11:00:00\n"
     ]
    },
    {
     "name": "stderr",
     "output_type": "stream",
     "text": [
      "\r",
      " 75%|███████▌  | 504/672 [09:11<03:03,  1.09s/it]"
     ]
    },
    {
     "name": "stdout",
     "output_type": "stream",
     "text": [
      "2018-04-15 17:00:00\n"
     ]
    },
    {
     "name": "stderr",
     "output_type": "stream",
     "text": [
      "\r",
      " 75%|███████▌  | 505/672 [09:12<03:02,  1.09s/it]"
     ]
    },
    {
     "name": "stdout",
     "output_type": "stream",
     "text": [
      "2018-04-22 15:00:00\n"
     ]
    },
    {
     "name": "stderr",
     "output_type": "stream",
     "text": [
      "\r",
      " 75%|███████▌  | 506/672 [09:13<03:01,  1.09s/it]"
     ]
    },
    {
     "name": "stdout",
     "output_type": "stream",
     "text": [
      "2018-05-03 12:00:00\n"
     ]
    },
    {
     "name": "stderr",
     "output_type": "stream",
     "text": [
      "\r",
      " 75%|███████▌  | 507/672 [09:14<03:00,  1.09s/it]"
     ]
    },
    {
     "name": "stdout",
     "output_type": "stream",
     "text": [
      "2018-04-12 16:00:00\n"
     ]
    },
    {
     "name": "stderr",
     "output_type": "stream",
     "text": [
      "\r",
      " 76%|███████▌  | 508/672 [09:15<02:59,  1.09s/it]"
     ]
    },
    {
     "name": "stdout",
     "output_type": "stream",
     "text": [
      "2018-04-16 03:00:00\n"
     ]
    },
    {
     "name": "stderr",
     "output_type": "stream",
     "text": [
      "\r",
      " 76%|███████▌  | 509/672 [09:16<02:58,  1.09s/it]"
     ]
    },
    {
     "name": "stdout",
     "output_type": "stream",
     "text": [
      "2018-04-17 04:00:00\n"
     ]
    },
    {
     "name": "stderr",
     "output_type": "stream",
     "text": [
      "\r",
      " 76%|███████▌  | 510/672 [09:17<02:57,  1.09s/it]"
     ]
    },
    {
     "name": "stdout",
     "output_type": "stream",
     "text": [
      "2018-04-20 13:00:00\n"
     ]
    },
    {
     "name": "stderr",
     "output_type": "stream",
     "text": [
      "\r",
      " 76%|███████▌  | 511/672 [09:19<02:56,  1.09s/it]"
     ]
    },
    {
     "name": "stdout",
     "output_type": "stream",
     "text": [
      "2018-04-28 08:00:00\n"
     ]
    },
    {
     "name": "stderr",
     "output_type": "stream",
     "text": [
      "\r",
      " 76%|███████▌  | 512/672 [09:20<02:55,  1.09s/it]"
     ]
    },
    {
     "name": "stdout",
     "output_type": "stream",
     "text": [
      "2018-04-17 00:00:00\n"
     ]
    },
    {
     "name": "stderr",
     "output_type": "stream",
     "text": [
      "\r",
      " 76%|███████▋  | 513/672 [09:21<02:53,  1.09s/it]"
     ]
    },
    {
     "name": "stdout",
     "output_type": "stream",
     "text": [
      "2018-04-30 23:00:00\n"
     ]
    },
    {
     "name": "stderr",
     "output_type": "stream",
     "text": [
      "\r",
      " 76%|███████▋  | 514/672 [09:22<02:52,  1.09s/it]"
     ]
    },
    {
     "name": "stdout",
     "output_type": "stream",
     "text": [
      "2018-04-14 19:00:00\n"
     ]
    },
    {
     "name": "stderr",
     "output_type": "stream",
     "text": [
      "\r",
      " 77%|███████▋  | 515/672 [09:23<02:51,  1.09s/it]"
     ]
    },
    {
     "name": "stdout",
     "output_type": "stream",
     "text": [
      "2018-05-02 15:00:00\n"
     ]
    },
    {
     "name": "stderr",
     "output_type": "stream",
     "text": [
      "\r",
      " 77%|███████▋  | 516/672 [09:24<02:50,  1.09s/it]"
     ]
    },
    {
     "name": "stdout",
     "output_type": "stream",
     "text": [
      "2018-04-28 16:00:00\n"
     ]
    },
    {
     "name": "stderr",
     "output_type": "stream",
     "text": [
      "\r",
      " 77%|███████▋  | 517/672 [09:25<02:49,  1.09s/it]"
     ]
    },
    {
     "name": "stdout",
     "output_type": "stream",
     "text": [
      "2018-05-08 16:00:00\n"
     ]
    },
    {
     "name": "stderr",
     "output_type": "stream",
     "text": [
      "\r",
      " 77%|███████▋  | 518/672 [09:26<02:48,  1.09s/it]"
     ]
    },
    {
     "name": "stdout",
     "output_type": "stream",
     "text": [
      "2018-04-17 19:00:00\n"
     ]
    },
    {
     "name": "stderr",
     "output_type": "stream",
     "text": [
      "\r",
      " 77%|███████▋  | 519/672 [09:27<02:47,  1.09s/it]"
     ]
    },
    {
     "name": "stdout",
     "output_type": "stream",
     "text": [
      "2018-05-04 04:00:00\n"
     ]
    },
    {
     "name": "stderr",
     "output_type": "stream",
     "text": [
      "\r",
      " 77%|███████▋  | 520/672 [09:28<02:46,  1.09s/it]"
     ]
    },
    {
     "name": "stdout",
     "output_type": "stream",
     "text": [
      "2018-04-24 05:00:00\n"
     ]
    },
    {
     "name": "stderr",
     "output_type": "stream",
     "text": [
      "\r",
      " 78%|███████▊  | 522/672 [09:29<02:43,  1.09s/it]"
     ]
    },
    {
     "name": "stdout",
     "output_type": "stream",
     "text": [
      "2018-04-26 06:00:00\n"
     ]
    },
    {
     "name": "stderr",
     "output_type": "stream",
     "text": [
      "\r",
      " 78%|███████▊  | 523/672 [09:31<02:42,  1.09s/it]"
     ]
    },
    {
     "name": "stdout",
     "output_type": "stream",
     "text": [
      "2018-05-02 01:00:00\n"
     ]
    },
    {
     "name": "stderr",
     "output_type": "stream",
     "text": [
      "\r",
      " 78%|███████▊  | 524/672 [09:32<02:41,  1.09s/it]"
     ]
    },
    {
     "name": "stdout",
     "output_type": "stream",
     "text": [
      "2018-04-13 12:00:00\n"
     ]
    },
    {
     "name": "stderr",
     "output_type": "stream",
     "text": [
      "\r",
      " 78%|███████▊  | 525/672 [09:33<02:40,  1.09s/it]"
     ]
    },
    {
     "name": "stdout",
     "output_type": "stream",
     "text": [
      "2018-04-19 14:00:00\n"
     ]
    },
    {
     "name": "stderr",
     "output_type": "stream",
     "text": [
      "\r",
      " 78%|███████▊  | 526/672 [09:34<02:39,  1.09s/it]"
     ]
    },
    {
     "name": "stdout",
     "output_type": "stream",
     "text": [
      "2018-05-06 11:00:00\n"
     ]
    },
    {
     "name": "stderr",
     "output_type": "stream",
     "text": [
      "\r",
      " 78%|███████▊  | 527/672 [09:35<02:38,  1.09s/it]"
     ]
    },
    {
     "name": "stdout",
     "output_type": "stream",
     "text": [
      "2018-05-07 04:00:00\n"
     ]
    },
    {
     "name": "stderr",
     "output_type": "stream",
     "text": [
      "\r",
      " 79%|███████▊  | 528/672 [09:36<02:37,  1.09s/it]"
     ]
    },
    {
     "name": "stdout",
     "output_type": "stream",
     "text": [
      "2018-04-30 15:00:00\n"
     ]
    },
    {
     "name": "stderr",
     "output_type": "stream",
     "text": [
      "\r",
      " 79%|███████▉  | 530/672 [09:37<02:34,  1.09s/it]"
     ]
    },
    {
     "name": "stdout",
     "output_type": "stream",
     "text": [
      "2018-05-01 04:00:00\n"
     ]
    },
    {
     "name": "stderr",
     "output_type": "stream",
     "text": [
      "\r",
      " 79%|███████▉  | 531/672 [09:38<02:33,  1.09s/it]"
     ]
    },
    {
     "name": "stdout",
     "output_type": "stream",
     "text": [
      "2018-04-27 20:00:00\n"
     ]
    },
    {
     "name": "stderr",
     "output_type": "stream",
     "text": [
      "\r",
      " 79%|███████▉  | 532/672 [09:39<02:32,  1.09s/it]"
     ]
    },
    {
     "name": "stdout",
     "output_type": "stream",
     "text": [
      "2018-05-01 16:00:00\n"
     ]
    },
    {
     "name": "stderr",
     "output_type": "stream",
     "text": [
      "\r",
      " 79%|███████▉  | 533/672 [09:41<02:31,  1.09s/it]"
     ]
    },
    {
     "name": "stdout",
     "output_type": "stream",
     "text": [
      "2018-04-27 01:00:00\n"
     ]
    },
    {
     "name": "stderr",
     "output_type": "stream",
     "text": [
      "\r",
      " 79%|███████▉  | 534/672 [09:42<02:30,  1.09s/it]"
     ]
    },
    {
     "name": "stdout",
     "output_type": "stream",
     "text": [
      "2018-04-14 03:00:00\n"
     ]
    },
    {
     "name": "stderr",
     "output_type": "stream",
     "text": [
      "\r",
      " 80%|███████▉  | 535/672 [09:43<02:29,  1.09s/it]"
     ]
    },
    {
     "name": "stdout",
     "output_type": "stream",
     "text": [
      "2018-04-23 05:00:00\n"
     ]
    },
    {
     "name": "stderr",
     "output_type": "stream",
     "text": [
      "\r",
      " 80%|███████▉  | 536/672 [09:44<02:28,  1.09s/it]"
     ]
    },
    {
     "name": "stdout",
     "output_type": "stream",
     "text": [
      "2018-04-25 16:00:00\n"
     ]
    },
    {
     "name": "stderr",
     "output_type": "stream",
     "text": [
      "\r",
      " 80%|███████▉  | 537/672 [09:45<02:27,  1.09s/it]"
     ]
    },
    {
     "name": "stdout",
     "output_type": "stream",
     "text": [
      "2018-04-27 07:00:00\n"
     ]
    },
    {
     "name": "stderr",
     "output_type": "stream",
     "text": [
      "\r",
      " 80%|████████  | 538/672 [09:46<02:26,  1.09s/it]"
     ]
    },
    {
     "name": "stdout",
     "output_type": "stream",
     "text": [
      "2018-05-04 08:00:00\n"
     ]
    },
    {
     "name": "stderr",
     "output_type": "stream",
     "text": [
      "\r",
      " 80%|████████  | 539/672 [09:47<02:24,  1.09s/it]"
     ]
    },
    {
     "name": "stdout",
     "output_type": "stream",
     "text": [
      "2018-04-25 21:00:00\n"
     ]
    },
    {
     "name": "stderr",
     "output_type": "stream",
     "text": [
      "\r",
      " 80%|████████  | 540/672 [09:48<02:23,  1.09s/it]"
     ]
    },
    {
     "name": "stdout",
     "output_type": "stream",
     "text": [
      "2018-05-02 11:00:00\n"
     ]
    },
    {
     "name": "stderr",
     "output_type": "stream",
     "text": [
      "\r",
      " 81%|████████  | 541/672 [09:49<02:22,  1.09s/it]"
     ]
    },
    {
     "name": "stdout",
     "output_type": "stream",
     "text": [
      "2018-05-02 19:00:00\n"
     ]
    },
    {
     "name": "stderr",
     "output_type": "stream",
     "text": [
      "\r",
      " 81%|████████  | 542/672 [09:50<02:21,  1.09s/it]"
     ]
    },
    {
     "name": "stdout",
     "output_type": "stream",
     "text": [
      "2018-04-15 05:00:00\n"
     ]
    },
    {
     "name": "stderr",
     "output_type": "stream",
     "text": [
      "\r",
      " 81%|████████  | 543/672 [09:51<02:20,  1.09s/it]"
     ]
    },
    {
     "name": "stdout",
     "output_type": "stream",
     "text": [
      "2018-05-06 22:00:00\n"
     ]
    },
    {
     "name": "stderr",
     "output_type": "stream",
     "text": [
      "\r",
      " 81%|████████  | 544/672 [09:52<02:19,  1.09s/it]"
     ]
    },
    {
     "name": "stdout",
     "output_type": "stream",
     "text": [
      "2018-04-12 14:00:00\n"
     ]
    },
    {
     "name": "stderr",
     "output_type": "stream",
     "text": [
      "\r",
      " 81%|████████  | 545/672 [09:54<02:18,  1.09s/it]"
     ]
    },
    {
     "name": "stdout",
     "output_type": "stream",
     "text": [
      "2018-05-04 21:00:00\n"
     ]
    },
    {
     "name": "stderr",
     "output_type": "stream",
     "text": [
      "\r",
      " 81%|████████▏ | 546/672 [09:55<02:17,  1.09s/it]"
     ]
    },
    {
     "name": "stdout",
     "output_type": "stream",
     "text": [
      "2018-05-01 23:00:00\n"
     ]
    },
    {
     "name": "stderr",
     "output_type": "stream",
     "text": [
      "\r",
      " 81%|████████▏ | 547/672 [09:56<02:16,  1.09s/it]"
     ]
    },
    {
     "name": "stdout",
     "output_type": "stream",
     "text": [
      "2018-04-16 04:00:00\n"
     ]
    },
    {
     "name": "stderr",
     "output_type": "stream",
     "text": [
      "\r",
      " 82%|████████▏ | 548/672 [09:57<02:15,  1.09s/it]"
     ]
    },
    {
     "name": "stdout",
     "output_type": "stream",
     "text": [
      "2018-04-19 17:00:00\n"
     ]
    },
    {
     "name": "stderr",
     "output_type": "stream",
     "text": [
      "\r",
      " 82%|████████▏ | 549/672 [09:58<02:14,  1.09s/it]"
     ]
    },
    {
     "name": "stdout",
     "output_type": "stream",
     "text": [
      "2018-04-19 11:00:00\n"
     ]
    },
    {
     "name": "stderr",
     "output_type": "stream",
     "text": [
      "\r",
      " 82%|████████▏ | 550/672 [09:59<02:13,  1.09s/it]"
     ]
    },
    {
     "name": "stdout",
     "output_type": "stream",
     "text": [
      "2018-04-22 16:00:00\n"
     ]
    },
    {
     "name": "stderr",
     "output_type": "stream",
     "text": [
      "\r",
      " 82%|████████▏ | 551/672 [10:00<02:11,  1.09s/it]"
     ]
    },
    {
     "name": "stdout",
     "output_type": "stream",
     "text": [
      "2018-04-17 09:00:00\n"
     ]
    },
    {
     "name": "stderr",
     "output_type": "stream",
     "text": [
      "\r",
      " 82%|████████▏ | 552/672 [10:01<02:10,  1.09s/it]"
     ]
    },
    {
     "name": "stdout",
     "output_type": "stream",
     "text": [
      "2018-04-13 15:00:00\n"
     ]
    },
    {
     "name": "stderr",
     "output_type": "stream",
     "text": [
      "\r",
      " 82%|████████▏ | 553/672 [10:02<02:09,  1.09s/it]"
     ]
    },
    {
     "name": "stdout",
     "output_type": "stream",
     "text": [
      "2018-04-22 21:00:00\n"
     ]
    },
    {
     "name": "stderr",
     "output_type": "stream",
     "text": [
      "\r",
      " 82%|████████▏ | 554/672 [10:04<02:08,  1.09s/it]"
     ]
    },
    {
     "name": "stdout",
     "output_type": "stream",
     "text": [
      "2018-04-23 20:00:00\n"
     ]
    },
    {
     "name": "stderr",
     "output_type": "stream",
     "text": [
      "\r",
      " 83%|████████▎ | 555/672 [10:05<02:07,  1.09s/it]"
     ]
    },
    {
     "name": "stdout",
     "output_type": "stream",
     "text": [
      "2018-05-04 03:00:00\n"
     ]
    },
    {
     "name": "stderr",
     "output_type": "stream",
     "text": [
      "\r",
      " 83%|████████▎ | 556/672 [10:06<02:06,  1.09s/it]"
     ]
    },
    {
     "name": "stdout",
     "output_type": "stream",
     "text": [
      "2018-04-20 23:00:00\n"
     ]
    },
    {
     "name": "stderr",
     "output_type": "stream",
     "text": [
      "\r",
      " 83%|████████▎ | 557/672 [10:07<02:05,  1.09s/it]"
     ]
    },
    {
     "name": "stdout",
     "output_type": "stream",
     "text": [
      "2018-04-18 04:00:00\n"
     ]
    },
    {
     "name": "stderr",
     "output_type": "stream",
     "text": [
      "\r",
      " 83%|████████▎ | 558/672 [10:08<02:04,  1.09s/it]"
     ]
    },
    {
     "name": "stdout",
     "output_type": "stream",
     "text": [
      "2018-04-20 18:00:00\n"
     ]
    },
    {
     "name": "stderr",
     "output_type": "stream",
     "text": [
      "\r",
      " 83%|████████▎ | 559/672 [10:09<02:03,  1.09s/it]"
     ]
    },
    {
     "name": "stdout",
     "output_type": "stream",
     "text": [
      "2018-04-25 07:00:00\n"
     ]
    },
    {
     "name": "stderr",
     "output_type": "stream",
     "text": [
      "\r",
      " 83%|████████▎ | 560/672 [10:10<02:02,  1.09s/it]"
     ]
    },
    {
     "name": "stdout",
     "output_type": "stream",
     "text": [
      "2018-04-27 13:00:00\n"
     ]
    },
    {
     "name": "stderr",
     "output_type": "stream",
     "text": [
      "\r",
      " 83%|████████▎ | 561/672 [10:11<02:01,  1.09s/it]"
     ]
    },
    {
     "name": "stdout",
     "output_type": "stream",
     "text": [
      "2018-04-18 07:00:00\n"
     ]
    },
    {
     "name": "stderr",
     "output_type": "stream",
     "text": [
      "\r",
      " 84%|████████▎ | 562/672 [10:12<01:59,  1.09s/it]"
     ]
    },
    {
     "name": "stdout",
     "output_type": "stream",
     "text": [
      "2018-04-14 23:00:00\n"
     ]
    },
    {
     "name": "stderr",
     "output_type": "stream",
     "text": [
      "\r",
      " 84%|████████▍ | 563/672 [10:13<01:58,  1.09s/it]"
     ]
    },
    {
     "name": "stdout",
     "output_type": "stream",
     "text": [
      "2018-05-02 23:00:00\n"
     ]
    },
    {
     "name": "stderr",
     "output_type": "stream",
     "text": [
      "\r",
      " 84%|████████▍ | 564/672 [10:14<01:57,  1.09s/it]"
     ]
    },
    {
     "name": "stdout",
     "output_type": "stream",
     "text": [
      "2018-05-07 00:00:00\n"
     ]
    },
    {
     "name": "stderr",
     "output_type": "stream",
     "text": [
      "\r",
      " 84%|████████▍ | 565/672 [10:16<01:56,  1.09s/it]"
     ]
    },
    {
     "name": "stdout",
     "output_type": "stream",
     "text": [
      "2018-04-15 03:00:00\n"
     ]
    },
    {
     "name": "stderr",
     "output_type": "stream",
     "text": [
      "\r",
      " 84%|████████▍ | 566/672 [10:17<01:55,  1.09s/it]"
     ]
    },
    {
     "name": "stdout",
     "output_type": "stream",
     "text": [
      "2018-04-20 03:00:00\n"
     ]
    },
    {
     "name": "stderr",
     "output_type": "stream",
     "text": [
      "\r",
      " 84%|████████▍ | 567/672 [10:18<01:54,  1.09s/it]"
     ]
    },
    {
     "name": "stdout",
     "output_type": "stream",
     "text": [
      "2018-04-20 08:00:00\n"
     ]
    },
    {
     "name": "stderr",
     "output_type": "stream",
     "text": [
      "\r",
      " 85%|████████▍ | 568/672 [10:19<01:53,  1.09s/it]"
     ]
    },
    {
     "name": "stdout",
     "output_type": "stream",
     "text": [
      "2018-04-16 18:00:00\n"
     ]
    },
    {
     "name": "stderr",
     "output_type": "stream",
     "text": [
      "\r",
      " 85%|████████▍ | 569/672 [10:20<01:52,  1.09s/it]"
     ]
    },
    {
     "name": "stdout",
     "output_type": "stream",
     "text": [
      "2018-05-03 09:00:00\n"
     ]
    },
    {
     "name": "stderr",
     "output_type": "stream",
     "text": [
      "\r",
      " 85%|████████▍ | 570/672 [10:21<01:51,  1.09s/it]"
     ]
    },
    {
     "name": "stdout",
     "output_type": "stream",
     "text": [
      "2018-04-25 18:00:00\n"
     ]
    },
    {
     "name": "stderr",
     "output_type": "stream",
     "text": [
      "\r",
      " 85%|████████▍ | 571/672 [10:23<01:50,  1.09s/it]"
     ]
    },
    {
     "name": "stdout",
     "output_type": "stream",
     "text": [
      "2018-05-08 09:00:00\n"
     ]
    },
    {
     "name": "stderr",
     "output_type": "stream",
     "text": [
      "\r",
      " 85%|████████▌ | 572/672 [10:24<01:49,  1.09s/it]"
     ]
    },
    {
     "name": "stdout",
     "output_type": "stream",
     "text": [
      "2018-04-28 21:00:00\n"
     ]
    },
    {
     "name": "stderr",
     "output_type": "stream",
     "text": [
      "\r",
      " 85%|████████▌ | 573/672 [10:25<01:48,  1.09s/it]"
     ]
    },
    {
     "name": "stdout",
     "output_type": "stream",
     "text": [
      "2018-04-14 08:00:00\n"
     ]
    },
    {
     "name": "stderr",
     "output_type": "stream",
     "text": [
      "\r",
      " 85%|████████▌ | 574/672 [10:26<01:47,  1.09s/it]"
     ]
    },
    {
     "name": "stdout",
     "output_type": "stream",
     "text": [
      "2018-04-21 21:00:00\n"
     ]
    },
    {
     "name": "stderr",
     "output_type": "stream",
     "text": [
      "\r",
      " 86%|████████▌ | 575/672 [10:28<01:45,  1.09s/it]"
     ]
    },
    {
     "name": "stdout",
     "output_type": "stream",
     "text": [
      "2018-04-16 02:00:00\n"
     ]
    },
    {
     "name": "stderr",
     "output_type": "stream",
     "text": [
      "\r",
      " 86%|████████▌ | 576/672 [10:29<01:44,  1.09s/it]"
     ]
    },
    {
     "name": "stdout",
     "output_type": "stream",
     "text": [
      "2018-04-16 06:00:00\n"
     ]
    },
    {
     "name": "stderr",
     "output_type": "stream",
     "text": [
      "\r",
      " 86%|████████▌ | 577/672 [10:30<01:43,  1.09s/it]"
     ]
    },
    {
     "name": "stdout",
     "output_type": "stream",
     "text": [
      "2018-05-04 23:00:00\n"
     ]
    },
    {
     "name": "stderr",
     "output_type": "stream",
     "text": [
      "\r",
      " 86%|████████▌ | 578/672 [10:31<01:42,  1.09s/it]"
     ]
    },
    {
     "name": "stdout",
     "output_type": "stream",
     "text": [
      "2018-04-24 13:00:00\n"
     ]
    },
    {
     "name": "stderr",
     "output_type": "stream",
     "text": [
      "\r",
      " 86%|████████▌ | 579/672 [10:32<01:41,  1.09s/it]"
     ]
    },
    {
     "name": "stdout",
     "output_type": "stream",
     "text": [
      "2018-04-15 14:00:00\n"
     ]
    },
    {
     "name": "stderr",
     "output_type": "stream",
     "text": [
      "\r",
      " 86%|████████▋ | 580/672 [10:33<01:40,  1.09s/it]"
     ]
    },
    {
     "name": "stdout",
     "output_type": "stream",
     "text": [
      "2018-05-06 20:00:00\n"
     ]
    },
    {
     "name": "stderr",
     "output_type": "stream",
     "text": [
      "\r",
      " 86%|████████▋ | 581/672 [10:34<01:39,  1.09s/it]"
     ]
    },
    {
     "name": "stdout",
     "output_type": "stream",
     "text": [
      "2018-04-19 02:00:00\n"
     ]
    },
    {
     "name": "stderr",
     "output_type": "stream",
     "text": [
      "\r",
      " 87%|████████▋ | 582/672 [10:35<01:38,  1.09s/it]"
     ]
    },
    {
     "name": "stdout",
     "output_type": "stream",
     "text": [
      "2018-05-04 17:00:00\n"
     ]
    },
    {
     "name": "stderr",
     "output_type": "stream",
     "text": [
      "\r",
      " 87%|████████▋ | 583/672 [10:36<01:37,  1.09s/it]"
     ]
    },
    {
     "name": "stdout",
     "output_type": "stream",
     "text": [
      "2018-05-07 20:00:00\n"
     ]
    },
    {
     "name": "stderr",
     "output_type": "stream",
     "text": [
      "\r",
      " 87%|████████▋ | 584/672 [10:37<01:36,  1.09s/it]"
     ]
    },
    {
     "name": "stdout",
     "output_type": "stream",
     "text": [
      "2018-05-08 05:00:00\n"
     ]
    },
    {
     "name": "stderr",
     "output_type": "stream",
     "text": [
      "\r",
      " 87%|████████▋ | 585/672 [10:39<01:35,  1.09s/it]"
     ]
    },
    {
     "name": "stdout",
     "output_type": "stream",
     "text": [
      "2018-04-16 12:00:00\n"
     ]
    },
    {
     "name": "stderr",
     "output_type": "stream",
     "text": [
      "\r",
      " 87%|████████▋ | 586/672 [10:40<01:33,  1.09s/it]"
     ]
    },
    {
     "name": "stdout",
     "output_type": "stream",
     "text": [
      "2018-05-08 10:00:00\n"
     ]
    },
    {
     "name": "stderr",
     "output_type": "stream",
     "text": [
      "\r",
      " 87%|████████▋ | 587/672 [10:41<01:32,  1.09s/it]"
     ]
    },
    {
     "name": "stdout",
     "output_type": "stream",
     "text": [
      "2018-04-22 14:00:00\n"
     ]
    },
    {
     "name": "stderr",
     "output_type": "stream",
     "text": [
      "\r",
      " 88%|████████▊ | 588/672 [10:42<01:31,  1.09s/it]"
     ]
    },
    {
     "name": "stdout",
     "output_type": "stream",
     "text": [
      "2018-05-02 16:00:00\n"
     ]
    },
    {
     "name": "stderr",
     "output_type": "stream",
     "text": [
      "\r",
      " 88%|████████▊ | 589/672 [10:43<01:30,  1.09s/it]"
     ]
    },
    {
     "name": "stdout",
     "output_type": "stream",
     "text": [
      "2018-04-11 16:00:00\n"
     ]
    },
    {
     "name": "stderr",
     "output_type": "stream",
     "text": [
      "\r",
      " 88%|████████▊ | 590/672 [10:45<01:29,  1.09s/it]"
     ]
    },
    {
     "name": "stdout",
     "output_type": "stream",
     "text": [
      "2018-05-08 04:00:00\n"
     ]
    },
    {
     "name": "stderr",
     "output_type": "stream",
     "text": [
      "\r",
      " 88%|████████▊ | 592/672 [10:46<01:27,  1.09s/it]"
     ]
    },
    {
     "name": "stdout",
     "output_type": "stream",
     "text": [
      "2018-04-14 05:00:00\n"
     ]
    },
    {
     "name": "stderr",
     "output_type": "stream",
     "text": [
      "\r",
      " 88%|████████▊ | 593/672 [10:47<01:26,  1.09s/it]"
     ]
    },
    {
     "name": "stdout",
     "output_type": "stream",
     "text": [
      "2018-04-14 18:00:00\n"
     ]
    },
    {
     "name": "stderr",
     "output_type": "stream",
     "text": [
      "\r",
      " 88%|████████▊ | 594/672 [10:48<01:25,  1.09s/it]"
     ]
    },
    {
     "name": "stdout",
     "output_type": "stream",
     "text": [
      "2018-05-01 11:00:00\n"
     ]
    },
    {
     "name": "stderr",
     "output_type": "stream",
     "text": [
      "\r",
      " 89%|████████▊ | 595/672 [10:49<01:24,  1.09s/it]"
     ]
    },
    {
     "name": "stdout",
     "output_type": "stream",
     "text": [
      "2018-04-26 19:00:00\n"
     ]
    },
    {
     "name": "stderr",
     "output_type": "stream",
     "text": [
      "\r",
      " 89%|████████▊ | 596/672 [10:50<01:22,  1.09s/it]"
     ]
    },
    {
     "name": "stdout",
     "output_type": "stream",
     "text": [
      "2018-05-06 03:00:00\n"
     ]
    },
    {
     "name": "stderr",
     "output_type": "stream",
     "text": [
      "\r",
      " 89%|████████▉ | 597/672 [10:51<01:21,  1.09s/it]"
     ]
    },
    {
     "name": "stdout",
     "output_type": "stream",
     "text": [
      "2018-04-30 22:00:00\n"
     ]
    },
    {
     "name": "stderr",
     "output_type": "stream",
     "text": [
      "\r",
      " 89%|████████▉ | 598/672 [10:52<01:20,  1.09s/it]"
     ]
    },
    {
     "name": "stdout",
     "output_type": "stream",
     "text": [
      "2018-04-11 01:00:00\n"
     ]
    },
    {
     "name": "stderr",
     "output_type": "stream",
     "text": [
      "\r",
      " 89%|████████▉ | 599/672 [10:53<01:19,  1.09s/it]"
     ]
    },
    {
     "name": "stdout",
     "output_type": "stream",
     "text": [
      "2018-04-14 17:00:00\n"
     ]
    },
    {
     "name": "stderr",
     "output_type": "stream",
     "text": [
      "\r",
      " 89%|████████▉ | 600/672 [10:54<01:18,  1.09s/it]"
     ]
    },
    {
     "name": "stdout",
     "output_type": "stream",
     "text": [
      "2018-04-24 10:00:00\n"
     ]
    },
    {
     "name": "stderr",
     "output_type": "stream",
     "text": [
      "\r",
      " 90%|████████▉ | 602/672 [10:55<01:16,  1.09s/it]"
     ]
    },
    {
     "name": "stdout",
     "output_type": "stream",
     "text": [
      "2018-05-02 09:00:00\n"
     ]
    },
    {
     "name": "stderr",
     "output_type": "stream",
     "text": [
      "\r",
      " 90%|████████▉ | 603/672 [10:57<01:15,  1.09s/it]"
     ]
    },
    {
     "name": "stdout",
     "output_type": "stream",
     "text": [
      "2018-04-30 16:00:00\n"
     ]
    },
    {
     "name": "stderr",
     "output_type": "stream",
     "text": [
      "\r",
      " 90%|████████▉ | 604/672 [10:58<01:14,  1.09s/it]"
     ]
    },
    {
     "name": "stdout",
     "output_type": "stream",
     "text": [
      "2018-05-02 14:00:00\n"
     ]
    },
    {
     "name": "stderr",
     "output_type": "stream",
     "text": [
      "\r",
      " 90%|█████████ | 605/672 [10:59<01:13,  1.09s/it]"
     ]
    },
    {
     "name": "stdout",
     "output_type": "stream",
     "text": [
      "2018-04-26 22:00:00\n"
     ]
    },
    {
     "name": "stderr",
     "output_type": "stream",
     "text": [
      "\r",
      " 90%|█████████ | 606/672 [11:00<01:11,  1.09s/it]"
     ]
    },
    {
     "name": "stdout",
     "output_type": "stream",
     "text": [
      "2018-05-01 12:00:00\n"
     ]
    },
    {
     "name": "stderr",
     "output_type": "stream",
     "text": [
      "\r",
      " 90%|█████████ | 607/672 [11:01<01:10,  1.09s/it]"
     ]
    },
    {
     "name": "stdout",
     "output_type": "stream",
     "text": [
      "2018-05-02 18:00:00\n"
     ]
    },
    {
     "name": "stderr",
     "output_type": "stream",
     "text": [
      "\r",
      " 90%|█████████ | 608/672 [11:02<01:09,  1.09s/it]"
     ]
    },
    {
     "name": "stdout",
     "output_type": "stream",
     "text": [
      "2018-05-02 06:00:00\n"
     ]
    },
    {
     "name": "stderr",
     "output_type": "stream",
     "text": [
      "\r",
      " 91%|█████████ | 609/672 [11:03<01:08,  1.09s/it]"
     ]
    },
    {
     "name": "stdout",
     "output_type": "stream",
     "text": [
      "2018-04-21 18:00:00\n"
     ]
    },
    {
     "name": "stderr",
     "output_type": "stream",
     "text": [
      "\r",
      " 91%|█████████ | 610/672 [11:04<01:07,  1.09s/it]"
     ]
    },
    {
     "name": "stdout",
     "output_type": "stream",
     "text": [
      "2018-04-29 04:00:00\n"
     ]
    },
    {
     "name": "stderr",
     "output_type": "stream",
     "text": [
      "\r",
      " 91%|█████████ | 611/672 [11:06<01:06,  1.09s/it]"
     ]
    },
    {
     "name": "stdout",
     "output_type": "stream",
     "text": [
      "2018-04-21 03:00:00\n"
     ]
    },
    {
     "name": "stderr",
     "output_type": "stream",
     "text": [
      "\r",
      " 91%|█████████ | 612/672 [11:07<01:05,  1.09s/it]"
     ]
    },
    {
     "name": "stdout",
     "output_type": "stream",
     "text": [
      "2018-04-23 22:00:00\n"
     ]
    },
    {
     "name": "stderr",
     "output_type": "stream",
     "text": [
      "\r",
      " 91%|█████████ | 613/672 [11:08<01:04,  1.09s/it]"
     ]
    },
    {
     "name": "stdout",
     "output_type": "stream",
     "text": [
      "2018-04-12 09:00:00\n"
     ]
    },
    {
     "name": "stderr",
     "output_type": "stream",
     "text": [
      "\r",
      " 91%|█████████▏| 614/672 [11:09<01:03,  1.09s/it]"
     ]
    },
    {
     "name": "stdout",
     "output_type": "stream",
     "text": [
      "2018-04-28 01:00:00\n"
     ]
    },
    {
     "name": "stderr",
     "output_type": "stream",
     "text": [
      "\r",
      " 92%|█████████▏| 615/672 [11:10<01:02,  1.09s/it]"
     ]
    },
    {
     "name": "stdout",
     "output_type": "stream",
     "text": [
      "2018-05-04 05:00:00\n"
     ]
    },
    {
     "name": "stderr",
     "output_type": "stream",
     "text": [
      "\r",
      " 92%|█████████▏| 617/672 [11:11<00:59,  1.09s/it]"
     ]
    },
    {
     "name": "stdout",
     "output_type": "stream",
     "text": [
      "2018-04-12 23:00:00\n"
     ]
    },
    {
     "name": "stderr",
     "output_type": "stream",
     "text": [
      "\r",
      " 92%|█████████▏| 618/672 [11:12<00:58,  1.09s/it]"
     ]
    },
    {
     "name": "stdout",
     "output_type": "stream",
     "text": [
      "2018-04-22 09:00:00\n"
     ]
    },
    {
     "name": "stderr",
     "output_type": "stream",
     "text": [
      "\r",
      " 92%|█████████▏| 619/672 [11:13<00:57,  1.09s/it]"
     ]
    },
    {
     "name": "stdout",
     "output_type": "stream",
     "text": [
      "2018-05-05 09:00:00\n"
     ]
    },
    {
     "name": "stderr",
     "output_type": "stream",
     "text": [
      "\r",
      " 92%|█████████▏| 620/672 [11:15<00:56,  1.09s/it]"
     ]
    },
    {
     "name": "stdout",
     "output_type": "stream",
     "text": [
      "2018-05-01 21:00:00\n"
     ]
    },
    {
     "name": "stderr",
     "output_type": "stream",
     "text": [
      "\r",
      " 92%|█████████▏| 621/672 [11:16<00:55,  1.09s/it]"
     ]
    },
    {
     "name": "stdout",
     "output_type": "stream",
     "text": [
      "2018-04-24 09:00:00\n"
     ]
    },
    {
     "name": "stderr",
     "output_type": "stream",
     "text": [
      "\r",
      " 93%|█████████▎| 622/672 [11:17<00:54,  1.09s/it]"
     ]
    },
    {
     "name": "stdout",
     "output_type": "stream",
     "text": [
      "2018-04-30 04:00:00\n"
     ]
    },
    {
     "name": "stderr",
     "output_type": "stream",
     "text": [
      "\r",
      " 93%|█████████▎| 623/672 [11:18<00:53,  1.09s/it]"
     ]
    },
    {
     "name": "stdout",
     "output_type": "stream",
     "text": [
      "2018-04-17 22:00:00\n"
     ]
    },
    {
     "name": "stderr",
     "output_type": "stream",
     "text": [
      "\r",
      " 93%|█████████▎| 624/672 [11:19<00:52,  1.09s/it]"
     ]
    },
    {
     "name": "stdout",
     "output_type": "stream",
     "text": [
      "2018-04-28 03:00:00\n"
     ]
    },
    {
     "name": "stderr",
     "output_type": "stream",
     "text": [
      "\r",
      " 93%|█████████▎| 625/672 [11:20<00:51,  1.09s/it]"
     ]
    },
    {
     "name": "stdout",
     "output_type": "stream",
     "text": [
      "2018-05-03 13:00:00\n"
     ]
    },
    {
     "name": "stderr",
     "output_type": "stream",
     "text": [
      "\r",
      " 93%|█████████▎| 626/672 [11:21<00:50,  1.09s/it]"
     ]
    },
    {
     "name": "stdout",
     "output_type": "stream",
     "text": [
      "2018-05-07 06:00:00\n"
     ]
    },
    {
     "name": "stderr",
     "output_type": "stream",
     "text": [
      "\r",
      " 93%|█████████▎| 627/672 [11:22<00:48,  1.09s/it]"
     ]
    },
    {
     "name": "stdout",
     "output_type": "stream",
     "text": [
      "2018-04-29 21:00:00\n"
     ]
    },
    {
     "name": "stderr",
     "output_type": "stream",
     "text": [
      "\r",
      " 93%|█████████▎| 628/672 [11:23<00:47,  1.09s/it]"
     ]
    },
    {
     "name": "stdout",
     "output_type": "stream",
     "text": [
      "2018-04-18 12:00:00\n"
     ]
    },
    {
     "name": "stderr",
     "output_type": "stream",
     "text": [
      "\r",
      " 94%|█████████▎| 629/672 [11:24<00:46,  1.09s/it]"
     ]
    },
    {
     "name": "stdout",
     "output_type": "stream",
     "text": [
      "2018-04-13 22:00:00\n"
     ]
    },
    {
     "name": "stderr",
     "output_type": "stream",
     "text": [
      "\r",
      " 94%|█████████▍| 630/672 [11:26<00:45,  1.09s/it]"
     ]
    },
    {
     "name": "stdout",
     "output_type": "stream",
     "text": [
      "2018-05-06 12:00:00\n"
     ]
    },
    {
     "name": "stderr",
     "output_type": "stream",
     "text": [
      "\r",
      " 94%|█████████▍| 631/672 [11:27<00:44,  1.09s/it]"
     ]
    },
    {
     "name": "stdout",
     "output_type": "stream",
     "text": [
      "2018-04-17 18:00:00\n"
     ]
    },
    {
     "name": "stderr",
     "output_type": "stream",
     "text": [
      "\r",
      " 94%|█████████▍| 632/672 [11:28<00:43,  1.09s/it]"
     ]
    },
    {
     "name": "stdout",
     "output_type": "stream",
     "text": [
      "2018-04-25 08:00:00\n"
     ]
    },
    {
     "name": "stderr",
     "output_type": "stream",
     "text": [
      "\r",
      " 94%|█████████▍| 633/672 [11:29<00:42,  1.09s/it]"
     ]
    },
    {
     "name": "stdout",
     "output_type": "stream",
     "text": [
      "2018-05-04 18:00:00\n"
     ]
    },
    {
     "name": "stderr",
     "output_type": "stream",
     "text": [
      "\r",
      " 94%|█████████▍| 634/672 [11:30<00:41,  1.09s/it]"
     ]
    },
    {
     "name": "stdout",
     "output_type": "stream",
     "text": [
      "2018-04-14 02:00:00\n"
     ]
    },
    {
     "name": "stderr",
     "output_type": "stream",
     "text": [
      "\r",
      " 94%|█████████▍| 635/672 [11:31<00:40,  1.09s/it]"
     ]
    },
    {
     "name": "stdout",
     "output_type": "stream",
     "text": [
      "2018-05-08 03:00:00\n"
     ]
    },
    {
     "name": "stderr",
     "output_type": "stream",
     "text": [
      "\r",
      " 95%|█████████▍| 636/672 [11:32<00:39,  1.09s/it]"
     ]
    },
    {
     "name": "stdout",
     "output_type": "stream",
     "text": [
      "2018-04-18 17:00:00\n"
     ]
    },
    {
     "name": "stderr",
     "output_type": "stream",
     "text": [
      "\r",
      " 95%|█████████▍| 637/672 [11:34<00:38,  1.09s/it]"
     ]
    },
    {
     "name": "stdout",
     "output_type": "stream",
     "text": [
      "2018-04-11 08:00:00\n"
     ]
    },
    {
     "name": "stderr",
     "output_type": "stream",
     "text": [
      "\r",
      " 95%|█████████▍| 638/672 [11:35<00:37,  1.09s/it]"
     ]
    },
    {
     "name": "stdout",
     "output_type": "stream",
     "text": [
      "2018-04-11 23:00:00\n"
     ]
    },
    {
     "name": "stderr",
     "output_type": "stream",
     "text": [
      "\r",
      " 95%|█████████▌| 639/672 [11:36<00:35,  1.09s/it]"
     ]
    },
    {
     "name": "stdout",
     "output_type": "stream",
     "text": [
      "2018-04-17 14:00:00\n"
     ]
    },
    {
     "name": "stderr",
     "output_type": "stream",
     "text": [
      "\r",
      " 95%|█████████▌| 640/672 [11:37<00:34,  1.09s/it]"
     ]
    },
    {
     "name": "stdout",
     "output_type": "stream",
     "text": [
      "2018-05-02 03:00:00\n"
     ]
    },
    {
     "name": "stderr",
     "output_type": "stream",
     "text": [
      "\r",
      " 95%|█████████▌| 641/672 [11:38<00:33,  1.09s/it]"
     ]
    },
    {
     "name": "stdout",
     "output_type": "stream",
     "text": [
      "2018-04-24 21:00:00\n"
     ]
    },
    {
     "name": "stderr",
     "output_type": "stream",
     "text": [
      "\r",
      " 96%|█████████▌| 642/672 [11:39<00:32,  1.09s/it]"
     ]
    },
    {
     "name": "stdout",
     "output_type": "stream",
     "text": [
      "2018-04-20 02:00:00\n"
     ]
    },
    {
     "name": "stderr",
     "output_type": "stream",
     "text": [
      "\r",
      " 96%|█████████▌| 643/672 [11:40<00:31,  1.09s/it]"
     ]
    },
    {
     "name": "stdout",
     "output_type": "stream",
     "text": [
      "2018-04-29 18:00:00\n"
     ]
    },
    {
     "name": "stderr",
     "output_type": "stream",
     "text": [
      "\r",
      " 96%|█████████▌| 644/672 [11:42<00:30,  1.09s/it]"
     ]
    },
    {
     "name": "stdout",
     "output_type": "stream",
     "text": [
      "2018-04-23 12:00:00\n"
     ]
    },
    {
     "name": "stderr",
     "output_type": "stream",
     "text": [
      "\r",
      " 96%|█████████▌| 645/672 [11:43<00:29,  1.09s/it]"
     ]
    },
    {
     "name": "stdout",
     "output_type": "stream",
     "text": [
      "2018-04-21 12:00:00\n"
     ]
    },
    {
     "name": "stderr",
     "output_type": "stream",
     "text": [
      "\r",
      " 96%|█████████▌| 646/672 [11:44<00:28,  1.09s/it]"
     ]
    },
    {
     "name": "stdout",
     "output_type": "stream",
     "text": [
      "2018-04-27 04:00:00\n"
     ]
    },
    {
     "name": "stderr",
     "output_type": "stream",
     "text": [
      "\r",
      " 96%|█████████▋| 647/672 [11:45<00:27,  1.09s/it]"
     ]
    },
    {
     "name": "stdout",
     "output_type": "stream",
     "text": [
      "2018-04-27 19:00:00\n"
     ]
    },
    {
     "name": "stderr",
     "output_type": "stream",
     "text": [
      "\r",
      " 96%|█████████▋| 648/672 [11:46<00:26,  1.09s/it]"
     ]
    },
    {
     "name": "stdout",
     "output_type": "stream",
     "text": [
      "2018-04-19 22:00:00\n"
     ]
    },
    {
     "name": "stderr",
     "output_type": "stream",
     "text": [
      "\r",
      " 97%|█████████▋| 649/672 [11:47<00:25,  1.09s/it]"
     ]
    },
    {
     "name": "stdout",
     "output_type": "stream",
     "text": [
      "2018-04-11 13:00:00\n"
     ]
    },
    {
     "name": "stderr",
     "output_type": "stream",
     "text": [
      "\r",
      " 97%|█████████▋| 650/672 [11:49<00:23,  1.09s/it]"
     ]
    },
    {
     "name": "stdout",
     "output_type": "stream",
     "text": [
      "2018-04-18 22:00:00\n"
     ]
    },
    {
     "name": "stderr",
     "output_type": "stream",
     "text": [
      "\r",
      " 97%|█████████▋| 651/672 [11:50<00:22,  1.09s/it]"
     ]
    },
    {
     "name": "stdout",
     "output_type": "stream",
     "text": [
      "2018-04-26 21:00:00\n"
     ]
    },
    {
     "name": "stderr",
     "output_type": "stream",
     "text": [
      "\r",
      " 97%|█████████▋| 652/672 [11:51<00:21,  1.09s/it]"
     ]
    },
    {
     "name": "stdout",
     "output_type": "stream",
     "text": [
      "2018-04-30 10:00:00\n"
     ]
    },
    {
     "name": "stderr",
     "output_type": "stream",
     "text": [
      "\r",
      " 97%|█████████▋| 653/672 [11:52<00:20,  1.09s/it]"
     ]
    },
    {
     "name": "stdout",
     "output_type": "stream",
     "text": [
      "2018-04-21 02:00:00\n"
     ]
    },
    {
     "name": "stderr",
     "output_type": "stream",
     "text": [
      "\r",
      " 97%|█████████▋| 654/672 [11:53<00:19,  1.09s/it]"
     ]
    },
    {
     "name": "stdout",
     "output_type": "stream",
     "text": [
      "2018-05-06 21:00:00\n"
     ]
    },
    {
     "name": "stderr",
     "output_type": "stream",
     "text": [
      "\r",
      " 98%|█████████▊| 656/672 [11:54<00:17,  1.09s/it]"
     ]
    },
    {
     "name": "stdout",
     "output_type": "stream",
     "text": [
      "2018-04-14 22:00:00\n"
     ]
    },
    {
     "name": "stderr",
     "output_type": "stream",
     "text": [
      "\r",
      " 98%|█████████▊| 657/672 [11:56<00:16,  1.09s/it]"
     ]
    },
    {
     "name": "stdout",
     "output_type": "stream",
     "text": [
      "2018-05-08 06:00:00\n"
     ]
    },
    {
     "name": "stderr",
     "output_type": "stream",
     "text": [
      "\r",
      " 98%|█████████▊| 658/672 [11:57<00:15,  1.09s/it]"
     ]
    },
    {
     "name": "stdout",
     "output_type": "stream",
     "text": [
      "2018-04-22 03:00:00\n"
     ]
    },
    {
     "name": "stderr",
     "output_type": "stream",
     "text": [
      "\r",
      " 98%|█████████▊| 659/672 [11:58<00:14,  1.09s/it]"
     ]
    },
    {
     "name": "stdout",
     "output_type": "stream",
     "text": [
      "2018-05-07 15:00:00\n"
     ]
    },
    {
     "name": "stderr",
     "output_type": "stream",
     "text": [
      "\r",
      " 98%|█████████▊| 660/672 [11:59<00:13,  1.09s/it]"
     ]
    },
    {
     "name": "stdout",
     "output_type": "stream",
     "text": [
      "2018-04-17 03:00:00\n"
     ]
    },
    {
     "name": "stderr",
     "output_type": "stream",
     "text": [
      "\r",
      " 98%|█████████▊| 661/672 [12:00<00:11,  1.09s/it]"
     ]
    },
    {
     "name": "stdout",
     "output_type": "stream",
     "text": [
      "2018-04-22 08:00:00\n"
     ]
    },
    {
     "name": "stderr",
     "output_type": "stream",
     "text": [
      "\r",
      " 99%|█████████▊| 662/672 [12:01<00:10,  1.09s/it]"
     ]
    },
    {
     "name": "stdout",
     "output_type": "stream",
     "text": [
      "2018-04-20 05:00:00\n"
     ]
    },
    {
     "name": "stderr",
     "output_type": "stream",
     "text": [
      "\r",
      " 99%|█████████▊| 663/672 [12:02<00:09,  1.09s/it]"
     ]
    },
    {
     "name": "stdout",
     "output_type": "stream",
     "text": [
      "2018-04-15 07:00:00\n"
     ]
    },
    {
     "name": "stderr",
     "output_type": "stream",
     "text": [
      "\r",
      " 99%|█████████▉| 664/672 [12:03<00:08,  1.09s/it]"
     ]
    },
    {
     "name": "stdout",
     "output_type": "stream",
     "text": [
      "2018-04-18 02:00:00\n"
     ]
    },
    {
     "name": "stderr",
     "output_type": "stream",
     "text": [
      "\r",
      " 99%|█████████▉| 665/672 [12:05<00:07,  1.09s/it]"
     ]
    },
    {
     "name": "stdout",
     "output_type": "stream",
     "text": [
      "2018-04-20 22:00:00\n"
     ]
    },
    {
     "name": "stderr",
     "output_type": "stream",
     "text": [
      "\r",
      " 99%|█████████▉| 666/672 [12:06<00:06,  1.09s/it]"
     ]
    },
    {
     "name": "stdout",
     "output_type": "stream",
     "text": [
      "2018-04-22 17:00:00\n"
     ]
    },
    {
     "name": "stderr",
     "output_type": "stream",
     "text": [
      "\r",
      " 99%|█████████▉| 667/672 [12:07<00:05,  1.09s/it]"
     ]
    },
    {
     "name": "stdout",
     "output_type": "stream",
     "text": [
      "2018-04-12 04:00:00\n"
     ]
    },
    {
     "name": "stderr",
     "output_type": "stream",
     "text": [
      "\r",
      " 99%|█████████▉| 668/672 [12:08<00:04,  1.09s/it]"
     ]
    },
    {
     "name": "stdout",
     "output_type": "stream",
     "text": [
      "2018-04-27 23:00:00\n"
     ]
    },
    {
     "name": "stderr",
     "output_type": "stream",
     "text": [
      "\r",
      "100%|█████████▉| 669/672 [12:09<00:03,  1.09s/it]"
     ]
    },
    {
     "name": "stdout",
     "output_type": "stream",
     "text": [
      "2018-04-11 09:00:00\n"
     ]
    },
    {
     "name": "stderr",
     "output_type": "stream",
     "text": [
      "\r",
      "100%|█████████▉| 670/672 [12:10<00:02,  1.09s/it]"
     ]
    },
    {
     "name": "stdout",
     "output_type": "stream",
     "text": [
      "2018-04-13 09:00:00\n"
     ]
    },
    {
     "name": "stderr",
     "output_type": "stream",
     "text": [
      "\r",
      "100%|█████████▉| 671/672 [12:11<00:01,  1.09s/it]"
     ]
    },
    {
     "name": "stdout",
     "output_type": "stream",
     "text": [
      "2018-04-20 20:00:00\n"
     ]
    },
    {
     "name": "stderr",
     "output_type": "stream",
     "text": [
      "100%|██████████| 672/672 [12:12<00:00,  1.09s/it]\n"
     ]
    },
    {
     "name": "stdout",
     "output_type": "stream",
     "text": [
      "['2018-04-12 05:00:00', '2018-05-05 12:00:00', '2018-05-05 20:00:00', '2018-04-15 11:00:00', '2018-04-19 12:00:00', '2018-05-05 23:00:00', '2018-05-05 17:00:00', '2018-04-15 13:00:00', '2018-04-19 07:00:00', '2018-05-07 09:00:00', '2018-05-05 18:00:00', '2018-05-05 11:00:00', '2018-05-05 10:00:00', '2018-04-22 10:00:00', '2018-05-05 15:00:00', '2018-05-05 14:00:00', '2018-05-03 19:00:00', '2018-05-03 18:00:00', '2018-05-03 20:00:00', '2018-05-05 21:00:00', '2018-05-05 19:00:00', '2018-04-18 10:00:00', '2018-05-05 13:00:00', '2018-04-19 06:00:00', '2018-05-05 22:00:00', '2018-05-05 16:00:00', '2018-04-12 04:00:00']\n",
      "10880\n",
      "272\n"
     ]
    },
    {
     "name": "stderr",
     "output_type": "stream",
     "text": [
      "100%|██████████| 204/204 [00:10<00:00, 19.69it/s]\n",
      "100%|██████████| 672/672 [00:00<00:00, 32402.22it/s]\n",
      "100%|██████████| 204/204 [00:01<00:00, 146.39it/s]\n"
     ]
    },
    {
     "name": "stdout",
     "output_type": "stream",
     "text": [
      "20789\n",
      "10994\n",
      "20789\n",
      "20789\n"
     ]
    }
   ],
   "source": [
    "Start = datetime.strptime(\"2018-04-11 00:00:00\", \"%Y-%m-%d %H:%M:%S\")\n",
    "End = datetime.strptime(\"2018-05-08 23:00:00\", \"%Y-%m-%d %H:%M:%S\")\n",
    "\n",
    "pre_dict_bj = to_timedict_bj(start = Start, end = End)\n",
    "pre_frame_bj = pd.DataFrame.from_dict(pre_dict_bj).T\n",
    "pre_list_bj = np.array(pre_frame_bj)"
   ]
  },
  {
   "cell_type": "code",
   "execution_count": 94,
   "metadata": {},
   "outputs": [
    {
     "data": {
      "text/plain": [
       "Index(['2018-04-13 00:00:00', '2018-04-13 01:00:00', '2018-04-13 02:00:00',\n",
       "       '2018-04-13 03:00:00', '2018-04-13 04:00:00', '2018-04-13 05:00:00',\n",
       "       '2018-04-13 06:00:00', '2018-04-13 07:00:00', '2018-04-13 08:00:00',\n",
       "       '2018-04-13 09:00:00',\n",
       "       ...\n",
       "       '2018-05-05 14:00:00', '2018-05-05 15:00:00', '2018-05-05 16:00:00',\n",
       "       '2018-05-05 17:00:00', '2018-05-05 18:00:00', '2018-05-05 19:00:00',\n",
       "       '2018-05-05 20:00:00', '2018-05-05 21:00:00', '2018-05-05 22:00:00',\n",
       "       '2018-05-05 23:00:00'],\n",
       "      dtype='object', length=552)"
      ]
     },
     "execution_count": 94,
     "metadata": {},
     "output_type": "execute_result"
    }
   ],
   "source": [
    "pre_frame_bj.index"
   ]
  },
  {
   "cell_type": "code",
   "execution_count": 95,
   "metadata": {},
   "outputs": [],
   "source": [
    "pre_frame_bj.to_csv('/home/lifuzhen/KDD2018/Mini_train/traindata_drop1/bj.csv')"
   ]
  },
  {
   "cell_type": "markdown",
   "metadata": {},
   "source": [
    "# London"
   ]
  },
  {
   "cell_type": "code",
   "execution_count": 149,
   "metadata": {},
   "outputs": [],
   "source": [
    "import requests\n",
    "for i in range(12,31):\n",
    "    for j in range(0,24):\n",
    "        end   = '2018-04-'+str(i).zfill(2)+'-'+str(j)\n",
    "        url = 'http://kdd.caiyunapp.com/competition/forecast/ld/'+end+'/2k0d1d8'\n",
    "        respones= requests.get(url)\n",
    "        with open ('/home/lifuzhen/KDD2018/Mini_train/ld_grid_meteorology_forecast_48_hours'+'_'+end+'.csv','w') as f:\n",
    "            f.write(respones.text)"
   ]
  },
  {
   "cell_type": "code",
   "execution_count": 14,
   "metadata": {},
   "outputs": [],
   "source": [
    "start = '2018-04-12-0'\n",
    "end   = '2018-05-05-23'\n",
    "url = 'https://biendata.com/competition/airquality/ld/'+start +'/'+end+'/2k0d1d8'\n",
    "respones= requests.get(url)\n",
    "with open ('/home/lifuzhen/KDD2018/Mini_train/ld_airquality_'+start +'_'+end+'.csv','w') as f:\n",
    "    f.write(respones.text)\n",
    "    \n",
    "url = 'https://biendata.com/competition/meteorology/ld_grid/'+start +'/'+end+'/2k0d1d8'\n",
    "respones= requests.get(url)\n",
    "with open ('/home/lifuzhen/KDD2018/Mini_train/ld_grid_meteorology_'+start +'_'+end+'.csv','w') as f:\n",
    "    f.write(respones.text)"
   ]
  },
  {
   "cell_type": "code",
   "execution_count": 96,
   "metadata": {},
   "outputs": [],
   "source": [
    "Medium_PM10 = 13.437369\n",
    "Medium_PM25 = 20.921357\n",
    "Medium_O3   = 43.428245\n",
    "\n",
    "def to_timedict_ld(start, end):\n",
    "    \"输入时间和表格，返回字典\"\n",
    "    aq = pd.read_csv('/home/lifuzhen/KDD2018/Mini_train/ld_airquality_'+str(start).split(' ')[0]+'-'+str(int(str(start).split(' ')[1].split(':')[0])) +'_'+str(end).split(' ')[0]+'-'+str(int(str(end).split(' ')[1].split(':')[0]))+'.csv')\n",
    "    meo_grid = pd.read_csv('/home/lifuzhen/KDD2018/Mini_train/ld_grid_meteorology_'+str(start).split(' ')[0]+'-'+str(int(str(start).split(' ')[1].split(':')[0])) +'_'+str(end).split(' ')[0]+'-'+str(int(str(end).split(' ')[1].split(':')[0]))+'.csv')\n",
    "    meo_grid.drop('id',axis=1, inplace = True)\n",
    "    meo_grid.drop_duplicates(inplace = True)\n",
    "    meo_grid.reset_index(drop = True, inplace =True)\n",
    "    alt_list = get_date_list(Start , End)\n",
    "    alt_dict = {}\n",
    "    recons = pd.DataFrame(columns=('station_id','MeasurementDateGMT','PM2.5 (ug/m3)','PM10 (ug/m3)','NO2 (ug/m3)'))\n",
    "    \n",
    "    for i in alt_list:\n",
    "        alt_dict[i] = []\n",
    "    alt = np.array(aq[['station_id','time','PM25_Concentration','PM10_Concentration','NO2_Concentration']]).tolist()\n",
    "    for i in tqdm(['CD1','BL0','GR4','MY7','HV1','GN3','GR9','LW2','GN0','KF1','CD9','ST5','TH4']):\n",
    "        count = 0\n",
    "        for j in aq['station_id']:\n",
    "            if j.split('_')[0] == i:\n",
    "                recons.loc[count] = alt[count]\n",
    "            count += 1 \n",
    "#     print(recons)\n",
    "    recons.drop_duplicates(inplace = True)\n",
    "    recons.reset_index(drop=True,inplace=True)\n",
    "    recons.interpolate(inplace = True)\n",
    "#     print(recons.loc[recons['station_id'] == 'TH4' , 'NO2 (ug/m3)'])\n",
    "    recons['PM2.5 (ug/m3)'].fillna(Medium_PM25, inplace = True)\n",
    "    recons['PM10 (ug/m3)'].fillna(Medium_PM10, inplace = True)\n",
    "    recons['NO2 (ug/m3)'].fillna(Medium_NO2, inplace = True)\n",
    "\n",
    "    recons['lon'] = 0 ##经度\n",
    "    recons['lat'] = 0  ##纬度\n",
    "    recons.loc[recons['station_id']=='BL0',['lon','lat']] = [-0.125848,51.522287]\n",
    "    recons.loc[recons['station_id']=='CD9',['lon','lat']] = [-0.129053205,51.52770662]\n",
    "    recons.loc[recons['station_id']=='CD1',['lon','lat']] = [-0.175284,51.544219]\n",
    "    recons.loc[recons['station_id']=='GN0',['lon','lat']] = [0.074003,51.490532]\n",
    "    recons.loc[recons['station_id']=='GR4',['lon','lat']] = [0.070766,51.45258]\n",
    "    recons.loc[recons['station_id']=='GN3',['lon','lat']] = [0.095111,51.486957]\n",
    "    recons.loc[recons['station_id']=='GR9',['lon','lat']] = [0.040725,51.456357]\n",
    "    recons.loc[recons['station_id']=='HV1',['lon','lat']] = [0.205460706,51.52078746]\n",
    "    recons.loc[recons['station_id']=='KF1',['lon','lat']] = [-0.21349214,51.52104675]\n",
    "    recons.loc[recons['station_id']=='LW2',['lon','lat']] = [-0.039641,51.474954]\n",
    "    recons.loc[recons['station_id']=='ST5',['lon','lat']] = [-0.141661525,51.3892869]\n",
    "    recons.loc[recons['station_id']=='TH4',['lon','lat']] = [-0.008418493,51.51504617]\n",
    "    recons.loc[recons['station_id']=='MY7',['lon','lat']] = [-0.125848,51.522287]\n",
    "    recons.loc[recons['station_id']=='BL0',['lon','lat']] = [-0.15459,51.52254]\n",
    "        \n",
    "    count = 0\n",
    "    Idx = 0  ####索引记录####\n",
    "    recons_list = np.array(recons[['lon','lat']]).tolist()\n",
    "    for i in tqdm(np.array(recons['MeasurementDateGMT']).tolist()):\n",
    "        if i in alt_dict.keys():\n",
    "            alt_dict[i].extend(recons_list[Idx])\n",
    "\n",
    "        Idx += 1\n",
    "    \n",
    "    count = 0\n",
    "    Idx = 0  ####索引记录####\n",
    "    recons_list = np.array(recons[['PM2.5 (ug/m3)','PM10 (ug/m3)','NO2 (ug/m3)']]).tolist()\n",
    "    for i in tqdm(np.array(recons['MeasurementDateGMT']).tolist()):\n",
    "        if i in alt_dict.keys():\n",
    "            alt_dict[i].extend(recons_list[Idx])\n",
    "\n",
    "        Idx += 1\n",
    "    length = []\n",
    "    for k,v in alt_dict.items():\n",
    "        length.append(len(v))\n",
    "        if len(v) <65:\n",
    "            print(k)\n",
    "            print(len(v))\n",
    "    print(max(length))\n",
    "    print(min(length))\n",
    "\n",
    "    for k,v in alt_dict.items():\n",
    "        if len(v) < max(length):\n",
    "            if int(k.split(' ')[1].split(':')[0])!= 0:\n",
    "                alt_dict[k] = copy.deepcopy(alt_dict[k.split(' ')[0]+' '+str(int(k.split(' ')[1].split(':')[0])-1).zfill(2)+':00:00'])\n",
    "                if len(alt_dict[k]) < max(length):\n",
    "                    alt_dict[k] = copy.deepcopy(alt_dict[k.split(' ')[0]+' '+str(int(k.split(' ')[1].split(':')[0])+1).zfill(2)+':00:00'])\n",
    "            if int(k.split(' ')[1].split(':')[0]) == 0:\n",
    "                alt_dict[k] = copy.deepcopy(alt_dict[k.split(' ')[0]+' '+str(int(k.split(' ')[1].split(':')[0])+1).zfill(2)+':00:00'])\n",
    "    for k,v in alt_dict.items():\n",
    "        if len(v) < max(length):\n",
    "            if int(k.split(' ')[1].split(':')[0])!= 0:\n",
    "                alt_dict[k] = copy.deepcopy(alt_dict[k.split(' ')[0]+' '+str(int(k.split(' ')[1].split(':')[0])-1).zfill(2)+':00:00'])\n",
    "                if len(alt_dict[k]) < max(length):\n",
    "                    alt_dict[k] = copy.deepcopy(alt_dict[k.split(' ')[0]+' '+str(int(k.split(' ')[1].split(':')[0])+1).zfill(2)+':00:00'])\n",
    "            if int(k.split(' ')[1].split(':')[0]) == 0:\n",
    "                alt_dict[k] = copy.deepcopy(alt_dict[k.split(' ')[0]+' '+str(int(k.split(' ')[1].split(':')[0])+1).zfill(2)+':00:00'])\n",
    "    length = []\n",
    "    for k,v in alt_dict.items():\n",
    "        length.append(len(v))\n",
    "        if len(v) <65:\n",
    "            print(k)\n",
    "            print(len(v))\n",
    "    print(max(length))\n",
    "    print(min(length))\n",
    "#     print(recons)\n",
    "    \n",
    "#     meo_grid['longitude'] = 0 ##经度\n",
    "#     meo_grid['latitude'] = 0  ##纬度\n",
    "#     count = 0\n",
    "#     for i in range(-20,21,1):\n",
    "#         for j in range(505,526,1):\n",
    "#             if (i >= -4 and i <=3) and (j >= 513 and j <= 517):\n",
    "#                 meo_grid.loc[meo_grid['station_id']=='london_grid_'+str(count).zfill(3),['longitude','latitude']] = [i/10.0,j/10.0]\n",
    "#             count += 1\n",
    "# #     print(meo_grid)\n",
    "#     meo_grid.drop(meo_grid[meo_grid['longitude'] < -0.4].index.tolist(),inplace= True)\n",
    "#     meo_grid.drop(meo_grid[meo_grid['longitude'] >  0.3].index.tolist(),inplace= True)\n",
    "#     meo_grid.drop(meo_grid[meo_grid['latitude']  < 51.3].index.tolist(),inplace= True)\n",
    "#     meo_grid.drop(meo_grid[meo_grid['latitude']  > 51.7].index.tolist(),inplace= True)\n",
    "#     meo_grid.reset_index(drop = True,inplace = True)\n",
    "#     def div5(x):\n",
    "#         return int(x/5)\n",
    "#     def div15(x):\n",
    "#         return int(x/15)\n",
    "#     def div05(x):\n",
    "#         return int(x/0.5)\n",
    "#     meo_grid['temperature'] = meo_grid['temperature'].apply(div5)\n",
    "#     meo_grid['pressure'] = meo_grid['pressure'].apply(div5)\n",
    "#     meo_grid['humidity'] = meo_grid['humidity'].apply(div5)\n",
    "#     meo_grid['wind_direction'] = meo_grid['wind_direction'].apply(div15)\n",
    "#     meo_grid['wind_speed/kph'] = meo_grid['wind_speed'].apply(div05)\n",
    "# #     print(meo_grid)\n",
    "#     count = 1\n",
    "#     Idx = 0  ####索引记录####\n",
    "# #     print(meo_grid['station_id'][15561])\n",
    "#     meo_grid_list = np.array(meo_grid[['temperature','pressure','humidity','wind_direction','wind_speed']]).tolist()\n",
    "#     for i in tqdm(meo_grid['time']):\n",
    "#         if i in alt_dict.keys():\n",
    "            \n",
    "#             if Idx > 0:\n",
    "#                 count = int(meo_grid['station_id'][Idx].split('_')[2]) - int(meo_grid['station_id'][Idx-1].split('_')[2])\n",
    "                \n",
    "#             if count > 1 and count < 17:\n",
    "#                 for j in range(count-1):\n",
    "#                     alt_dict[i].extend(meo_grid_list[Idx-1]) \n",
    "#             if count > 17:\n",
    "#                 for j in range(count-17):\n",
    "#                     alt_dict[i].extend(meo_grid_list[Idx+1]) \n",
    "#             alt_dict[i].extend(meo_grid_list[Idx])\n",
    "#         Idx += 1\n",
    "        \n",
    "#     length = []\n",
    "#     for k,v in alt_dict.items():\n",
    "#         length.append(len(v))\n",
    "# #         if len(v) == 2217:\n",
    "# #             print(k)\n",
    "# #             print(len(v))\n",
    "#     print(max(length))\n",
    "#     print(min(length))\n",
    "#     for i in range(3):\n",
    "#         for k,v in alt_dict.items():\n",
    "#             if len(v) < max(length):\n",
    "#                 if int(k.split(' ')[1].split(':')[0])!= 0:\n",
    "#                     alt_dict[k] = copy.deepcopy(alt_dict[k.split(' ')[0]+' '+str(int(k.split(' ')[1].split(':')[0])-1).zfill(2)+':00:00'])\n",
    "#                 else:\n",
    "#                     alt_dict[k] = copy.deepcopy(alt_dict[k.split(' ')[0]+' '+str(int(k.split(' ')[1].split(':')[0])+1).zfill(2)+':00:00'])\n",
    "    \n",
    "    pop_list = []\n",
    "    for k in tqdm(alt_dict.keys()):\n",
    "        weather_fore = pd.read_csv('/home/lifuzhen/KDD2018/Mini_train/ld_grid_meteorology_forecast_48_hours_'+k.split(' ')[0]+'-'+str(int(k.split(' ')[1].split(':')[0]))+'.csv')\n",
    "        if np.array(weather_fore).tolist() == []:\n",
    "            pop_list.append(k)\n",
    "            continue\n",
    "        weather_fore['weather'].replace(['CLEAR_DAY','CLEAR_NIGHT','CLOUDY','PARTLY_CLOUDY_DAY','PARTLY_CLOUDY_NIGHT','RAIN','SNOW','WIND','HAZE'],[0,1,2,3,4,5,6,7,8],inplace=True)\n",
    "        weather_fore['longitude'] = 0 ##经度\n",
    "        weather_fore['latitude'] = 0  ##纬度\n",
    "        count = 0\n",
    "#         print(k)\n",
    "        for i in range(-20,21,1):\n",
    "            for j in range(505,526,1):\n",
    "                if (i >= -4 and i <= 3) and (j >= 513 and j <= 517):\n",
    "                    weather_fore.loc[weather_fore['station_id']=='london_grid_'+str(count).zfill(3),['longitude','latitude']] = [i/10.0,j/10.0]\n",
    "#                     print([i,j])\n",
    "                count += 1\n",
    "\n",
    "        weather_fore.drop(weather_fore[weather_fore['longitude'] < -0.4].index.tolist(),inplace= True)\n",
    "        weather_fore.drop(weather_fore[weather_fore['longitude'] > 0.3].index.tolist(),inplace= True)\n",
    "        weather_fore.drop(weather_fore[weather_fore['latitude']  < 51.3].index.tolist(),inplace= True)\n",
    "        weather_fore.drop(weather_fore[weather_fore['latitude']  > 51.7].index.tolist(),inplace= True)\n",
    "        weather_fore.reset_index(drop=True,inplace=True)\n",
    "        \n",
    "        weather_fore_array = np.array(weather_fore['weather'])\n",
    "        alt_dict[k].extend(weather_fore_array.tolist())\n",
    "#         print(len(alt_dict[k]))\n",
    "        if len(alt_dict[k]) != 1985:\n",
    "            pop_list.append(k)\n",
    "    for i in pop_list:\n",
    "        alt_dict[i].extend(np.zeros(1985-len(alt_dict[i])).tolist())\n",
    "    for k,v in alt_dict.items():\n",
    "        length.append(len(v))\n",
    "#         if len(v) != 1963:\n",
    "#             print(k)\n",
    "#             print(len(v))\n",
    "    print(max(length))\n",
    "    print(min(length))\n",
    "    \n",
    "    alt_frame = pd.DataFrame.from_dict(alt_dict).T\n",
    "    count = 0\n",
    "    for i in list(alt_frame.index):\n",
    "        if i in pop_list:\n",
    "            alt_frame.iloc[count,list(range(65,1985))] = copy.deepcopy(alt_frame.iloc[count-1,list(range(65,1985))])\n",
    "            alt_dict[i][65:1985] = copy.deepcopy(alt_frame.iloc[count-1,list(range(65,1985))]).tolist()\n",
    "        count += 1\n",
    "#     print(alt_frame[62])\n",
    "    ##########提取aq 48小时滑窗##########\n",
    "    win = 48\n",
    "#     win = 72\n",
    "#     win = 168\n",
    "\n",
    "    for i in tqdm(range(26,65)):  \n",
    "        count = 0\n",
    "        for j in alt_frame[i]:\n",
    "            if count >= win:\n",
    "                alt_dict[alt_frame.index[count]].extend(np.array(alt_frame[i][count-win:count]).tolist())\n",
    "                if i == 64:\n",
    "                    if date.isoweekday(datetime.strptime(alt_frame.index[count], \"%Y-%m-%d %H:%M:%S\")) == 3 or date.isoweekday(datetime.strptime(alt_frame.index[count], \"%Y-%m-%d %H:%M:%S\")) == 4: ###要预测的是周末\n",
    "                        alt_dict[alt_frame.index[count]].extend([1])\n",
    "                    else:\n",
    "                        alt_dict[alt_frame.index[count]].extend([0])\n",
    "                    if int(alt_frame.index[count].split(' ')[1].split(':')[0]) in [8,9,10,18,19,20]: #####是否为早晚高峰时段（北京转utc时间）\n",
    "                        alt_dict[alt_frame.index[count]].extend([2])\n",
    "                    elif int(alt_frame.index[count].split(' ')[1].split(':')[0]) in [0,1,2,3,4,5]:\n",
    "                        alt_dict[alt_frame.index[count]].extend([1])\n",
    "                    else:\n",
    "                        alt_dict[alt_frame.index[count]].extend([0])\n",
    "                    alt_dict[alt_frame.index[count]].append(int(alt_frame.index[count].split(' ')[1].split(':')[0]))\n",
    "            count += 1\n",
    "            \n",
    "    hour_last = ''\n",
    "    count = 0\n",
    "    for k in tqdm(list(alt_frame.index)):\n",
    "        for i in range(0,3):\n",
    "            SUM = 0\n",
    "            for j in range(0,13):\n",
    "                SUM += alt_dict[k][26+j*3+i]\n",
    "            alt_dict[k].append(SUM)\n",
    "\n",
    "        if count == 0:\n",
    "            alt_dict[k].extend([0,0,0])\n",
    "        else:\n",
    "            for m,n in zip(alt_dict[k][-3:] ,alt_dict[hour_last][-6:-3]):\n",
    "                alt_dict[k].append(m-n)\n",
    "        hour_last = k\n",
    "        count += 1\n",
    "    ##########标签值 PM10 PM2.5 O3##########\n",
    "    step = 72\n",
    "    for i in tqdm(range(26,65)):  ##训练数据\n",
    "        count = 0\n",
    "        for j in alt_frame[i]:\n",
    "            if count+step < len(alt_frame[i]) and ((i-26)%3 == 0 or (i-26)%3 == 1):\n",
    "                alt_dict[alt_frame.index[count]].append(np.array(alt_frame[i][count+step]).tolist())\n",
    "            count += 1\n",
    "    length = []\n",
    "    for k,v in alt_dict.items():\n",
    "        length.append(len(v))\n",
    "#         if len(v) < 6092:\n",
    "#             print(k)\n",
    "#             print(len(v))\n",
    "    print(max(length))\n",
    "    print(min(length))\n",
    "            \n",
    "    pop_list = []\n",
    "    for i in alt_dict.keys():\n",
    "        if len(alt_dict[i])<max(length):\n",
    "            pop_list.append(i)\n",
    "    for i in pop_list:\n",
    "        alt_dict.pop(i)\n",
    "        \n",
    "    length = []\n",
    "    for k,v in alt_dict.items():\n",
    "        length.append(len(v))\n",
    "#         if len(v) == 4960:\n",
    "#             print(k)\n",
    "#             print(len(v))\n",
    "    print(max(length))\n",
    "    print(min(length))\n",
    "    \n",
    "    return alt_dict"
   ]
  },
  {
   "cell_type": "code",
   "execution_count": 97,
   "metadata": {
    "scrolled": true
   },
   "outputs": [
    {
     "name": "stderr",
     "output_type": "stream",
     "text": [
      "100%|██████████| 13/13 [00:17<00:00,  1.38s/it]\n",
      "100%|██████████| 8272/8272 [00:00<00:00, 1421821.27it/s]\n",
      "100%|██████████| 8272/8272 [00:00<00:00, 1525402.62it/s]\n",
      "  0%|          | 0/648 [00:00<?, ?it/s]"
     ]
    },
    {
     "name": "stdout",
     "output_type": "stream",
     "text": [
      "2018-05-08 19:00:00\n",
      "50\n",
      "2018-04-14 20:00:00\n",
      "0\n",
      "2018-04-16 14:00:00\n",
      "0\n",
      "2018-04-22 23:00:00\n",
      "60\n",
      "2018-04-21 23:00:00\n",
      "15\n",
      "2018-04-17 05:00:00\n",
      "0\n",
      "2018-04-20 11:00:00\n",
      "0\n",
      "2018-04-19 05:00:00\n",
      "0\n",
      "2018-04-13 18:00:00\n",
      "0\n",
      "2018-04-20 10:00:00\n",
      "0\n",
      "2018-04-23 00:00:00\n",
      "60\n",
      "2018-04-23 01:00:00\n",
      "60\n",
      "2018-04-23 13:00:00\n",
      "0\n",
      "2018-04-25 15:00:00\n",
      "55\n",
      "2018-04-19 08:00:00\n",
      "60\n",
      "2018-04-28 08:00:00\n",
      "55\n",
      "2018-04-19 06:00:00\n",
      "0\n",
      "2018-04-18 19:00:00\n",
      "60\n",
      "2018-04-15 11:00:00\n",
      "0\n",
      "65\n",
      "0\n",
      "65\n",
      "65\n"
     ]
    },
    {
     "name": "stderr",
     "output_type": "stream",
     "text": [
      "100%|██████████| 648/648 [04:23<00:00,  2.46it/s]\n",
      " 15%|█▌        | 6/39 [00:00<00:01, 21.03it/s]"
     ]
    },
    {
     "name": "stdout",
     "output_type": "stream",
     "text": [
      "1985\n",
      "65\n"
     ]
    },
    {
     "name": "stderr",
     "output_type": "stream",
     "text": [
      "100%|██████████| 39/39 [00:01<00:00, 20.77it/s]\n",
      "100%|██████████| 648/648 [00:00<00:00, 116463.51it/s]\n",
      "100%|██████████| 39/39 [00:00<00:00, 126.01it/s]\n"
     ]
    },
    {
     "name": "stdout",
     "output_type": "stream",
     "text": [
      "3892\n",
      "2017\n",
      "3892\n",
      "3892\n"
     ]
    }
   ],
   "source": [
    "Start = datetime.strptime(\"2018-04-12 00:00:00\", \"%Y-%m-%d %H:%M:%S\")\n",
    "End = datetime.strptime(\"2018-05-08 23:00:00\", \"%Y-%m-%d %H:%M:%S\")\n",
    "pre_dict_ld = to_timedict_ld(start = Start, end = End)\n",
    "pre_frame_ld = pd.DataFrame.from_dict(pre_dict_ld).T\n",
    "pre_list_ld = np.array(pre_frame_ld)"
   ]
  },
  {
   "cell_type": "code",
   "execution_count": 87,
   "metadata": {},
   "outputs": [
    {
     "data": {
      "text/plain": [
       "Index(['2018-04-14 00:00:00', '2018-04-14 01:00:00', '2018-04-14 02:00:00',\n",
       "       '2018-04-14 03:00:00', '2018-04-14 04:00:00', '2018-04-14 05:00:00',\n",
       "       '2018-04-14 06:00:00', '2018-04-14 07:00:00', '2018-04-14 08:00:00',\n",
       "       '2018-04-14 09:00:00',\n",
       "       ...\n",
       "       '2018-05-02 14:00:00', '2018-05-02 15:00:00', '2018-05-02 16:00:00',\n",
       "       '2018-05-02 17:00:00', '2018-05-02 18:00:00', '2018-05-02 19:00:00',\n",
       "       '2018-05-02 20:00:00', '2018-05-02 21:00:00', '2018-05-02 22:00:00',\n",
       "       '2018-05-02 23:00:00'],\n",
       "      dtype='object', length=456)"
      ]
     },
     "execution_count": 87,
     "metadata": {},
     "output_type": "execute_result"
    }
   ],
   "source": [
    "pre_frame_ld.index"
   ]
  },
  {
   "cell_type": "code",
   "execution_count": 88,
   "metadata": {},
   "outputs": [],
   "source": [
    "pre_frame_ld.to_csv('/home/lifuzhen/KDD2018/Mini_train/traindata_drop1/ld.csv')"
   ]
  },
  {
   "cell_type": "code",
   "execution_count": 89,
   "metadata": {},
   "outputs": [],
   "source": [
    "import pandas as pd\n",
    "import numpy as np\n",
    "beijing_train = np.array(pd.read_csv('/home/lifuzhen/KDD2018/Mini_train/traindata_drop1/bj.csv'))[:,1:]\n",
    "London_train = np.array(pd.read_csv('/home/lifuzhen/KDD2018/Mini_train/traindata_drop1/ld.csv'))[:,1:]\n",
    "def sMAPE(preds, xgb_train):   \n",
    "    s = 0\n",
    "    label = xgb_train.get_label()\n",
    "    length = len(label)\n",
    "    for i in range(length):\n",
    "        s += float(np.abs(preds[i] - label[i]))/ (float(np.abs(preds[i]) + np.abs(label[i])) / 2.)\n",
    "    sMAPE = s/float(length)\n",
    "    return 'sMAPE',float(sMAPE)"
   ]
  },
  {
   "cell_type": "markdown",
   "metadata": {},
   "source": [
    "# MODEL BJ"
   ]
  },
  {
   "cell_type": "code",
   "execution_count": 90,
   "metadata": {},
   "outputs": [],
   "source": [
    "import xgboost as xgb\n",
    "from sklearn.cross_validation import train_test_split\n",
    "from tqdm import tqdm\n",
    "import matplotlib.pyplot as plt\n",
    "# train_data, val_data = train_test_split(beijing_train, test_size = 0.3, random_state = 1)###随机数原始为1\n",
    "train_data, val_data = beijing_train[:-48,:], beijing_train[-48:,:]###随机数原始为1"
   ]
  },
  {
   "cell_type": "code",
   "execution_count": 413,
   "metadata": {},
   "outputs": [
    {
     "name": "stdout",
     "output_type": "stream",
     "text": [
      "<class 'int'>\n",
      "<class 'numpy.int64'>\n",
      "<class 'float'>\n"
     ]
    }
   ],
   "source": [
    "a = 64\n",
    "b= np.abs(a)\n",
    "print(type(a))\n",
    "print(type(b))\n",
    "print(type(float(b)))"
   ]
  },
  {
   "cell_type": "markdown",
   "metadata": {},
   "source": [
    "# PM2.5"
   ]
  },
  {
   "cell_type": "code",
   "execution_count": 91,
   "metadata": {},
   "outputs": [
    {
     "name": "stderr",
     "output_type": "stream",
     "text": [
      "\r",
      "  0%|          | 0/34 [00:00<?, ?it/s]"
     ]
    },
    {
     "name": "stdout",
     "output_type": "stream",
     "text": [
      "(432, 11116)\n",
      "(48, 11116)\n",
      "[0]\ttrain-gamma-nloglik:126.582\tval-gamma-nloglik:143.219\ttrain-sMAPE:1.92654\tval-sMAPE:1.96962\n",
      "Multiple eval metrics have been passed: 'val-sMAPE' will be used for early stopping.\n",
      "\n",
      "Will train until val-sMAPE hasn't improved in 50 rounds.\n",
      "[10]\ttrain-gamma-nloglik:77.4982\tval-gamma-nloglik:87.6519\ttrain-sMAPE:1.88278\tval-sMAPE:1.95048\n",
      "[20]\ttrain-gamma-nloglik:47.9194\tval-gamma-nloglik:54.1412\ttrain-sMAPE:1.81611\tval-sMAPE:1.91988\n",
      "[30]\ttrain-gamma-nloglik:30.1625\tval-gamma-nloglik:34.0205\ttrain-sMAPE:1.72002\tval-sMAPE:1.87197\n",
      "[40]\ttrain-gamma-nloglik:19.5699\tval-gamma-nloglik:21.9693\ttrain-sMAPE:1.58731\tval-sMAPE:1.79869\n",
      "[50]\ttrain-gamma-nloglik:13.3076\tval-gamma-nloglik:14.8226\ttrain-sMAPE:1.41741\tval-sMAPE:1.6914\n",
      "[60]\ttrain-gamma-nloglik:9.6558\tval-gamma-nloglik:10.6303\ttrain-sMAPE:1.22276\tval-sMAPE:1.54306\n",
      "[70]\ttrain-gamma-nloglik:7.55332\tval-gamma-nloglik:8.22573\ttrain-sMAPE:1.03914\tval-sMAPE:1.3553\n",
      "[80]\ttrain-gamma-nloglik:6.35959\tval-gamma-nloglik:6.9157\ttrain-sMAPE:0.867142\tval-sMAPE:1.14768\n",
      "[90]\ttrain-gamma-nloglik:5.6891\tval-gamma-nloglik:6.15212\ttrain-sMAPE:0.714472\tval-sMAPE:0.920367\n",
      "[100]\ttrain-gamma-nloglik:5.32148\tval-gamma-nloglik:5.76826\ttrain-sMAPE:0.581555\tval-sMAPE:0.716757\n",
      "[110]\ttrain-gamma-nloglik:5.11941\tval-gamma-nloglik:5.54087\ttrain-sMAPE:0.47623\tval-sMAPE:0.549189\n",
      "[120]\ttrain-gamma-nloglik:5.0104\tval-gamma-nloglik:5.44744\ttrain-sMAPE:0.405877\tval-sMAPE:0.449635\n",
      "[130]\ttrain-gamma-nloglik:4.94934\tval-gamma-nloglik:5.40033\ttrain-sMAPE:0.353404\tval-sMAPE:0.391535\n",
      "[140]\ttrain-gamma-nloglik:4.91474\tval-gamma-nloglik:5.37681\ttrain-sMAPE:0.320709\tval-sMAPE:0.353\n",
      "[150]\ttrain-gamma-nloglik:4.89412\tval-gamma-nloglik:5.36372\ttrain-sMAPE:0.297311\tval-sMAPE:0.324944\n",
      "[160]\ttrain-gamma-nloglik:4.88091\tval-gamma-nloglik:5.35782\ttrain-sMAPE:0.281673\tval-sMAPE:0.309942\n",
      "[170]\ttrain-gamma-nloglik:4.87152\tval-gamma-nloglik:5.35536\ttrain-sMAPE:0.267582\tval-sMAPE:0.303497\n",
      "[180]\ttrain-gamma-nloglik:4.86497\tval-gamma-nloglik:5.35276\ttrain-sMAPE:0.257372\tval-sMAPE:0.29606\n",
      "[190]\ttrain-gamma-nloglik:4.85942\tval-gamma-nloglik:5.3537\ttrain-sMAPE:0.246945\tval-sMAPE:0.296766\n",
      "[200]\ttrain-gamma-nloglik:4.855\tval-gamma-nloglik:5.35395\ttrain-sMAPE:0.237522\tval-sMAPE:0.296627\n",
      "[210]\ttrain-gamma-nloglik:4.85138\tval-gamma-nloglik:5.35457\ttrain-sMAPE:0.228468\tval-sMAPE:0.295524\n",
      "[220]\ttrain-gamma-nloglik:4.84816\tval-gamma-nloglik:5.35681\ttrain-sMAPE:0.219788\tval-sMAPE:0.299677\n",
      "[230]\ttrain-gamma-nloglik:4.84526\tval-gamma-nloglik:5.35838\ttrain-sMAPE:0.211855\tval-sMAPE:0.301676\n",
      "Stopping. Best iteration:\n",
      "[183]\ttrain-gamma-nloglik:4.86333\tval-gamma-nloglik:5.35214\ttrain-sMAPE:0.254768\tval-sMAPE:0.29419\n",
      "\n"
     ]
    },
    {
     "data": {
      "image/png": "[encoded data removed]",
      "text/plain": [
       "<matplotlib.figure.Figure at 0x7fd886402ba8>"
      ]
     },
     "metadata": {},
     "output_type": "display_data"
    },
    {
     "name": "stderr",
     "output_type": "stream",
     "text": [
      "\r",
      "  3%|▎         | 1/34 [00:07<04:17,  7.79s/it]"
     ]
    },
    {
     "name": "stdout",
     "output_type": "stream",
     "text": [
      "(432, 11116)\n",
      "(48, 11116)\n",
      "[0]\ttrain-gamma-nloglik:124.781\tval-gamma-nloglik:129.262\ttrain-sMAPE:1.92496\tval-sMAPE:1.96383\n",
      "Multiple eval metrics have been passed: 'val-sMAPE' will be used for early stopping.\n",
      "\n",
      "Will train until val-sMAPE hasn't improved in 50 rounds.\n",
      "[10]\ttrain-gamma-nloglik:76.4031\tval-gamma-nloglik:79.138\ttrain-sMAPE:1.88051\tval-sMAPE:1.94114\n",
      "[20]\ttrain-gamma-nloglik:47.2547\tval-gamma-nloglik:48.9308\ttrain-sMAPE:1.81303\tval-sMAPE:1.90501\n",
      "[30]\ttrain-gamma-nloglik:29.7605\tval-gamma-nloglik:30.7903\ttrain-sMAPE:1.71777\tval-sMAPE:1.84861\n",
      "[40]\ttrain-gamma-nloglik:19.3195\tval-gamma-nloglik:19.9595\ttrain-sMAPE:1.5874\tval-sMAPE:1.76326\n",
      "[50]\ttrain-gamma-nloglik:13.1515\tval-gamma-nloglik:13.5562\ttrain-sMAPE:1.41509\tval-sMAPE:1.63997\n",
      "[60]\ttrain-gamma-nloglik:9.55868\tval-gamma-nloglik:9.82338\ttrain-sMAPE:1.20732\tval-sMAPE:1.47293\n",
      "[70]\ttrain-gamma-nloglik:7.50294\tval-gamma-nloglik:7.68595\ttrain-sMAPE:0.998383\tval-sMAPE:1.26412\n",
      "[80]\ttrain-gamma-nloglik:6.3455\tval-gamma-nloglik:6.56367\ttrain-sMAPE:0.81688\tval-sMAPE:1.05089\n",
      "[90]\ttrain-gamma-nloglik:5.6977\tval-gamma-nloglik:6.06239\ttrain-sMAPE:0.680889\tval-sMAPE:0.870831\n",
      "[100]\ttrain-gamma-nloglik:5.33305\tval-gamma-nloglik:5.81366\ttrain-sMAPE:0.578087\tval-sMAPE:0.735145\n",
      "[110]\ttrain-gamma-nloglik:5.13045\tval-gamma-nloglik:5.69184\ttrain-sMAPE:0.507994\tval-sMAPE:0.652335\n",
      "[120]\ttrain-gamma-nloglik:5.01523\tval-gamma-nloglik:5.62994\ttrain-sMAPE:0.458921\tval-sMAPE:0.607747\n",
      "[130]\ttrain-gamma-nloglik:4.94953\tval-gamma-nloglik:5.57151\ttrain-sMAPE:0.419077\tval-sMAPE:0.586625\n",
      "[140]\ttrain-gamma-nloglik:4.91041\tval-gamma-nloglik:5.53895\ttrain-sMAPE:0.385475\tval-sMAPE:0.580299\n",
      "[150]\ttrain-gamma-nloglik:4.88497\tval-gamma-nloglik:5.53002\ttrain-sMAPE:0.355726\tval-sMAPE:0.577483\n",
      "[160]\ttrain-gamma-nloglik:4.87069\tval-gamma-nloglik:5.50904\ttrain-sMAPE:0.33574\tval-sMAPE:0.573984\n",
      "[170]\ttrain-gamma-nloglik:4.85912\tval-gamma-nloglik:5.50073\ttrain-sMAPE:0.315789\tval-sMAPE:0.573116\n",
      "[180]\ttrain-gamma-nloglik:4.85127\tval-gamma-nloglik:5.48498\ttrain-sMAPE:0.300542\tval-sMAPE:0.564456\n",
      "[190]\ttrain-gamma-nloglik:4.84518\tval-gamma-nloglik:5.47741\ttrain-sMAPE:0.286882\tval-sMAPE:0.560763\n",
      "[200]\ttrain-gamma-nloglik:4.83971\tval-gamma-nloglik:5.48313\ttrain-sMAPE:0.274027\tval-sMAPE:0.561605\n",
      "[210]\ttrain-gamma-nloglik:4.83565\tval-gamma-nloglik:5.47807\ttrain-sMAPE:0.263414\tval-sMAPE:0.556553\n",
      "[220]\ttrain-gamma-nloglik:4.83151\tval-gamma-nloglik:5.47957\ttrain-sMAPE:0.253155\tval-sMAPE:0.555738\n",
      "[230]\ttrain-gamma-nloglik:4.82809\tval-gamma-nloglik:5.48144\ttrain-sMAPE:0.243744\tval-sMAPE:0.552345\n",
      "[240]\ttrain-gamma-nloglik:4.82491\tval-gamma-nloglik:5.48537\ttrain-sMAPE:0.235469\tval-sMAPE:0.553357\n",
      "[250]\ttrain-gamma-nloglik:4.82224\tval-gamma-nloglik:5.48316\ttrain-sMAPE:0.2277\tval-sMAPE:0.552689\n",
      "[260]\ttrain-gamma-nloglik:4.81982\tval-gamma-nloglik:5.48828\ttrain-sMAPE:0.220419\tval-sMAPE:0.553304\n",
      "[270]\ttrain-gamma-nloglik:4.81759\tval-gamma-nloglik:5.48673\ttrain-sMAPE:0.214116\tval-sMAPE:0.550599\n",
      "[280]\ttrain-gamma-nloglik:4.81566\tval-gamma-nloglik:5.4887\ttrain-sMAPE:0.208381\tval-sMAPE:0.552174\n",
      "[290]\ttrain-gamma-nloglik:4.81395\tval-gamma-nloglik:5.49013\ttrain-sMAPE:0.202931\tval-sMAPE:0.552173\n",
      "[300]\ttrain-gamma-nloglik:4.81239\tval-gamma-nloglik:5.4933\ttrain-sMAPE:0.197972\tval-sMAPE:0.552211\n",
      "[310]\ttrain-gamma-nloglik:4.81087\tval-gamma-nloglik:5.49229\ttrain-sMAPE:0.192935\tval-sMAPE:0.551525\n",
      "Stopping. Best iteration:\n",
      "[266]\ttrain-gamma-nloglik:4.81839\tval-gamma-nloglik:5.48564\ttrain-sMAPE:0.216301\tval-sMAPE:0.549977\n",
      "\n"
     ]
    },
    {
     "data": {
      "image/png": "[encoded data removed]",
      "text/plain": [
       "<matplotlib.figure.Figure at 0x7fd89834fef0>"
      ]
     },
     "metadata": {},
     "output_type": "display_data"
    },
    {
     "name": "stderr",
     "output_type": "stream",
     "text": [
      "\r",
      "  6%|▌         | 2/34 [00:17<04:47,  8.98s/it]"
     ]
    },
    {
     "name": "stdout",
     "output_type": "stream",
     "text": [
      "(432, 11116)\n",
      "(48, 11116)\n",
      "[0]\ttrain-gamma-nloglik:117.374\tval-gamma-nloglik:126.133\ttrain-sMAPE:1.90954\tval-sMAPE:1.96478\n",
      "Multiple eval metrics have been passed: 'val-sMAPE' will be used for early stopping.\n",
      "\n",
      "Will train until val-sMAPE hasn't improved in 50 rounds.\n",
      "[10]\ttrain-gamma-nloglik:71.9102\tval-gamma-nloglik:77.2585\ttrain-sMAPE:1.85639\tval-sMAPE:1.94269\n",
      "[20]\ttrain-gamma-nloglik:44.5279\tval-gamma-nloglik:47.8077\ttrain-sMAPE:1.77652\tval-sMAPE:1.90748\n",
      "[30]\ttrain-gamma-nloglik:28.1052\tval-gamma-nloglik:30.1275\ttrain-sMAPE:1.6633\tval-sMAPE:1.8525\n",
      "[40]\ttrain-gamma-nloglik:18.3161\tval-gamma-nloglik:19.5759\ttrain-sMAPE:1.51172\tval-sMAPE:1.76929\n",
      "[50]\ttrain-gamma-nloglik:12.5348\tval-gamma-nloglik:13.3237\ttrain-sMAPE:1.33945\tval-sMAPE:1.64856\n",
      "[60]\ttrain-gamma-nloglik:9.16278\tval-gamma-nloglik:9.67328\ttrain-sMAPE:1.15004\tval-sMAPE:1.48397\n",
      "[70]\ttrain-gamma-nloglik:7.22489\tval-gamma-nloglik:7.59128\ttrain-sMAPE:0.977335\tval-sMAPE:1.28013\n",
      "[80]\ttrain-gamma-nloglik:6.12953\tval-gamma-nloglik:6.54624\ttrain-sMAPE:0.826385\tval-sMAPE:1.09058\n",
      "[90]\ttrain-gamma-nloglik:5.52166\tval-gamma-nloglik:5.96586\ttrain-sMAPE:0.703676\tval-sMAPE:0.910628\n",
      "[100]\ttrain-gamma-nloglik:5.18343\tval-gamma-nloglik:5.69255\ttrain-sMAPE:0.608506\tval-sMAPE:0.757879\n",
      "[110]\ttrain-gamma-nloglik:4.99383\tval-gamma-nloglik:5.51176\ttrain-sMAPE:0.535804\tval-sMAPE:0.625864\n",
      "[120]\ttrain-gamma-nloglik:4.88662\tval-gamma-nloglik:5.4117\ttrain-sMAPE:0.48223\tval-sMAPE:0.518698\n",
      "[130]\ttrain-gamma-nloglik:4.82475\tval-gamma-nloglik:5.36073\ttrain-sMAPE:0.437884\tval-sMAPE:0.461305\n",
      "[140]\ttrain-gamma-nloglik:4.78804\tval-gamma-nloglik:5.33014\ttrain-sMAPE:0.400521\tval-sMAPE:0.419058\n",
      "[150]\ttrain-gamma-nloglik:4.76506\tval-gamma-nloglik:5.31629\ttrain-sMAPE:0.367813\tval-sMAPE:0.396199\n",
      "[160]\ttrain-gamma-nloglik:4.75136\tval-gamma-nloglik:5.29756\ttrain-sMAPE:0.344394\tval-sMAPE:0.373209\n",
      "[170]\ttrain-gamma-nloglik:4.74042\tval-gamma-nloglik:5.29489\ttrain-sMAPE:0.322407\tval-sMAPE:0.368411\n",
      "[180]\ttrain-gamma-nloglik:4.7334\tval-gamma-nloglik:5.29003\ttrain-sMAPE:0.308122\tval-sMAPE:0.364494\n",
      "[190]\ttrain-gamma-nloglik:4.72707\tval-gamma-nloglik:5.28871\ttrain-sMAPE:0.2939\tval-sMAPE:0.364041\n",
      "[200]\ttrain-gamma-nloglik:4.72148\tval-gamma-nloglik:5.28685\ttrain-sMAPE:0.279995\tval-sMAPE:0.362291\n",
      "[210]\ttrain-gamma-nloglik:4.71707\tval-gamma-nloglik:5.28432\ttrain-sMAPE:0.268134\tval-sMAPE:0.36252\n",
      "[220]\ttrain-gamma-nloglik:4.71279\tval-gamma-nloglik:5.28294\ttrain-sMAPE:0.25634\tval-sMAPE:0.363401\n",
      "[230]\ttrain-gamma-nloglik:4.70907\tval-gamma-nloglik:5.28647\ttrain-sMAPE:0.24532\tval-sMAPE:0.366849\n",
      "[240]\ttrain-gamma-nloglik:4.70577\tval-gamma-nloglik:5.28409\ttrain-sMAPE:0.235496\tval-sMAPE:0.363881\n",
      "[250]\ttrain-gamma-nloglik:4.70296\tval-gamma-nloglik:5.28811\ttrain-sMAPE:0.226587\tval-sMAPE:0.367901\n",
      "[260]\ttrain-gamma-nloglik:4.70033\tval-gamma-nloglik:5.29636\ttrain-sMAPE:0.217919\tval-sMAPE:0.375635\n",
      "Stopping. Best iteration:\n",
      "[213]\ttrain-gamma-nloglik:4.71582\tval-gamma-nloglik:5.28177\ttrain-sMAPE:0.265081\tval-sMAPE:0.360813\n",
      "\n"
     ]
    },
    {
     "data": {
      "image/png": "[encoded data removed]",
      "text/plain": [
       "<matplotlib.figure.Figure at 0x7fd8863fd080>"
      ]
     },
     "metadata": {},
     "output_type": "display_data"
    },
    {
     "name": "stderr",
     "output_type": "stream",
     "text": [
      "\r",
      "  9%|▉         | 3/34 [00:26<04:33,  8.83s/it]"
     ]
    },
    {
     "name": "stdout",
     "output_type": "stream",
     "text": [
      "(432, 11116)\n",
      "(48, 11116)\n",
      "[0]\ttrain-gamma-nloglik:112.588\tval-gamma-nloglik:159.704\ttrain-sMAPE:1.92541\tval-sMAPE:1.97121\n",
      "Multiple eval metrics have been passed: 'val-sMAPE' will be used for early stopping.\n",
      "\n",
      "Will train until val-sMAPE hasn't improved in 50 rounds.\n",
      "[10]\ttrain-gamma-nloglik:69.0081\tval-gamma-nloglik:97.785\ttrain-sMAPE:1.88071\tval-sMAPE:1.95312\n",
      "[20]\ttrain-gamma-nloglik:42.7674\tval-gamma-nloglik:60.4222\ttrain-sMAPE:1.81244\tval-sMAPE:1.92426\n",
      "[30]\ttrain-gamma-nloglik:27.0353\tval-gamma-nloglik:37.9437\ttrain-sMAPE:1.7122\tval-sMAPE:1.8791\n",
      "[40]\ttrain-gamma-nloglik:17.6672\tval-gamma-nloglik:24.4787\ttrain-sMAPE:1.57627\tval-sMAPE:1.81051\n",
      "[50]\ttrain-gamma-nloglik:12.1482\tval-gamma-nloglik:16.4711\ttrain-sMAPE:1.40118\tval-sMAPE:1.71085\n",
      "[60]\ttrain-gamma-nloglik:8.94408\tval-gamma-nloglik:11.7702\ttrain-sMAPE:1.19361\tval-sMAPE:1.57502\n",
      "[70]\ttrain-gamma-nloglik:7.10949\tval-gamma-nloglik:9.02372\ttrain-sMAPE:1.01012\tval-sMAPE:1.40591\n",
      "[80]\ttrain-gamma-nloglik:6.07492\tval-gamma-nloglik:7.44933\ttrain-sMAPE:0.851224\tval-sMAPE:1.21375\n",
      "[90]\ttrain-gamma-nloglik:5.50198\tval-gamma-nloglik:6.57218\ttrain-sMAPE:0.71033\tval-sMAPE:1.01814\n",
      "[100]\ttrain-gamma-nloglik:5.19064\tval-gamma-nloglik:6.07434\ttrain-sMAPE:0.590884\tval-sMAPE:0.829052\n",
      "[110]\ttrain-gamma-nloglik:5.02203\tval-gamma-nloglik:5.82906\ttrain-sMAPE:0.500722\tval-sMAPE:0.69583\n",
      "[120]\ttrain-gamma-nloglik:4.92841\tval-gamma-nloglik:5.70843\ttrain-sMAPE:0.436804\tval-sMAPE:0.615058\n",
      "[130]\ttrain-gamma-nloglik:4.87486\tval-gamma-nloglik:5.63653\ttrain-sMAPE:0.388038\tval-sMAPE:0.551093\n",
      "[140]\ttrain-gamma-nloglik:4.84377\tval-gamma-nloglik:5.59066\ttrain-sMAPE:0.352757\tval-sMAPE:0.508753\n",
      "[150]\ttrain-gamma-nloglik:4.82501\tval-gamma-nloglik:5.56034\ttrain-sMAPE:0.325877\tval-sMAPE:0.479061\n",
      "[160]\ttrain-gamma-nloglik:4.81311\tval-gamma-nloglik:5.53961\ttrain-sMAPE:0.305417\tval-sMAPE:0.454852\n",
      "[170]\ttrain-gamma-nloglik:4.80399\tval-gamma-nloglik:5.52996\ttrain-sMAPE:0.286987\tval-sMAPE:0.441689\n",
      "[180]\ttrain-gamma-nloglik:4.79711\tval-gamma-nloglik:5.52219\ttrain-sMAPE:0.270302\tval-sMAPE:0.428507\n",
      "[190]\ttrain-gamma-nloglik:4.79176\tval-gamma-nloglik:5.52014\ttrain-sMAPE:0.256735\tval-sMAPE:0.42244\n",
      "[200]\ttrain-gamma-nloglik:4.78709\tval-gamma-nloglik:5.52096\ttrain-sMAPE:0.243433\tval-sMAPE:0.420586\n",
      "[210]\ttrain-gamma-nloglik:4.78346\tval-gamma-nloglik:5.51648\ttrain-sMAPE:0.233067\tval-sMAPE:0.41371\n",
      "[220]\ttrain-gamma-nloglik:4.78026\tval-gamma-nloglik:5.51793\ttrain-sMAPE:0.223247\tval-sMAPE:0.412648\n",
      "[230]\ttrain-gamma-nloglik:4.77711\tval-gamma-nloglik:5.52373\ttrain-sMAPE:0.212998\tval-sMAPE:0.418603\n",
      "[240]\ttrain-gamma-nloglik:4.77467\tval-gamma-nloglik:5.52801\ttrain-sMAPE:0.205407\tval-sMAPE:0.421878\n",
      "[250]\ttrain-gamma-nloglik:4.77243\tval-gamma-nloglik:5.52927\ttrain-sMAPE:0.197973\tval-sMAPE:0.420675\n",
      "[260]\ttrain-gamma-nloglik:4.77042\tval-gamma-nloglik:5.53185\ttrain-sMAPE:0.190561\tval-sMAPE:0.421635\n",
      "[270]\ttrain-gamma-nloglik:4.76844\tval-gamma-nloglik:5.53824\ttrain-sMAPE:0.183587\tval-sMAPE:0.428983\n",
      "Stopping. Best iteration:\n",
      "[220]\ttrain-gamma-nloglik:4.78026\tval-gamma-nloglik:5.51793\ttrain-sMAPE:0.223247\tval-sMAPE:0.412648\n",
      "\n"
     ]
    },
    {
     "data": {
      "image/png": "[encoded data removed]",
      "text/plain": [
       "<matplotlib.figure.Figure at 0x7fd8bf837dd8>"
      ]
     },
     "metadata": {},
     "output_type": "display_data"
    },
    {
     "name": "stderr",
     "output_type": "stream",
     "text": [
      "\r",
      " 12%|█▏        | 4/34 [00:35<04:24,  8.81s/it]"
     ]
    },
    {
     "name": "stdout",
     "output_type": "stream",
     "text": [
      "(432, 11116)\n",
      "(48, 11116)\n",
      "[0]\ttrain-gamma-nloglik:119.936\tval-gamma-nloglik:108.9\ttrain-sMAPE:1.90042\tval-sMAPE:1.90984\n",
      "Multiple eval metrics have been passed: 'val-sMAPE' will be used for early stopping.\n",
      "\n",
      "Will train until val-sMAPE hasn't improved in 50 rounds.\n",
      "[10]\ttrain-gamma-nloglik:73.4653\tval-gamma-nloglik:66.7278\ttrain-sMAPE:1.84347\tval-sMAPE:1.86025\n",
      "[20]\ttrain-gamma-nloglik:45.4719\tval-gamma-nloglik:41.3413\ttrain-sMAPE:1.75965\tval-sMAPE:1.78914\n",
      "[30]\ttrain-gamma-nloglik:28.6782\tval-gamma-nloglik:26.1244\ttrain-sMAPE:1.64559\tval-sMAPE:1.69179\n",
      "[40]\ttrain-gamma-nloglik:18.6658\tval-gamma-nloglik:17.0679\ttrain-sMAPE:1.4991\tval-sMAPE:1.59693\n",
      "[50]\ttrain-gamma-nloglik:12.752\tval-gamma-nloglik:11.737\ttrain-sMAPE:1.33867\tval-sMAPE:1.50949\n",
      "[60]\ttrain-gamma-nloglik:9.29392\tval-gamma-nloglik:8.63655\ttrain-sMAPE:1.18345\tval-sMAPE:1.3857\n",
      "[70]\ttrain-gamma-nloglik:7.30296\tval-gamma-nloglik:6.91479\ttrain-sMAPE:1.03604\tval-sMAPE:1.22916\n",
      "[80]\ttrain-gamma-nloglik:6.17435\tval-gamma-nloglik:6.01236\ttrain-sMAPE:0.89441\tval-sMAPE:1.06052\n",
      "[90]\ttrain-gamma-nloglik:5.54504\tval-gamma-nloglik:5.52901\ttrain-sMAPE:0.765678\tval-sMAPE:0.909304\n",
      "[100]\ttrain-gamma-nloglik:5.19714\tval-gamma-nloglik:5.31604\ttrain-sMAPE:0.651797\tval-sMAPE:0.788536\n",
      "[110]\ttrain-gamma-nloglik:5.00655\tval-gamma-nloglik:5.18963\ttrain-sMAPE:0.561694\tval-sMAPE:0.67233\n",
      "[120]\ttrain-gamma-nloglik:4.8995\tval-gamma-nloglik:5.13079\ttrain-sMAPE:0.495539\tval-sMAPE:0.595658\n",
      "[130]\ttrain-gamma-nloglik:4.83844\tval-gamma-nloglik:5.11388\ttrain-sMAPE:0.43973\tval-sMAPE:0.558455\n",
      "[140]\ttrain-gamma-nloglik:4.80271\tval-gamma-nloglik:5.10257\ttrain-sMAPE:0.400656\tval-sMAPE:0.538824\n",
      "[150]\ttrain-gamma-nloglik:4.78012\tval-gamma-nloglik:5.09467\ttrain-sMAPE:0.369339\tval-sMAPE:0.522374\n",
      "[160]\ttrain-gamma-nloglik:4.76567\tval-gamma-nloglik:5.09145\ttrain-sMAPE:0.348324\tval-sMAPE:0.512035\n",
      "[170]\ttrain-gamma-nloglik:4.75536\tval-gamma-nloglik:5.08976\ttrain-sMAPE:0.329481\tval-sMAPE:0.5074\n",
      "[180]\ttrain-gamma-nloglik:4.74761\tval-gamma-nloglik:5.08462\ttrain-sMAPE:0.314564\tval-sMAPE:0.496958\n",
      "[190]\ttrain-gamma-nloglik:4.74112\tval-gamma-nloglik:5.0854\ttrain-sMAPE:0.299841\tval-sMAPE:0.494951\n",
      "[200]\ttrain-gamma-nloglik:4.73598\tval-gamma-nloglik:5.08513\ttrain-sMAPE:0.286678\tval-sMAPE:0.493295\n",
      "[210]\ttrain-gamma-nloglik:4.73144\tval-gamma-nloglik:5.08442\ttrain-sMAPE:0.274719\tval-sMAPE:0.492397\n",
      "[220]\ttrain-gamma-nloglik:4.72746\tval-gamma-nloglik:5.08442\ttrain-sMAPE:0.263792\tval-sMAPE:0.493038\n",
      "[230]\ttrain-gamma-nloglik:4.72397\tval-gamma-nloglik:5.08385\ttrain-sMAPE:0.253455\tval-sMAPE:0.49168\n",
      "[240]\ttrain-gamma-nloglik:4.72099\tval-gamma-nloglik:5.08435\ttrain-sMAPE:0.245183\tval-sMAPE:0.490065\n",
      "[250]\ttrain-gamma-nloglik:4.71797\tval-gamma-nloglik:5.08382\ttrain-sMAPE:0.235629\tval-sMAPE:0.489838\n",
      "[260]\ttrain-gamma-nloglik:4.71579\tval-gamma-nloglik:5.08357\ttrain-sMAPE:0.228967\tval-sMAPE:0.489116\n",
      "[270]\ttrain-gamma-nloglik:4.71365\tval-gamma-nloglik:5.08298\ttrain-sMAPE:0.221948\tval-sMAPE:0.486365\n",
      "[280]\ttrain-gamma-nloglik:4.71162\tval-gamma-nloglik:5.08263\ttrain-sMAPE:0.215188\tval-sMAPE:0.485191\n",
      "[290]\ttrain-gamma-nloglik:4.70991\tval-gamma-nloglik:5.08231\ttrain-sMAPE:0.209796\tval-sMAPE:0.484126\n",
      "[300]\ttrain-gamma-nloglik:4.70821\tval-gamma-nloglik:5.08414\ttrain-sMAPE:0.203958\tval-sMAPE:0.48772\n",
      "[310]\ttrain-gamma-nloglik:4.70665\tval-gamma-nloglik:5.08468\ttrain-sMAPE:0.19845\tval-sMAPE:0.488905\n",
      "[320]\ttrain-gamma-nloglik:4.70528\tval-gamma-nloglik:5.08335\ttrain-sMAPE:0.193641\tval-sMAPE:0.488545\n",
      "[330]\ttrain-gamma-nloglik:4.70393\tval-gamma-nloglik:5.08293\ttrain-sMAPE:0.188707\tval-sMAPE:0.488629\n",
      "[340]\ttrain-gamma-nloglik:4.70267\tval-gamma-nloglik:5.0826\ttrain-sMAPE:0.184249\tval-sMAPE:0.488837\n",
      "Stopping. Best iteration:\n",
      "[290]\ttrain-gamma-nloglik:4.70991\tval-gamma-nloglik:5.08231\ttrain-sMAPE:0.209796\tval-sMAPE:0.484126\n",
      "\n"
     ]
    },
    {
     "data": {
      "image/png": "[encoded data removed]",
      "text/plain": [
       "<matplotlib.figure.Figure at 0x7fd8c5302940>"
      ]
     },
     "metadata": {},
     "output_type": "display_data"
    },
    {
     "name": "stderr",
     "output_type": "stream",
     "text": [
      "\r",
      " 15%|█▍        | 5/34 [00:46<04:28,  9.27s/it]"
     ]
    },
    {
     "name": "stdout",
     "output_type": "stream",
     "text": [
      "(432, 11116)\n",
      "(48, 11116)\n",
      "[0]\ttrain-gamma-nloglik:110.803\tval-gamma-nloglik:137.597\ttrain-sMAPE:1.89375\tval-sMAPE:1.96567\n",
      "Multiple eval metrics have been passed: 'val-sMAPE' will be used for early stopping.\n",
      "\n",
      "Will train until val-sMAPE hasn't improved in 50 rounds.\n",
      "[10]\ttrain-gamma-nloglik:67.9262\tval-gamma-nloglik:84.2929\ttrain-sMAPE:1.83397\tval-sMAPE:1.94418\n",
      "[20]\ttrain-gamma-nloglik:42.1106\tval-gamma-nloglik:52.1534\ttrain-sMAPE:1.74693\tval-sMAPE:1.91002\n",
      "[30]\ttrain-gamma-nloglik:26.6347\tval-gamma-nloglik:32.8807\ttrain-sMAPE:1.62915\tval-sMAPE:1.85692\n",
      "[40]\ttrain-gamma-nloglik:17.4238\tval-gamma-nloglik:21.3219\ttrain-sMAPE:1.4887\tval-sMAPE:1.77687\n",
      "[50]\ttrain-gamma-nloglik:11.9942\tval-gamma-nloglik:14.4721\ttrain-sMAPE:1.34749\tval-sMAPE:1.6619\n",
      "[60]\ttrain-gamma-nloglik:8.83773\tval-gamma-nloglik:10.4544\ttrain-sMAPE:1.18677\tval-sMAPE:1.50718\n",
      "[70]\ttrain-gamma-nloglik:7.02851\tval-gamma-nloglik:8.10632\ttrain-sMAPE:1.02914\tval-sMAPE:1.31238\n",
      "[80]\ttrain-gamma-nloglik:6.0023\tval-gamma-nloglik:6.78106\ttrain-sMAPE:0.878087\tval-sMAPE:1.09183\n",
      "[90]\ttrain-gamma-nloglik:5.42763\tval-gamma-nloglik:6.11526\ttrain-sMAPE:0.751229\tval-sMAPE:0.895889\n",
      "[100]\ttrain-gamma-nloglik:5.10725\tval-gamma-nloglik:5.71004\ttrain-sMAPE:0.647809\tval-sMAPE:0.718332\n",
      "[110]\ttrain-gamma-nloglik:4.93077\tval-gamma-nloglik:5.50133\ttrain-sMAPE:0.562\tval-sMAPE:0.588872\n",
      "[120]\ttrain-gamma-nloglik:4.83353\tval-gamma-nloglik:5.39936\ttrain-sMAPE:0.496322\tval-sMAPE:0.497356\n",
      "[130]\ttrain-gamma-nloglik:4.77974\tval-gamma-nloglik:5.34593\ttrain-sMAPE:0.452548\tval-sMAPE:0.433225\n",
      "[140]\ttrain-gamma-nloglik:4.74667\tval-gamma-nloglik:5.3303\ttrain-sMAPE:0.418531\tval-sMAPE:0.40789\n",
      "[150]\ttrain-gamma-nloglik:4.72576\tval-gamma-nloglik:5.32121\ttrain-sMAPE:0.392582\tval-sMAPE:0.394446\n",
      "[160]\ttrain-gamma-nloglik:4.71051\tval-gamma-nloglik:5.31454\ttrain-sMAPE:0.372958\tval-sMAPE:0.382774\n",
      "[170]\ttrain-gamma-nloglik:4.69823\tval-gamma-nloglik:5.31517\ttrain-sMAPE:0.355366\tval-sMAPE:0.381652\n",
      "[180]\ttrain-gamma-nloglik:4.68854\tval-gamma-nloglik:5.31288\ttrain-sMAPE:0.338755\tval-sMAPE:0.375831\n",
      "[190]\ttrain-gamma-nloglik:4.68074\tval-gamma-nloglik:5.3125\ttrain-sMAPE:0.323978\tval-sMAPE:0.37404\n",
      "[200]\ttrain-gamma-nloglik:4.67357\tval-gamma-nloglik:5.31057\ttrain-sMAPE:0.309209\tval-sMAPE:0.370388\n",
      "[210]\ttrain-gamma-nloglik:4.66718\tval-gamma-nloglik:5.31365\ttrain-sMAPE:0.295897\tval-sMAPE:0.372181\n",
      "[220]\ttrain-gamma-nloglik:4.66141\tval-gamma-nloglik:5.31388\ttrain-sMAPE:0.28323\tval-sMAPE:0.371391\n",
      "[230]\ttrain-gamma-nloglik:4.657\tval-gamma-nloglik:5.31636\ttrain-sMAPE:0.27343\tval-sMAPE:0.374209\n",
      "[240]\ttrain-gamma-nloglik:4.65266\tval-gamma-nloglik:5.31805\ttrain-sMAPE:0.264058\tval-sMAPE:0.375136\n",
      "[250]\ttrain-gamma-nloglik:4.64933\tval-gamma-nloglik:5.31831\ttrain-sMAPE:0.255816\tval-sMAPE:0.374275\n",
      "[260]\ttrain-gamma-nloglik:4.64616\tval-gamma-nloglik:5.31903\ttrain-sMAPE:0.248105\tval-sMAPE:0.374542\n",
      "[270]\ttrain-gamma-nloglik:4.64328\tval-gamma-nloglik:5.32002\ttrain-sMAPE:0.240499\tval-sMAPE:0.37549\n",
      "Stopping. Best iteration:\n",
      "[221]\ttrain-gamma-nloglik:4.66105\tval-gamma-nloglik:5.31321\ttrain-sMAPE:0.282283\tval-sMAPE:0.370339\n",
      "\n"
     ]
    },
    {
     "data": {
      "image/png": "[encoded data removed]",
      "text/plain": [
       "<matplotlib.figure.Figure at 0x7fd8863f91d0>"
      ]
     },
     "metadata": {},
     "output_type": "display_data"
    },
    {
     "name": "stderr",
     "output_type": "stream",
     "text": [
      "\r",
      " 18%|█▊        | 6/34 [00:55<04:18,  9.23s/it]"
     ]
    },
    {
     "name": "stdout",
     "output_type": "stream",
     "text": [
      "(432, 11116)\n",
      "(48, 11116)\n",
      "[0]\ttrain-gamma-nloglik:125.923\tval-gamma-nloglik:177.757\ttrain-sMAPE:1.91801\tval-sMAPE:1.97469\n",
      "Multiple eval metrics have been passed: 'val-sMAPE' will be used for early stopping.\n",
      "\n",
      "Will train until val-sMAPE hasn't improved in 50 rounds.\n",
      "[10]\ttrain-gamma-nloglik:77.0983\tval-gamma-nloglik:108.734\ttrain-sMAPE:1.8705\tval-sMAPE:1.95872\n",
      "[20]\ttrain-gamma-nloglik:47.6772\tval-gamma-nloglik:67.0634\ttrain-sMAPE:1.7996\tval-sMAPE:1.93313\n",
      "[30]\ttrain-gamma-nloglik:30.0133\tval-gamma-nloglik:41.9616\ttrain-sMAPE:1.70547\tval-sMAPE:1.89279\n",
      "[40]\ttrain-gamma-nloglik:19.4732\tval-gamma-nloglik:26.9126\ttrain-sMAPE:1.57538\tval-sMAPE:1.83088\n",
      "[50]\ttrain-gamma-nloglik:13.2402\tval-gamma-nloglik:17.9496\ttrain-sMAPE:1.40771\tval-sMAPE:1.7396\n",
      "[60]\ttrain-gamma-nloglik:9.60751\tval-gamma-nloglik:12.6505\ttrain-sMAPE:1.22093\tval-sMAPE:1.61204\n",
      "[70]\ttrain-gamma-nloglik:7.52107\tval-gamma-nloglik:9.60127\ttrain-sMAPE:1.04061\tval-sMAPE:1.45271\n",
      "[80]\ttrain-gamma-nloglik:6.33858\tval-gamma-nloglik:7.88029\ttrain-sMAPE:0.865435\tval-sMAPE:1.27444\n",
      "[90]\ttrain-gamma-nloglik:5.67845\tval-gamma-nloglik:6.87725\ttrain-sMAPE:0.716388\tval-sMAPE:1.08044\n",
      "[100]\ttrain-gamma-nloglik:5.31545\tval-gamma-nloglik:6.3144\ttrain-sMAPE:0.595766\tval-sMAPE:0.89426\n",
      "[110]\ttrain-gamma-nloglik:5.11317\tval-gamma-nloglik:5.99075\ttrain-sMAPE:0.501368\tval-sMAPE:0.733124\n",
      "[120]\ttrain-gamma-nloglik:5.00046\tval-gamma-nloglik:5.81731\ttrain-sMAPE:0.435255\tval-sMAPE:0.611097\n",
      "[130]\ttrain-gamma-nloglik:4.93688\tval-gamma-nloglik:5.72754\ttrain-sMAPE:0.38524\tval-sMAPE:0.530077\n",
      "[140]\ttrain-gamma-nloglik:4.90036\tval-gamma-nloglik:5.6606\ttrain-sMAPE:0.351128\tval-sMAPE:0.46133\n",
      "[150]\ttrain-gamma-nloglik:4.87873\tval-gamma-nloglik:5.63183\ttrain-sMAPE:0.328518\tval-sMAPE:0.425996\n",
      "[160]\ttrain-gamma-nloglik:4.8651\tval-gamma-nloglik:5.61671\ttrain-sMAPE:0.312449\tval-sMAPE:0.405054\n",
      "[170]\ttrain-gamma-nloglik:4.85538\tval-gamma-nloglik:5.60941\ttrain-sMAPE:0.298564\tval-sMAPE:0.393707\n",
      "[180]\ttrain-gamma-nloglik:4.84765\tval-gamma-nloglik:5.61246\ttrain-sMAPE:0.286092\tval-sMAPE:0.398364\n",
      "[190]\ttrain-gamma-nloglik:4.84107\tval-gamma-nloglik:5.61182\ttrain-sMAPE:0.273567\tval-sMAPE:0.395073\n",
      "[200]\ttrain-gamma-nloglik:4.83604\tval-gamma-nloglik:5.61523\ttrain-sMAPE:0.262928\tval-sMAPE:0.400728\n",
      "[210]\ttrain-gamma-nloglik:4.83176\tval-gamma-nloglik:5.61843\ttrain-sMAPE:0.25239\tval-sMAPE:0.403406\n",
      "Stopping. Best iteration:\n",
      "[167]\ttrain-gamma-nloglik:4.85815\tval-gamma-nloglik:5.60749\ttrain-sMAPE:0.303334\tval-sMAPE:0.390204\n",
      "\n"
     ]
    },
    {
     "data": {
      "image/png": "[encoded data removed]",
      "text/plain": [
       "<matplotlib.figure.Figure at 0x7fd8c3af4e48>"
      ]
     },
     "metadata": {},
     "output_type": "display_data"
    },
    {
     "name": "stderr",
     "output_type": "stream",
     "text": [
      "\r",
      " 21%|██        | 7/34 [01:02<04:01,  8.95s/it]"
     ]
    },
    {
     "name": "stdout",
     "output_type": "stream",
     "text": [
      "(432, 11116)\n",
      "(48, 11116)\n",
      "[0]\ttrain-gamma-nloglik:118.685\tval-gamma-nloglik:127.083\ttrain-sMAPE:1.91193\tval-sMAPE:1.96469\n",
      "Multiple eval metrics have been passed: 'val-sMAPE' will be used for early stopping.\n",
      "\n",
      "Will train until val-sMAPE hasn't improved in 50 rounds.\n",
      "[10]\ttrain-gamma-nloglik:72.7081\tval-gamma-nloglik:77.8356\ttrain-sMAPE:1.86003\tval-sMAPE:1.94254\n",
      "[20]\ttrain-gamma-nloglik:45.0137\tval-gamma-nloglik:48.1577\ttrain-sMAPE:1.78187\tval-sMAPE:1.90728\n",
      "[30]\ttrain-gamma-nloglik:28.3999\tval-gamma-nloglik:30.3403\ttrain-sMAPE:1.66961\tval-sMAPE:1.85227\n",
      "[40]\ttrain-gamma-nloglik:18.4976\tval-gamma-nloglik:19.7054\ttrain-sMAPE:1.52132\tval-sMAPE:1.76909\n",
      "[50]\ttrain-gamma-nloglik:12.6479\tval-gamma-nloglik:13.4097\ttrain-sMAPE:1.34204\tval-sMAPE:1.64878\n",
      "[60]\ttrain-gamma-nloglik:9.23669\tval-gamma-nloglik:9.73058\ttrain-sMAPE:1.15743\tval-sMAPE:1.48507\n",
      "[70]\ttrain-gamma-nloglik:7.27603\tval-gamma-nloglik:7.61167\ttrain-sMAPE:0.98972\tval-sMAPE:1.27777\n",
      "[80]\ttrain-gamma-nloglik:6.16727\tval-gamma-nloglik:6.47837\ttrain-sMAPE:0.833085\tval-sMAPE:1.05249\n",
      "[90]\ttrain-gamma-nloglik:5.54557\tval-gamma-nloglik:5.83746\ttrain-sMAPE:0.696893\tval-sMAPE:0.817037\n",
      "[100]\ttrain-gamma-nloglik:5.20461\tval-gamma-nloglik:5.51738\ttrain-sMAPE:0.592304\tval-sMAPE:0.649133\n",
      "[110]\ttrain-gamma-nloglik:5.01553\tval-gamma-nloglik:5.34045\ttrain-sMAPE:0.507704\tval-sMAPE:0.502106\n",
      "[120]\ttrain-gamma-nloglik:4.91084\tval-gamma-nloglik:5.27016\ttrain-sMAPE:0.451438\tval-sMAPE:0.407153\n",
      "[130]\ttrain-gamma-nloglik:4.85065\tval-gamma-nloglik:5.24979\ttrain-sMAPE:0.412025\tval-sMAPE:0.373792\n",
      "[140]\ttrain-gamma-nloglik:4.81522\tval-gamma-nloglik:5.24006\ttrain-sMAPE:0.384511\tval-sMAPE:0.352921\n",
      "[150]\ttrain-gamma-nloglik:4.7925\tval-gamma-nloglik:5.23875\ttrain-sMAPE:0.362521\tval-sMAPE:0.350265\n",
      "[160]\ttrain-gamma-nloglik:4.77765\tval-gamma-nloglik:5.23791\ttrain-sMAPE:0.345493\tval-sMAPE:0.346427\n",
      "[170]\ttrain-gamma-nloglik:4.76661\tval-gamma-nloglik:5.23417\ttrain-sMAPE:0.330546\tval-sMAPE:0.338103\n",
      "[180]\ttrain-gamma-nloglik:4.75759\tval-gamma-nloglik:5.23271\ttrain-sMAPE:0.317248\tval-sMAPE:0.333184\n",
      "[190]\ttrain-gamma-nloglik:4.75046\tval-gamma-nloglik:5.23049\ttrain-sMAPE:0.304374\tval-sMAPE:0.326862\n",
      "[200]\ttrain-gamma-nloglik:4.74414\tval-gamma-nloglik:5.23316\ttrain-sMAPE:0.292275\tval-sMAPE:0.333288\n",
      "[210]\ttrain-gamma-nloglik:4.73843\tval-gamma-nloglik:5.23285\ttrain-sMAPE:0.281021\tval-sMAPE:0.33245\n",
      "[220]\ttrain-gamma-nloglik:4.73407\tval-gamma-nloglik:5.23411\ttrain-sMAPE:0.270582\tval-sMAPE:0.334178\n",
      "[230]\ttrain-gamma-nloglik:4.72977\tval-gamma-nloglik:5.23394\ttrain-sMAPE:0.261123\tval-sMAPE:0.332083\n",
      "[240]\ttrain-gamma-nloglik:4.7259\tval-gamma-nloglik:5.23389\ttrain-sMAPE:0.252074\tval-sMAPE:0.331546\n",
      "Stopping. Best iteration:\n",
      "[190]\ttrain-gamma-nloglik:4.75046\tval-gamma-nloglik:5.23049\ttrain-sMAPE:0.304374\tval-sMAPE:0.326862\n",
      "\n"
     ]
    },
    {
     "data": {
      "image/png": "[encoded data removed]",
      "text/plain": [
       "<matplotlib.figure.Figure at 0x7fd8863f5da0>"
      ]
     },
     "metadata": {},
     "output_type": "display_data"
    },
    {
     "name": "stderr",
     "output_type": "stream",
     "text": [
      "\r",
      " 24%|██▎       | 8/34 [01:10<03:48,  8.80s/it]"
     ]
    },
    {
     "name": "stdout",
     "output_type": "stream",
     "text": [
      "(432, 11116)\n",
      "(48, 11116)\n",
      "[0]\ttrain-gamma-nloglik:121.911\tval-gamma-nloglik:150.061\ttrain-sMAPE:1.91765\tval-sMAPE:1.96972\n",
      "Multiple eval metrics have been passed: 'val-sMAPE' will be used for early stopping.\n",
      "\n",
      "Will train until val-sMAPE hasn't improved in 50 rounds.\n",
      "[10]\ttrain-gamma-nloglik:74.665\tval-gamma-nloglik:91.8494\ttrain-sMAPE:1.86915\tval-sMAPE:1.95067\n",
      "[20]\ttrain-gamma-nloglik:46.2013\tval-gamma-nloglik:56.7355\ttrain-sMAPE:1.79599\tval-sMAPE:1.92023\n",
      "[30]\ttrain-gamma-nloglik:29.1202\tval-gamma-nloglik:35.6178\ttrain-sMAPE:1.69248\tval-sMAPE:1.87248\n",
      "[40]\ttrain-gamma-nloglik:18.9432\tval-gamma-nloglik:22.9813\ttrain-sMAPE:1.55417\tval-sMAPE:1.79971\n",
      "[50]\ttrain-gamma-nloglik:12.9232\tval-gamma-nloglik:15.4806\ttrain-sMAPE:1.37749\tval-sMAPE:1.6935\n",
      "[60]\ttrain-gamma-nloglik:9.41818\tval-gamma-nloglik:11.1063\ttrain-sMAPE:1.18303\tval-sMAPE:1.55037\n",
      "[70]\ttrain-gamma-nloglik:7.40344\tval-gamma-nloglik:8.59335\ttrain-sMAPE:1.01242\tval-sMAPE:1.37464\n",
      "[80]\ttrain-gamma-nloglik:6.25634\tval-gamma-nloglik:7.17644\ttrain-sMAPE:0.858201\tval-sMAPE:1.17572\n",
      "[90]\ttrain-gamma-nloglik:5.61168\tval-gamma-nloglik:6.3425\ttrain-sMAPE:0.719321\tval-sMAPE:0.963091\n",
      "[100]\ttrain-gamma-nloglik:5.25222\tval-gamma-nloglik:5.86606\ttrain-sMAPE:0.604696\tval-sMAPE:0.750632\n",
      "[110]\ttrain-gamma-nloglik:5.05525\tval-gamma-nloglik:5.62661\ttrain-sMAPE:0.511791\tval-sMAPE:0.566962\n",
      "[120]\ttrain-gamma-nloglik:4.94812\tval-gamma-nloglik:5.49742\ttrain-sMAPE:0.448558\tval-sMAPE:0.446791\n",
      "[130]\ttrain-gamma-nloglik:4.88796\tval-gamma-nloglik:5.43549\ttrain-sMAPE:0.398164\tval-sMAPE:0.369685\n",
      "[140]\ttrain-gamma-nloglik:4.85206\tval-gamma-nloglik:5.40409\ttrain-sMAPE:0.355113\tval-sMAPE:0.320625\n",
      "[150]\ttrain-gamma-nloglik:4.8303\tval-gamma-nloglik:5.38996\ttrain-sMAPE:0.32596\tval-sMAPE:0.303893\n",
      "[160]\ttrain-gamma-nloglik:4.81686\tval-gamma-nloglik:5.38222\ttrain-sMAPE:0.306981\tval-sMAPE:0.292146\n"
     ]
    },
    {
     "ename": "KeyboardInterrupt",
     "evalue": "",
     "output_type": "error",
     "traceback": [
      "\u001b[0;31m---------------------------------------------------------------------------\u001b[0m",
      "\u001b[0;31mKeyboardInterrupt\u001b[0m                         Traceback (most recent call last)",
      "\u001b[0;32m<ipython-input-91-49123464ad4f>\u001b[0m in \u001b[0;36m<module>\u001b[0;34m()\u001b[0m\n\u001b[1;32m     37\u001b[0m     \u001b[0;31m#训练模型并保存\u001b[0m\u001b[0;34m\u001b[0m\u001b[0;34m\u001b[0m\u001b[0m\n\u001b[1;32m     38\u001b[0m     \u001b[0;31m# early_stopping_rounds 当设置的迭代次数较大时，early_stopping_rounds 可在一定的迭代次数内准确率没有提升就停止训练\u001b[0m\u001b[0;34m\u001b[0m\u001b[0;34m\u001b[0m\u001b[0m\n\u001b[0;32m---> 39\u001b[0;31m     \u001b[0mmodel_PM10\u001b[0m \u001b[0;34m=\u001b[0m \u001b[0mxgb\u001b[0m\u001b[0;34m.\u001b[0m\u001b[0mtrain\u001b[0m\u001b[0;34m(\u001b[0m\u001b[0mplst\u001b[0m \u001b[0;34m,\u001b[0m\u001b[0mxgb_train\u001b[0m\u001b[0;34m,\u001b[0m \u001b[0mnum_rounds\u001b[0m\u001b[0;34m,\u001b[0m \u001b[0mwatchlist\u001b[0m\u001b[0;34m,\u001b[0m \u001b[0mearly_stopping_rounds\u001b[0m\u001b[0;34m=\u001b[0m\u001b[0;36m50\u001b[0m\u001b[0;34m,\u001b[0m\u001b[0mverbose_eval\u001b[0m\u001b[0;34m=\u001b[0m\u001b[0;36m10\u001b[0m\u001b[0;34m,\u001b[0m\u001b[0mfeval\u001b[0m\u001b[0;34m=\u001b[0m\u001b[0msMAPE\u001b[0m\u001b[0;34m)\u001b[0m\u001b[0;34m\u001b[0m\u001b[0m\n\u001b[0m\u001b[1;32m     40\u001b[0m     \u001b[0mplt\u001b[0m\u001b[0;34m.\u001b[0m\u001b[0mplot\u001b[0m\u001b[0;34m(\u001b[0m\u001b[0mmodel_PM10\u001b[0m\u001b[0;34m.\u001b[0m\u001b[0mpredict\u001b[0m\u001b[0;34m(\u001b[0m\u001b[0mxgb\u001b[0m\u001b[0;34m.\u001b[0m\u001b[0mDMatrix\u001b[0m\u001b[0;34m(\u001b[0m\u001b[0mvalX\u001b[0m\u001b[0;34m)\u001b[0m\u001b[0;34m)\u001b[0m\u001b[0;34m,\u001b[0m\u001b[0;34m'g'\u001b[0m\u001b[0;34m)\u001b[0m\u001b[0;34m\u001b[0m\u001b[0m\n\u001b[1;32m     41\u001b[0m     \u001b[0mplt\u001b[0m\u001b[0;34m.\u001b[0m\u001b[0mplot\u001b[0m\u001b[0;34m(\u001b[0m\u001b[0mvalY\u001b[0m\u001b[0;34m,\u001b[0m\u001b[0;34m'r'\u001b[0m\u001b[0;34m)\u001b[0m\u001b[0;34m\u001b[0m\u001b[0m\n",
      "\u001b[0;32m~/virtual_pytorch_py3.5/lib/python3.5/site-packages/xgboost/training.py\u001b[0m in \u001b[0;36mtrain\u001b[0;34m(params, dtrain, num_boost_round, evals, obj, feval, maximize, early_stopping_rounds, evals_result, verbose_eval, xgb_model, callbacks, learning_rates)\u001b[0m\n\u001b[1;32m    202\u001b[0m                            \u001b[0mevals\u001b[0m\u001b[0;34m=\u001b[0m\u001b[0mevals\u001b[0m\u001b[0;34m,\u001b[0m\u001b[0;34m\u001b[0m\u001b[0m\n\u001b[1;32m    203\u001b[0m                            \u001b[0mobj\u001b[0m\u001b[0;34m=\u001b[0m\u001b[0mobj\u001b[0m\u001b[0;34m,\u001b[0m \u001b[0mfeval\u001b[0m\u001b[0;34m=\u001b[0m\u001b[0mfeval\u001b[0m\u001b[0;34m,\u001b[0m\u001b[0;34m\u001b[0m\u001b[0m\n\u001b[0;32m--> 204\u001b[0;31m                            xgb_model=xgb_model, callbacks=callbacks)\n\u001b[0m\u001b[1;32m    205\u001b[0m \u001b[0;34m\u001b[0m\u001b[0m\n\u001b[1;32m    206\u001b[0m \u001b[0;34m\u001b[0m\u001b[0m\n",
      "\u001b[0;32m~/virtual_pytorch_py3.5/lib/python3.5/site-packages/xgboost/training.py\u001b[0m in \u001b[0;36m_train_internal\u001b[0;34m(params, dtrain, num_boost_round, evals, obj, feval, xgb_model, callbacks)\u001b[0m\n\u001b[1;32m     82\u001b[0m         \u001b[0;31m# check evaluation result.\u001b[0m\u001b[0;34m\u001b[0m\u001b[0;34m\u001b[0m\u001b[0m\n\u001b[1;32m     83\u001b[0m         \u001b[0;32mif\u001b[0m \u001b[0mlen\u001b[0m\u001b[0;34m(\u001b[0m\u001b[0mevals\u001b[0m\u001b[0;34m)\u001b[0m \u001b[0;34m!=\u001b[0m \u001b[0;36m0\u001b[0m\u001b[0;34m:\u001b[0m\u001b[0;34m\u001b[0m\u001b[0m\n\u001b[0;32m---> 84\u001b[0;31m             \u001b[0mbst_eval_set\u001b[0m \u001b[0;34m=\u001b[0m \u001b[0mbst\u001b[0m\u001b[0;34m.\u001b[0m\u001b[0meval_set\u001b[0m\u001b[0;34m(\u001b[0m\u001b[0mevals\u001b[0m\u001b[0;34m,\u001b[0m \u001b[0mi\u001b[0m\u001b[0;34m,\u001b[0m \u001b[0mfeval\u001b[0m\u001b[0;34m)\u001b[0m\u001b[0;34m\u001b[0m\u001b[0m\n\u001b[0m\u001b[1;32m     85\u001b[0m             \u001b[0;32mif\u001b[0m \u001b[0misinstance\u001b[0m\u001b[0;34m(\u001b[0m\u001b[0mbst_eval_set\u001b[0m\u001b[0;34m,\u001b[0m \u001b[0mSTRING_TYPES\u001b[0m\u001b[0;34m)\u001b[0m\u001b[0;34m:\u001b[0m\u001b[0;34m\u001b[0m\u001b[0m\n\u001b[1;32m     86\u001b[0m                 \u001b[0mmsg\u001b[0m \u001b[0;34m=\u001b[0m \u001b[0mbst_eval_set\u001b[0m\u001b[0;34m\u001b[0m\u001b[0m\n",
      "\u001b[0;32m~/virtual_pytorch_py3.5/lib/python3.5/site-packages/xgboost/core.py\u001b[0m in \u001b[0;36meval_set\u001b[0;34m(self, evals, iteration, feval)\u001b[0m\n\u001b[1;32m    949\u001b[0m             \u001b[0;32mif\u001b[0m \u001b[0;32mnot\u001b[0m \u001b[0misinstance\u001b[0m\u001b[0;34m(\u001b[0m\u001b[0md\u001b[0m\u001b[0;34m[\u001b[0m\u001b[0;36m1\u001b[0m\u001b[0;34m]\u001b[0m\u001b[0;34m,\u001b[0m \u001b[0mSTRING_TYPES\u001b[0m\u001b[0;34m)\u001b[0m\u001b[0;34m:\u001b[0m\u001b[0;34m\u001b[0m\u001b[0m\n\u001b[1;32m    950\u001b[0m                 \u001b[0;32mraise\u001b[0m \u001b[0mTypeError\u001b[0m\u001b[0;34m(\u001b[0m\u001b[0;34m'expected string, got {}'\u001b[0m\u001b[0;34m.\u001b[0m\u001b[0mformat\u001b[0m\u001b[0;34m(\u001b[0m\u001b[0mtype\u001b[0m\u001b[0;34m(\u001b[0m\u001b[0md\u001b[0m\u001b[0;34m[\u001b[0m\u001b[0;36m1\u001b[0m\u001b[0;34m]\u001b[0m\u001b[0;34m)\u001b[0m\u001b[0;34m.\u001b[0m\u001b[0m__name__\u001b[0m\u001b[0;34m)\u001b[0m\u001b[0;34m)\u001b[0m\u001b[0;34m\u001b[0m\u001b[0m\n\u001b[0;32m--> 951\u001b[0;31m             \u001b[0mself\u001b[0m\u001b[0;34m.\u001b[0m\u001b[0m_validate_features\u001b[0m\u001b[0;34m(\u001b[0m\u001b[0md\u001b[0m\u001b[0;34m[\u001b[0m\u001b[0;36m0\u001b[0m\u001b[0;34m]\u001b[0m\u001b[0;34m)\u001b[0m\u001b[0;34m\u001b[0m\u001b[0m\n\u001b[0m\u001b[1;32m    952\u001b[0m \u001b[0;34m\u001b[0m\u001b[0m\n\u001b[1;32m    953\u001b[0m         \u001b[0mdmats\u001b[0m \u001b[0;34m=\u001b[0m \u001b[0mc_array\u001b[0m\u001b[0;34m(\u001b[0m\u001b[0mctypes\u001b[0m\u001b[0;34m.\u001b[0m\u001b[0mc_void_p\u001b[0m\u001b[0;34m,\u001b[0m \u001b[0;34m[\u001b[0m\u001b[0md\u001b[0m\u001b[0;34m[\u001b[0m\u001b[0;36m0\u001b[0m\u001b[0;34m]\u001b[0m\u001b[0;34m.\u001b[0m\u001b[0mhandle\u001b[0m \u001b[0;32mfor\u001b[0m \u001b[0md\u001b[0m \u001b[0;32min\u001b[0m \u001b[0mevals\u001b[0m\u001b[0;34m]\u001b[0m\u001b[0;34m)\u001b[0m\u001b[0;34m\u001b[0m\u001b[0m\n",
      "\u001b[0;32m~/virtual_pytorch_py3.5/lib/python3.5/site-packages/xgboost/core.py\u001b[0m in \u001b[0;36m_validate_features\u001b[0;34m(self, data)\u001b[0m\n\u001b[1;32m   1271\u001b[0m         \u001b[0;32melse\u001b[0m\u001b[0;34m:\u001b[0m\u001b[0;34m\u001b[0m\u001b[0m\n\u001b[1;32m   1272\u001b[0m             \u001b[0;31m# Booster can't accept data with different feature names\u001b[0m\u001b[0;34m\u001b[0m\u001b[0;34m\u001b[0m\u001b[0m\n\u001b[0;32m-> 1273\u001b[0;31m             \u001b[0;32mif\u001b[0m \u001b[0mself\u001b[0m\u001b[0;34m.\u001b[0m\u001b[0mfeature_names\u001b[0m \u001b[0;34m!=\u001b[0m \u001b[0mdata\u001b[0m\u001b[0;34m.\u001b[0m\u001b[0mfeature_names\u001b[0m\u001b[0;34m:\u001b[0m\u001b[0;34m\u001b[0m\u001b[0m\n\u001b[0m\u001b[1;32m   1274\u001b[0m                 \u001b[0mdat_missing\u001b[0m \u001b[0;34m=\u001b[0m \u001b[0mset\u001b[0m\u001b[0;34m(\u001b[0m\u001b[0mself\u001b[0m\u001b[0;34m.\u001b[0m\u001b[0mfeature_names\u001b[0m\u001b[0;34m)\u001b[0m \u001b[0;34m-\u001b[0m \u001b[0mset\u001b[0m\u001b[0;34m(\u001b[0m\u001b[0mdata\u001b[0m\u001b[0;34m.\u001b[0m\u001b[0mfeature_names\u001b[0m\u001b[0;34m)\u001b[0m\u001b[0;34m\u001b[0m\u001b[0m\n\u001b[1;32m   1275\u001b[0m                 \u001b[0mmy_missing\u001b[0m \u001b[0;34m=\u001b[0m \u001b[0mset\u001b[0m\u001b[0;34m(\u001b[0m\u001b[0mdata\u001b[0m\u001b[0;34m.\u001b[0m\u001b[0mfeature_names\u001b[0m\u001b[0;34m)\u001b[0m \u001b[0;34m-\u001b[0m \u001b[0mset\u001b[0m\u001b[0;34m(\u001b[0m\u001b[0mself\u001b[0m\u001b[0;34m.\u001b[0m\u001b[0mfeature_names\u001b[0m\u001b[0;34m)\u001b[0m\u001b[0;34m\u001b[0m\u001b[0m\n",
      "\u001b[0;32m~/virtual_pytorch_py3.5/lib/python3.5/site-packages/xgboost/core.py\u001b[0m in \u001b[0;36mfeature_names\u001b[0;34m(self)\u001b[0m\n\u001b[1;32m    629\u001b[0m         \"\"\"\n\u001b[1;32m    630\u001b[0m         \u001b[0;32mif\u001b[0m \u001b[0mself\u001b[0m\u001b[0;34m.\u001b[0m\u001b[0m_feature_names\u001b[0m \u001b[0;32mis\u001b[0m \u001b[0;32mNone\u001b[0m\u001b[0;34m:\u001b[0m\u001b[0;34m\u001b[0m\u001b[0m\n\u001b[0;32m--> 631\u001b[0;31m             \u001b[0;32mreturn\u001b[0m \u001b[0;34m[\u001b[0m\u001b[0;34m'f{0}'\u001b[0m\u001b[0;34m.\u001b[0m\u001b[0mformat\u001b[0m\u001b[0;34m(\u001b[0m\u001b[0mi\u001b[0m\u001b[0;34m)\u001b[0m \u001b[0;32mfor\u001b[0m \u001b[0mi\u001b[0m \u001b[0;32min\u001b[0m \u001b[0mrange\u001b[0m\u001b[0;34m(\u001b[0m\u001b[0mself\u001b[0m\u001b[0;34m.\u001b[0m\u001b[0mnum_col\u001b[0m\u001b[0;34m(\u001b[0m\u001b[0;34m)\u001b[0m\u001b[0;34m)\u001b[0m\u001b[0;34m]\u001b[0m\u001b[0;34m\u001b[0m\u001b[0m\n\u001b[0m\u001b[1;32m    632\u001b[0m         \u001b[0;32melse\u001b[0m\u001b[0;34m:\u001b[0m\u001b[0;34m\u001b[0m\u001b[0m\n\u001b[1;32m    633\u001b[0m             \u001b[0;32mreturn\u001b[0m \u001b[0mself\u001b[0m\u001b[0;34m.\u001b[0m\u001b[0m_feature_names\u001b[0m\u001b[0;34m\u001b[0m\u001b[0m\n",
      "\u001b[0;32m~/virtual_pytorch_py3.5/lib/python3.5/site-packages/xgboost/core.py\u001b[0m in \u001b[0;36m<listcomp>\u001b[0;34m(.0)\u001b[0m\n\u001b[1;32m    629\u001b[0m         \"\"\"\n\u001b[1;32m    630\u001b[0m         \u001b[0;32mif\u001b[0m \u001b[0mself\u001b[0m\u001b[0;34m.\u001b[0m\u001b[0m_feature_names\u001b[0m \u001b[0;32mis\u001b[0m \u001b[0;32mNone\u001b[0m\u001b[0;34m:\u001b[0m\u001b[0;34m\u001b[0m\u001b[0m\n\u001b[0;32m--> 631\u001b[0;31m             \u001b[0;32mreturn\u001b[0m \u001b[0;34m[\u001b[0m\u001b[0;34m'f{0}'\u001b[0m\u001b[0;34m.\u001b[0m\u001b[0mformat\u001b[0m\u001b[0;34m(\u001b[0m\u001b[0mi\u001b[0m\u001b[0;34m)\u001b[0m \u001b[0;32mfor\u001b[0m \u001b[0mi\u001b[0m \u001b[0;32min\u001b[0m \u001b[0mrange\u001b[0m\u001b[0;34m(\u001b[0m\u001b[0mself\u001b[0m\u001b[0;34m.\u001b[0m\u001b[0mnum_col\u001b[0m\u001b[0;34m(\u001b[0m\u001b[0;34m)\u001b[0m\u001b[0;34m)\u001b[0m\u001b[0;34m]\u001b[0m\u001b[0;34m\u001b[0m\u001b[0m\n\u001b[0m\u001b[1;32m    632\u001b[0m         \u001b[0;32melse\u001b[0m\u001b[0;34m:\u001b[0m\u001b[0;34m\u001b[0m\u001b[0m\n\u001b[1;32m    633\u001b[0m             \u001b[0;32mreturn\u001b[0m \u001b[0mself\u001b[0m\u001b[0;34m.\u001b[0m\u001b[0m_feature_names\u001b[0m\u001b[0;34m\u001b[0m\u001b[0m\n",
      "\u001b[0;31mKeyboardInterrupt\u001b[0m: "
     ]
    }
   ],
   "source": [
    "for i in tqdm(range(34)):\n",
    "    trainX = np.concatenate((train_data[:,2*i:2*(i+1)],train_data[:,68:10880],train_data[:,10880+288*i:10880+288*(i+1)],train_data[:,-117:-102]),axis = 1)\n",
    "    valX = np.concatenate((val_data[:,2*i:2*(i+1)],val_data[:,68:10880],val_data[:,10880+288*i:10880+288*(i+1)],val_data[:,-117:-102]),axis = 1)\n",
    "    trainY = train_data[:, -102+3*i]\n",
    "    valY = val_data[:, -102+3*i]\n",
    "#     trainY = beijing_train[:, -105+3*i]\n",
    "#     valY = beijing_test[:, -105+3*i]\n",
    "    print(trainX.shape)\n",
    "    print(valX.shape)\n",
    "\n",
    "    params={\n",
    "    'booster':'gbtree',\n",
    "    'objective': 'reg:gamma', #多分类的问题\n",
    "    # 'num_class':2, # 类别数，与 multisoftmax 并用\n",
    "    'gamma':0,  # 用于控制是否后剪枝的参数,越大越保守，一般0.1、0.2这样子。\n",
    "    'max_depth':2, # 构建树的深度，越大越容易过拟合\n",
    "    'lambda':100,  # 控制模型复杂度的权重值的L2正则化项参数，参数越大，模型越不容易过拟合。\n",
    "    'alpha':0,      # 控制模型复杂度的权重值的L1正则化项参数，参数越大，模型越不容易过拟合。\n",
    "    'subsample':0.9, # 随机采样训练样本\n",
    "    'colsample_bytree':0.1, # 生成树时进行的列采样\n",
    "    'min_child_weight':1, \n",
    "    # 这个参数默认是 1，是每个叶子里面 h 的和至少是多少，对正负样本不均衡时的 0-1 分类而言\n",
    "    #，假设 h 在 0.01 附近，min_child_weight 为 1 意味着叶子节点中最少需要包含 100 个样本。\n",
    "    #这个参数非常影响结果，控制叶子节点中二阶导的和的最小值，该参数值越小，越容易 overfitting。 \n",
    "    'silent':0 ,#设置成1则没有运行信息输出，最好是设置为0.\n",
    "    'eta': 0.05, # 如同学习率\n",
    "    'seed':1000,\n",
    "    'nthread':-1,# cpu 线程数\n",
    "#     'eval_metric':['mae','rmse']\n",
    "    }\n",
    "\n",
    "    plst = list(params.items())\n",
    "    num_rounds = 600 # 迭代次数\n",
    "    xgb_train = xgb.DMatrix(trainX, label= trainY)\n",
    "    xgb_val = xgb.DMatrix(valX, label= valY)\n",
    "    watchlist = [(xgb_train, 'train'),(xgb_val, 'val')]\n",
    "    #训练模型并保存\n",
    "    # early_stopping_rounds 当设置的迭代次数较大时，early_stopping_rounds 可在一定的迭代次数内准确率没有提升就停止训练\n",
    "    model_PM10 = xgb.train(plst ,xgb_train, num_rounds, watchlist, early_stopping_rounds=50,verbose_eval=10,feval=sMAPE)\n",
    "    plt.plot(model_PM10.predict(xgb.DMatrix(valX)),'g')\n",
    "    plt.plot(valY,'r')\n",
    "    plt.show()\n",
    "    model_PM10.save_model('/home/lifuzhen/KDD2018/Mini_train/beijing_drop1/'+ str(i) +'_PM2.5.model') # 用于存储训练出的模型"
   ]
  },
  {
   "cell_type": "markdown",
   "metadata": {},
   "source": [
    "# PM10"
   ]
  },
  {
   "cell_type": "code",
   "execution_count": 17,
   "metadata": {},
   "outputs": [
    {
     "name": "stderr",
     "output_type": "stream",
     "text": [
      "\r",
      "  0%|          | 0/34 [00:00<?, ?it/s]"
     ]
    },
    {
     "name": "stdout",
     "output_type": "stream",
     "text": [
      "(406, 11116)\n",
      "(48, 11116)\n",
      "[0]\ttrain-gamma-nloglik:199.812\tval-gamma-nloglik:307.133\ttrain-sMAPE:1.95898\tval-sMAPE:1.98063\n",
      "Multiple eval metrics have been passed: 'val-sMAPE' will be used for early stopping.\n",
      "\n",
      "Will train until val-sMAPE hasn't improved in 50 rounds.\n",
      "[100]\ttrain-gamma-nloglik:6.15709\tval-gamma-nloglik:7.59698\ttrain-sMAPE:0.739428\tval-sMAPE:1.00831\n",
      "[200]\ttrain-gamma-nloglik:5.39733\tval-gamma-nloglik:6.11684\ttrain-sMAPE:0.228166\tval-sMAPE:0.362139\n",
      "Stopping. Best iteration:\n",
      "[226]\ttrain-gamma-nloglik:5.38879\tval-gamma-nloglik:6.11289\ttrain-sMAPE:0.205071\tval-sMAPE:0.353984\n",
      "\n"
     ]
    },
    {
     "name": "stderr",
     "output_type": "stream",
     "text": [
      "\r",
      "  3%|▎         | 1/34 [00:08<04:49,  8.78s/it]"
     ]
    },
    {
     "name": "stdout",
     "output_type": "stream",
     "text": [
      "(406, 11116)\n",
      "(48, 11116)\n",
      "[0]\ttrain-gamma-nloglik:301.087\tval-gamma-nloglik:326.569\ttrain-sMAPE:1.96988\tval-sMAPE:1.98219\n",
      "Multiple eval metrics have been passed: 'val-sMAPE' will be used for early stopping.\n",
      "\n",
      "Will train until val-sMAPE hasn't improved in 50 rounds.\n",
      "[100]\ttrain-gamma-nloglik:7.04171\tval-gamma-nloglik:7.42515\ttrain-sMAPE:0.814353\tval-sMAPE:0.978602\n",
      "[200]\ttrain-gamma-nloglik:5.76741\tval-gamma-nloglik:6.1911\ttrain-sMAPE:0.246509\tval-sMAPE:0.405329\n",
      "[300]\ttrain-gamma-nloglik:5.72961\tval-gamma-nloglik:6.20791\ttrain-sMAPE:0.190177\tval-sMAPE:0.391098\n",
      "Stopping. Best iteration:\n",
      "[319]\ttrain-gamma-nloglik:5.72611\tval-gamma-nloglik:6.20845\ttrain-sMAPE:0.183335\tval-sMAPE:0.389455\n",
      "\n"
     ]
    },
    {
     "name": "stderr",
     "output_type": "stream",
     "text": [
      "\r",
      "  6%|▌         | 2/34 [00:20<05:21, 10.05s/it]"
     ]
    },
    {
     "name": "stdout",
     "output_type": "stream",
     "text": [
      "(406, 11116)\n",
      "(48, 11116)\n",
      "[0]\ttrain-gamma-nloglik:282.855\tval-gamma-nloglik:341.438\ttrain-sMAPE:1.96842\tval-sMAPE:1.98329\n",
      "Multiple eval metrics have been passed: 'val-sMAPE' will be used for early stopping.\n",
      "\n",
      "Will train until val-sMAPE hasn't improved in 50 rounds.\n",
      "[100]\ttrain-gamma-nloglik:6.87052\tval-gamma-nloglik:7.56022\ttrain-sMAPE:0.848432\tval-sMAPE:0.951708\n",
      "[200]\ttrain-gamma-nloglik:5.73047\tval-gamma-nloglik:6.16707\ttrain-sMAPE:0.203859\tval-sMAPE:0.365255\n"
     ]
    },
    {
     "ename": "KeyboardInterrupt",
     "evalue": "",
     "output_type": "error",
     "traceback": [
      "\u001b[0;31m---------------------------------------------------------------------------\u001b[0m",
      "\u001b[0;31mKeyboardInterrupt\u001b[0m                         Traceback (most recent call last)",
      "\u001b[0;32m<ipython-input-17-8ab05506881b>\u001b[0m in \u001b[0;36m<module>\u001b[0;34m()\u001b[0m\n\u001b[1;32m     37\u001b[0m     \u001b[0;31m#训练模型并保存\u001b[0m\u001b[0;34m\u001b[0m\u001b[0;34m\u001b[0m\u001b[0m\n\u001b[1;32m     38\u001b[0m     \u001b[0;31m# early_stopping_rounds 当设置的迭代次数较大时，early_stopping_rounds 可在一定的迭代次数内准确率没有提升就停止训练\u001b[0m\u001b[0;34m\u001b[0m\u001b[0;34m\u001b[0m\u001b[0m\n\u001b[0;32m---> 39\u001b[0;31m     \u001b[0mmodel_PM10\u001b[0m \u001b[0;34m=\u001b[0m \u001b[0mxgb\u001b[0m\u001b[0;34m.\u001b[0m\u001b[0mtrain\u001b[0m\u001b[0;34m(\u001b[0m\u001b[0mplst\u001b[0m\u001b[0;34m,\u001b[0m \u001b[0mxgb_train\u001b[0m\u001b[0;34m,\u001b[0m \u001b[0mnum_rounds\u001b[0m\u001b[0;34m,\u001b[0m \u001b[0mwatchlist\u001b[0m\u001b[0;34m,\u001b[0m \u001b[0mearly_stopping_rounds\u001b[0m\u001b[0;34m=\u001b[0m\u001b[0;36m50\u001b[0m\u001b[0;34m,\u001b[0m\u001b[0mverbose_eval\u001b[0m\u001b[0;34m=\u001b[0m\u001b[0;36m100\u001b[0m\u001b[0;34m,\u001b[0m\u001b[0mfeval\u001b[0m\u001b[0;34m=\u001b[0m\u001b[0msMAPE\u001b[0m\u001b[0;34m)\u001b[0m\u001b[0;34m\u001b[0m\u001b[0m\n\u001b[0m\u001b[1;32m     40\u001b[0m     \u001b[0mmodel_PM10\u001b[0m\u001b[0;34m.\u001b[0m\u001b[0msave_model\u001b[0m\u001b[0;34m(\u001b[0m\u001b[0;34m'/home/lifuzhen/KDD2018/Mini_train/beijing_drop1/'\u001b[0m\u001b[0;34m+\u001b[0m \u001b[0mstr\u001b[0m\u001b[0;34m(\u001b[0m\u001b[0mi\u001b[0m\u001b[0;34m)\u001b[0m \u001b[0;34m+\u001b[0m\u001b[0;34m'_PM10.model'\u001b[0m\u001b[0;34m)\u001b[0m \u001b[0;31m# 用于存储训练出的模型\u001b[0m\u001b[0;34m\u001b[0m\u001b[0m\n",
      "\u001b[0;32m~/virtual_pytorch_py3.5/lib/python3.5/site-packages/xgboost/training.py\u001b[0m in \u001b[0;36mtrain\u001b[0;34m(params, dtrain, num_boost_round, evals, obj, feval, maximize, early_stopping_rounds, evals_result, verbose_eval, xgb_model, callbacks, learning_rates)\u001b[0m\n\u001b[1;32m    202\u001b[0m                            \u001b[0mevals\u001b[0m\u001b[0;34m=\u001b[0m\u001b[0mevals\u001b[0m\u001b[0;34m,\u001b[0m\u001b[0;34m\u001b[0m\u001b[0m\n\u001b[1;32m    203\u001b[0m                            \u001b[0mobj\u001b[0m\u001b[0;34m=\u001b[0m\u001b[0mobj\u001b[0m\u001b[0;34m,\u001b[0m \u001b[0mfeval\u001b[0m\u001b[0;34m=\u001b[0m\u001b[0mfeval\u001b[0m\u001b[0;34m,\u001b[0m\u001b[0;34m\u001b[0m\u001b[0m\n\u001b[0;32m--> 204\u001b[0;31m                            xgb_model=xgb_model, callbacks=callbacks)\n\u001b[0m\u001b[1;32m    205\u001b[0m \u001b[0;34m\u001b[0m\u001b[0m\n\u001b[1;32m    206\u001b[0m \u001b[0;34m\u001b[0m\u001b[0m\n",
      "\u001b[0;32m~/virtual_pytorch_py3.5/lib/python3.5/site-packages/xgboost/training.py\u001b[0m in \u001b[0;36m_train_internal\u001b[0;34m(params, dtrain, num_boost_round, evals, obj, feval, xgb_model, callbacks)\u001b[0m\n\u001b[1;32m     82\u001b[0m         \u001b[0;31m# check evaluation result.\u001b[0m\u001b[0;34m\u001b[0m\u001b[0;34m\u001b[0m\u001b[0m\n\u001b[1;32m     83\u001b[0m         \u001b[0;32mif\u001b[0m \u001b[0mlen\u001b[0m\u001b[0;34m(\u001b[0m\u001b[0mevals\u001b[0m\u001b[0;34m)\u001b[0m \u001b[0;34m!=\u001b[0m \u001b[0;36m0\u001b[0m\u001b[0;34m:\u001b[0m\u001b[0;34m\u001b[0m\u001b[0m\n\u001b[0;32m---> 84\u001b[0;31m             \u001b[0mbst_eval_set\u001b[0m \u001b[0;34m=\u001b[0m \u001b[0mbst\u001b[0m\u001b[0;34m.\u001b[0m\u001b[0meval_set\u001b[0m\u001b[0;34m(\u001b[0m\u001b[0mevals\u001b[0m\u001b[0;34m,\u001b[0m \u001b[0mi\u001b[0m\u001b[0;34m,\u001b[0m \u001b[0mfeval\u001b[0m\u001b[0;34m)\u001b[0m\u001b[0;34m\u001b[0m\u001b[0m\n\u001b[0m\u001b[1;32m     85\u001b[0m             \u001b[0;32mif\u001b[0m \u001b[0misinstance\u001b[0m\u001b[0;34m(\u001b[0m\u001b[0mbst_eval_set\u001b[0m\u001b[0;34m,\u001b[0m \u001b[0mSTRING_TYPES\u001b[0m\u001b[0;34m)\u001b[0m\u001b[0;34m:\u001b[0m\u001b[0;34m\u001b[0m\u001b[0m\n\u001b[1;32m     86\u001b[0m                 \u001b[0mmsg\u001b[0m \u001b[0;34m=\u001b[0m \u001b[0mbst_eval_set\u001b[0m\u001b[0;34m\u001b[0m\u001b[0m\n",
      "\u001b[0;32m~/virtual_pytorch_py3.5/lib/python3.5/site-packages/xgboost/core.py\u001b[0m in \u001b[0;36meval_set\u001b[0;34m(self, evals, iteration, feval)\u001b[0m\n\u001b[1;32m    961\u001b[0m         \u001b[0;32mif\u001b[0m \u001b[0mfeval\u001b[0m \u001b[0;32mis\u001b[0m \u001b[0;32mnot\u001b[0m \u001b[0;32mNone\u001b[0m\u001b[0;34m:\u001b[0m\u001b[0;34m\u001b[0m\u001b[0m\n\u001b[1;32m    962\u001b[0m             \u001b[0;32mfor\u001b[0m \u001b[0mdmat\u001b[0m\u001b[0;34m,\u001b[0m \u001b[0mevname\u001b[0m \u001b[0;32min\u001b[0m \u001b[0mevals\u001b[0m\u001b[0;34m:\u001b[0m\u001b[0;34m\u001b[0m\u001b[0m\n\u001b[0;32m--> 963\u001b[0;31m                 \u001b[0mfeval_ret\u001b[0m \u001b[0;34m=\u001b[0m \u001b[0mfeval\u001b[0m\u001b[0;34m(\u001b[0m\u001b[0mself\u001b[0m\u001b[0;34m.\u001b[0m\u001b[0mpredict\u001b[0m\u001b[0;34m(\u001b[0m\u001b[0mdmat\u001b[0m\u001b[0;34m)\u001b[0m\u001b[0;34m,\u001b[0m \u001b[0mdmat\u001b[0m\u001b[0;34m)\u001b[0m\u001b[0;34m\u001b[0m\u001b[0m\n\u001b[0m\u001b[1;32m    964\u001b[0m                 \u001b[0;32mif\u001b[0m \u001b[0misinstance\u001b[0m\u001b[0;34m(\u001b[0m\u001b[0mfeval_ret\u001b[0m\u001b[0;34m,\u001b[0m \u001b[0mlist\u001b[0m\u001b[0;34m)\u001b[0m\u001b[0;34m:\u001b[0m\u001b[0;34m\u001b[0m\u001b[0m\n\u001b[1;32m    965\u001b[0m                     \u001b[0;32mfor\u001b[0m \u001b[0mname\u001b[0m\u001b[0;34m,\u001b[0m \u001b[0mval\u001b[0m \u001b[0;32min\u001b[0m \u001b[0mfeval_ret\u001b[0m\u001b[0;34m:\u001b[0m\u001b[0;34m\u001b[0m\u001b[0m\n",
      "\u001b[0;32m~/virtual_pytorch_py3.5/lib/python3.5/site-packages/xgboost/core.py\u001b[0m in \u001b[0;36mpredict\u001b[0;34m(self, data, output_margin, ntree_limit, pred_leaf, pred_contribs, approx_contribs)\u001b[0m\n\u001b[1;32m   1042\u001b[0m             \u001b[0moption_mask\u001b[0m \u001b[0;34m|=\u001b[0m \u001b[0;36m0x08\u001b[0m\u001b[0;34m\u001b[0m\u001b[0m\n\u001b[1;32m   1043\u001b[0m \u001b[0;34m\u001b[0m\u001b[0m\n\u001b[0;32m-> 1044\u001b[0;31m         \u001b[0mself\u001b[0m\u001b[0;34m.\u001b[0m\u001b[0m_validate_features\u001b[0m\u001b[0;34m(\u001b[0m\u001b[0mdata\u001b[0m\u001b[0;34m)\u001b[0m\u001b[0;34m\u001b[0m\u001b[0m\n\u001b[0m\u001b[1;32m   1045\u001b[0m \u001b[0;34m\u001b[0m\u001b[0m\n\u001b[1;32m   1046\u001b[0m         \u001b[0mlength\u001b[0m \u001b[0;34m=\u001b[0m \u001b[0mc_bst_ulong\u001b[0m\u001b[0;34m(\u001b[0m\u001b[0;34m)\u001b[0m\u001b[0;34m\u001b[0m\u001b[0m\n",
      "\u001b[0;32m~/virtual_pytorch_py3.5/lib/python3.5/site-packages/xgboost/core.py\u001b[0m in \u001b[0;36m_validate_features\u001b[0;34m(self, data)\u001b[0m\n\u001b[1;32m   1271\u001b[0m         \u001b[0;32melse\u001b[0m\u001b[0;34m:\u001b[0m\u001b[0;34m\u001b[0m\u001b[0m\n\u001b[1;32m   1272\u001b[0m             \u001b[0;31m# Booster can't accept data with different feature names\u001b[0m\u001b[0;34m\u001b[0m\u001b[0;34m\u001b[0m\u001b[0m\n\u001b[0;32m-> 1273\u001b[0;31m             \u001b[0;32mif\u001b[0m \u001b[0mself\u001b[0m\u001b[0;34m.\u001b[0m\u001b[0mfeature_names\u001b[0m \u001b[0;34m!=\u001b[0m \u001b[0mdata\u001b[0m\u001b[0;34m.\u001b[0m\u001b[0mfeature_names\u001b[0m\u001b[0;34m:\u001b[0m\u001b[0;34m\u001b[0m\u001b[0m\n\u001b[0m\u001b[1;32m   1274\u001b[0m                 \u001b[0mdat_missing\u001b[0m \u001b[0;34m=\u001b[0m \u001b[0mset\u001b[0m\u001b[0;34m(\u001b[0m\u001b[0mself\u001b[0m\u001b[0;34m.\u001b[0m\u001b[0mfeature_names\u001b[0m\u001b[0;34m)\u001b[0m \u001b[0;34m-\u001b[0m \u001b[0mset\u001b[0m\u001b[0;34m(\u001b[0m\u001b[0mdata\u001b[0m\u001b[0;34m.\u001b[0m\u001b[0mfeature_names\u001b[0m\u001b[0;34m)\u001b[0m\u001b[0;34m\u001b[0m\u001b[0m\n\u001b[1;32m   1275\u001b[0m                 \u001b[0mmy_missing\u001b[0m \u001b[0;34m=\u001b[0m \u001b[0mset\u001b[0m\u001b[0;34m(\u001b[0m\u001b[0mdata\u001b[0m\u001b[0;34m.\u001b[0m\u001b[0mfeature_names\u001b[0m\u001b[0;34m)\u001b[0m \u001b[0;34m-\u001b[0m \u001b[0mset\u001b[0m\u001b[0;34m(\u001b[0m\u001b[0mself\u001b[0m\u001b[0;34m.\u001b[0m\u001b[0mfeature_names\u001b[0m\u001b[0;34m)\u001b[0m\u001b[0;34m\u001b[0m\u001b[0m\n",
      "\u001b[0;32m~/virtual_pytorch_py3.5/lib/python3.5/site-packages/xgboost/core.py\u001b[0m in \u001b[0;36mfeature_names\u001b[0;34m(self)\u001b[0m\n\u001b[1;32m    629\u001b[0m         \"\"\"\n\u001b[1;32m    630\u001b[0m         \u001b[0;32mif\u001b[0m \u001b[0mself\u001b[0m\u001b[0;34m.\u001b[0m\u001b[0m_feature_names\u001b[0m \u001b[0;32mis\u001b[0m \u001b[0;32mNone\u001b[0m\u001b[0;34m:\u001b[0m\u001b[0;34m\u001b[0m\u001b[0m\n\u001b[0;32m--> 631\u001b[0;31m             \u001b[0;32mreturn\u001b[0m \u001b[0;34m[\u001b[0m\u001b[0;34m'f{0}'\u001b[0m\u001b[0;34m.\u001b[0m\u001b[0mformat\u001b[0m\u001b[0;34m(\u001b[0m\u001b[0mi\u001b[0m\u001b[0;34m)\u001b[0m \u001b[0;32mfor\u001b[0m \u001b[0mi\u001b[0m \u001b[0;32min\u001b[0m \u001b[0mrange\u001b[0m\u001b[0;34m(\u001b[0m\u001b[0mself\u001b[0m\u001b[0;34m.\u001b[0m\u001b[0mnum_col\u001b[0m\u001b[0;34m(\u001b[0m\u001b[0;34m)\u001b[0m\u001b[0;34m)\u001b[0m\u001b[0;34m]\u001b[0m\u001b[0;34m\u001b[0m\u001b[0m\n\u001b[0m\u001b[1;32m    632\u001b[0m         \u001b[0;32melse\u001b[0m\u001b[0;34m:\u001b[0m\u001b[0;34m\u001b[0m\u001b[0m\n\u001b[1;32m    633\u001b[0m             \u001b[0;32mreturn\u001b[0m \u001b[0mself\u001b[0m\u001b[0;34m.\u001b[0m\u001b[0m_feature_names\u001b[0m\u001b[0;34m\u001b[0m\u001b[0m\n",
      "\u001b[0;32m~/virtual_pytorch_py3.5/lib/python3.5/site-packages/xgboost/core.py\u001b[0m in \u001b[0;36m<listcomp>\u001b[0;34m(.0)\u001b[0m\n\u001b[1;32m    629\u001b[0m         \"\"\"\n\u001b[1;32m    630\u001b[0m         \u001b[0;32mif\u001b[0m \u001b[0mself\u001b[0m\u001b[0;34m.\u001b[0m\u001b[0m_feature_names\u001b[0m \u001b[0;32mis\u001b[0m \u001b[0;32mNone\u001b[0m\u001b[0;34m:\u001b[0m\u001b[0;34m\u001b[0m\u001b[0m\n\u001b[0;32m--> 631\u001b[0;31m             \u001b[0;32mreturn\u001b[0m \u001b[0;34m[\u001b[0m\u001b[0;34m'f{0}'\u001b[0m\u001b[0;34m.\u001b[0m\u001b[0mformat\u001b[0m\u001b[0;34m(\u001b[0m\u001b[0mi\u001b[0m\u001b[0;34m)\u001b[0m \u001b[0;32mfor\u001b[0m \u001b[0mi\u001b[0m \u001b[0;32min\u001b[0m \u001b[0mrange\u001b[0m\u001b[0;34m(\u001b[0m\u001b[0mself\u001b[0m\u001b[0;34m.\u001b[0m\u001b[0mnum_col\u001b[0m\u001b[0;34m(\u001b[0m\u001b[0;34m)\u001b[0m\u001b[0;34m)\u001b[0m\u001b[0;34m]\u001b[0m\u001b[0;34m\u001b[0m\u001b[0m\n\u001b[0m\u001b[1;32m    632\u001b[0m         \u001b[0;32melse\u001b[0m\u001b[0;34m:\u001b[0m\u001b[0;34m\u001b[0m\u001b[0m\n\u001b[1;32m    633\u001b[0m             \u001b[0;32mreturn\u001b[0m \u001b[0mself\u001b[0m\u001b[0;34m.\u001b[0m\u001b[0m_feature_names\u001b[0m\u001b[0;34m\u001b[0m\u001b[0m\n",
      "\u001b[0;31mKeyboardInterrupt\u001b[0m: "
     ]
    }
   ],
   "source": [
    "for i in tqdm(range(34)):\n",
    "    trainX = np.concatenate((train_data[:,2*i:2*(i+1)],train_data[:,68:10880],train_data[:,10880+288*i:10880+288*(i+1)],train_data[:,-117:-102]),axis = 1)\n",
    "    valX = np.concatenate((val_data[:,2*i:2*(i+1)],val_data[:,68:10880],val_data[:,10880+288*i:10880+288*(i+1)],val_data[:,-117:-102]),axis = 1)\n",
    "    trainY = train_data[:, -102+3*i+1]\n",
    "    valY = val_data[:, -102+3*i+1]\n",
    "#     trainY = beijing_train[:, -105+3*i]\n",
    "#     valY = beijing_test[:, -105+3*i]\n",
    "    print(trainX.shape)\n",
    "    print(valX.shape)\n",
    "\n",
    "    params={\n",
    "    'booster':'gbtree',\n",
    "    'objective': 'reg:gamma', #多分类的问题\n",
    "    # 'num_class':2, # 类别数，与 multisoftmax 并用\n",
    "    'gamma':0,  # 用于控制是否后剪枝的参数,越大越保守，一般0.1、0.2这样子。\n",
    "    'max_depth':2, # 构建树的深度，越大越容易过拟合\n",
    "    'lambda':100,  # 控制模型复杂度的权重值的L2正则化项参数，参数越大，模型越不容易过拟合。\n",
    "    'alpha':0,      # 控制模型复杂度的权重值的L1正则化项参数，参数越大，模型越不容易过拟合。\n",
    "    'subsample':0.9, # 随机采样训练样本\n",
    "    'colsample_bytree':0.1, # 生成树时进行的列采样\n",
    "    'min_child_weight':1, \n",
    "    # 这个参数默认是 1，是每个叶子里面 h 的和至少是多少，对正负样本不均衡时的 0-1 分类而言\n",
    "    #，假设 h 在 0.01 附近，min_child_weight 为 1 意味着叶子节点中最少需要包含 100 个样本。\n",
    "    #这个参数非常影响结果，控制叶子节点中二阶导的和的最小值，该参数值越小，越容易 overfitting。 \n",
    "    'silent':0 ,#设置成1则没有运行信息输出，最好是设置为0.\n",
    "    'eta': 0.05, # 如同学习率\n",
    "    'seed':1000,\n",
    "    'nthread':-1,# cpu 线程数\n",
    "#     'eval_metric':['mae','rmse']\n",
    "    }\n",
    "\n",
    "    plst = list(params.items())\n",
    "    num_rounds = 600 # 迭代次数\n",
    "    xgb_train = xgb.DMatrix(trainX, label= trainY)\n",
    "    xgb_val = xgb.DMatrix(valX, label= valY)\n",
    "    watchlist = [(xgb_train, 'train'),(xgb_val, 'val')]\n",
    "    #训练模型并保存\n",
    "    # early_stopping_rounds 当设置的迭代次数较大时，early_stopping_rounds 可在一定的迭代次数内准确率没有提升就停止训练\n",
    "    model_PM10 = xgb.train(plst, xgb_train, num_rounds, watchlist, early_stopping_rounds=50,verbose_eval=100,feval=sMAPE)\n",
    "    plt.plot(model_PM10.predict(xgb.DMatrix(valX)),'g')\n",
    "    plt.plot(valY,'r')\n",
    "    plt.show()\n",
    "    model_PM10.save_model('/home/lifuzhen/KDD2018/Mini_train/beijing_drop1/'+ str(i) +'_PM10.model') # 用于存储训练出的模型"
   ]
  },
  {
   "cell_type": "markdown",
   "metadata": {},
   "source": [
    "# O3"
   ]
  },
  {
   "cell_type": "code",
   "execution_count": 80,
   "metadata": {},
   "outputs": [
    {
     "name": "stderr",
     "output_type": "stream",
     "text": [
      "\r",
      "  0%|          | 0/34 [00:00<?, ?it/s]"
     ]
    },
    {
     "name": "stdout",
     "output_type": "stream",
     "text": [
      "(432, 11116)\n",
      "(48, 11116)\n",
      "[0]\ttrain-gamma-nloglik:164.642\tval-gamma-nloglik:164.653\ttrain-sMAPE:1.88565\tval-sMAPE:1.9618\n",
      "Multiple eval metrics have been passed: 'val-sMAPE' will be used for early stopping.\n",
      "\n",
      "Will train until val-sMAPE hasn't improved in 50 rounds.\n",
      "[100]\ttrain-gamma-nloglik:5.79174\tval-gamma-nloglik:5.95726\ttrain-sMAPE:0.862082\tval-sMAPE:0.777695\n",
      "Stopping. Best iteration:\n",
      "[138]\ttrain-gamma-nloglik:5.25927\tval-gamma-nloglik:5.47049\ttrain-sMAPE:0.514667\tval-sMAPE:0.410072\n",
      "\n"
     ]
    },
    {
     "data": {
      "image/png": "[encoded data removed]",
      "text/plain": [
       "<matplotlib.figure.Figure at 0x7fd8c00b1ef0>"
      ]
     },
     "metadata": {},
     "output_type": "display_data"
    },
    {
     "name": "stderr",
     "output_type": "stream",
     "text": [
      "\r",
      "  3%|▎         | 1/34 [00:06<03:30,  6.36s/it]"
     ]
    },
    {
     "name": "stdout",
     "output_type": "stream",
     "text": [
      "(432, 11116)\n",
      "(48, 11116)\n",
      "[0]\ttrain-gamma-nloglik:143.414\tval-gamma-nloglik:155.027\ttrain-sMAPE:1.88992\tval-sMAPE:1.94453\n",
      "Multiple eval metrics have been passed: 'val-sMAPE' will be used for early stopping.\n",
      "\n",
      "Will train until val-sMAPE hasn't improved in 50 rounds.\n",
      "[100]\ttrain-gamma-nloglik:5.49788\tval-gamma-nloglik:5.98062\ttrain-sMAPE:0.785753\tval-sMAPE:0.840745\n",
      "Stopping. Best iteration:\n",
      "[147]\ttrain-gamma-nloglik:4.98352\tval-gamma-nloglik:5.6955\ttrain-sMAPE:0.451972\tval-sMAPE:0.580304\n",
      "\n"
     ]
    },
    {
     "data": {
      "image/png": "[encoded data removed]",
      "text/plain": [
       "<matplotlib.figure.Figure at 0x7fd8c6955b00>"
      ]
     },
     "metadata": {},
     "output_type": "display_data"
    },
    {
     "name": "stderr",
     "output_type": "stream",
     "text": [
      "\r",
      "  6%|▌         | 2/34 [00:13<03:28,  6.53s/it]"
     ]
    },
    {
     "name": "stdout",
     "output_type": "stream",
     "text": [
      "(432, 11116)\n",
      "(48, 11116)\n",
      "[0]\ttrain-gamma-nloglik:141.186\tval-gamma-nloglik:136.63\ttrain-sMAPE:1.83077\tval-sMAPE:1.93849\n",
      "Multiple eval metrics have been passed: 'val-sMAPE' will be used for early stopping.\n",
      "\n",
      "Will train until val-sMAPE hasn't improved in 50 rounds.\n",
      "[100]\ttrain-gamma-nloglik:5.4218\tval-gamma-nloglik:6.49307\ttrain-sMAPE:0.871463\tval-sMAPE:0.942336\n",
      "Stopping. Best iteration:\n",
      "[130]\ttrain-gamma-nloglik:4.96567\tval-gamma-nloglik:6.23942\ttrain-sMAPE:0.608768\tval-sMAPE:0.760975\n",
      "\n"
     ]
    },
    {
     "data": {
      "image/png": "[encoded data removed]",
      "text/plain": [
       "<matplotlib.figure.Figure at 0x7fd88bf56e80>"
      ]
     },
     "metadata": {},
     "output_type": "display_data"
    },
    {
     "name": "stderr",
     "output_type": "stream",
     "text": [
      "\r",
      "  9%|▉         | 3/34 [00:19<03:18,  6.41s/it]"
     ]
    },
    {
     "name": "stdout",
     "output_type": "stream",
     "text": [
      "(432, 11116)\n",
      "(48, 11116)\n",
      "[0]\ttrain-gamma-nloglik:172.468\tval-gamma-nloglik:159.655\ttrain-sMAPE:1.90908\tval-sMAPE:1.94429\n",
      "Multiple eval metrics have been passed: 'val-sMAPE' will be used for early stopping.\n",
      "\n",
      "Will train until val-sMAPE hasn't improved in 50 rounds.\n",
      "[100]\ttrain-gamma-nloglik:5.89595\tval-gamma-nloglik:5.82128\ttrain-sMAPE:0.800769\tval-sMAPE:0.781048\n",
      "Stopping. Best iteration:\n",
      "[143]\ttrain-gamma-nloglik:5.32991\tval-gamma-nloglik:5.3711\ttrain-sMAPE:0.475159\tval-sMAPE:0.484576\n",
      "\n"
     ]
    },
    {
     "data": {
      "image/png": "[encoded data removed]",
      "text/plain": [
       "<matplotlib.figure.Figure at 0x7fd8be5a45f8>"
      ]
     },
     "metadata": {},
     "output_type": "display_data"
    },
    {
     "name": "stderr",
     "output_type": "stream",
     "text": [
      "\r",
      " 12%|█▏        | 4/34 [00:25<03:13,  6.45s/it]"
     ]
    },
    {
     "name": "stdout",
     "output_type": "stream",
     "text": [
      "(432, 11116)\n",
      "(48, 11116)\n",
      "[0]\ttrain-gamma-nloglik:166.209\tval-gamma-nloglik:209.415\ttrain-sMAPE:1.97025\tval-sMAPE:1.97911\n",
      "Multiple eval metrics have been passed: 'val-sMAPE' will be used for early stopping.\n",
      "\n",
      "Will train until val-sMAPE hasn't improved in 50 rounds.\n",
      "[100]\ttrain-gamma-nloglik:5.91856\tval-gamma-nloglik:6.53204\ttrain-sMAPE:0.68794\tval-sMAPE:0.926819\n",
      "[200]\ttrain-gamma-nloglik:5.39162\tval-gamma-nloglik:5.78404\ttrain-sMAPE:0.168795\tval-sMAPE:0.373741\n",
      "Stopping. Best iteration:\n",
      "[205]\ttrain-gamma-nloglik:5.39025\tval-gamma-nloglik:5.78393\ttrain-sMAPE:0.16456\tval-sMAPE:0.373666\n",
      "\n"
     ]
    },
    {
     "data": {
      "image/png": "[encoded data removed]",
      "text/plain": [
       "<matplotlib.figure.Figure at 0x7fd8c64d3a90>"
      ]
     },
     "metadata": {},
     "output_type": "display_data"
    },
    {
     "name": "stderr",
     "output_type": "stream",
     "text": [
      "\r",
      " 15%|█▍        | 5/34 [00:33<03:16,  6.78s/it]"
     ]
    },
    {
     "name": "stdout",
     "output_type": "stream",
     "text": [
      "(432, 11116)\n",
      "(48, 11116)\n",
      "[0]\ttrain-gamma-nloglik:212.333\tval-gamma-nloglik:249.362\ttrain-sMAPE:1.97688\tval-sMAPE:1.98243\n",
      "Multiple eval metrics have been passed: 'val-sMAPE' will be used for early stopping.\n",
      "\n",
      "Will train until val-sMAPE hasn't improved in 50 rounds.\n",
      "[100]\ttrain-gamma-nloglik:6.35363\tval-gamma-nloglik:6.80489\ttrain-sMAPE:0.775693\tval-sMAPE:0.953915\n",
      "[200]\ttrain-gamma-nloglik:5.62866\tval-gamma-nloglik:5.90159\ttrain-sMAPE:0.145445\tval-sMAPE:0.30169\n",
      "Stopping. Best iteration:\n",
      "[163]\ttrain-gamma-nloglik:5.65138\tval-gamma-nloglik:5.92056\ttrain-sMAPE:0.198616\tval-sMAPE:0.294115\n",
      "\n"
     ]
    },
    {
     "data": {
      "image/png": "[encoded data removed]",
      "text/plain": [
       "<matplotlib.figure.Figure at 0x7fd89dfafc88>"
      ]
     },
     "metadata": {},
     "output_type": "display_data"
    },
    {
     "name": "stderr",
     "output_type": "stream",
     "text": [
      "\r",
      " 18%|█▊        | 6/34 [00:40<03:11,  6.83s/it]"
     ]
    },
    {
     "name": "stdout",
     "output_type": "stream",
     "text": [
      "(432, 11116)\n",
      "(48, 11116)\n",
      "[0]\ttrain-gamma-nloglik:175.506\tval-gamma-nloglik:171.766\ttrain-sMAPE:1.93153\tval-sMAPE:1.96875\n",
      "Multiple eval metrics have been passed: 'val-sMAPE' will be used for early stopping.\n",
      "\n",
      "Will train until val-sMAPE hasn't improved in 50 rounds.\n"
     ]
    },
    {
     "ename": "KeyboardInterrupt",
     "evalue": "",
     "output_type": "error",
     "traceback": [
      "\u001b[0;31m---------------------------------------------------------------------------\u001b[0m",
      "\u001b[0;31mKeyboardInterrupt\u001b[0m                         Traceback (most recent call last)",
      "\u001b[0;32m<ipython-input-80-c09d8136b028>\u001b[0m in \u001b[0;36m<module>\u001b[0;34m()\u001b[0m\n\u001b[1;32m     37\u001b[0m     \u001b[0;31m#训练模型并保存\u001b[0m\u001b[0;34m\u001b[0m\u001b[0;34m\u001b[0m\u001b[0m\n\u001b[1;32m     38\u001b[0m     \u001b[0;31m# early_stopping_rounds 当设置的迭代次数较大时，early_stopping_rounds 可在一定的迭代次数内准确率没有提升就停止训练\u001b[0m\u001b[0;34m\u001b[0m\u001b[0;34m\u001b[0m\u001b[0m\n\u001b[0;32m---> 39\u001b[0;31m     \u001b[0mmodel_PM10\u001b[0m \u001b[0;34m=\u001b[0m \u001b[0mxgb\u001b[0m\u001b[0;34m.\u001b[0m\u001b[0mtrain\u001b[0m\u001b[0;34m(\u001b[0m\u001b[0mplst\u001b[0m\u001b[0;34m,\u001b[0m \u001b[0mxgb_train\u001b[0m\u001b[0;34m,\u001b[0m \u001b[0mnum_rounds\u001b[0m\u001b[0;34m,\u001b[0m \u001b[0mwatchlist\u001b[0m\u001b[0;34m,\u001b[0m \u001b[0mearly_stopping_rounds\u001b[0m\u001b[0;34m=\u001b[0m\u001b[0;36m50\u001b[0m\u001b[0;34m,\u001b[0m\u001b[0mverbose_eval\u001b[0m\u001b[0;34m=\u001b[0m\u001b[0;36m100\u001b[0m\u001b[0;34m,\u001b[0m\u001b[0mfeval\u001b[0m\u001b[0;34m=\u001b[0m\u001b[0msMAPE\u001b[0m\u001b[0;34m)\u001b[0m\u001b[0;34m\u001b[0m\u001b[0m\n\u001b[0m\u001b[1;32m     40\u001b[0m     \u001b[0mplt\u001b[0m\u001b[0;34m.\u001b[0m\u001b[0mplot\u001b[0m\u001b[0;34m(\u001b[0m\u001b[0mmodel_PM10\u001b[0m\u001b[0;34m.\u001b[0m\u001b[0mpredict\u001b[0m\u001b[0;34m(\u001b[0m\u001b[0mxgb\u001b[0m\u001b[0;34m.\u001b[0m\u001b[0mDMatrix\u001b[0m\u001b[0;34m(\u001b[0m\u001b[0mvalX\u001b[0m\u001b[0;34m)\u001b[0m\u001b[0;34m)\u001b[0m\u001b[0;34m,\u001b[0m\u001b[0;34m'g'\u001b[0m\u001b[0;34m)\u001b[0m\u001b[0;34m\u001b[0m\u001b[0m\n\u001b[1;32m     41\u001b[0m     \u001b[0mplt\u001b[0m\u001b[0;34m.\u001b[0m\u001b[0mplot\u001b[0m\u001b[0;34m(\u001b[0m\u001b[0mvalY\u001b[0m\u001b[0;34m,\u001b[0m\u001b[0;34m'r'\u001b[0m\u001b[0;34m)\u001b[0m\u001b[0;34m\u001b[0m\u001b[0m\n",
      "\u001b[0;32m~/virtual_pytorch_py3.5/lib/python3.5/site-packages/xgboost/training.py\u001b[0m in \u001b[0;36mtrain\u001b[0;34m(params, dtrain, num_boost_round, evals, obj, feval, maximize, early_stopping_rounds, evals_result, verbose_eval, xgb_model, callbacks, learning_rates)\u001b[0m\n\u001b[1;32m    202\u001b[0m                            \u001b[0mevals\u001b[0m\u001b[0;34m=\u001b[0m\u001b[0mevals\u001b[0m\u001b[0;34m,\u001b[0m\u001b[0;34m\u001b[0m\u001b[0m\n\u001b[1;32m    203\u001b[0m                            \u001b[0mobj\u001b[0m\u001b[0;34m=\u001b[0m\u001b[0mobj\u001b[0m\u001b[0;34m,\u001b[0m \u001b[0mfeval\u001b[0m\u001b[0;34m=\u001b[0m\u001b[0mfeval\u001b[0m\u001b[0;34m,\u001b[0m\u001b[0;34m\u001b[0m\u001b[0m\n\u001b[0;32m--> 204\u001b[0;31m                            xgb_model=xgb_model, callbacks=callbacks)\n\u001b[0m\u001b[1;32m    205\u001b[0m \u001b[0;34m\u001b[0m\u001b[0m\n\u001b[1;32m    206\u001b[0m \u001b[0;34m\u001b[0m\u001b[0m\n",
      "\u001b[0;32m~/virtual_pytorch_py3.5/lib/python3.5/site-packages/xgboost/training.py\u001b[0m in \u001b[0;36m_train_internal\u001b[0;34m(params, dtrain, num_boost_round, evals, obj, feval, xgb_model, callbacks)\u001b[0m\n\u001b[1;32m     82\u001b[0m         \u001b[0;31m# check evaluation result.\u001b[0m\u001b[0;34m\u001b[0m\u001b[0;34m\u001b[0m\u001b[0m\n\u001b[1;32m     83\u001b[0m         \u001b[0;32mif\u001b[0m \u001b[0mlen\u001b[0m\u001b[0;34m(\u001b[0m\u001b[0mevals\u001b[0m\u001b[0;34m)\u001b[0m \u001b[0;34m!=\u001b[0m \u001b[0;36m0\u001b[0m\u001b[0;34m:\u001b[0m\u001b[0;34m\u001b[0m\u001b[0m\n\u001b[0;32m---> 84\u001b[0;31m             \u001b[0mbst_eval_set\u001b[0m \u001b[0;34m=\u001b[0m \u001b[0mbst\u001b[0m\u001b[0;34m.\u001b[0m\u001b[0meval_set\u001b[0m\u001b[0;34m(\u001b[0m\u001b[0mevals\u001b[0m\u001b[0;34m,\u001b[0m \u001b[0mi\u001b[0m\u001b[0;34m,\u001b[0m \u001b[0mfeval\u001b[0m\u001b[0;34m)\u001b[0m\u001b[0;34m\u001b[0m\u001b[0m\n\u001b[0m\u001b[1;32m     85\u001b[0m             \u001b[0;32mif\u001b[0m \u001b[0misinstance\u001b[0m\u001b[0;34m(\u001b[0m\u001b[0mbst_eval_set\u001b[0m\u001b[0;34m,\u001b[0m \u001b[0mSTRING_TYPES\u001b[0m\u001b[0;34m)\u001b[0m\u001b[0;34m:\u001b[0m\u001b[0;34m\u001b[0m\u001b[0m\n\u001b[1;32m     86\u001b[0m                 \u001b[0mmsg\u001b[0m \u001b[0;34m=\u001b[0m \u001b[0mbst_eval_set\u001b[0m\u001b[0;34m\u001b[0m\u001b[0m\n",
      "\u001b[0;32m~/virtual_pytorch_py3.5/lib/python3.5/site-packages/xgboost/core.py\u001b[0m in \u001b[0;36meval_set\u001b[0;34m(self, evals, iteration, feval)\u001b[0m\n\u001b[1;32m    961\u001b[0m         \u001b[0;32mif\u001b[0m \u001b[0mfeval\u001b[0m \u001b[0;32mis\u001b[0m \u001b[0;32mnot\u001b[0m \u001b[0;32mNone\u001b[0m\u001b[0;34m:\u001b[0m\u001b[0;34m\u001b[0m\u001b[0m\n\u001b[1;32m    962\u001b[0m             \u001b[0;32mfor\u001b[0m \u001b[0mdmat\u001b[0m\u001b[0;34m,\u001b[0m \u001b[0mevname\u001b[0m \u001b[0;32min\u001b[0m \u001b[0mevals\u001b[0m\u001b[0;34m:\u001b[0m\u001b[0;34m\u001b[0m\u001b[0m\n\u001b[0;32m--> 963\u001b[0;31m                 \u001b[0mfeval_ret\u001b[0m \u001b[0;34m=\u001b[0m \u001b[0mfeval\u001b[0m\u001b[0;34m(\u001b[0m\u001b[0mself\u001b[0m\u001b[0;34m.\u001b[0m\u001b[0mpredict\u001b[0m\u001b[0;34m(\u001b[0m\u001b[0mdmat\u001b[0m\u001b[0;34m)\u001b[0m\u001b[0;34m,\u001b[0m \u001b[0mdmat\u001b[0m\u001b[0;34m)\u001b[0m\u001b[0;34m\u001b[0m\u001b[0m\n\u001b[0m\u001b[1;32m    964\u001b[0m                 \u001b[0;32mif\u001b[0m \u001b[0misinstance\u001b[0m\u001b[0;34m(\u001b[0m\u001b[0mfeval_ret\u001b[0m\u001b[0;34m,\u001b[0m \u001b[0mlist\u001b[0m\u001b[0;34m)\u001b[0m\u001b[0;34m:\u001b[0m\u001b[0;34m\u001b[0m\u001b[0m\n\u001b[1;32m    965\u001b[0m                     \u001b[0;32mfor\u001b[0m \u001b[0mname\u001b[0m\u001b[0;34m,\u001b[0m \u001b[0mval\u001b[0m \u001b[0;32min\u001b[0m \u001b[0mfeval_ret\u001b[0m\u001b[0;34m:\u001b[0m\u001b[0;34m\u001b[0m\u001b[0m\n",
      "\u001b[0;32m~/virtual_pytorch_py3.5/lib/python3.5/site-packages/xgboost/core.py\u001b[0m in \u001b[0;36mpredict\u001b[0;34m(self, data, output_margin, ntree_limit, pred_leaf, pred_contribs, approx_contribs)\u001b[0m\n\u001b[1;32m   1042\u001b[0m             \u001b[0moption_mask\u001b[0m \u001b[0;34m|=\u001b[0m \u001b[0;36m0x08\u001b[0m\u001b[0;34m\u001b[0m\u001b[0m\n\u001b[1;32m   1043\u001b[0m \u001b[0;34m\u001b[0m\u001b[0m\n\u001b[0;32m-> 1044\u001b[0;31m         \u001b[0mself\u001b[0m\u001b[0;34m.\u001b[0m\u001b[0m_validate_features\u001b[0m\u001b[0;34m(\u001b[0m\u001b[0mdata\u001b[0m\u001b[0;34m)\u001b[0m\u001b[0;34m\u001b[0m\u001b[0m\n\u001b[0m\u001b[1;32m   1045\u001b[0m \u001b[0;34m\u001b[0m\u001b[0m\n\u001b[1;32m   1046\u001b[0m         \u001b[0mlength\u001b[0m \u001b[0;34m=\u001b[0m \u001b[0mc_bst_ulong\u001b[0m\u001b[0;34m(\u001b[0m\u001b[0;34m)\u001b[0m\u001b[0;34m\u001b[0m\u001b[0m\n",
      "\u001b[0;32m~/virtual_pytorch_py3.5/lib/python3.5/site-packages/xgboost/core.py\u001b[0m in \u001b[0;36m_validate_features\u001b[0;34m(self, data)\u001b[0m\n\u001b[1;32m   1271\u001b[0m         \u001b[0;32melse\u001b[0m\u001b[0;34m:\u001b[0m\u001b[0;34m\u001b[0m\u001b[0m\n\u001b[1;32m   1272\u001b[0m             \u001b[0;31m# Booster can't accept data with different feature names\u001b[0m\u001b[0;34m\u001b[0m\u001b[0;34m\u001b[0m\u001b[0m\n\u001b[0;32m-> 1273\u001b[0;31m             \u001b[0;32mif\u001b[0m \u001b[0mself\u001b[0m\u001b[0;34m.\u001b[0m\u001b[0mfeature_names\u001b[0m \u001b[0;34m!=\u001b[0m \u001b[0mdata\u001b[0m\u001b[0;34m.\u001b[0m\u001b[0mfeature_names\u001b[0m\u001b[0;34m:\u001b[0m\u001b[0;34m\u001b[0m\u001b[0m\n\u001b[0m\u001b[1;32m   1274\u001b[0m                 \u001b[0mdat_missing\u001b[0m \u001b[0;34m=\u001b[0m \u001b[0mset\u001b[0m\u001b[0;34m(\u001b[0m\u001b[0mself\u001b[0m\u001b[0;34m.\u001b[0m\u001b[0mfeature_names\u001b[0m\u001b[0;34m)\u001b[0m \u001b[0;34m-\u001b[0m \u001b[0mset\u001b[0m\u001b[0;34m(\u001b[0m\u001b[0mdata\u001b[0m\u001b[0;34m.\u001b[0m\u001b[0mfeature_names\u001b[0m\u001b[0;34m)\u001b[0m\u001b[0;34m\u001b[0m\u001b[0m\n\u001b[1;32m   1275\u001b[0m                 \u001b[0mmy_missing\u001b[0m \u001b[0;34m=\u001b[0m \u001b[0mset\u001b[0m\u001b[0;34m(\u001b[0m\u001b[0mdata\u001b[0m\u001b[0;34m.\u001b[0m\u001b[0mfeature_names\u001b[0m\u001b[0;34m)\u001b[0m \u001b[0;34m-\u001b[0m \u001b[0mset\u001b[0m\u001b[0;34m(\u001b[0m\u001b[0mself\u001b[0m\u001b[0;34m.\u001b[0m\u001b[0mfeature_names\u001b[0m\u001b[0;34m)\u001b[0m\u001b[0;34m\u001b[0m\u001b[0m\n",
      "\u001b[0;32m~/virtual_pytorch_py3.5/lib/python3.5/site-packages/xgboost/core.py\u001b[0m in \u001b[0;36mfeature_names\u001b[0;34m(self)\u001b[0m\n\u001b[1;32m    629\u001b[0m         \"\"\"\n\u001b[1;32m    630\u001b[0m         \u001b[0;32mif\u001b[0m \u001b[0mself\u001b[0m\u001b[0;34m.\u001b[0m\u001b[0m_feature_names\u001b[0m \u001b[0;32mis\u001b[0m \u001b[0;32mNone\u001b[0m\u001b[0;34m:\u001b[0m\u001b[0;34m\u001b[0m\u001b[0m\n\u001b[0;32m--> 631\u001b[0;31m             \u001b[0;32mreturn\u001b[0m \u001b[0;34m[\u001b[0m\u001b[0;34m'f{0}'\u001b[0m\u001b[0;34m.\u001b[0m\u001b[0mformat\u001b[0m\u001b[0;34m(\u001b[0m\u001b[0mi\u001b[0m\u001b[0;34m)\u001b[0m \u001b[0;32mfor\u001b[0m \u001b[0mi\u001b[0m \u001b[0;32min\u001b[0m \u001b[0mrange\u001b[0m\u001b[0;34m(\u001b[0m\u001b[0mself\u001b[0m\u001b[0;34m.\u001b[0m\u001b[0mnum_col\u001b[0m\u001b[0;34m(\u001b[0m\u001b[0;34m)\u001b[0m\u001b[0;34m)\u001b[0m\u001b[0;34m]\u001b[0m\u001b[0;34m\u001b[0m\u001b[0m\n\u001b[0m\u001b[1;32m    632\u001b[0m         \u001b[0;32melse\u001b[0m\u001b[0;34m:\u001b[0m\u001b[0;34m\u001b[0m\u001b[0m\n\u001b[1;32m    633\u001b[0m             \u001b[0;32mreturn\u001b[0m \u001b[0mself\u001b[0m\u001b[0;34m.\u001b[0m\u001b[0m_feature_names\u001b[0m\u001b[0;34m\u001b[0m\u001b[0m\n",
      "\u001b[0;32m~/virtual_pytorch_py3.5/lib/python3.5/site-packages/xgboost/core.py\u001b[0m in \u001b[0;36m<listcomp>\u001b[0;34m(.0)\u001b[0m\n\u001b[1;32m    629\u001b[0m         \"\"\"\n\u001b[1;32m    630\u001b[0m         \u001b[0;32mif\u001b[0m \u001b[0mself\u001b[0m\u001b[0;34m.\u001b[0m\u001b[0m_feature_names\u001b[0m \u001b[0;32mis\u001b[0m \u001b[0;32mNone\u001b[0m\u001b[0;34m:\u001b[0m\u001b[0;34m\u001b[0m\u001b[0m\n\u001b[0;32m--> 631\u001b[0;31m             \u001b[0;32mreturn\u001b[0m \u001b[0;34m[\u001b[0m\u001b[0;34m'f{0}'\u001b[0m\u001b[0;34m.\u001b[0m\u001b[0mformat\u001b[0m\u001b[0;34m(\u001b[0m\u001b[0mi\u001b[0m\u001b[0;34m)\u001b[0m \u001b[0;32mfor\u001b[0m \u001b[0mi\u001b[0m \u001b[0;32min\u001b[0m \u001b[0mrange\u001b[0m\u001b[0;34m(\u001b[0m\u001b[0mself\u001b[0m\u001b[0;34m.\u001b[0m\u001b[0mnum_col\u001b[0m\u001b[0;34m(\u001b[0m\u001b[0;34m)\u001b[0m\u001b[0;34m)\u001b[0m\u001b[0;34m]\u001b[0m\u001b[0;34m\u001b[0m\u001b[0m\n\u001b[0m\u001b[1;32m    632\u001b[0m         \u001b[0;32melse\u001b[0m\u001b[0;34m:\u001b[0m\u001b[0;34m\u001b[0m\u001b[0m\n\u001b[1;32m    633\u001b[0m             \u001b[0;32mreturn\u001b[0m \u001b[0mself\u001b[0m\u001b[0;34m.\u001b[0m\u001b[0m_feature_names\u001b[0m\u001b[0;34m\u001b[0m\u001b[0m\n",
      "\u001b[0;31mKeyboardInterrupt\u001b[0m: "
     ]
    }
   ],
   "source": [
    "for i in tqdm(range(34)):\n",
    "    trainX = np.concatenate((train_data[:,2*i:2*(i+1)],train_data[:,68+6*i+4:68+6*i+5],,train_data[:,-115:-114],train_data[:,-110:-109],train_data[:,-104:-103]),axis = 1)\n",
    "    valX = np.concatenate((val_data[:,2*i:2*(i+1)],val_data[:,68+6*i+4:68+6*i+5],val_data[:,-115:-114],val_data[:,-110:-109],val_data[:,-104:-103]),axis = 1)\n",
    "    trainY = train_data[:, -102+3*i+2]\n",
    "    valY = val_data[:, -102+3*i+2]\n",
    "#     trainY = beijing_train[:, -105+3*i]\n",
    "#     valY = beijing_test[:, -105+3*i]\n",
    "    print(trainX.shape)\n",
    "    print(valX.shape)\n",
    "\n",
    "    params={\n",
    "    'booster':'gbtree',\n",
    "    'objective': 'reg:gamma', #多分类的问题\n",
    "    # 'num_class':2, # 类别数，与 multisoftmax 并用\n",
    "    'gamma':0,  # 用于控制是否后剪枝的参数,越大越保守，一般0.1、0.2这样子。\n",
    "    'max_depth':2, # 构建树的深度，越大越容易过拟合\n",
    "    'lambda':100,  # 控制模型复杂度的权重值的L2正则化项参数，参数越大，模型越不容易过拟合。\n",
    "    'alpha':0,      # 控制模型复杂度的权重值的L1正则化项参数，参数越大，模型越不容易过拟合。\n",
    "    'subsample':0.9, # 随机采样训练样本\n",
    "    'colsample_bytree':0.1, # 生成树时进行的列采样\n",
    "    'min_child_weight':1, \n",
    "    # 这个参数默认是 1，是每个叶子里面 h 的和至少是多少，对正负样本不均衡时的 0-1 分类而言\n",
    "    #，假设 h 在 0.01 附近，min_child_weight 为 1 意味着叶子节点中最少需要包含 100 个样本。\n",
    "    #这个参数非常影响结果，控制叶子节点中二阶导的和的最小值，该参数值越小，越容易 overfitting。 \n",
    "    'silent':0 ,#设置成1则没有运行信息输出，最好是设置为0.\n",
    "    'eta': 0.05, # 如同学习率\n",
    "    'seed':1000,\n",
    "    'nthread':-1,# cpu 线程数\n",
    "#     'eval_metric':['mae','rmse']\n",
    "    }\n",
    "\n",
    "    plst = list(params.items())\n",
    "    num_rounds = 600 # 迭代次数\n",
    "    xgb_train = xgb.DMatrix(trainX, label= trainY)\n",
    "    xgb_val = xgb.DMatrix(valX, label= valY)\n",
    "    watchlist = [(xgb_train, 'train'),(xgb_val, 'val')]\n",
    "    #训练模型并保存\n",
    "    # early_stopping_rounds 当设置的迭代次数较大时，early_stopping_rounds 可在一定的迭代次数内准确率没有提升就停止训练\n",
    "    model_PM10 = xgb.train(plst, xgb_train, num_rounds, watchlist, early_stopping_rounds=50,verbose_eval=100,feval=sMAPE)\n",
    "    plt.plot(model_PM10.predict(xgb.DMatrix(valX)),'g')\n",
    "    plt.plot(valY,'r')\n",
    "    plt.show()\n",
    "    model_PM10.save_model('/home/lifuzhen/KDD2018/Mini_train/beijing_drop1/'+ str(i) +'_O3.model') # 用于存储训练出的模型"
   ]
  },
  {
   "cell_type": "markdown",
   "metadata": {},
   "source": [
    "# London"
   ]
  },
  {
   "cell_type": "code",
   "execution_count": null,
   "metadata": {},
   "outputs": [],
   "source": [
    "import xgboost as xgb\n",
    "from sklearn.cross_validation import train_test_split\n",
    "train_data, val_data = train_test_split(London_train, test_size = 0.3, random_state = 1)"
   ]
  },
  {
   "cell_type": "markdown",
   "metadata": {},
   "source": [
    "# PM2.5"
   ]
  },
  {
   "cell_type": "code",
   "execution_count": null,
   "metadata": {},
   "outputs": [],
   "source": [
    "for i in tqdm(range(13)):\n",
    "    trainX = np.concatenate((train_data[:,2*i:2*(i+1)],train_data[:,26:1985],train_data[:,1985+144*i:1985+144*(i+1)],train_data[:,-34:-26]),axis = 1)\n",
    "    valX = np.concatenate((val_data[:,2*i:2*(i+1)],val_data[:,26:1985],val_data[:,1985+144*i:1985+144*(i+1)],val_data[:,-34:-26]),axis = 1)\n",
    "    trainY = train_data[:, -26+2*i]\n",
    "    valY = val_data[:, -26+2*i]\n",
    "    trainY[trainY <= 0] = 0.1\n",
    "    valY[valY <= 0] = 0.1\n",
    "#     trainY = London_train[:, -26+2*i]\n",
    "#     valY = London_test[:, -26+2*i]\n",
    "    print(trainX.shape)\n",
    "    print(valX.shape)\n",
    "\n",
    "    params={\n",
    "    'booster':'gbtree',\n",
    "    'objective': 'reg:gamma', #多分类的问题\n",
    "    # 'num_class':2, # 类别数，与 multisoftmax 并用\n",
    "    'gamma':0,  # 用于控制是否后剪枝的参数,越大越保守，一般0.1、0.2这样子。\n",
    "    'max_depth':2, # 构建树的深度，越大越容易过拟合\n",
    "    'lambda':100,  # 控制模型复杂度的权重值的L2正则化项参数，参数越大，模型越不容易过拟合。\n",
    "    'alpha':0,      # 控制模型复杂度的权重值的L1正则化项参数，参数越大，模型越不容易过拟合。\n",
    "    'subsample':0.9, # 随机采样训练样本\n",
    "    'colsample_bytree':0.2, # 生成树时进行的列采样\n",
    "    'min_child_weight':1, \n",
    "    # 这个参数默认是 1，是每个叶子里面 h 的和至少是多少，对正负样本不均衡时的 0-1 分类而言\n",
    "    #，假设 h 在 0.01 附近，min_child_weight 为 1 意味着叶子节点中最少需要包含 100 个样本。\n",
    "    #这个参数非常影响结果，控制叶子节点中二阶导的和的最小值，该参数值越小，越容易 overfitting。 \n",
    "    'silent':0 ,#设置成1则没有运行信息输出，最好是设置为0.\n",
    "    'eta': 0.05, # 如同学习率\n",
    "    'seed':1000,\n",
    "    'nthread':-1,# cpu 线程数\n",
    "#     'eval_metric':['mae','rmse']\n",
    "    }\n",
    "\n",
    "    plst = list(params.items())\n",
    "    num_rounds = 600 # 迭代次数\n",
    "    xgb_train = xgb.DMatrix(trainX, label= trainY)\n",
    "    xgb_val = xgb.DMatrix(valX, label= valY)\n",
    "    watchlist = [(xgb_train, 'train'),(xgb_val, 'val')]\n",
    "    #训练模型并保存\n",
    "    # early_stopping_rounds 当设置的迭代次数较大时，early_stopping_rounds 可在一定的迭代次数内准确率没有提升就停止训练\n",
    "    model_PM10 = xgb.train(plst, xgb_train, num_rounds, watchlist, early_stopping_rounds=50,verbose_eval = 100,feval=sMAPE)\n",
    "    model_PM10.save_model('/home/lifuzhen/KDD2018/Mini_train/London_drop1/'+ str(i) +'_PM2.5.model') # 用于存储训练出的模型"
   ]
  },
  {
   "cell_type": "markdown",
   "metadata": {},
   "source": [
    "# PM10"
   ]
  },
  {
   "cell_type": "code",
   "execution_count": null,
   "metadata": {},
   "outputs": [],
   "source": [
    "for i in tqdm(range(13)):\n",
    "    trainX = np.concatenate((train_data[:,2*i:2*(i+1)],train_data[:,26:1985],train_data[:,1985+144*i:1985+144*(i+1)],train_data[:,-34:-26]),axis = 1)\n",
    "    valX = np.concatenate((val_data[:,2*i:2*(i+1)],val_data[:,26:1985],val_data[:,1985+144*i:1985+144*(i+1)],val_data[:,-34:-26]),axis = 1)\n",
    "    trainY = train_data[:, -26+2*i+1]\n",
    "    valY = val_data[:, -26+2*i+1]\n",
    "    trainY[trainY <= 0] = 0.1\n",
    "    valY[valY <= 0] = 0.1\n",
    "#     trainY = London_train[:, -26+2*i+1]\n",
    "#     valY = London_test[:, -26+2*i+1]\n",
    "    print(trainX.shape)\n",
    "    print(valX.shape)\n",
    "\n",
    "    params={\n",
    "    'booster':'gbtree',\n",
    "    'objective': 'reg:gamma', #多分类的问题\n",
    "    # 'num_class':2, # 类别数，与 multisoftmax 并用\n",
    "    'gamma':0,  # 用于控制是否后剪枝的参数,越大越保守，一般0.1、0.2这样子。\n",
    "    'max_depth':2, # 构建树的深度，越大越容易过拟合\n",
    "    'lambda':100,  # 控制模型复杂度的权重值的L2正则化项参数，参数越大，模型越不容易过拟合。\n",
    "    'alpha':0,      # 控制模型复杂度的权重值的L1正则化项参数，参数越大，模型越不容易过拟合。\n",
    "    'subsample':0.9, # 随机采样训练样本\n",
    "    'colsample_bytree':0.2, # 生成树时进行的列采样\n",
    "    'min_child_weight':1, \n",
    "    # 这个参数默认是 1，是每个叶子里面 h 的和至少是多少，对正负样本不均衡时的 0-1 分类而言\n",
    "    #，假设 h 在 0.01 附近，min_child_weight 为 1 意味着叶子节点中最少需要包含 100 个样本。\n",
    "    #这个参数非常影响结果，控制叶子节点中二阶导的和的最小值，该参数值越小，越容易 overfitting。 \n",
    "    'silent':0 ,#设置成1则没有运行信息输出，最好是设置为0.\n",
    "    'eta': 0.05, # 如同学习率\n",
    "    'seed':1000,\n",
    "    'nthread':-1,# cpu 线程数\n",
    "#     'eval_metric':['mae','rmse']\n",
    "    }\n",
    "\n",
    "    plst = list(params.items())\n",
    "    num_rounds = 600 # 迭代次数\n",
    "    xgb_train = xgb.DMatrix(trainX, label= trainY)\n",
    "    xgb_val = xgb.DMatrix(valX, label= valY)\n",
    "    watchlist = [(xgb_train, 'train'),(xgb_val, 'val')]\n",
    "    #训练模型并保存\n",
    "    # early_stopping_rounds 当设置的迭代次数较大时，early_stopping_rounds 可在一定的迭代次数内准确率没有提升就停止训练\n",
    "    model_PM10 = xgb.train(plst, xgb_train, num_rounds, watchlist, early_stopping_rounds=50,verbose_eval=100,feval=sMAPE)\n",
    "    model_PM10.save_model('/home/lifuzhen/KDD2018/Mini_train/London_drop1/'+ str(i) +'_PM10.model') # 用于存储训练出的模型"
   ]
  },
  {
   "cell_type": "markdown",
   "metadata": {},
   "source": [
    "# predict"
   ]
  },
  {
   "cell_type": "code",
   "execution_count": 1,
   "metadata": {},
   "outputs": [],
   "source": [
    "import requests\n",
    "for i in range(7,8):\n",
    "    for j in range(0,24):\n",
    "        end   = '2018-05-'+str(i).zfill(2)+'-'+str(j)\n",
    "        url = 'http://kdd.caiyunapp.com/competition/forecast/bj/'+end+'/2k0d1d8'\n",
    "        respones= requests.get(url)\n",
    "        with open ('/home/lifuzhen/KDD2018/Mini_train/bj_grid_meteorology_forecast_48_hours'+'_'+end+'.csv','w') as f:\n",
    "            f.write(respones.text)\n",
    "\n",
    "for i in range(7,8):\n",
    "    for j in range(0,24):\n",
    "        end   = '2018-05-'+str(i).zfill(2)+'-'+str(j)\n",
    "        url = 'http://kdd.caiyunapp.com/competition/forecast/ld/'+end+'/2k0d1d8'\n",
    "        respones= requests.get(url)\n",
    "        with open ('/home/lifuzhen/KDD2018/Mini_train/ld_grid_meteorology_forecast_48_hours'+'_'+end+'.csv','w') as f:\n",
    "            f.write(respones.text)"
   ]
  },
  {
   "cell_type": "code",
   "execution_count": 33,
   "metadata": {},
   "outputs": [],
   "source": [
    "import pandas as pd\n",
    "import numpy as np\n",
    "from tqdm import tqdm\n",
    "from datetime import timedelta\n",
    "from datetime import datetime\n",
    "from datetime import date\n",
    "import pandas as pd\n",
    "import numpy as np\n",
    "import matplotlib.pyplot as plt\n",
    "from tqdm import tqdm\n",
    "import copy\n",
    "\n",
    "def gen_dates(b_date, count):\n",
    "    hour = timedelta(hours=1)\n",
    "    for i in range(count+1):\n",
    "        yield b_date + hour*i\n",
    "\n",
    "\n",
    "def get_date_list(start=None, end=None):\n",
    "    \"\"\"\n",
    "    获取日期列表\n",
    "    :param start: 开始日期\n",
    "    :param end: 结束日期\n",
    "    :return:\n",
    "    \"\"\"\n",
    "    if start is None:\n",
    "        start = datetime.strptime(\"2000-01-01 00:00:00\", \"%Y-%m-%d %H:%M:%S\")\n",
    "    if end is None:\n",
    "        end = datetime.now()\n",
    "    data = []\n",
    "    for d in gen_dates(start, int((end-start).total_seconds()/3600)):\n",
    "        data.append(str(d))\n",
    "    return data\n",
    "\n",
    "\n",
    "Medium_PM10 = 88\n",
    "Medium_PM25 = 59\n",
    "Medium_O3   = 56\n",
    "Medium_NO2  = 46\n",
    "Medium_CO   = 1\n",
    "Medium_SO2  = 9\n",
    "def to_timedict_bj(start, end):\n",
    "    \"输入时间和表格，返回字典\"\n",
    "    aq = pd.read_csv('/home/lifuzhen/KDD2018/Predict/bj_airquality_'+str(start).split(' ')[0]+'-'+str(int(str(start).split(' ')[1].split(':')[0])) +'_'+str(end).split(' ')[0]+'-'+str(int(str(end).split(' ')[1].split(':')[0]))+'.csv')\n",
    "    meo = pd.read_csv('/home/lifuzhen/KDD2018/Predict/bj_meteorology_'+str(start).split(' ')[0]+'-'+str(int(str(start).split(' ')[1].split(':')[0])) +'_'+str(end).split(' ')[0]+'-'+str(int(str(end).split(' ')[1].split(':')[0]))+'.csv')\n",
    "    meo_grid = pd.read_csv('/home/lifuzhen/KDD2018/Predict/bj_grid_meteorology_'+str(start).split(' ')[0]+'-'+str(int(str(start).split(' ')[1].split(':')[0])) +'_'+str(end).split(' ')[0]+'-'+str(int(str(end).split(' ')[1].split(':')[0]))+'.csv')\n",
    "    \n",
    "    alt_list = get_date_list(Start , End)\n",
    "    alt_dict = {}\n",
    "    recons = pd.DataFrame(columns=('stationId','utc_time','PM2.5','PM10','NO2','CO','O3','SO2'))\n",
    "    \n",
    "    for i in alt_list:\n",
    "        alt_dict[i] = []\n",
    "    alt = np.array(aq[['station_id','time','PM25_Concentration','PM10_Concentration','NO2_Concentration','CO_Concentration','O3_Concentration','SO2_Concentration']]).tolist()\n",
    "    for i in tqdm(['aotizhongxin', 'badaling', 'beibuxinqu', 'daxing', 'dingling', 'donggaocun', 'dongsi','dongsihuan','fangshan', 'fengtaihuayuan', 'guanyuan', 'gucheng','huairou', 'liulihe', 'mentougou', 'miyun', 'miyunshuiku', 'nansanhuan', 'nongzhanguan', 'pingchang', 'pinggu','qianmen','shunyi','tiantan','tongzhou','wanliu','wanshouxigong','xizhimenbei','yanqin','yizhuang','yongdingmennei','yongledian','yufa','yungang']):\n",
    "        count = 0\n",
    "        for j in aq['station_id']:\n",
    "            if j.split('_')[0] == i:\n",
    "                recons.loc[count] = alt[count]\n",
    "            count += 1 \n",
    "#     print(recons)\n",
    "    recons.reset_index(drop=True,inplace=True)\n",
    "#     recons.loc[recons['stationId'] == 'zhiwuyuan_aq',['PM2.5','PM10','NO2','CO','O3','SO2']] = [Medium_PM25,Medium_PM10,Medium_NO2,Medium_CO,Medium_O3,Medium_SO2]\n",
    "\n",
    "#     print(recons.loc[recons['stationId'] == 'zhiwuyuan_aq'])\n",
    "    recons.interpolate(inplace = True)\n",
    "#     print(recons.loc[recons['stationId'] == 'zhiwuyuan_aq'])\n",
    "    recons['PM2.5'].fillna(Medium_PM25, inplace = True)\n",
    "    recons['PM10'].fillna(Medium_PM10, inplace = True)\n",
    "    recons['NO2'].fillna(Medium_NO2, inplace = True)\n",
    "    recons['CO'].fillna(Medium_CO, inplace = True)\n",
    "    recons['O3'].fillna(Medium_O3, inplace = True)\n",
    "    recons['SO2'].fillna(Medium_SO2, inplace = True)\n",
    "    \n",
    "    recons['lon'] = 0 ##经度\n",
    "    recons['lat'] = 0  ##纬度\n",
    "    recons.loc[recons['stationId']=='dongsi_aq',['lon','lat']] = [116.417,39.929]\n",
    "    recons.loc[recons['stationId']=='tiantan_aq',['lon','lat']] = [116.407,39.886]\n",
    "    recons.loc[recons['stationId']=='guanyuan_aq',['lon','lat']] = [116.339,39.929]\n",
    "    recons.loc[recons['stationId']=='wanshouxigong_aq',['lon','lat']] = [116.352,39.878]\n",
    "    recons.loc[recons['stationId']=='aotizhongxin_aq',['lon','lat']] = [116.397,39.982]\n",
    "    recons.loc[recons['stationId']=='nongzhanguan_aq',['lon','lat']] = [116.461,39.937]\n",
    "    recons.loc[recons['stationId']=='wanliu_aq',['lon','lat']] = [116.287,39.987]\n",
    "    recons.loc[recons['stationId']=='beibuxinqu_aq',['lon','lat']] = [116.174,40.09]\n",
    "    recons.loc[recons['stationId']=='zhiwuyuan_aq',['lon','lat']] = [116.207,40.002]\n",
    "    recons.loc[recons['stationId']=='fengtaihuayuan_aq',['lon','lat']] = [116.279,39.863]\n",
    "    recons.loc[recons['stationId']=='yungang_aq',['lon','lat']] = [116.146,39.824]\n",
    "    recons.loc[recons['stationId']=='gucheng_aq',['lon','lat']] = [116.184,39.914]\n",
    "    recons.loc[recons['stationId']=='fangshan_aq',['lon','lat']] = [116.136,39.742]\n",
    "    recons.loc[recons['stationId']=='daxing_aq',['lon','lat']] = [116.404,39.718]\n",
    "    recons.loc[recons['stationId']=='yizhuang_aq',['lon','lat']] = [116.506,39.795]\n",
    "    recons.loc[recons['stationId']=='tongzhou_aq',['lon','lat']] = [116.663,39.886]\n",
    "    recons.loc[recons['stationId']=='shunyi_aq',['lon','lat']] = [116.655,40.127]\n",
    "    recons.loc[recons['stationId']=='pingchang_aq',['lon','lat']] = [116.23,40.217]\n",
    "    recons.loc[recons['stationId']=='mentougou_aq',['lon','lat']] = [116.106,39.937]\n",
    "    recons.loc[recons['stationId']=='pinggu_aq',['lon','lat']] = [117.1,40.143]\n",
    "    recons.loc[recons['stationId']=='hureconsou_aq',['lon','lat']] = [116.628,40.328]\n",
    "    recons.loc[recons['stationId']=='miyun_aq',['lon','lat']] = [116.832,40.37]\n",
    "    recons.loc[recons['stationId']=='yanqin_aq',['lon','lat']] = [115.972,40.453]\n",
    "    recons.loc[recons['stationId']=='dingling_aq',['lon','lat']] = [116.22,40.292]\n",
    "    recons.loc[recons['stationId']=='badaling_aq',['lon','lat']] = [115.988,40.365]\n",
    "    recons.loc[recons['stationId']=='miyunshuiku_aq',['lon','lat']] = [116.911,40.499]\n",
    "    recons.loc[recons['stationId']=='donggaocun_aq',['lon','lat']] = [117.12,40.1]\n",
    "    recons.loc[recons['stationId']=='yongledian_aq',['lon','lat']] = [116.783,39.712]\n",
    "    recons.loc[recons['stationId']=='yufa_aq',['lon','lat']] = [116.3,39.52]\n",
    "    recons.loc[recons['stationId']=='liulihe_aq',['lon','lat']] = [116,39.58]\n",
    "    recons.loc[recons['stationId']=='qianmen_aq',['lon','lat']] = [116.395,39.899]\n",
    "    recons.loc[recons['stationId']=='yongdingmennei_aq',['lon','lat']] = [116.394,39.876]\n",
    "    recons.loc[recons['stationId']=='xizhimenbei_aq',['lon','lat']] = [116.349,39.954]\n",
    "    recons.loc[recons['stationId']=='nansanhuan_aq',['lon','lat']] = [116.368,39.856]\n",
    "    recons.loc[recons['stationId']=='dongsihuan_aq',['lon','lat']] = [116.483,39.939]\n",
    "        \n",
    "    count = 0\n",
    "    Idx = 0  ####索引记录####\n",
    "    recons_list = np.array(recons[['lon','lat']]).tolist()\n",
    "    for i in tqdm(np.array(recons['utc_time']).tolist()):\n",
    "        if i in alt_dict.keys():\n",
    "            alt_dict[i].extend(recons_list[Idx])\n",
    "\n",
    "        Idx += 1\n",
    "    \n",
    "    count = 0\n",
    "    Idx = 0  ####索引记录####\n",
    "    recons_list = np.array(recons[['PM2.5','PM10','NO2','CO','O3','SO2']]).tolist()\n",
    "    for i in tqdm(np.array(recons['utc_time']).tolist()):\n",
    "        if i in alt_dict.keys():\n",
    "            alt_dict[i].extend(recons_list[Idx])\n",
    "\n",
    "        Idx += 1\n",
    "        \n",
    "    for k,v in alt_dict.items():\n",
    "        if len(v) == 0:\n",
    "            if int(k.split(' ')[1].split(':')[0]) != 0:\n",
    "                alt_dict[k] = copy.deepcopy(alt_dict[k.split(' ')[0]+' '+str(int(k.split(' ')[1].split(':')[0])-1).zfill(2)+':00:00'])\n",
    "            else:\n",
    "                alt_dict[k] = copy.deepcopy(alt_dict[k.split(' ')[0]+' '+str(int(k.split(' ')[1].split(':')[0])+1).zfill(2)+':00:00'])\n",
    "    for k,v in alt_dict.items():\n",
    "        if len(v) == 0:\n",
    "            if int(k.split(' ')[1].split(':')[0]) != 0:\n",
    "                alt_dict[k] = copy.deepcopy(alt_dict[k.split(' ')[0]+' '+str(int(k.split(' ')[1].split(':')[0])-1).zfill(2)+':00:00'])\n",
    "            else:\n",
    "                alt_dict[k] = copy.deepcopy(alt_dict[k.split(' ')[0]+' '+str(int(k.split(' ')[1].split(':')[0])+1).zfill(2)+':00:00'])\n",
    "    length = []\n",
    "    for k,v in alt_dict.items():\n",
    "        length.append(len(v))\n",
    "        if len(v) == 272:\n",
    "            print(k)\n",
    "            print(len(v))\n",
    "    print(max(length))\n",
    "    print(min(length))\n",
    "#     print(recons)\n",
    "    ######################处理缺失时间点完毕#####################shunyi_meo\n",
    "\n",
    "\n",
    "#     recons_meo = pd.DataFrame(columns=('station_id','time','temperature','pressure','humidity','wind_direction','wind_speed','weather'))\n",
    "\n",
    "#     alt = np.array(meo[['station_id','time','temperature','pressure','humidity','wind_direction','wind_speed','weather']]).tolist()\n",
    "#     for i in tqdm(['shunyi_meo','hadian_meo','yanqing_meo','miyun_meo','huairou_meo','shangdianzi_meo','pinggu_meo','tongzhou_meo','chaoyang_meo','pingchang_meo','zhaitang_meo','mentougou_meo','beijing_meo','shijingshan_meo','fengtai_meo','daxing_meo','fangshan_meo','xiayunling_meo']):\n",
    "#         count = 0\n",
    "#         for j in meo['station_id']:\n",
    "#             if j == i:\n",
    "#                 recons_meo.loc[count] = alt[count]\n",
    "#             count += 1 \n",
    "    \n",
    "#     for i in range(len(recons_meo['wind_speed'])):\n",
    "#         if recons_meo['wind_speed'][i] == 999017:\n",
    "#             recons_meo.loc[i,'wind_speed'] = recons_meo.loc[i-1,'wind_speed']\n",
    "#     recons_meo['longitude'] = 0 ##经度\n",
    "#     recons_meo['latitude'] = 0  ##纬度\n",
    "#     recons_meo.loc[recons_meo['station_id']=='shunyi_meo',['longitude','latitude']] = [116.6153,40.12667]\n",
    "#     recons_meo.loc[recons_meo['station_id']=='haidian_meo',['longitude','latitude']] = [116.2906,39.98694]\n",
    "#     recons_meo.loc[recons_meo['station_id']=='yanqing_meo',['longitude','latitude']] = [115.9689,40.44944]\n",
    "#     recons_meo.loc[recons_meo['station_id']=='miyun_meo',['longitude','latitude']] = [116.8642,40.3775]\n",
    "#     recons_meo.loc[recons_meo['station_id']=='huairou_meo',['longitude','latitude']] = [116.6269,40.35778]\n",
    "#     recons_meo.loc[recons_meo['station_id']=='shangdianzi_meo',['longitude','latitude']] = [117.1117,40.65889]\n",
    "#     recons_meo.loc[recons_meo['station_id']=='pinggu_meo',['longitude','latitude']] = [117.1178,40.16944]\n",
    "#     recons_meo.loc[recons_meo['station_id']=='tongzhou_meo',['longitude','latitude']] = [116.7567,39.8475]\n",
    "#     recons_meo.loc[recons_meo['station_id']=='chaoyang_meo',['longitude','latitude']] = [116.5008,39.9525]\n",
    "#     recons_meo.loc[recons_meo['station_id']=='pingchang_meo',['longitude','latitude']] = [116.2117,40.22333]\n",
    "#     recons_meo.loc[recons_meo['station_id']=='zhaitang_meo',['longitude','latitude']] = [115.6922,39.97389]\n",
    "#     recons_meo.loc[recons_meo['station_id']=='mentougou_meo',['longitude','latitude']] = [116.1564,39.88778]\n",
    "#     recons_meo.loc[recons_meo['station_id']=='beijing_meo',['longitude','latitude']] = [116.4694,39.80611]\n",
    "#     recons_meo.loc[recons_meo['station_id']=='shijingshan_meo',['longitude','latitude']] = [116.2053,39.9425]\n",
    "#     recons_meo.loc[recons_meo['station_id']=='fengtai_meo',['longitude','latitude']] = [116.2453,39.87028]\n",
    "#     recons_meo.loc[recons_meo['station_id']=='daxing_meo',['longitude','latitude']] = [116.3544,39.71861]\n",
    "#     recons_meo.loc[recons_meo['station_id']=='fangshan_meo',['longitude','latitude']] = [116.1942,39.77306]\n",
    "#     recons_meo.loc[recons_meo['station_id']=='xiayunling_meo',['longitude','latitude']] = [115.7406,39.72861]\n",
    "\n",
    "#     recons_meo.loc[meo['weather'] == 'Sunny/clear' , 'weather'] = 0\n",
    "#     recons_meo.loc[meo['weather'] == 'Snow' , 'weather'] = 1\n",
    "#     recons_meo.loc[meo['weather'] == 'Sleet' , 'weather'] = 2\n",
    "#     recons_meo.loc[meo['weather'] == 'Sand' , 'weather'] = 3\n",
    "#     recons_meo.loc[meo['weather'] == 'Rain/Snow with Hail' , 'weather'] = 4\n",
    "#     recons_meo.loc[meo['weather'] == 'Rain with Hail' , 'weather'] = 5\n",
    "#     recons_meo.loc[meo['weather'] == 'Rain' , 'weather'] = 6\n",
    "#     recons_meo.loc[meo['weather'] == 'Haze' , 'weather'] = 7\n",
    "#     recons_meo.loc[meo['weather'] == 'Fog' , 'weather'] = 8\n",
    "#     recons_meo.loc[meo['weather'] == 'Dust' , 'weather'] = 9\n",
    "#     recons_meo.loc[meo['weather'] == 'Hail' , 'weather'] = 4\n",
    "#     recons_meo.loc[meo['weather'] == 'Cloudy' , 'weather'] = 0\n",
    "#     recons_meo.loc[meo['weather'] == 'Overcast' , 'weather'] = 0\n",
    "#     recons_meo.loc[meo['weather'] == 'Thundershower' , 'weather'] = 6\n",
    "#     def div5(x):\n",
    "#         return int(x/5)\n",
    "#     def div15(x):\n",
    "#         return int(x/15)\n",
    "#     def div05(x):\n",
    "#         return int(x/0.5)\n",
    "#     recons_meo['temperature'] = recons_meo['temperature'].apply(div5)\n",
    "#     recons_meo['pressure'] = recons_meo['pressure'].apply(div5)\n",
    "#     recons_meo['humidity'] = recons_meo['humidity'].apply(div5)\n",
    "#     recons_meo['wind_direction'] = recons_meo['wind_direction'].apply(div15)\n",
    "#     recons_meo['wind_speed/kph'] = recons_meo['wind_speed'].apply(div05)\n",
    "#     #############wether量化###############\n",
    "\n",
    "#     #############处理缺失时间点##########\n",
    "#     count = 0\n",
    "#     Idx = 0  ####索引记录####\n",
    "#     meo_list = np.array(recons_meo[['temperature','pressure','humidity','wind_direction','wind_speed','weather']]).tolist()\n",
    "    \n",
    "\n",
    "#     for i in tqdm(np.array(recons_meo['time']).tolist()):\n",
    "#         if i in alt_dict.keys():\n",
    "#             alt_dict[i].extend(meo_list[Idx])\n",
    "\n",
    "#         Idx += 1\n",
    "        \n",
    "#     length = []  \n",
    "    \n",
    "#     for k,v in alt_dict.items():\n",
    "#         length.append(len(v))\n",
    "# #         if len(v) != 416:\n",
    "# #             print(k)\n",
    "# #             print(len(v))\n",
    "#     print(max(length))\n",
    "#     print(min(length))  \n",
    "    \n",
    "#     for i in range(3):\n",
    "#         for k,v in alt_dict.items():\n",
    "#             if len(v) < max(length):\n",
    "#                 if int(k.split(' ')[1].split(':')[0]) != 0:\n",
    "#                     alt_dict[k] = copy.deepcopy(alt_dict[k.split(' ')[0]+' '+str(int(k.split(' ')[1].split(':')[0])-1).zfill(2)+':00:00'])\n",
    "#                 else:\n",
    "#                     alt_dict[k] = copy.deepcopy(alt_dict[k.split(' ')[0]+' '+str(int(k.split(' ')[1].split(':')[0])+1).zfill(2)+':00:00'])\n",
    "                \n",
    "#     length = []\n",
    "#     for k,v in alt_dict.items():\n",
    "#         length.append(len(v))\n",
    "# #         if len(v) != 416:\n",
    "# #             print(k)\n",
    "# #             print(len(v))\n",
    "#     print(max(length))\n",
    "#     print(min(length))  \n",
    "#     ######################处理缺失时间点完毕#####################\n",
    "#     meo_grid['longitude'] = 0 ##经度\n",
    "#     meo_grid['latitude'] = 0  ##纬度\n",
    "#     count = 0\n",
    "#     for i in range(1150,1181,1):\n",
    "#         for j in range(390,411,1):\n",
    "#             if (i >= 1156 and i <= 1172) and (j >= 395 and j <= 407):\n",
    "#                 meo_grid.loc[meo_grid['station_id']=='beijing_grid_'+str(count).zfill(3),['longitude','latitude']] = [i/10.0,j/10.0]\n",
    "# #                 print([i,j])\n",
    "#             count += 1\n",
    "    \n",
    "#     meo_grid.drop(meo_grid[meo_grid['longitude'] < 115.6].index.tolist(),inplace= True)\n",
    "#     meo_grid.drop(meo_grid[meo_grid['longitude'] > 117.2].index.tolist(),inplace= True)\n",
    "#     meo_grid.drop(meo_grid[meo_grid['latitude']  < 39.5].index.tolist(),inplace= True)\n",
    "#     meo_grid.drop(meo_grid[meo_grid['latitude']  > 40.7].index.tolist(),inplace= True)\n",
    "#     meo_grid.drop('id',axis = 1)\n",
    "#     meo_grid.drop_duplicates(inplace=True)\n",
    "#     meo_grid.reset_index(drop=True,inplace=True)\n",
    "# #     print(meo_grid.head(100))\n",
    "#     def div5(x):\n",
    "#         return int(x/5)\n",
    "#     def div15(x):\n",
    "#         return int(x/15)\n",
    "#     def div05(x):\n",
    "#         return int(x/0.5)\n",
    "#     meo_grid['temperature'] = meo_grid['temperature'].apply(div5)\n",
    "#     meo_grid['pressure'] = meo_grid['pressure'].apply(div5)\n",
    "#     meo_grid['humidity'] = meo_grid['humidity'].apply(div5)\n",
    "#     meo_grid['wind_direction'] = meo_grid['wind_direction'].apply(div15)\n",
    "#     meo_grid['wind_speed/kph'] = meo_grid['wind_speed'].apply(div05)\n",
    "    \n",
    "    \n",
    "    \n",
    "    \n",
    "#     count = 1\n",
    "#     Idx = 0  ####索引记录####\n",
    "\n",
    "#     meo_grid_list = np.array(meo_grid[['temperature','pressure','humidity','wind_direction','wind_speed']]).tolist()\n",
    "#     for i in tqdm(meo_grid['time']):\n",
    "#         if i in alt_dict.keys():\n",
    "#             if Idx > 0:\n",
    "#                 count = int(meo_grid['station_id'][Idx].split('_')[2]) - int(meo_grid['station_id'][Idx-1].split('_')[2])\n",
    "                \n",
    "#             if count > 1 and count < 9:\n",
    "#                 for j in range(count-1):\n",
    "#                     alt_dict[i].extend(meo_grid_list[Idx-1])\n",
    "#             if count > 9:\n",
    "#                 for j in range(count-9):\n",
    "#                     alt_dict[i].extend(meo_grid_list[Idx+1])\n",
    "#             alt_dict[i].extend(meo_grid_list[Idx])\n",
    "#         Idx += 1\n",
    "        \n",
    "        \n",
    "        \n",
    "        \n",
    "        \n",
    "        \n",
    "        \n",
    "#     length = []\n",
    "#     for k,v in alt_dict.items():\n",
    "#         length.append(len(v))\n",
    "# #         if len(v) != 1485:\n",
    "# #             print(k)\n",
    "# #             print(len(v))\n",
    "#     print(max(length))\n",
    "#     print(min(length))\n",
    "#     for i in range(3):\n",
    "#         for k,v in alt_dict.items():\n",
    "#             if len(v) != 1485:\n",
    "#                 if int(k.split(' ')[1].split(':')[0]) != 0:\n",
    "#                     alt_dict[k] = copy.deepcopy(alt_dict[k.split(' ')[0]+' '+str(int(k.split(' ')[1].split(':')[0])-1).zfill(2)+':00:00'])\n",
    "#                 else:\n",
    "#                     alt_dict[k] = copy.deepcopy(alt_dict[k.split(' ')[0]+' '+str(int(k.split(' ')[1].split(':')[0])+1).zfill(2)+':00:00'])\n",
    "                \n",
    "            \n",
    "            \n",
    "        \n",
    "        \n",
    "#     length = []\n",
    "#     for k,v in alt_dict.items():\n",
    "#         length.append(len(v))\n",
    "# #         if len(v) != 1963:\n",
    "# #             print(k)\n",
    "# #             print(len(v))\n",
    "#     print(max(length))\n",
    "#     print(min(length))\n",
    "    pop_list = []\n",
    "    for k in tqdm(alt_dict.keys()):\n",
    "        weather_fore = pd.read_csv('/home/lifuzhen/KDD2018/Mini_train/bj_grid_meteorology_forecast_48_hours_'+k.split(' ')[0]+'-'+str(int(k.split(' ')[1].split(':')[0]))+'.csv')\n",
    "        if np.array(weather_fore).tolist() == []:\n",
    "            pop_list.append(k)\n",
    "            continue\n",
    "        weather_fore['weather'].replace(['CLEAR_DAY','CLEAR_NIGHT','CLOUDY','PARTLY_CLOUDY_DAY','PARTLY_CLOUDY_NIGHT','RAIN','SNOW','WIND','HAZE'],[0,1,2,3,4,5,6,7,8],inplace = True)\n",
    "        weather_fore['longitude'] = 0 ##经度\n",
    "        weather_fore['latitude'] = 0  ##纬度\n",
    "        count = 0\n",
    "        print(k)\n",
    "        for i in range(1150,1181,1):\n",
    "            for j in range(390,411,1):\n",
    "                if (i >= 1156 and i <= 1172) and (j >= 395 and j <= 407):\n",
    "                    weather_fore.loc[weather_fore['station_id']=='beijing_grid_'+str(count).zfill(3),['longitude','latitude']] = [i/10.0,j/10.0]\n",
    "#                     print([i,j])\n",
    "                count += 1\n",
    "\n",
    "        weather_fore.drop(weather_fore[weather_fore['longitude'] < 115.6].index.tolist(),inplace= True)\n",
    "        weather_fore.drop(weather_fore[weather_fore['longitude'] > 117.2].index.tolist(),inplace= True)\n",
    "        weather_fore.drop(weather_fore[weather_fore['latitude']  < 39.5].index.tolist(),inplace= True)\n",
    "        weather_fore.drop(weather_fore[weather_fore['latitude']  > 40.7].index.tolist(),inplace= True)\n",
    "        weather_fore.reset_index(drop=True,inplace=True)\n",
    "        \n",
    "        weather_fore_array = np.array(weather_fore['weather'])\n",
    "        alt_dict[k].extend(weather_fore_array.tolist())\n",
    "        print(len(alt_dict[k]))\n",
    "        if len(alt_dict[k]) != 10880:\n",
    "            pop_list.append(k)\n",
    "    for i in pop_list:\n",
    "        alt_dict[i].extend(np.zeros(10880-len(alt_dict[i])).tolist())\n",
    "    for k,v in alt_dict.items():\n",
    "        length.append(len(v))\n",
    "#         if len(v) != 1963:\n",
    "#             print(k)\n",
    "#             print(len(v))\n",
    "    print(max(length))\n",
    "    print(min(length))\n",
    "    \n",
    "    alt_frame = pd.DataFrame.from_dict(alt_dict).T\n",
    "    count = 0\n",
    "    for i in list(alt_frame.index):\n",
    "        if i in pop_list:\n",
    "            alt_frame.iloc[count,list(range(272,10880))] = copy.deepcopy(alt_frame.iloc[count-1,list(range(272,10880))])\n",
    "            alt_dict[i][272:10880] = copy.deepcopy(alt_frame.iloc[count-1,list(range(272,10880))]).tolist()\n",
    "        count += 1\n",
    "    ##########提取aq 48小时滑窗##########\n",
    "    win = 48\n",
    "#     win = 72\n",
    "#     win = 16\n",
    "#     win = 168\n",
    "    \n",
    "    for i in tqdm(range(68,272)):  \n",
    "        count = 0\n",
    "        for j in alt_frame[i]:\n",
    "            if count >= win:\n",
    "                alt_dict[alt_frame.index[count]].extend(np.array(alt_frame[i][count-win:count]).tolist())\n",
    "                if i == 271:\n",
    "                    if date.isoweekday(datetime.strptime(alt_frame.index[count], \"%Y-%m-%d %H:%M:%S\")) == 3 or date.isoweekday(datetime.strptime(alt_frame.index[count], \"%Y-%m-%d %H:%M:%S\")) == 4: ###要预测的是周末\n",
    "                        alt_dict[alt_frame.index[count]].extend([1])\n",
    "                    else:\n",
    "                        alt_dict[alt_frame.index[count]].extend([0])\n",
    "                    if int(alt_frame.index[count].split(' ')[1].split(':')[0]) in [0,1,2,10,11,12]: #####是否为早晚高峰时段（北京转utc时间）\n",
    "                        alt_dict[alt_frame.index[count]].extend([2])\n",
    "                    elif int(alt_frame.index[count].split(' ')[1].split(':')[0]) in [16,17,18,19,20]:\n",
    "                        alt_dict[alt_frame.index[count]].extend([1])\n",
    "                    else:\n",
    "                        alt_dict[alt_frame.index[count]].extend([0])\n",
    "                    alt_dict[alt_frame.index[count]]..append(int(alt_frame.index[count].split(' ')[1].split(':')[0]))\n",
    "            count += 1\n",
    "            \n",
    "    hour_last = ''\n",
    "    count = 0\n",
    "    for k in tqdm(list(alt_frame.index)):\n",
    "        for i in range(0,6):\n",
    "            SUM = 0\n",
    "            for j in range(0,34):\n",
    "                SUM += alt_dict[k][68+j*6+i]\n",
    "            alt_dict[k].append(SUM)\n",
    "\n",
    "        if count == 0:\n",
    "            alt_dict[k].extend([0,0,0,0,0,0])\n",
    "        else:\n",
    "            for m,n in zip(alt_dict[k][-6:] ,alt_dict[hour_last][-12:-6]):\n",
    "                alt_dict[k].append(m-n)\n",
    "\n",
    "        hour_last = k\n",
    "        count += 1\n",
    "#     ##########标签值 PM10 PM2.5 O3##########\n",
    "#     step = 72  ####预测间隔\n",
    "#     for i in tqdm(range(272)):  ##训练数据\n",
    "#         count = 0\n",
    "#         for j in alt_frame[i]:\n",
    "#             if count+step < len(alt_frame[i]) and (i%8 == 0 or i%8 == 1 or i%8 == 4):\n",
    "#                 alt_dict[alt_frame.index[count]].append(np.array(alt_frame[i][count+step]).tolist())\n",
    "#             count += 1\n",
    "    length = []\n",
    "    for k,v in alt_dict.items():\n",
    "        length.append(len(v))\n",
    "#         if len(v) < 4973:\n",
    "#             print(k)\n",
    "#             print(len(v))\n",
    "    print(max(length))\n",
    "    print(min(length))\n",
    "    \n",
    "    pop_list = []\n",
    "    for i in alt_dict.keys():\n",
    "        if len(alt_dict[i]) <  max(length):\n",
    "            pop_list.append(i)\n",
    "    for i in pop_list:\n",
    "        alt_dict.pop(i)\n",
    "        \n",
    "    length = []\n",
    "    for k,v in alt_dict.items():\n",
    "        length.append(len(v))\n",
    "#         if len(v) == 4960:\n",
    "#             print(k)\n",
    "#             print(len(v))\n",
    "    print(max(length))\n",
    "    print(min(length))\n",
    "    \n",
    "    return alt_dict"
   ]
  },
  {
   "cell_type": "code",
   "execution_count": 34,
   "metadata": {},
   "outputs": [
    {
     "name": "stderr",
     "output_type": "stream",
     "text": [
      "100%|██████████| 34/34 [00:06<00:00,  5.11it/s]\n",
      "100%|██████████| 3094/3094 [00:00<00:00, 1737239.17it/s]\n",
      "100%|██████████| 3094/3094 [00:00<00:00, 1870449.20it/s]\n",
      "  0%|          | 0/18 [00:00<?, ?it/s]"
     ]
    },
    {
     "name": "stdout",
     "output_type": "stream",
     "text": [
      "2018-05-06 12:00:00\n",
      "272\n",
      "2018-05-06 19:00:00\n",
      "272\n",
      "2018-05-04 01:00:00\n",
      "272\n",
      "2018-05-07 02:00:00\n",
      "272\n",
      "2018-05-04 16:00:00\n",
      "272\n",
      "2018-05-07 19:00:00\n",
      "272\n",
      "2018-05-07 04:00:00\n",
      "272\n",
      "2018-05-07 03:00:00\n",
      "272\n",
      "2018-05-05 19:00:00\n",
      "272\n",
      "2018-05-05 15:00:00\n",
      "272\n",
      "2018-05-04 11:00:00\n",
      "272\n",
      "2018-05-04 21:00:00\n",
      "272\n",
      "2018-05-07 07:00:00\n",
      "272\n",
      "2018-05-06 20:00:00\n",
      "272\n",
      "2018-05-06 15:00:00\n",
      "272\n",
      "2018-05-07 15:00:00\n",
      "272\n",
      "2018-05-06 06:00:00\n",
      "272\n",
      "2018-05-05 08:00:00\n",
      "272\n",
      "2018-05-07 16:00:00\n",
      "272\n",
      "2018-05-07 08:00:00\n",
      "272\n",
      "2018-05-04 19:00:00\n",
      "272\n",
      "2018-05-04 09:00:00\n",
      "272\n",
      "2018-05-04 10:00:00\n",
      "272\n",
      "2018-05-06 04:00:00\n",
      "272\n",
      "2018-05-07 23:00:00\n",
      "272\n",
      "2018-05-07 09:00:00\n",
      "272\n",
      "2018-05-04 00:00:00\n",
      "272\n",
      "2018-05-06 22:00:00\n",
      "272\n",
      "2018-05-06 13:00:00\n",
      "272\n",
      "2018-05-04 20:00:00\n",
      "272\n",
      "2018-05-06 14:00:00\n",
      "272\n",
      "2018-05-05 01:00:00\n",
      "272\n",
      "2018-05-05 18:00:00\n",
      "272\n",
      "2018-05-05 17:00:00\n",
      "272\n",
      "2018-05-07 01:00:00\n",
      "272\n",
      "2018-05-06 17:00:00\n",
      "272\n",
      "2018-05-06 21:00:00\n",
      "272\n",
      "2018-05-05 04:00:00\n",
      "272\n",
      "2018-05-04 23:00:00\n",
      "272\n",
      "2018-05-06 18:00:00\n",
      "272\n",
      "2018-05-06 00:00:00\n",
      "272\n",
      "2018-05-05 09:00:00\n",
      "272\n",
      "2018-05-07 22:00:00\n",
      "272\n",
      "2018-05-07 14:00:00\n",
      "272\n",
      "2018-05-06 09:00:00\n",
      "272\n",
      "2018-05-04 05:00:00\n",
      "272\n",
      "2018-05-05 21:00:00\n",
      "272\n",
      "2018-05-05 14:00:00\n",
      "272\n",
      "2018-05-05 12:00:00\n",
      "272\n",
      "2018-05-04 03:00:00\n",
      "272\n",
      "2018-05-05 02:00:00\n",
      "272\n",
      "2018-05-06 01:00:00\n",
      "272\n",
      "2018-05-06 08:00:00\n",
      "272\n",
      "2018-05-06 11:00:00\n",
      "272\n",
      "2018-05-04 08:00:00\n",
      "272\n",
      "2018-05-05 16:00:00\n",
      "272\n",
      "2018-05-05 05:00:00\n",
      "272\n",
      "2018-05-04 02:00:00\n",
      "272\n",
      "2018-05-05 13:00:00\n",
      "272\n",
      "2018-05-07 21:00:00\n",
      "272\n",
      "2018-05-05 07:00:00\n",
      "272\n",
      "2018-05-06 10:00:00\n",
      "272\n",
      "2018-05-05 06:00:00\n",
      "272\n",
      "2018-05-07 11:00:00\n",
      "272\n",
      "2018-05-06 03:00:00\n",
      "272\n",
      "2018-05-04 22:00:00\n",
      "272\n",
      "2018-05-07 20:00:00\n",
      "272\n",
      "2018-05-05 23:00:00\n",
      "272\n",
      "2018-05-05 20:00:00\n",
      "272\n",
      "2018-05-04 15:00:00\n",
      "272\n",
      "2018-05-07 13:00:00\n",
      "272\n",
      "2018-05-07 12:00:00\n",
      "272\n",
      "2018-05-04 17:00:00\n",
      "272\n",
      "2018-05-04 18:00:00\n",
      "272\n",
      "2018-05-05 03:00:00\n",
      "272\n",
      "2018-05-07 00:00:00\n",
      "272\n",
      "2018-05-05 00:00:00\n",
      "272\n",
      "2018-05-07 10:00:00\n",
      "272\n",
      "2018-05-06 23:00:00\n",
      "272\n",
      "2018-05-05 10:00:00\n",
      "272\n",
      "2018-05-04 13:00:00\n",
      "272\n",
      "2018-05-06 02:00:00\n",
      "272\n",
      "2018-05-06 16:00:00\n",
      "272\n",
      "2018-05-04 07:00:00\n",
      "272\n",
      "2018-05-04 12:00:00\n",
      "272\n",
      "2018-05-06 05:00:00\n",
      "272\n",
      "2018-05-05 22:00:00\n",
      "272\n",
      "2018-05-05 11:00:00\n",
      "272\n",
      "2018-05-07 18:00:00\n",
      "272\n",
      "2018-05-04 04:00:00\n",
      "272\n",
      "2018-05-04 06:00:00\n",
      "272\n",
      "2018-05-07 06:00:00\n",
      "272\n",
      "2018-05-04 14:00:00\n",
      "272\n",
      "2018-05-07 17:00:00\n",
      "272\n",
      "2018-05-07 05:00:00\n",
      "272\n",
      "2018-05-06 07:00:00\n",
      "272\n",
      "272\n",
      "272\n"
     ]
    },
    {
     "name": "stderr",
     "output_type": "stream",
     "text": [
      "100%|██████████| 18/18 [00:04<00:00,  3.99it/s]\n",
      "100%|██████████| 1653/1653 [00:00<00:00, 1639050.71it/s]\n"
     ]
    },
    {
     "name": "stdout",
     "output_type": "stream",
     "text": [
      "380\n",
      "272\n",
      "380\n",
      "380\n"
     ]
    },
    {
     "name": "stderr",
     "output_type": "stream",
     "text": [
      "100%|██████████| 20995/20995 [00:00<00:00, 42731.09it/s]\n",
      "  0%|          | 0/96 [00:00<?, ?it/s]"
     ]
    },
    {
     "name": "stdout",
     "output_type": "stream",
     "text": [
      "1485\n",
      "380\n",
      "1485\n",
      "1485\n",
      "2018-05-06 12:00:00\n"
     ]
    },
    {
     "name": "stderr",
     "output_type": "stream",
     "text": [
      "\r",
      "  1%|          | 1/96 [00:01<01:52,  1.19s/it]"
     ]
    },
    {
     "name": "stdout",
     "output_type": "stream",
     "text": [
      "12093\n",
      "2018-05-06 19:00:00\n"
     ]
    },
    {
     "name": "stderr",
     "output_type": "stream",
     "text": [
      "\r",
      "  2%|▏         | 2/96 [00:02<01:44,  1.11s/it]"
     ]
    },
    {
     "name": "stdout",
     "output_type": "stream",
     "text": [
      "12093\n",
      "2018-05-04 01:00:00\n"
     ]
    },
    {
     "name": "stderr",
     "output_type": "stream",
     "text": [
      "\r",
      "  3%|▎         | 3/96 [00:03<01:41,  1.09s/it]"
     ]
    },
    {
     "name": "stdout",
     "output_type": "stream",
     "text": [
      "12093\n",
      "2018-05-07 02:00:00\n"
     ]
    },
    {
     "name": "stderr",
     "output_type": "stream",
     "text": [
      "\r",
      "  4%|▍         | 4/96 [00:04<01:40,  1.09s/it]"
     ]
    },
    {
     "name": "stdout",
     "output_type": "stream",
     "text": [
      "12093\n",
      "2018-05-04 16:00:00\n"
     ]
    },
    {
     "name": "stderr",
     "output_type": "stream",
     "text": [
      "\r",
      "  5%|▌         | 5/96 [00:05<01:38,  1.08s/it]"
     ]
    },
    {
     "name": "stdout",
     "output_type": "stream",
     "text": [
      "12093\n",
      "2018-05-07 19:00:00\n"
     ]
    },
    {
     "name": "stderr",
     "output_type": "stream",
     "text": [
      "\r",
      "  6%|▋         | 6/96 [00:06<01:37,  1.08s/it]"
     ]
    },
    {
     "name": "stdout",
     "output_type": "stream",
     "text": [
      "12093\n",
      "2018-05-07 04:00:00\n"
     ]
    },
    {
     "name": "stderr",
     "output_type": "stream",
     "text": [
      "\r",
      "  7%|▋         | 7/96 [00:07<01:35,  1.07s/it]"
     ]
    },
    {
     "name": "stdout",
     "output_type": "stream",
     "text": [
      "12093\n",
      "2018-05-07 03:00:00\n"
     ]
    },
    {
     "name": "stderr",
     "output_type": "stream",
     "text": [
      "\r",
      "  8%|▊         | 8/96 [00:08<01:34,  1.07s/it]"
     ]
    },
    {
     "name": "stdout",
     "output_type": "stream",
     "text": [
      "12093\n",
      "2018-05-04 11:00:00\n"
     ]
    },
    {
     "name": "stderr",
     "output_type": "stream",
     "text": [
      "\r",
      " 11%|█▏        | 11/96 [00:09<01:14,  1.14it/s]"
     ]
    },
    {
     "name": "stdout",
     "output_type": "stream",
     "text": [
      "12093\n",
      "2018-05-04 21:00:00\n"
     ]
    },
    {
     "name": "stderr",
     "output_type": "stream",
     "text": [
      "\r",
      " 12%|█▎        | 12/96 [00:10<01:14,  1.12it/s]"
     ]
    },
    {
     "name": "stdout",
     "output_type": "stream",
     "text": [
      "12093\n",
      "2018-05-07 07:00:00\n"
     ]
    },
    {
     "name": "stderr",
     "output_type": "stream",
     "text": [
      "\r",
      " 14%|█▎        | 13/96 [00:11<01:15,  1.10it/s]"
     ]
    },
    {
     "name": "stdout",
     "output_type": "stream",
     "text": [
      "12093\n",
      "2018-05-06 20:00:00\n"
     ]
    },
    {
     "name": "stderr",
     "output_type": "stream",
     "text": [
      "\r",
      " 15%|█▍        | 14/96 [00:12<01:16,  1.08it/s]"
     ]
    },
    {
     "name": "stdout",
     "output_type": "stream",
     "text": [
      "12093\n",
      "2018-05-06 15:00:00\n"
     ]
    },
    {
     "name": "stderr",
     "output_type": "stream",
     "text": [
      "\r",
      " 16%|█▌        | 15/96 [00:14<01:15,  1.07it/s]"
     ]
    },
    {
     "name": "stdout",
     "output_type": "stream",
     "text": [
      "12093\n",
      "2018-05-07 15:00:00\n"
     ]
    },
    {
     "name": "stderr",
     "output_type": "stream",
     "text": [
      "\r",
      " 17%|█▋        | 16/96 [00:15<01:15,  1.05it/s]"
     ]
    },
    {
     "name": "stdout",
     "output_type": "stream",
     "text": [
      "12093\n",
      "2018-05-06 06:00:00\n"
     ]
    },
    {
     "name": "stderr",
     "output_type": "stream",
     "text": [
      "\r",
      " 18%|█▊        | 17/96 [00:16<01:15,  1.05it/s]"
     ]
    },
    {
     "name": "stdout",
     "output_type": "stream",
     "text": [
      "12093\n",
      "2018-05-05 08:00:00\n"
     ]
    },
    {
     "name": "stderr",
     "output_type": "stream",
     "text": [
      "\r",
      " 19%|█▉        | 18/96 [00:17<01:14,  1.04it/s]"
     ]
    },
    {
     "name": "stdout",
     "output_type": "stream",
     "text": [
      "12093\n",
      "2018-05-07 16:00:00\n"
     ]
    },
    {
     "name": "stderr",
     "output_type": "stream",
     "text": [
      "\r",
      " 20%|█▉        | 19/96 [00:18<01:14,  1.03it/s]"
     ]
    },
    {
     "name": "stdout",
     "output_type": "stream",
     "text": [
      "12093\n",
      "2018-05-07 08:00:00\n"
     ]
    },
    {
     "name": "stderr",
     "output_type": "stream",
     "text": [
      "\r",
      " 21%|██        | 20/96 [00:19<01:13,  1.03it/s]"
     ]
    },
    {
     "name": "stdout",
     "output_type": "stream",
     "text": [
      "12093\n",
      "2018-05-04 19:00:00\n"
     ]
    },
    {
     "name": "stderr",
     "output_type": "stream",
     "text": [
      "\r",
      " 22%|██▏       | 21/96 [00:20<01:13,  1.02it/s]"
     ]
    },
    {
     "name": "stdout",
     "output_type": "stream",
     "text": [
      "12093\n",
      "2018-05-04 09:00:00\n"
     ]
    },
    {
     "name": "stderr",
     "output_type": "stream",
     "text": [
      "\r",
      " 23%|██▎       | 22/96 [00:21<01:12,  1.02it/s]"
     ]
    },
    {
     "name": "stdout",
     "output_type": "stream",
     "text": [
      "12093\n",
      "2018-05-04 10:00:00\n"
     ]
    },
    {
     "name": "stderr",
     "output_type": "stream",
     "text": [
      "\r",
      " 24%|██▍       | 23/96 [00:22<01:12,  1.01it/s]"
     ]
    },
    {
     "name": "stdout",
     "output_type": "stream",
     "text": [
      "12093\n",
      "2018-05-06 04:00:00\n"
     ]
    },
    {
     "name": "stderr",
     "output_type": "stream",
     "text": [
      "\r",
      " 25%|██▌       | 24/96 [00:23<01:11,  1.01it/s]"
     ]
    },
    {
     "name": "stdout",
     "output_type": "stream",
     "text": [
      "12093\n",
      "2018-05-07 23:00:00\n"
     ]
    },
    {
     "name": "stderr",
     "output_type": "stream",
     "text": [
      "\r",
      " 26%|██▌       | 25/96 [00:24<01:10,  1.00it/s]"
     ]
    },
    {
     "name": "stdout",
     "output_type": "stream",
     "text": [
      "12093\n",
      "2018-05-04 00:00:00\n"
     ]
    },
    {
     "name": "stderr",
     "output_type": "stream",
     "text": [
      "\r",
      " 28%|██▊       | 27/96 [00:25<01:06,  1.04it/s]"
     ]
    },
    {
     "name": "stdout",
     "output_type": "stream",
     "text": [
      "12093\n",
      "2018-05-06 22:00:00\n"
     ]
    },
    {
     "name": "stderr",
     "output_type": "stream",
     "text": [
      "\r",
      " 29%|██▉       | 28/96 [00:27<01:05,  1.03it/s]"
     ]
    },
    {
     "name": "stdout",
     "output_type": "stream",
     "text": [
      "12093\n",
      "2018-05-06 13:00:00\n"
     ]
    },
    {
     "name": "stderr",
     "output_type": "stream",
     "text": [
      "\r",
      " 30%|███       | 29/96 [00:28<01:05,  1.03it/s]"
     ]
    },
    {
     "name": "stdout",
     "output_type": "stream",
     "text": [
      "12093\n",
      "2018-05-04 20:00:00\n"
     ]
    },
    {
     "name": "stderr",
     "output_type": "stream",
     "text": [
      "\r",
      " 31%|███▏      | 30/96 [00:29<01:04,  1.03it/s]"
     ]
    },
    {
     "name": "stdout",
     "output_type": "stream",
     "text": [
      "12093\n",
      "2018-05-06 14:00:00\n"
     ]
    },
    {
     "name": "stderr",
     "output_type": "stream",
     "text": [
      "\r",
      " 32%|███▏      | 31/96 [00:30<01:03,  1.02it/s]"
     ]
    },
    {
     "name": "stdout",
     "output_type": "stream",
     "text": [
      "12093\n",
      "2018-05-05 01:00:00\n"
     ]
    },
    {
     "name": "stderr",
     "output_type": "stream",
     "text": [
      "\r",
      " 33%|███▎      | 32/96 [00:31<01:02,  1.02it/s]"
     ]
    },
    {
     "name": "stdout",
     "output_type": "stream",
     "text": [
      "12093\n",
      "2018-05-07 01:00:00\n"
     ]
    },
    {
     "name": "stderr",
     "output_type": "stream",
     "text": [
      "\r",
      " 36%|███▋      | 35/96 [00:32<00:56,  1.08it/s]"
     ]
    },
    {
     "name": "stdout",
     "output_type": "stream",
     "text": [
      "12093\n",
      "2018-05-06 17:00:00\n"
     ]
    },
    {
     "name": "stderr",
     "output_type": "stream",
     "text": [
      "\r",
      " 38%|███▊      | 36/96 [00:33<00:55,  1.07it/s]"
     ]
    },
    {
     "name": "stdout",
     "output_type": "stream",
     "text": [
      "12093\n",
      "2018-05-06 21:00:00\n"
     ]
    },
    {
     "name": "stderr",
     "output_type": "stream",
     "text": [
      "\r",
      " 39%|███▊      | 37/96 [00:34<00:55,  1.07it/s]"
     ]
    },
    {
     "name": "stdout",
     "output_type": "stream",
     "text": [
      "12093\n",
      "2018-05-05 04:00:00\n"
     ]
    },
    {
     "name": "stderr",
     "output_type": "stream",
     "text": [
      "\r",
      " 40%|███▉      | 38/96 [00:35<00:54,  1.06it/s]"
     ]
    },
    {
     "name": "stdout",
     "output_type": "stream",
     "text": [
      "12093\n",
      "2018-05-04 23:00:00\n"
     ]
    },
    {
     "name": "stderr",
     "output_type": "stream",
     "text": [
      "\r",
      " 41%|████      | 39/96 [00:36<00:53,  1.06it/s]"
     ]
    },
    {
     "name": "stdout",
     "output_type": "stream",
     "text": [
      "12093\n",
      "2018-05-06 18:00:00\n"
     ]
    },
    {
     "name": "stderr",
     "output_type": "stream",
     "text": [
      "\r",
      " 42%|████▏     | 40/96 [00:37<00:52,  1.06it/s]"
     ]
    },
    {
     "name": "stdout",
     "output_type": "stream",
     "text": [
      "12093\n",
      "2018-05-06 00:00:00\n"
     ]
    },
    {
     "name": "stderr",
     "output_type": "stream",
     "text": [
      "\r",
      " 43%|████▎     | 41/96 [00:38<00:52,  1.06it/s]"
     ]
    },
    {
     "name": "stdout",
     "output_type": "stream",
     "text": [
      "12093\n",
      "2018-05-05 09:00:00\n"
     ]
    },
    {
     "name": "stderr",
     "output_type": "stream",
     "text": [
      "\r",
      " 44%|████▍     | 42/96 [00:39<00:51,  1.05it/s]"
     ]
    },
    {
     "name": "stdout",
     "output_type": "stream",
     "text": [
      "12093\n",
      "2018-05-07 22:00:00\n"
     ]
    },
    {
     "name": "stderr",
     "output_type": "stream",
     "text": [
      "\r",
      " 45%|████▍     | 43/96 [00:40<00:50,  1.05it/s]"
     ]
    },
    {
     "name": "stdout",
     "output_type": "stream",
     "text": [
      "12093\n",
      "2018-05-07 14:00:00\n"
     ]
    },
    {
     "name": "stderr",
     "output_type": "stream",
     "text": [
      "\r",
      " 46%|████▌     | 44/96 [00:42<00:49,  1.05it/s]"
     ]
    },
    {
     "name": "stdout",
     "output_type": "stream",
     "text": [
      "12093\n",
      "2018-05-06 09:00:00\n"
     ]
    },
    {
     "name": "stderr",
     "output_type": "stream",
     "text": [
      "\r",
      " 47%|████▋     | 45/96 [00:43<00:48,  1.04it/s]"
     ]
    },
    {
     "name": "stdout",
     "output_type": "stream",
     "text": [
      "12093\n",
      "2018-05-04 05:00:00\n"
     ]
    },
    {
     "name": "stderr",
     "output_type": "stream",
     "text": [
      "\r",
      " 48%|████▊     | 46/96 [00:44<00:48,  1.04it/s]"
     ]
    },
    {
     "name": "stdout",
     "output_type": "stream",
     "text": [
      "12093\n",
      "2018-05-04 03:00:00\n"
     ]
    },
    {
     "name": "stderr",
     "output_type": "stream",
     "text": [
      "\r",
      " 52%|█████▏    | 50/96 [00:45<00:41,  1.11it/s]"
     ]
    },
    {
     "name": "stdout",
     "output_type": "stream",
     "text": [
      "12093\n",
      "2018-05-05 02:00:00\n"
     ]
    },
    {
     "name": "stderr",
     "output_type": "stream",
     "text": [
      "\r",
      " 53%|█████▎    | 51/96 [00:46<00:40,  1.10it/s]"
     ]
    },
    {
     "name": "stdout",
     "output_type": "stream",
     "text": [
      "12093\n",
      "2018-05-06 01:00:00\n"
     ]
    },
    {
     "name": "stderr",
     "output_type": "stream",
     "text": [
      "\r",
      " 54%|█████▍    | 52/96 [00:47<00:40,  1.10it/s]"
     ]
    },
    {
     "name": "stdout",
     "output_type": "stream",
     "text": [
      "12093\n",
      "2018-05-06 08:00:00\n"
     ]
    },
    {
     "name": "stderr",
     "output_type": "stream",
     "text": [
      "\r",
      " 55%|█████▌    | 53/96 [00:48<00:39,  1.10it/s]"
     ]
    },
    {
     "name": "stdout",
     "output_type": "stream",
     "text": [
      "12093\n",
      "2018-05-06 11:00:00\n"
     ]
    },
    {
     "name": "stderr",
     "output_type": "stream",
     "text": [
      "\r",
      " 56%|█████▋    | 54/96 [00:49<00:38,  1.09it/s]"
     ]
    },
    {
     "name": "stdout",
     "output_type": "stream",
     "text": [
      "12093\n",
      "2018-05-04 08:00:00\n"
     ]
    },
    {
     "name": "stderr",
     "output_type": "stream",
     "text": [
      "\r",
      " 57%|█████▋    | 55/96 [00:50<00:37,  1.09it/s]"
     ]
    },
    {
     "name": "stdout",
     "output_type": "stream",
     "text": [
      "12093\n",
      "2018-05-05 05:00:00\n"
     ]
    },
    {
     "name": "stderr",
     "output_type": "stream",
     "text": [
      "\r",
      " 59%|█████▉    | 57/96 [00:51<00:35,  1.11it/s]"
     ]
    },
    {
     "name": "stdout",
     "output_type": "stream",
     "text": [
      "12093\n",
      "2018-05-04 02:00:00\n"
     ]
    },
    {
     "name": "stderr",
     "output_type": "stream",
     "text": [
      "\r",
      " 60%|██████    | 58/96 [00:52<00:34,  1.10it/s]"
     ]
    },
    {
     "name": "stdout",
     "output_type": "stream",
     "text": [
      "12093\n",
      "2018-05-07 21:00:00\n"
     ]
    },
    {
     "name": "stderr",
     "output_type": "stream",
     "text": [
      "\r",
      " 62%|██████▎   | 60/96 [00:53<00:32,  1.12it/s]"
     ]
    },
    {
     "name": "stdout",
     "output_type": "stream",
     "text": [
      "12093\n",
      "2018-05-05 07:00:00\n"
     ]
    },
    {
     "name": "stderr",
     "output_type": "stream",
     "text": [
      "\r",
      " 64%|██████▎   | 61/96 [00:54<00:31,  1.11it/s]"
     ]
    },
    {
     "name": "stdout",
     "output_type": "stream",
     "text": [
      "12093\n",
      "2018-05-06 10:00:00\n"
     ]
    },
    {
     "name": "stderr",
     "output_type": "stream",
     "text": [
      "\r",
      " 65%|██████▍   | 62/96 [00:55<00:30,  1.11it/s]"
     ]
    },
    {
     "name": "stdout",
     "output_type": "stream",
     "text": [
      "12093\n",
      "2018-05-05 06:00:00\n"
     ]
    },
    {
     "name": "stderr",
     "output_type": "stream",
     "text": [
      "\r",
      " 66%|██████▌   | 63/96 [00:56<00:29,  1.11it/s]"
     ]
    },
    {
     "name": "stdout",
     "output_type": "stream",
     "text": [
      "12093\n",
      "2018-05-07 11:00:00\n"
     ]
    },
    {
     "name": "stderr",
     "output_type": "stream",
     "text": [
      "\r",
      " 67%|██████▋   | 64/96 [00:57<00:28,  1.11it/s]"
     ]
    },
    {
     "name": "stdout",
     "output_type": "stream",
     "text": [
      "12093\n",
      "2018-05-06 03:00:00\n"
     ]
    },
    {
     "name": "stderr",
     "output_type": "stream",
     "text": [
      "\r",
      " 68%|██████▊   | 65/96 [00:59<00:28,  1.10it/s]"
     ]
    },
    {
     "name": "stdout",
     "output_type": "stream",
     "text": [
      "12093\n",
      "2018-05-04 22:00:00\n"
     ]
    },
    {
     "name": "stderr",
     "output_type": "stream",
     "text": [
      "\r",
      " 69%|██████▉   | 66/96 [01:00<00:27,  1.10it/s]"
     ]
    },
    {
     "name": "stdout",
     "output_type": "stream",
     "text": [
      "12093\n",
      "2018-05-07 20:00:00\n"
     ]
    },
    {
     "name": "stderr",
     "output_type": "stream",
     "text": [
      "\r",
      " 70%|██████▉   | 67/96 [01:01<00:26,  1.10it/s]"
     ]
    },
    {
     "name": "stdout",
     "output_type": "stream",
     "text": [
      "12093\n",
      "2018-05-04 15:00:00\n"
     ]
    },
    {
     "name": "stderr",
     "output_type": "stream",
     "text": [
      "\r",
      " 73%|███████▎  | 70/96 [01:02<00:23,  1.13it/s]"
     ]
    },
    {
     "name": "stdout",
     "output_type": "stream",
     "text": [
      "12093\n",
      "2018-05-07 13:00:00\n"
     ]
    },
    {
     "name": "stderr",
     "output_type": "stream",
     "text": [
      "\r",
      " 74%|███████▍  | 71/96 [01:03<00:22,  1.12it/s]"
     ]
    },
    {
     "name": "stdout",
     "output_type": "stream",
     "text": [
      "12093\n",
      "2018-05-07 12:00:00\n"
     ]
    },
    {
     "name": "stderr",
     "output_type": "stream",
     "text": [
      "\r",
      " 75%|███████▌  | 72/96 [01:04<00:21,  1.12it/s]"
     ]
    },
    {
     "name": "stdout",
     "output_type": "stream",
     "text": [
      "12093\n",
      "2018-05-04 17:00:00\n"
     ]
    },
    {
     "name": "stderr",
     "output_type": "stream",
     "text": [
      "\r",
      " 76%|███████▌  | 73/96 [01:05<00:20,  1.12it/s]"
     ]
    },
    {
     "name": "stdout",
     "output_type": "stream",
     "text": [
      "12093\n",
      "2018-05-04 18:00:00\n"
     ]
    },
    {
     "name": "stderr",
     "output_type": "stream",
     "text": [
      "\r",
      " 77%|███████▋  | 74/96 [01:06<00:19,  1.11it/s]"
     ]
    },
    {
     "name": "stdout",
     "output_type": "stream",
     "text": [
      "12093\n",
      "2018-05-05 03:00:00\n"
     ]
    },
    {
     "name": "stderr",
     "output_type": "stream",
     "text": [
      "\r",
      " 78%|███████▊  | 75/96 [01:07<00:18,  1.11it/s]"
     ]
    },
    {
     "name": "stdout",
     "output_type": "stream",
     "text": [
      "12093\n",
      "2018-05-07 00:00:00\n"
     ]
    },
    {
     "name": "stderr",
     "output_type": "stream",
     "text": [
      "\r",
      " 79%|███████▉  | 76/96 [01:08<00:18,  1.11it/s]"
     ]
    },
    {
     "name": "stdout",
     "output_type": "stream",
     "text": [
      "12093\n",
      "2018-05-05 00:00:00\n"
     ]
    },
    {
     "name": "stderr",
     "output_type": "stream",
     "text": [
      "\r",
      " 80%|████████  | 77/96 [01:09<00:17,  1.11it/s]"
     ]
    },
    {
     "name": "stdout",
     "output_type": "stream",
     "text": [
      "12093\n",
      "2018-05-07 10:00:00\n"
     ]
    },
    {
     "name": "stderr",
     "output_type": "stream",
     "text": [
      "\r",
      " 81%|████████▏ | 78/96 [01:10<00:16,  1.10it/s]"
     ]
    },
    {
     "name": "stdout",
     "output_type": "stream",
     "text": [
      "12093\n",
      "2018-05-06 23:00:00\n"
     ]
    },
    {
     "name": "stderr",
     "output_type": "stream",
     "text": [
      "\r",
      " 82%|████████▏ | 79/96 [01:11<00:15,  1.10it/s]"
     ]
    },
    {
     "name": "stdout",
     "output_type": "stream",
     "text": [
      "12093\n",
      "2018-05-04 13:00:00\n"
     ]
    },
    {
     "name": "stderr",
     "output_type": "stream",
     "text": [
      "\r",
      " 84%|████████▍ | 81/96 [01:12<00:13,  1.11it/s]"
     ]
    },
    {
     "name": "stdout",
     "output_type": "stream",
     "text": [
      "12093\n",
      "2018-05-06 02:00:00\n"
     ]
    },
    {
     "name": "stderr",
     "output_type": "stream",
     "text": [
      "\r",
      " 85%|████████▌ | 82/96 [01:13<00:12,  1.11it/s]"
     ]
    },
    {
     "name": "stdout",
     "output_type": "stream",
     "text": [
      "12093\n",
      "2018-05-06 16:00:00\n"
     ]
    },
    {
     "name": "stderr",
     "output_type": "stream",
     "text": [
      "\r",
      " 86%|████████▋ | 83/96 [01:14<00:11,  1.11it/s]"
     ]
    },
    {
     "name": "stdout",
     "output_type": "stream",
     "text": [
      "12093\n",
      "2018-05-04 07:00:00\n"
     ]
    },
    {
     "name": "stderr",
     "output_type": "stream",
     "text": [
      "\r",
      " 88%|████████▊ | 84/96 [01:15<00:10,  1.11it/s]"
     ]
    },
    {
     "name": "stdout",
     "output_type": "stream",
     "text": [
      "12093\n",
      "2018-05-04 12:00:00\n"
     ]
    },
    {
     "name": "stderr",
     "output_type": "stream",
     "text": [
      "\r",
      " 89%|████████▊ | 85/96 [01:17<00:09,  1.10it/s]"
     ]
    },
    {
     "name": "stdout",
     "output_type": "stream",
     "text": [
      "12093\n",
      "2018-05-06 05:00:00\n"
     ]
    },
    {
     "name": "stderr",
     "output_type": "stream",
     "text": [
      "\r",
      " 90%|████████▉ | 86/96 [01:18<00:09,  1.10it/s]"
     ]
    },
    {
     "name": "stdout",
     "output_type": "stream",
     "text": [
      "12093\n",
      "2018-05-07 18:00:00\n"
     ]
    },
    {
     "name": "stderr",
     "output_type": "stream",
     "text": [
      "\r",
      " 93%|█████████▎| 89/96 [01:19<00:06,  1.12it/s]"
     ]
    },
    {
     "name": "stdout",
     "output_type": "stream",
     "text": [
      "12093\n",
      "2018-05-04 04:00:00\n"
     ]
    },
    {
     "name": "stderr",
     "output_type": "stream",
     "text": [
      "\r",
      " 94%|█████████▍| 90/96 [01:20<00:05,  1.12it/s]"
     ]
    },
    {
     "name": "stdout",
     "output_type": "stream",
     "text": [
      "12093\n",
      "2018-05-04 06:00:00\n"
     ]
    },
    {
     "name": "stderr",
     "output_type": "stream",
     "text": [
      "\r",
      " 95%|█████████▍| 91/96 [01:21<00:04,  1.12it/s]"
     ]
    },
    {
     "name": "stdout",
     "output_type": "stream",
     "text": [
      "12093\n",
      "2018-05-07 06:00:00\n"
     ]
    },
    {
     "name": "stderr",
     "output_type": "stream",
     "text": [
      "\r",
      " 96%|█████████▌| 92/96 [01:22<00:03,  1.12it/s]"
     ]
    },
    {
     "name": "stdout",
     "output_type": "stream",
     "text": [
      "12093\n",
      "2018-05-04 14:00:00\n"
     ]
    },
    {
     "name": "stderr",
     "output_type": "stream",
     "text": [
      "\r",
      " 97%|█████████▋| 93/96 [01:23<00:02,  1.11it/s]"
     ]
    },
    {
     "name": "stdout",
     "output_type": "stream",
     "text": [
      "12093\n",
      "2018-05-07 17:00:00\n"
     ]
    },
    {
     "name": "stderr",
     "output_type": "stream",
     "text": [
      "\r",
      " 98%|█████████▊| 94/96 [01:24<00:01,  1.11it/s]"
     ]
    },
    {
     "name": "stdout",
     "output_type": "stream",
     "text": [
      "12093\n",
      "2018-05-07 05:00:00\n"
     ]
    },
    {
     "name": "stderr",
     "output_type": "stream",
     "text": [
      "\r",
      " 99%|█████████▉| 95/96 [01:25<00:00,  1.11it/s]"
     ]
    },
    {
     "name": "stdout",
     "output_type": "stream",
     "text": [
      "12093\n",
      "2018-05-06 07:00:00\n"
     ]
    },
    {
     "name": "stderr",
     "output_type": "stream",
     "text": [
      "100%|██████████| 96/96 [01:26<00:00,  1.11it/s]\n",
      "  0%|          | 0/204 [00:00<?, ?it/s]"
     ]
    },
    {
     "name": "stdout",
     "output_type": "stream",
     "text": [
      "12093\n",
      "12093\n",
      "1485\n"
     ]
    },
    {
     "name": "stderr",
     "output_type": "stream",
     "text": [
      "100%|██████████| 204/204 [00:00<00:00, 237.32it/s]\n",
      "100%|██████████| 96/96 [00:00<00:00, 32027.77it/s]\n"
     ]
    },
    {
     "name": "stdout",
     "output_type": "stream",
     "text": [
      "21899\n",
      "12105\n",
      "21899\n",
      "21899\n"
     ]
    }
   ],
   "source": [
    "Start = datetime.strptime(\"2018-05-05 00:00:00\", \"%Y-%m-%d %H:%M:%S\")\n",
    "End = datetime.strptime(\"2018-05-08 23:00:00\", \"%Y-%m-%d %H:%M:%S\")\n",
    "\n",
    "pre_dict_bj = to_timedict_bj(start = Start, end = End)\n",
    "pre_frame_bj = pd.DataFrame.from_dict(pre_dict_bj).T\n",
    "pre_list_bj = np.array(pre_frame_bj)"
   ]
  },
  {
   "cell_type": "code",
   "execution_count": 4,
   "metadata": {},
   "outputs": [
    {
     "data": {
      "text/plain": [
       "(48, 21899)"
      ]
     },
     "execution_count": 4,
     "metadata": {},
     "output_type": "execute_result"
    }
   ],
   "source": [
    "pre_list_bj.shape"
   ]
  },
  {
   "cell_type": "markdown",
   "metadata": {},
   "source": [
    "# LondonPre"
   ]
  },
  {
   "cell_type": "code",
   "execution_count": 35,
   "metadata": {},
   "outputs": [],
   "source": [
    "Medium_PM10 = 13.437369\n",
    "Medium_PM25 = 20.921357\n",
    "Medium_O3   = 43.428245\n",
    "\n",
    "def to_timedict_ld(start, end):\n",
    "    \"输入时间和表格，返回字典\"\n",
    "    aq = pd.read_csv('/home/lifuzhen/KDD2018/Predict/ld_airquality_'+str(start).split(' ')[0]+'-'+str(int(str(start).split(' ')[1].split(':')[0])) +'_'+str(end).split(' ')[0]+'-'+str(int(str(end).split(' ')[1].split(':')[0]))+'.csv')\n",
    "    meo_grid = pd.read_csv('/home/lifuzhen/KDD2018/Predict/ld_grid_meteorology_'+str(start).split(' ')[0]+'-'+str(int(str(start).split(' ')[1].split(':')[0])) +'_'+str(end).split(' ')[0]+'-'+str(int(str(end).split(' ')[1].split(':')[0]))+'.csv')\n",
    "    meo_grid.drop('id',axis=1, inplace = True)\n",
    "    meo_grid.drop_duplicates(inplace = True)\n",
    "    meo_grid.reset_index(drop = True, inplace =True)\n",
    "    alt_list = get_date_list(Start , End)\n",
    "    alt_dict = {}\n",
    "    recons = pd.DataFrame(columns=('station_id','MeasurementDateGMT','PM2.5 (ug/m3)','PM10 (ug/m3)','NO2 (ug/m3)'))\n",
    "    \n",
    "    for i in alt_list:\n",
    "        alt_dict[i] = []\n",
    "    alt = np.array(aq[['station_id','time','PM25_Concentration','PM10_Concentration','NO2_Concentration']]).tolist()\n",
    "    for i in tqdm(['CD1','BL0','GR4','MY7','HV1','GN3','GR9','LW2','GN0','KF1','CD9','ST5','TH4']):\n",
    "        count = 0\n",
    "        for j in aq['station_id']:\n",
    "            if j.split('_')[0] == i:\n",
    "                recons.loc[count] = alt[count]\n",
    "            count += 1 \n",
    "#     print(recons)\n",
    "    recons.drop_duplicates(inplace = True)\n",
    "    recons.reset_index(drop=True,inplace=True)\n",
    "    recons.interpolate(inplace = True)\n",
    "#     print(recons.loc[recons['station_id'] == 'TH4' , 'NO2 (ug/m3)'])\n",
    "    recons['PM2.5 (ug/m3)'].fillna(Medium_PM25, inplace = True)\n",
    "    recons['PM10 (ug/m3)'].fillna(Medium_PM10, inplace = True)\n",
    "    recons['NO2 (ug/m3)'].fillna(Medium_NO2, inplace = True)\n",
    "\n",
    "    recons['lon'] = 0 ##经度\n",
    "    recons['lat'] = 0  ##纬度\n",
    "    recons.loc[recons['station_id']=='BL0',['lon','lat']] = [-0.125848,51.522287]\n",
    "    recons.loc[recons['station_id']=='CD9',['lon','lat']] = [-0.129053205,51.52770662]\n",
    "    recons.loc[recons['station_id']=='CD1',['lon','lat']] = [-0.175284,51.544219]\n",
    "    recons.loc[recons['station_id']=='GN0',['lon','lat']] = [0.074003,51.490532]\n",
    "    recons.loc[recons['station_id']=='GR4',['lon','lat']] = [0.070766,51.45258]\n",
    "    recons.loc[recons['station_id']=='GN3',['lon','lat']] = [0.095111,51.486957]\n",
    "    recons.loc[recons['station_id']=='GR9',['lon','lat']] = [0.040725,51.456357]\n",
    "    recons.loc[recons['station_id']=='HV1',['lon','lat']] = [0.205460706,51.52078746]\n",
    "    recons.loc[recons['station_id']=='KF1',['lon','lat']] = [-0.21349214,51.52104675]\n",
    "    recons.loc[recons['station_id']=='LW2',['lon','lat']] = [-0.039641,51.474954]\n",
    "    recons.loc[recons['station_id']=='ST5',['lon','lat']] = [-0.141661525,51.3892869]\n",
    "    recons.loc[recons['station_id']=='TH4',['lon','lat']] = [-0.008418493,51.51504617]\n",
    "    recons.loc[recons['station_id']=='MY7',['lon','lat']] = [-0.125848,51.522287]\n",
    "    recons.loc[recons['station_id']=='BL0',['lon','lat']] = [-0.15459,51.52254]\n",
    "        \n",
    "    count = 0\n",
    "    Idx = 0  ####索引记录####\n",
    "    recons_list = np.array(recons[['lon','lat']]).tolist()\n",
    "    for i in tqdm(np.array(recons['MeasurementDateGMT']).tolist()):\n",
    "        if i in alt_dict.keys():\n",
    "            alt_dict[i].extend(recons_list[Idx])\n",
    "\n",
    "        Idx += 1\n",
    "    \n",
    "    count = 0\n",
    "    Idx = 0  ####索引记录####\n",
    "    recons_list = np.array(recons[['PM2.5 (ug/m3)','PM10 (ug/m3)','NO2 (ug/m3)']]).tolist()\n",
    "    for i in tqdm(np.array(recons['MeasurementDateGMT']).tolist()):\n",
    "        if i in alt_dict.keys():\n",
    "            alt_dict[i].extend(recons_list[Idx])\n",
    "\n",
    "        Idx += 1\n",
    "    length = []\n",
    "    for k,v in alt_dict.items():\n",
    "        length.append(len(v))\n",
    "#         if len(v) <65:\n",
    "#             print(k)\n",
    "#             print(len(v))\n",
    "    print(max(length))\n",
    "    print(min(length))\n",
    "\n",
    "    for k,v in alt_dict.items():\n",
    "        if len(v) < max(length):\n",
    "            if int(k.split(' ')[1].split(':')[0])!= 0:\n",
    "                alt_dict[k] = copy.deepcopy(alt_dict[k.split(' ')[0]+' '+str(int(k.split(' ')[1].split(':')[0])-1).zfill(2)+':00:00'])\n",
    "                if len(alt_dict[k]) < max(length):\n",
    "                    alt_dict[k] = copy.deepcopy(alt_dict[k.split(' ')[0]+' '+str(int(k.split(' ')[1].split(':')[0])+1).zfill(2)+':00:00'])\n",
    "            if int(k.split(' ')[1].split(':')[0]) == 0:\n",
    "                alt_dict[k] = copy.deepcopy(alt_dict[k.split(' ')[0]+' '+str(int(k.split(' ')[1].split(':')[0])+1).zfill(2)+':00:00'])\n",
    "    for k,v in alt_dict.items():\n",
    "        if len(v) < max(length):\n",
    "            if int(k.split(' ')[1].split(':')[0])!= 0:\n",
    "                alt_dict[k] = copy.deepcopy(alt_dict[k.split(' ')[0]+' '+str(int(k.split(' ')[1].split(':')[0])-1).zfill(2)+':00:00'])\n",
    "                if len(alt_dict[k]) < max(length):\n",
    "                    alt_dict[k] = copy.deepcopy(alt_dict[k.split(' ')[0]+' '+str(int(k.split(' ')[1].split(':')[0])+1).zfill(2)+':00:00'])\n",
    "            if int(k.split(' ')[1].split(':')[0]) == 0:\n",
    "                alt_dict[k] = copy.deepcopy(alt_dict[k.split(' ')[0]+' '+str(int(k.split(' ')[1].split(':')[0])+1).zfill(2)+':00:00'])\n",
    "    length = []\n",
    "    for k,v in alt_dict.items():\n",
    "        length.append(len(v))\n",
    "#         if len(v) <65:\n",
    "#             print(k)\n",
    "#             print(len(v))\n",
    "    print(max(length))\n",
    "    print(min(length))\n",
    "#     print(recons)\n",
    "    \n",
    "#     meo_grid['longitude'] = 0 ##经度\n",
    "#     meo_grid['latitude'] = 0  ##纬度\n",
    "#     count = 0\n",
    "#     for i in range(-20,21,1):\n",
    "#         for j in range(505,526,1):\n",
    "#             if (i >= -4 and i <=3) and (j >= 513 and j <= 517):\n",
    "#                 meo_grid.loc[meo_grid['station_id']=='london_grid_'+str(count).zfill(3),['longitude','latitude']] = [i/10.0,j/10.0]\n",
    "#             count += 1\n",
    "#     print(meo_grid)\n",
    "#     meo_grid.drop(meo_grid[meo_grid['longitude'] < -0.4].index.tolist(),inplace= True)\n",
    "#     meo_grid.drop(meo_grid[meo_grid['longitude'] >  0.3].index.tolist(),inplace= True)\n",
    "#     meo_grid.drop(meo_grid[meo_grid['latitude']  < 51.3].index.tolist(),inplace= True)\n",
    "#     meo_grid.drop(meo_grid[meo_grid['latitude']  > 51.7].index.tolist(),inplace= True)\n",
    "#     meo_grid.reset_index(drop = True,inplace = True)\n",
    "#     def div5(x):\n",
    "#         return int(x/5)\n",
    "#     def div15(x):\n",
    "#         return int(x/15)\n",
    "#     def div05(x):\n",
    "#         return int(x/0.5)\n",
    "#     meo_grid['temperature'] = meo_grid['temperature'].apply(div5)\n",
    "#     meo_grid['pressure'] = meo_grid['pressure'].apply(div5)\n",
    "#     meo_grid['humidity'] = meo_grid['humidity'].apply(div5)\n",
    "#     meo_grid['wind_direction'] = meo_grid['wind_direction'].apply(div15)\n",
    "#     meo_grid['wind_speed/kph'] = meo_grid['wind_speed'].apply(div05)\n",
    "#     print(meo_grid)\n",
    "#     count = 1\n",
    "#     Idx = 0  ####索引记录####\n",
    "# #     print(meo_grid['station_id'][15561])\n",
    "#     meo_grid_list = np.array(meo_grid[['temperature','pressure','humidity','wind_direction','wind_speed']]).tolist()\n",
    "#     for i in tqdm(meo_grid['time']):\n",
    "#         if i in alt_dict.keys():\n",
    "            \n",
    "#             if Idx > 0:\n",
    "#                 count = int(meo_grid['station_id'][Idx].split('_')[2]) - int(meo_grid['station_id'][Idx-1].split('_')[2])\n",
    "                \n",
    "#             if count > 1 and count < 17:\n",
    "#                 for j in range(count-1):\n",
    "#                     alt_dict[i].extend(meo_grid_list[Idx-1]) \n",
    "#             if count > 17:\n",
    "#                 for j in range(count-17):\n",
    "#                     alt_dict[i].extend(meo_grid_list[Idx+1]) \n",
    "#             alt_dict[i].extend(meo_grid_list[Idx])\n",
    "#         Idx += 1\n",
    "        \n",
    "#     length = []\n",
    "#     for k,v in alt_dict.items():\n",
    "#         length.append(len(v))\n",
    "# #         if len(v) == 2217:\n",
    "# #             print(k)\n",
    "# #             print(len(v))\n",
    "#     print(max(length))\n",
    "#     print(min(length))\n",
    "#     for i in range(3):\n",
    "#         for k,v in alt_dict.items():\n",
    "#             if len(v) < max(length):\n",
    "#                 if int(k.split(' ')[1].split(':')[0])!= 0:\n",
    "#                     alt_dict[k] = copy.deepcopy(alt_dict[k.split(' ')[0]+' '+str(int(k.split(' ')[1].split(':')[0])-1).zfill(2)+':00:00'])\n",
    "#                 else:\n",
    "#                     alt_dict[k] = copy.deepcopy(alt_dict[k.split(' ')[0]+' '+str(int(k.split(' ')[1].split(':')[0])+1).zfill(2)+':00:00'])\n",
    "    \n",
    "    pop_list = []\n",
    "    for k in tqdm(alt_dict.keys()):\n",
    "        weather_fore = pd.read_csv('/home/lifuzhen/KDD2018/Mini_train/ld_grid_meteorology_forecast_48_hours_'+k.split(' ')[0]+'-'+str(int(k.split(' ')[1].split(':')[0]))+'.csv')\n",
    "        if np.array(weather_fore).tolist() == []:\n",
    "            pop_list.append(k)\n",
    "            continue\n",
    "        weather_fore['weather'].replace(['CLEAR_DAY','CLEAR_NIGHT','CLOUDY','PARTLY_CLOUDY_DAY','PARTLY_CLOUDY_NIGHT','RAIN','SNOW','WIND','HAZE'],[0,1,2,3,4,5,6,7,8],inplace = True)\n",
    "        weather_fore['longitude'] = 0 ##经度\n",
    "        weather_fore['latitude'] = 0  ##纬度\n",
    "        count = 0\n",
    "        print(k)\n",
    "        for i in range(-20,21,1):\n",
    "            for j in range(505,526,1):\n",
    "                if (i >= -4 and i <= 3) and (j >= 513 and j <= 517):\n",
    "                    weather_fore.loc[weather_fore['station_id']=='london_grid_'+str(count).zfill(3),['longitude','latitude']] = [i/10.0,j/10.0]\n",
    "#                     print([i,j])\n",
    "                count += 1\n",
    "\n",
    "        weather_fore.drop(weather_fore[weather_fore['longitude'] < -0.4].index.tolist(),inplace= True)\n",
    "        weather_fore.drop(weather_fore[weather_fore['longitude'] > 0.3].index.tolist(),inplace= True)\n",
    "        weather_fore.drop(weather_fore[weather_fore['latitude']  < 51.3].index.tolist(),inplace= True)\n",
    "        weather_fore.drop(weather_fore[weather_fore['latitude']  > 51.7].index.tolist(),inplace= True)\n",
    "        weather_fore.reset_index(drop=True,inplace=True)\n",
    "        \n",
    "        weather_fore_array = np.array(weather_fore['weather'])\n",
    "        alt_dict[k].extend(weather_fore_array.tolist())\n",
    "        print(len(alt_dict[k]))\n",
    "        if len(alt_dict[k]) != 1985:\n",
    "            pop_list.append(k)\n",
    "    for i in pop_list:\n",
    "        alt_dict[i].extend(np.zeros(1985-len(alt_dict[i])).tolist())\n",
    "    for k,v in alt_dict.items():\n",
    "        length.append(len(v))\n",
    "#         if len(v) != 1963:\n",
    "#             print(k)\n",
    "#             print(len(v))\n",
    "    print(max(length))\n",
    "    print(min(length))\n",
    "    \n",
    "    alt_frame = pd.DataFrame.from_dict(alt_dict).T\n",
    "    count = 0\n",
    "    for i in list(alt_frame.index):\n",
    "        if i in pop_list:\n",
    "            alt_frame.iloc[count,list(range(65,1985))] = copy.deepcopy(alt_frame.iloc[count-1,list(range(65,1985))])\n",
    "            alt_dict[i][65:1985] = copy.deepcopy(alt_frame.iloc[count-1,list(range(65,1985))]).tolist()\n",
    "        count += 1\n",
    "#     print(alt_frame[62])\n",
    "    ##########提取aq 48小时滑窗##########\n",
    "    win = 48\n",
    "#     win = 72\n",
    "#     win = 168\n",
    "\n",
    "    for i in tqdm(range(26,65)):  \n",
    "        count = 0\n",
    "        for j in alt_frame[i]:\n",
    "            if count >= win:\n",
    "                alt_dict[alt_frame.index[count]].extend(np.array(alt_frame[i][count-win:count]).tolist())\n",
    "                if i == 64:\n",
    "                    if date.isoweekday(datetime.strptime(alt_frame.index[count], \"%Y-%m-%d %H:%M:%S\")) == 3 or date.isoweekday(datetime.strptime(alt_frame.index[count], \"%Y-%m-%d %H:%M:%S\")) == 4: ###要预测的是周末\n",
    "                        alt_dict[alt_frame.index[count]].extend([1])\n",
    "                    else:\n",
    "                        alt_dict[alt_frame.index[count]].extend([0])\n",
    "                    if int(alt_frame.index[count].split(' ')[1].split(':')[0]) in [8,9,10,18,19,20]: #####是否为早晚高峰时段（北京转utc时间）\n",
    "                        alt_dict[alt_frame.index[count]].extend([2])\n",
    "                    elif int(alt_frame.index[count].split(' ')[1].split(':')[0]) in [0,1,2,3,4,5]:\n",
    "                        alt_dict[alt_frame.index[count]].extend([1])\n",
    "                    else:\n",
    "                        alt_dict[alt_frame.index[count]].extend([0])\n",
    "                    alt_dict[alt_frame.index[count]].append(int(alt_frame.index[count].split(' ')[1].split(':')[0]))\n",
    "            count += 1\n",
    "            \n",
    "    hour_last = ''\n",
    "    count = 0\n",
    "    for k in tqdm(list(alt_frame.index)):\n",
    "        for i in range(0,3):\n",
    "            SUM = 0\n",
    "            for j in range(0,13):\n",
    "                SUM += alt_dict[k][26+j*3+i]\n",
    "            alt_dict[k].append(SUM)\n",
    "\n",
    "        if count == 0:\n",
    "            alt_dict[k].extend([0,0,0])\n",
    "        else:\n",
    "            for m,n in zip(alt_dict[k][-3:] ,alt_dict[hour_last][-6:-3]):\n",
    "                alt_dict[k].append(m-n)\n",
    "        hour_last = k\n",
    "        count += 1\n",
    "#     ##########标签值 PM10 PM2.5 O3##########\n",
    "#     step = 72\n",
    "#     for i in tqdm(range(65)):  ##训练数据\n",
    "#         count = 0\n",
    "#         for j in alt_frame[i]:\n",
    "#             if count+step < len(alt_frame[i]) and (i%5 == 0 or i%5 == 1):\n",
    "#                 alt_dict[alt_frame.index[count]].append(np.array(alt_frame[i][count+step]).tolist())\n",
    "#             count += 1\n",
    "    length = []\n",
    "    for k,v in alt_dict.items():\n",
    "        length.append(len(v))\n",
    "#         if len(v) < 6092:\n",
    "#             print(k)\n",
    "#             print(len(v))\n",
    "    print(max(length))\n",
    "    print(min(length))\n",
    "            \n",
    "    pop_list = []\n",
    "    for i in alt_dict.keys():\n",
    "        if len(alt_dict[i])<max(length):\n",
    "            pop_list.append(i)\n",
    "    for i in pop_list:\n",
    "        alt_dict.pop(i)\n",
    "        \n",
    "    length = []\n",
    "    for k,v in alt_dict.items():\n",
    "        length.append(len(v))\n",
    "#         if len(v) == 4960:\n",
    "#             print(k)\n",
    "#             print(len(v))\n",
    "    print(max(length))\n",
    "    print(min(length))\n",
    "    \n",
    "    return alt_dict"
   ]
  },
  {
   "cell_type": "code",
   "execution_count": 36,
   "metadata": {},
   "outputs": [
    {
     "name": "stderr",
     "output_type": "stream",
     "text": [
      "100%|██████████| 13/13 [00:02<00:00,  5.35it/s]\n",
      "100%|██████████| 1248/1248 [00:00<00:00, 1795708.88it/s]\n",
      "100%|██████████| 1248/1248 [00:00<00:00, 1718480.43it/s]\n"
     ]
    },
    {
     "name": "stdout",
     "output_type": "stream",
     "text": [
      "65\n",
      "65\n",
      "65\n",
      "65\n"
     ]
    },
    {
     "name": "stderr",
     "output_type": "stream",
     "text": [
      "100%|██████████| 3800/3800 [00:00<00:00, 39182.43it/s]\n",
      "  0%|          | 0/96 [00:00<?, ?it/s]"
     ]
    },
    {
     "name": "stdout",
     "output_type": "stream",
     "text": [
      "            station_id                 time    weather  temperature  \\\n",
      "0      london_grid_000  2018-05-04 00:00:00     CLOUDY        10.92   \n",
      "1      london_grid_001  2018-05-04 00:00:00     CLOUDY        10.08   \n",
      "2      london_grid_002  2018-05-04 00:00:00     CLOUDY         9.24   \n",
      "3      london_grid_003  2018-05-04 00:00:00     CLOUDY         8.36   \n",
      "4      london_grid_004  2018-05-04 00:00:00     CLOUDY         7.44   \n",
      "5      london_grid_005  2018-05-04 00:00:00     CLOUDY         6.52   \n",
      "6      london_grid_006  2018-05-04 00:00:00     CLOUDY         6.36   \n",
      "7      london_grid_007  2018-05-04 00:00:00     CLOUDY         6.20   \n",
      "8      london_grid_008  2018-05-04 00:00:00     CLOUDY         6.14   \n",
      "9      london_grid_009  2018-05-04 00:00:00     CLOUDY         6.18   \n",
      "10     london_grid_010  2018-05-04 00:00:00     CLOUDY         6.22   \n",
      "11     london_grid_011  2018-05-04 00:00:00     CLOUDY         5.98   \n",
      "12     london_grid_012  2018-05-04 00:00:00     CLOUDY         5.74   \n",
      "13     london_grid_013  2018-05-04 00:00:00     CLOUDY         5.60   \n",
      "14     london_grid_014  2018-05-04 00:00:00     CLOUDY         5.56   \n",
      "15     london_grid_015  2018-05-04 00:00:00     CLOUDY         5.52   \n",
      "16     london_grid_016  2018-05-04 00:00:00     CLOUDY         5.68   \n",
      "17     london_grid_017  2018-05-04 00:00:00     CLOUDY         5.84   \n",
      "18     london_grid_018  2018-05-04 00:00:00     CLOUDY         6.32   \n",
      "19     london_grid_019  2018-05-04 00:00:00     CLOUDY         7.12   \n",
      "20     london_grid_020  2018-05-04 00:00:00     CLOUDY         7.92   \n",
      "21     london_grid_021  2018-05-04 00:00:00     CLOUDY        10.96   \n",
      "22     london_grid_022  2018-05-04 00:00:00     CLOUDY        10.17   \n",
      "23     london_grid_023  2018-05-04 00:00:00     CLOUDY         9.37   \n",
      "24     london_grid_024  2018-05-04 00:00:00     CLOUDY         8.55   \n",
      "25     london_grid_025  2018-05-04 00:00:00     CLOUDY         7.69   \n",
      "26     london_grid_026  2018-05-04 00:00:00     CLOUDY         6.84   \n",
      "27     london_grid_027  2018-05-04 00:00:00     CLOUDY         6.58   \n",
      "28     london_grid_028  2018-05-04 00:00:00     CLOUDY         6.33   \n",
      "29     london_grid_029  2018-05-04 00:00:00     CLOUDY         6.18   \n",
      "...                ...                  ...        ...          ...   \n",
      "81715  london_grid_831  2018-05-07 23:00:00  CLEAR_DAY        15.08   \n",
      "81716  london_grid_832  2018-05-07 23:00:00  CLEAR_DAY        14.97   \n",
      "81717  london_grid_833  2018-05-07 23:00:00  CLEAR_DAY        14.82   \n",
      "81718  london_grid_834  2018-05-07 23:00:00  CLEAR_DAY        14.67   \n",
      "81719  london_grid_835  2018-05-07 23:00:00  CLEAR_DAY        14.46   \n",
      "81720  london_grid_836  2018-05-07 23:00:00  CLEAR_DAY        14.25   \n",
      "81721  london_grid_837  2018-05-07 23:00:00  CLEAR_DAY        14.04   \n",
      "81722  london_grid_838  2018-05-07 23:00:00  CLEAR_DAY        13.84   \n",
      "81723  london_grid_839  2018-05-07 23:00:00  CLEAR_DAY        13.64   \n",
      "81724  london_grid_840  2018-05-07 23:00:00  CLEAR_DAY        13.80   \n",
      "81725  london_grid_841  2018-05-07 23:00:00  CLEAR_DAY        13.76   \n",
      "81726  london_grid_842  2018-05-07 23:00:00  CLEAR_DAY        13.72   \n",
      "81727  london_grid_843  2018-05-07 23:00:00  CLEAR_DAY        13.89   \n",
      "81728  london_grid_844  2018-05-07 23:00:00  CLEAR_DAY        14.25   \n",
      "81729  london_grid_845  2018-05-07 23:00:00  CLEAR_DAY        14.62   \n",
      "81730  london_grid_846  2018-05-07 23:00:00  CLEAR_DAY        14.88   \n",
      "81731  london_grid_847  2018-05-07 23:00:00  CLEAR_DAY        15.13   \n",
      "81732  london_grid_848  2018-05-07 23:00:00  CLEAR_DAY        15.28   \n",
      "81733  london_grid_849  2018-05-07 23:00:00  CLEAR_DAY        15.33   \n",
      "81734  london_grid_850  2018-05-07 23:00:00  CLEAR_DAY        15.37   \n",
      "81735  london_grid_851  2018-05-07 23:00:00  CLEAR_DAY        15.28   \n",
      "81736  london_grid_852  2018-05-07 23:00:00  CLEAR_DAY        15.19   \n",
      "81737  london_grid_853  2018-05-07 23:00:00  CLEAR_DAY        15.10   \n",
      "81738  london_grid_854  2018-05-07 23:00:00  CLEAR_DAY        15.00   \n",
      "81739  london_grid_855  2018-05-07 23:00:00  CLEAR_DAY        14.90   \n",
      "81740  london_grid_856  2018-05-07 23:00:00  CLEAR_DAY        14.75   \n",
      "81741  london_grid_857  2018-05-07 23:00:00  CLEAR_DAY        14.59   \n",
      "81742  london_grid_858  2018-05-07 23:00:00  CLEAR_DAY        14.43   \n",
      "81743  london_grid_859  2018-05-07 23:00:00  CLEAR_DAY        14.25   \n",
      "81744  london_grid_860  2018-05-07 23:00:00  CLEAR_DAY        14.06   \n",
      "\n",
      "        pressure  humidity  wind_direction  wind_speed  longitude  latitude  \n",
      "0      1021.9922      87.0          282.11       13.89        0.0       0.0  \n",
      "1      1020.8978      89.0          283.78       10.96        0.0       0.0  \n",
      "2      1019.8034      91.0          286.68        8.05        0.0       0.0  \n",
      "3      1017.0418      92.0          287.18        5.87        0.0       0.0  \n",
      "4      1012.6130      92.0          281.51        4.43        0.0       0.0  \n",
      "5      1008.1841      93.0          270.63        3.07        0.0       0.0  \n",
      "6      1007.4865      92.0          244.73        3.40        0.0       0.0  \n",
      "7      1006.7890      92.0          226.31        4.25        0.0       0.0  \n",
      "8      1007.0898      92.0          217.52        5.43        0.0       0.0  \n",
      "9      1008.3889      92.0          214.16        6.74        0.0       0.0  \n",
      "10     1009.6881      92.0          211.90        8.06        0.0       0.0  \n",
      "11     1007.5698      93.0          212.75        8.75        0.0       0.0  \n",
      "12     1005.4514      94.0          213.47        9.45        0.0       0.0  \n",
      "13     1005.0066      95.0          212.90       10.00        0.0       0.0  \n",
      "14     1006.2354      95.0          211.22       10.43        0.0       0.0  \n",
      "15     1007.4641      96.0          209.67       10.86        0.0       0.0  \n",
      "16     1008.4241      95.0          208.16       11.14        0.0       0.0  \n",
      "17     1009.3841      95.0          206.74       11.43        0.0       0.0  \n",
      "18     1008.4369      93.0          205.58       11.51        0.0       0.0  \n",
      "19     1005.5825      88.0          204.63       11.38        0.0       0.0  \n",
      "20     1002.7281      84.0          203.65       11.24        0.0       0.0  \n",
      "21     1022.0882      88.0          280.16       13.58        0.0       0.0  \n",
      "22     1021.1269      89.0          281.97       10.73        0.0       0.0  \n",
      "23     1020.1656      90.0          285.10        7.89        0.0       0.0  \n",
      "24     1017.8021      91.0          286.50        5.82        0.0       0.0  \n",
      "25     1014.0363      92.0          283.07        4.49        0.0       0.0  \n",
      "26     1010.2705      92.0          276.82        3.19        0.0       0.0  \n",
      "27     1008.6206      92.0          253.24        3.41        0.0       0.0  \n",
      "28     1006.9707      92.0          235.05        4.09        0.0       0.0  \n",
      "29     1006.4382      92.0          224.79        5.19        0.0       0.0  \n",
      "...          ...       ...             ...         ...        ...       ...  \n",
      "81715  1014.5671      67.0           95.06       13.63        0.0       0.0  \n",
      "81716  1014.6338      68.0           94.20       12.91        0.0       0.0  \n",
      "81717  1014.7001      68.0           93.28       12.00        0.0       0.0  \n",
      "81718  1014.7663      69.0           92.22       11.09        0.0       0.0  \n",
      "81719  1014.8031      70.0           93.33       10.46        0.0       0.0  \n",
      "81720  1014.8400      70.0           94.59        9.83        0.0       0.0  \n",
      "81721  1014.8830      71.0           96.81        9.56        0.0       0.0  \n",
      "81722  1014.9321      71.0           99.82        9.66        0.0       0.0  \n",
      "81723  1014.9813      71.0          102.77        9.79        0.0       0.0  \n",
      "81724  1000.7856      82.0           89.12        6.57        0.0       0.0  \n",
      "81725  1001.3931      81.0           95.95        6.36        0.0       0.0  \n",
      "81726  1002.0005      79.0          103.13        6.25        0.0       0.0  \n",
      "81727  1004.6906      77.0          106.21        6.95        0.0       0.0  \n",
      "81728  1009.4634      75.0          105.35        8.39        0.0       0.0  \n",
      "81729  1014.2362      73.0          104.74        9.84        0.0       0.0  \n",
      "81730  1014.2675      71.0          101.99       11.63        0.0       0.0  \n",
      "81731  1014.2988      69.0           99.98       13.45        0.0       0.0  \n",
      "81732  1014.3298      68.0           98.98       14.66        0.0       0.0  \n",
      "81733  1014.3606      67.0           98.63       15.28        0.0       0.0  \n",
      "81734  1014.3914      67.0           98.31       15.89        0.0       0.0  \n",
      "81735  1014.4626      67.0           97.83       15.32        0.0       0.0  \n",
      "81736  1014.5337      67.0           97.30       14.76        0.0       0.0  \n",
      "81737  1014.6013      67.0           96.72       14.04        0.0       0.0  \n",
      "81738  1014.6652      67.0           96.04       13.15        0.0       0.0  \n",
      "81739  1014.7292      68.0           95.27       12.26        0.0       0.0  \n",
      "81740  1014.7829      68.0           95.96       11.65        0.0       0.0  \n",
      "81741  1014.8367      69.0           96.72       11.04        0.0       0.0  \n",
      "81742  1014.8948      70.0           98.21       10.77        0.0       0.0  \n",
      "81743  1014.9571      70.0          100.32       10.85        0.0       0.0  \n",
      "81744  1015.0195      71.0          102.40       10.94        0.0       0.0  \n",
      "\n",
      "[81745 rows x 10 columns]\n",
      "           station_id                 time    weather  temperature  pressure  \\\n",
      "0     london_grid_344  2018-05-04 00:00:00     CLOUDY            1       202   \n",
      "1     london_grid_345  2018-05-04 00:00:00     CLOUDY            2       202   \n",
      "2     london_grid_346  2018-05-04 00:00:00     CLOUDY            2       203   \n",
      "3     london_grid_347  2018-05-04 00:00:00     CLOUDY            1       202   \n",
      "4     london_grid_348  2018-05-04 00:00:00     CLOUDY            1       201   \n",
      "5     london_grid_365  2018-05-04 00:00:00     CLOUDY            2       202   \n",
      "6     london_grid_366  2018-05-04 00:00:00     CLOUDY            2       202   \n",
      "7     london_grid_367  2018-05-04 00:00:00     CLOUDY            2       203   \n",
      "8     london_grid_368  2018-05-04 00:00:00     CLOUDY            2       202   \n",
      "9     london_grid_369  2018-05-04 00:00:00     CLOUDY            1       202   \n",
      "10    london_grid_386  2018-05-04 00:00:00     CLOUDY            2       202   \n",
      "11    london_grid_387  2018-05-04 00:00:00     CLOUDY            2       202   \n",
      "12    london_grid_388  2018-05-04 00:00:00     CLOUDY            2       203   \n",
      "13    london_grid_389  2018-05-04 00:00:00     CLOUDY            2       203   \n",
      "14    london_grid_390  2018-05-04 00:00:00     CLOUDY            1       202   \n",
      "15    london_grid_407  2018-05-04 00:00:00     CLOUDY            2       201   \n",
      "16    london_grid_408  2018-05-04 00:00:00     CLOUDY            2       202   \n",
      "17    london_grid_409  2018-05-04 00:00:00     CLOUDY            2       203   \n",
      "18    london_grid_410  2018-05-04 00:00:00     CLOUDY            2       203   \n",
      "19    london_grid_411  2018-05-04 00:00:00     CLOUDY            1       202   \n",
      "20    london_grid_428  2018-05-04 00:00:00     CLOUDY            2       201   \n",
      "21    london_grid_429  2018-05-04 00:00:00     CLOUDY            2       202   \n",
      "22    london_grid_430  2018-05-04 00:00:00     CLOUDY            2       203   \n",
      "23    london_grid_431  2018-05-04 00:00:00     CLOUDY            2       203   \n",
      "24    london_grid_432  2018-05-04 00:00:00     CLOUDY            1       202   \n",
      "25    london_grid_449  2018-05-04 00:00:00     CLOUDY            2       202   \n",
      "26    london_grid_450  2018-05-04 00:00:00     CLOUDY            2       202   \n",
      "27    london_grid_451  2018-05-04 00:00:00     CLOUDY            2       203   \n",
      "28    london_grid_452  2018-05-04 00:00:00     CLOUDY            2       203   \n",
      "29    london_grid_453  2018-05-04 00:00:00     CLOUDY            1       202   \n",
      "...               ...                  ...        ...          ...       ...   \n",
      "3770  london_grid_386  2018-05-07 23:00:00  CLEAR_DAY            2       200   \n",
      "3771  london_grid_387  2018-05-07 23:00:00  CLEAR_DAY            3       201   \n",
      "3772  london_grid_388  2018-05-07 23:00:00  CLEAR_DAY            3       202   \n",
      "3773  london_grid_389  2018-05-07 23:00:00  CLEAR_DAY            3       201   \n",
      "3774  london_grid_390  2018-05-07 23:00:00  CLEAR_DAY            3       201   \n",
      "3775  london_grid_407  2018-05-07 23:00:00  CLEAR_DAY            2       200   \n",
      "3776  london_grid_408  2018-05-07 23:00:00  CLEAR_DAY            3       201   \n",
      "3777  london_grid_409  2018-05-07 23:00:00  CLEAR_DAY            3       202   \n",
      "3778  london_grid_410  2018-05-07 23:00:00  CLEAR_DAY            3       201   \n",
      "3779  london_grid_411  2018-05-07 23:00:00  CLEAR_DAY            2       201   \n",
      "3780  london_grid_428  2018-05-07 23:00:00  CLEAR_DAY            2       200   \n",
      "3781  london_grid_429  2018-05-07 23:00:00  CLEAR_DAY            3       201   \n",
      "3782  london_grid_430  2018-05-07 23:00:00  CLEAR_DAY            3       202   \n",
      "3783  london_grid_431  2018-05-07 23:00:00  CLEAR_DAY            3       201   \n",
      "3784  london_grid_432  2018-05-07 23:00:00  CLEAR_DAY            2       201   \n",
      "3785  london_grid_449  2018-05-07 23:00:00  CLEAR_DAY            2       200   \n",
      "3786  london_grid_450  2018-05-07 23:00:00  CLEAR_DAY            2       201   \n",
      "3787  london_grid_451  2018-05-07 23:00:00  CLEAR_DAY            3       202   \n",
      "3788  london_grid_452  2018-05-07 23:00:00  CLEAR_DAY            3       201   \n",
      "3789  london_grid_453  2018-05-07 23:00:00  CLEAR_DAY            2       201   \n",
      "3790  london_grid_470  2018-05-07 23:00:00  CLEAR_DAY            2       200   \n",
      "3791  london_grid_471  2018-05-07 23:00:00  CLEAR_DAY            2       201   \n",
      "3792  london_grid_472  2018-05-07 23:00:00  CLEAR_DAY            3       202   \n",
      "3793  london_grid_473  2018-05-07 23:00:00  CLEAR_DAY            2       201   \n",
      "3794  london_grid_474  2018-05-07 23:00:00  CLEAR_DAY            2       201   \n",
      "3795  london_grid_491  2018-05-07 23:00:00  CLEAR_DAY            2       201   \n",
      "3796  london_grid_492  2018-05-07 23:00:00  CLEAR_DAY            2       201   \n",
      "3797  london_grid_493  2018-05-07 23:00:00  CLEAR_DAY            3       202   \n",
      "3798  london_grid_494  2018-05-07 23:00:00  CLEAR_DAY            2       201   \n",
      "3799  london_grid_495  2018-05-07 23:00:00  CLEAR_DAY            2       201   \n",
      "\n",
      "      humidity  wind_direction  wind_speed  longitude  latitude  \\\n",
      "0           17              16        7.09       -0.4      51.3   \n",
      "1           16              17        7.26       -0.4      51.4   \n",
      "2           14              17        7.23       -0.4      51.5   \n",
      "3           16              17        8.15       -0.4      51.6   \n",
      "4           16              17        8.85       -0.4      51.7   \n",
      "5           17              16        7.32       -0.3      51.3   \n",
      "6           16              17        7.44       -0.3      51.4   \n",
      "7           13              17        7.13       -0.3      51.5   \n",
      "8           14              17        8.01       -0.3      51.6   \n",
      "9           16              17        8.81       -0.3      51.7   \n",
      "10          17              16        7.55       -0.2      51.3   \n",
      "11          15              17        7.62       -0.2      51.4   \n",
      "12          14              17        7.77       -0.2      51.5   \n",
      "13          15              17        8.27       -0.2      51.6   \n",
      "14          15              17        8.94       -0.2      51.7   \n",
      "15          17              16        7.81       -0.1      51.3   \n",
      "16          15              17        7.79       -0.1      51.4   \n",
      "17          14              17        7.87       -0.1      51.5   \n",
      "18          13              18        7.96       -0.1      51.6   \n",
      "19          16              17        8.74       -0.1      51.7   \n",
      "20          16              16        8.07        0.0      51.3   \n",
      "21          15              16        7.98        0.0      51.4   \n",
      "22          14              17        7.99        0.0      51.5   \n",
      "23          15              17        8.31        0.0      51.6   \n",
      "24          16              17        8.69        0.0      51.7   \n",
      "25          16              16        8.28        0.1      51.3   \n",
      "26          15              16        8.12        0.1      51.4   \n",
      "27          14              16        8.05        0.1      51.5   \n",
      "28          15              17        8.29        0.1      51.6   \n",
      "29          16              17        8.61        0.1      51.7   \n",
      "...        ...             ...         ...        ...       ...   \n",
      "3770        16              10        4.40       -0.2      51.3   \n",
      "3771        14              10        4.79       -0.2      51.4   \n",
      "3772        12              10        5.18       -0.2      51.5   \n",
      "3773        13               9        6.54       -0.2      51.6   \n",
      "3774        14               9        7.94       -0.2      51.7   \n",
      "3775        16               9        4.46       -0.1      51.3   \n",
      "3776        14               9        4.83       -0.1      51.4   \n",
      "3777        12               9        5.21       -0.1      51.5   \n",
      "3778        13               9        6.54       -0.1      51.6   \n",
      "3779        14               8        7.88       -0.1      51.7   \n",
      "3780        16               8        4.64        0.0      51.3   \n",
      "3781        14               8        5.01        0.0      51.4   \n",
      "3782        12               8        5.37        0.0      51.5   \n",
      "3783        12               8        6.63        0.0      51.6   \n",
      "3784        13               8        7.89        0.0      51.7   \n",
      "3785        15               8        4.53        0.1      51.3   \n",
      "3786        13               8        4.92        0.1      51.4   \n",
      "3787        12               8        5.30        0.1      51.5   \n",
      "3788        13               8        6.48        0.1      51.6   \n",
      "3789        14               8        7.65        0.1      51.7   \n",
      "3790        15               8        4.46        0.2      51.3   \n",
      "3791        13               8        4.85        0.2      51.4   \n",
      "3792        12               8        5.24        0.2      51.5   \n",
      "3793        13               8        6.34        0.2      51.6   \n",
      "3794        14               8        7.43        0.2      51.7   \n",
      "3795        15               7        4.42        0.3      51.3   \n",
      "3796        14               8        4.84        0.3      51.4   \n",
      "3797        12               8        5.28        0.3      51.5   \n",
      "3798        13               8        6.22        0.3      51.6   \n",
      "3799        14               8        7.16        0.3      51.7   \n",
      "\n",
      "      wind_speed/kph  \n",
      "0                 14  \n",
      "1                 14  \n",
      "2                 14  \n",
      "3                 16  \n",
      "4                 17  \n",
      "5                 14  \n",
      "6                 14  \n",
      "7                 14  \n",
      "8                 16  \n",
      "9                 17  \n",
      "10                15  \n",
      "11                15  \n",
      "12                15  \n",
      "13                16  \n",
      "14                17  \n",
      "15                15  \n",
      "16                15  \n",
      "17                15  \n",
      "18                15  \n",
      "19                17  \n",
      "20                16  \n",
      "21                15  \n",
      "22                15  \n",
      "23                16  \n",
      "24                17  \n",
      "25                16  \n",
      "26                16  \n",
      "27                16  \n",
      "28                16  \n",
      "29                17  \n",
      "...              ...  \n",
      "3770               8  \n",
      "3771               9  \n",
      "3772              10  \n",
      "3773              13  \n",
      "3774              15  \n",
      "3775               8  \n",
      "3776               9  \n",
      "3777              10  \n",
      "3778              13  \n",
      "3779              15  \n",
      "3780               9  \n",
      "3781              10  \n",
      "3782              10  \n",
      "3783              13  \n",
      "3784              15  \n",
      "3785               9  \n",
      "3786               9  \n",
      "3787              10  \n",
      "3788              12  \n",
      "3789              15  \n",
      "3790               8  \n",
      "3791               9  \n",
      "3792              10  \n",
      "3793              12  \n",
      "3794              14  \n",
      "3795               8  \n",
      "3796               9  \n",
      "3797              10  \n",
      "3798              12  \n",
      "3799              14  \n",
      "\n",
      "[3800 rows x 11 columns]\n",
      "265\n",
      "65\n"
     ]
    },
    {
     "name": "stdout",
     "output_type": "stream",
     "text": [
      "2018-05-06 12:00:00\n"
     ]
    },
    {
     "name": "stderr",
     "output_type": "stream",
     "text": [
      "\r",
      "  1%|          | 1/96 [00:00<00:33,  2.80it/s]"
     ]
    },
    {
     "name": "stdout",
     "output_type": "stream",
     "text": [
      "2185\n",
      "2018-05-06 19:00:00\n"
     ]
    },
    {
     "name": "stderr",
     "output_type": "stream",
     "text": [
      "\r",
      "  2%|▏         | 2/96 [00:00<00:31,  3.03it/s]"
     ]
    },
    {
     "name": "stdout",
     "output_type": "stream",
     "text": [
      "2185\n",
      "2018-05-04 01:00:00\n"
     ]
    },
    {
     "name": "stderr",
     "output_type": "stream",
     "text": [
      "\r",
      "  3%|▎         | 3/96 [00:01<00:31,  2.96it/s]"
     ]
    },
    {
     "name": "stdout",
     "output_type": "stream",
     "text": [
      "2185\n",
      "2018-05-07 02:00:00\n"
     ]
    },
    {
     "name": "stderr",
     "output_type": "stream",
     "text": [
      "\r",
      "  4%|▍         | 4/96 [00:01<00:31,  2.88it/s]"
     ]
    },
    {
     "name": "stdout",
     "output_type": "stream",
     "text": [
      "2185\n",
      "2018-05-04 16:00:00\n"
     ]
    },
    {
     "name": "stderr",
     "output_type": "stream",
     "text": [
      "\r",
      "  5%|▌         | 5/96 [00:01<00:32,  2.84it/s]"
     ]
    },
    {
     "name": "stdout",
     "output_type": "stream",
     "text": [
      "2185\n",
      "2018-05-07 19:00:00\n"
     ]
    },
    {
     "name": "stderr",
     "output_type": "stream",
     "text": [
      "\r",
      "  6%|▋         | 6/96 [00:02<00:31,  2.89it/s]"
     ]
    },
    {
     "name": "stdout",
     "output_type": "stream",
     "text": [
      "2185\n",
      "2018-05-07 04:00:00\n"
     ]
    },
    {
     "name": "stderr",
     "output_type": "stream",
     "text": [
      "\r",
      "  7%|▋         | 7/96 [00:02<00:30,  2.88it/s]"
     ]
    },
    {
     "name": "stdout",
     "output_type": "stream",
     "text": [
      "2185\n",
      "2018-05-07 03:00:00\n"
     ]
    },
    {
     "name": "stderr",
     "output_type": "stream",
     "text": [
      "\r",
      "  8%|▊         | 8/96 [00:02<00:30,  2.93it/s]"
     ]
    },
    {
     "name": "stdout",
     "output_type": "stream",
     "text": [
      "2185\n",
      "2018-05-04 11:00:00\n"
     ]
    },
    {
     "name": "stderr",
     "output_type": "stream",
     "text": [
      "\r",
      " 11%|█▏        | 11/96 [00:03<00:23,  3.62it/s]"
     ]
    },
    {
     "name": "stdout",
     "output_type": "stream",
     "text": [
      "2185\n",
      "2018-05-04 21:00:00\n"
     ]
    },
    {
     "name": "stderr",
     "output_type": "stream",
     "text": [
      "\r",
      " 12%|█▎        | 12/96 [00:03<00:23,  3.53it/s]"
     ]
    },
    {
     "name": "stdout",
     "output_type": "stream",
     "text": [
      "2185\n",
      "2018-05-07 07:00:00\n"
     ]
    },
    {
     "name": "stderr",
     "output_type": "stream",
     "text": [
      "\r",
      " 14%|█▎        | 13/96 [00:03<00:23,  3.51it/s]"
     ]
    },
    {
     "name": "stdout",
     "output_type": "stream",
     "text": [
      "2185\n",
      "2018-05-06 20:00:00\n"
     ]
    },
    {
     "name": "stderr",
     "output_type": "stream",
     "text": [
      "\r",
      " 15%|█▍        | 14/96 [00:04<00:24,  3.41it/s]"
     ]
    },
    {
     "name": "stdout",
     "output_type": "stream",
     "text": [
      "2185\n",
      "2018-05-06 15:00:00\n"
     ]
    },
    {
     "name": "stderr",
     "output_type": "stream",
     "text": [
      "\r",
      " 16%|█▌        | 15/96 [00:04<00:24,  3.36it/s]"
     ]
    },
    {
     "name": "stdout",
     "output_type": "stream",
     "text": [
      "2185\n",
      "2018-05-07 15:00:00\n"
     ]
    },
    {
     "name": "stderr",
     "output_type": "stream",
     "text": [
      "\r",
      " 17%|█▋        | 16/96 [00:04<00:24,  3.32it/s]"
     ]
    },
    {
     "name": "stdout",
     "output_type": "stream",
     "text": [
      "2185\n",
      "2018-05-06 06:00:00\n"
     ]
    },
    {
     "name": "stderr",
     "output_type": "stream",
     "text": [
      "\r",
      " 18%|█▊        | 17/96 [00:05<00:23,  3.32it/s]"
     ]
    },
    {
     "name": "stdout",
     "output_type": "stream",
     "text": [
      "2185\n",
      "2018-05-05 08:00:00\n"
     ]
    },
    {
     "name": "stderr",
     "output_type": "stream",
     "text": [
      "\r",
      " 19%|█▉        | 18/96 [00:05<00:23,  3.29it/s]"
     ]
    },
    {
     "name": "stdout",
     "output_type": "stream",
     "text": [
      "2185\n",
      "2018-05-07 16:00:00\n"
     ]
    },
    {
     "name": "stderr",
     "output_type": "stream",
     "text": [
      "\r",
      " 20%|█▉        | 19/96 [00:05<00:23,  3.29it/s]"
     ]
    },
    {
     "name": "stdout",
     "output_type": "stream",
     "text": [
      "2185\n",
      "2018-05-07 08:00:00\n"
     ]
    },
    {
     "name": "stderr",
     "output_type": "stream",
     "text": [
      "\r",
      " 21%|██        | 20/96 [00:06<00:23,  3.26it/s]"
     ]
    },
    {
     "name": "stdout",
     "output_type": "stream",
     "text": [
      "2185\n",
      "2018-05-04 19:00:00\n"
     ]
    },
    {
     "name": "stderr",
     "output_type": "stream",
     "text": [
      "\r",
      " 22%|██▏       | 21/96 [00:06<00:22,  3.27it/s]"
     ]
    },
    {
     "name": "stdout",
     "output_type": "stream",
     "text": [
      "2185\n",
      "2018-05-04 09:00:00\n"
     ]
    },
    {
     "name": "stderr",
     "output_type": "stream",
     "text": [
      "\r",
      " 23%|██▎       | 22/96 [00:06<00:22,  3.27it/s]"
     ]
    },
    {
     "name": "stdout",
     "output_type": "stream",
     "text": [
      "2185\n",
      "2018-05-04 10:00:00\n"
     ]
    },
    {
     "name": "stderr",
     "output_type": "stream",
     "text": [
      "\r",
      " 24%|██▍       | 23/96 [00:07<00:22,  3.25it/s]"
     ]
    },
    {
     "name": "stdout",
     "output_type": "stream",
     "text": [
      "2185\n",
      "2018-05-06 04:00:00\n"
     ]
    },
    {
     "name": "stderr",
     "output_type": "stream",
     "text": [
      "\r",
      " 25%|██▌       | 24/96 [00:07<00:22,  3.26it/s]"
     ]
    },
    {
     "name": "stdout",
     "output_type": "stream",
     "text": [
      "2185\n",
      "2018-05-07 23:00:00\n"
     ]
    },
    {
     "name": "stderr",
     "output_type": "stream",
     "text": [
      "\r",
      " 26%|██▌       | 25/96 [00:07<00:21,  3.24it/s]"
     ]
    },
    {
     "name": "stdout",
     "output_type": "stream",
     "text": [
      "2185\n",
      "2018-05-04 00:00:00\n"
     ]
    },
    {
     "name": "stderr",
     "output_type": "stream",
     "text": [
      "\r",
      " 28%|██▊       | 27/96 [00:08<00:20,  3.37it/s]"
     ]
    },
    {
     "name": "stdout",
     "output_type": "stream",
     "text": [
      "2185\n",
      "2018-05-06 22:00:00\n"
     ]
    },
    {
     "name": "stderr",
     "output_type": "stream",
     "text": [
      "\r",
      " 29%|██▉       | 28/96 [00:08<00:20,  3.35it/s]"
     ]
    },
    {
     "name": "stdout",
     "output_type": "stream",
     "text": [
      "2185\n",
      "2018-05-06 13:00:00\n"
     ]
    },
    {
     "name": "stderr",
     "output_type": "stream",
     "text": [
      "\r",
      " 30%|███       | 29/96 [00:08<00:20,  3.34it/s]"
     ]
    },
    {
     "name": "stdout",
     "output_type": "stream",
     "text": [
      "2185\n",
      "2018-05-04 20:00:00\n"
     ]
    },
    {
     "name": "stderr",
     "output_type": "stream",
     "text": [
      "\r",
      " 31%|███▏      | 30/96 [00:09<00:19,  3.32it/s]"
     ]
    },
    {
     "name": "stdout",
     "output_type": "stream",
     "text": [
      "2185\n",
      "2018-05-06 14:00:00\n"
     ]
    },
    {
     "name": "stderr",
     "output_type": "stream",
     "text": [
      "\r",
      " 32%|███▏      | 31/96 [00:09<00:19,  3.32it/s]"
     ]
    },
    {
     "name": "stdout",
     "output_type": "stream",
     "text": [
      "2185\n",
      "2018-05-05 01:00:00\n"
     ]
    },
    {
     "name": "stderr",
     "output_type": "stream",
     "text": [
      "\r",
      " 33%|███▎      | 32/96 [00:09<00:19,  3.32it/s]"
     ]
    },
    {
     "name": "stdout",
     "output_type": "stream",
     "text": [
      "2185\n",
      "2018-05-07 01:00:00\n"
     ]
    },
    {
     "name": "stderr",
     "output_type": "stream",
     "text": [
      "\r",
      " 36%|███▋      | 35/96 [00:09<00:17,  3.50it/s]"
     ]
    },
    {
     "name": "stdout",
     "output_type": "stream",
     "text": [
      "2185\n",
      "2018-05-06 17:00:00\n"
     ]
    },
    {
     "name": "stderr",
     "output_type": "stream",
     "text": [
      "\r",
      " 38%|███▊      | 36/96 [00:10<00:17,  3.50it/s]"
     ]
    },
    {
     "name": "stdout",
     "output_type": "stream",
     "text": [
      "2185\n",
      "2018-05-06 21:00:00\n"
     ]
    },
    {
     "name": "stderr",
     "output_type": "stream",
     "text": [
      "\r",
      " 39%|███▊      | 37/96 [00:10<00:16,  3.48it/s]"
     ]
    },
    {
     "name": "stdout",
     "output_type": "stream",
     "text": [
      "2185\n",
      "2018-05-05 04:00:00\n"
     ]
    },
    {
     "name": "stderr",
     "output_type": "stream",
     "text": [
      "\r",
      " 40%|███▉      | 38/96 [00:10<00:16,  3.47it/s]"
     ]
    },
    {
     "name": "stdout",
     "output_type": "stream",
     "text": [
      "2185\n",
      "2018-05-04 23:00:00\n"
     ]
    },
    {
     "name": "stderr",
     "output_type": "stream",
     "text": [
      "\r",
      " 41%|████      | 39/96 [00:11<00:16,  3.45it/s]"
     ]
    },
    {
     "name": "stdout",
     "output_type": "stream",
     "text": [
      "2185\n",
      "2018-05-06 18:00:00\n"
     ]
    },
    {
     "name": "stderr",
     "output_type": "stream",
     "text": [
      "\r",
      " 42%|████▏     | 40/96 [00:11<00:16,  3.45it/s]"
     ]
    },
    {
     "name": "stdout",
     "output_type": "stream",
     "text": [
      "2185\n",
      "2018-05-06 00:00:00\n"
     ]
    },
    {
     "name": "stderr",
     "output_type": "stream",
     "text": [
      "\r",
      " 43%|████▎     | 41/96 [00:11<00:16,  3.43it/s]"
     ]
    },
    {
     "name": "stdout",
     "output_type": "stream",
     "text": [
      "2185\n",
      "2018-05-05 09:00:00\n"
     ]
    },
    {
     "name": "stderr",
     "output_type": "stream",
     "text": [
      "\r",
      " 44%|████▍     | 42/96 [00:12<00:15,  3.43it/s]"
     ]
    },
    {
     "name": "stdout",
     "output_type": "stream",
     "text": [
      "2185\n",
      "2018-05-07 22:00:00\n"
     ]
    },
    {
     "name": "stderr",
     "output_type": "stream",
     "text": [
      "\r",
      " 45%|████▍     | 43/96 [00:12<00:15,  3.42it/s]"
     ]
    },
    {
     "name": "stdout",
     "output_type": "stream",
     "text": [
      "2185\n",
      "2018-05-07 14:00:00\n"
     ]
    },
    {
     "name": "stderr",
     "output_type": "stream",
     "text": [
      "\r",
      " 46%|████▌     | 44/96 [00:12<00:15,  3.41it/s]"
     ]
    },
    {
     "name": "stdout",
     "output_type": "stream",
     "text": [
      "2185\n",
      "2018-05-06 09:00:00\n"
     ]
    },
    {
     "name": "stderr",
     "output_type": "stream",
     "text": [
      "\r",
      " 47%|████▋     | 45/96 [00:13<00:14,  3.41it/s]"
     ]
    },
    {
     "name": "stdout",
     "output_type": "stream",
     "text": [
      "2185\n",
      "2018-05-04 05:00:00\n"
     ]
    },
    {
     "name": "stderr",
     "output_type": "stream",
     "text": [
      "\r",
      " 48%|████▊     | 46/96 [00:13<00:14,  3.39it/s]"
     ]
    },
    {
     "name": "stdout",
     "output_type": "stream",
     "text": [
      "2185\n",
      "2018-05-04 03:00:00\n"
     ]
    },
    {
     "name": "stderr",
     "output_type": "stream",
     "text": [
      "\r",
      " 52%|█████▏    | 50/96 [00:13<00:12,  3.61it/s]"
     ]
    },
    {
     "name": "stdout",
     "output_type": "stream",
     "text": [
      "2185\n",
      "2018-05-05 02:00:00\n"
     ]
    },
    {
     "name": "stderr",
     "output_type": "stream",
     "text": [
      "\r",
      " 53%|█████▎    | 51/96 [00:14<00:12,  3.57it/s]"
     ]
    },
    {
     "name": "stdout",
     "output_type": "stream",
     "text": [
      "2185\n",
      "2018-05-06 01:00:00\n"
     ]
    },
    {
     "name": "stderr",
     "output_type": "stream",
     "text": [
      "\r",
      " 54%|█████▍    | 52/96 [00:14<00:12,  3.56it/s]"
     ]
    },
    {
     "name": "stdout",
     "output_type": "stream",
     "text": [
      "2185\n",
      "2018-05-06 08:00:00\n"
     ]
    },
    {
     "name": "stderr",
     "output_type": "stream",
     "text": [
      "\r",
      " 55%|█████▌    | 53/96 [00:14<00:12,  3.54it/s]"
     ]
    },
    {
     "name": "stdout",
     "output_type": "stream",
     "text": [
      "2185\n",
      "2018-05-06 11:00:00\n"
     ]
    },
    {
     "name": "stderr",
     "output_type": "stream",
     "text": [
      "\r",
      " 56%|█████▋    | 54/96 [00:15<00:11,  3.53it/s]"
     ]
    },
    {
     "name": "stdout",
     "output_type": "stream",
     "text": [
      "2185\n",
      "2018-05-04 08:00:00\n"
     ]
    },
    {
     "name": "stderr",
     "output_type": "stream",
     "text": [
      "\r",
      " 57%|█████▋    | 55/96 [00:15<00:11,  3.49it/s]"
     ]
    },
    {
     "name": "stdout",
     "output_type": "stream",
     "text": [
      "2185\n",
      "2018-05-05 05:00:00\n"
     ]
    },
    {
     "name": "stderr",
     "output_type": "stream",
     "text": [
      "\r",
      " 59%|█████▉    | 57/96 [00:16<00:10,  3.55it/s]"
     ]
    },
    {
     "name": "stdout",
     "output_type": "stream",
     "text": [
      "2185\n",
      "2018-05-04 02:00:00\n"
     ]
    },
    {
     "name": "stderr",
     "output_type": "stream",
     "text": [
      "\r",
      " 60%|██████    | 58/96 [00:16<00:10,  3.54it/s]"
     ]
    },
    {
     "name": "stdout",
     "output_type": "stream",
     "text": [
      "2185\n",
      "2018-05-07 21:00:00\n"
     ]
    },
    {
     "name": "stderr",
     "output_type": "stream",
     "text": [
      "\r",
      " 62%|██████▎   | 60/96 [00:16<00:10,  3.59it/s]"
     ]
    },
    {
     "name": "stdout",
     "output_type": "stream",
     "text": [
      "2185\n",
      "2018-05-05 07:00:00\n"
     ]
    },
    {
     "name": "stderr",
     "output_type": "stream",
     "text": [
      "\r",
      " 64%|██████▎   | 61/96 [00:17<00:09,  3.58it/s]"
     ]
    },
    {
     "name": "stdout",
     "output_type": "stream",
     "text": [
      "2185\n",
      "2018-05-06 10:00:00\n"
     ]
    },
    {
     "name": "stderr",
     "output_type": "stream",
     "text": [
      "\r",
      " 65%|██████▍   | 62/96 [00:17<00:09,  3.57it/s]"
     ]
    },
    {
     "name": "stdout",
     "output_type": "stream",
     "text": [
      "2185\n",
      "2018-05-05 06:00:00\n"
     ]
    },
    {
     "name": "stderr",
     "output_type": "stream",
     "text": [
      "\r",
      " 66%|██████▌   | 63/96 [00:17<00:09,  3.57it/s]"
     ]
    },
    {
     "name": "stdout",
     "output_type": "stream",
     "text": [
      "2185\n",
      "2018-05-07 11:00:00\n"
     ]
    },
    {
     "name": "stderr",
     "output_type": "stream",
     "text": [
      "\r",
      " 67%|██████▋   | 64/96 [00:18<00:09,  3.55it/s]"
     ]
    },
    {
     "name": "stdout",
     "output_type": "stream",
     "text": [
      "2185\n",
      "2018-05-06 03:00:00\n"
     ]
    },
    {
     "name": "stderr",
     "output_type": "stream",
     "text": [
      "\r",
      " 68%|██████▊   | 65/96 [00:18<00:08,  3.55it/s]"
     ]
    },
    {
     "name": "stdout",
     "output_type": "stream",
     "text": [
      "2185\n",
      "2018-05-04 22:00:00\n"
     ]
    },
    {
     "name": "stderr",
     "output_type": "stream",
     "text": [
      "\r",
      " 69%|██████▉   | 66/96 [00:18<00:08,  3.54it/s]"
     ]
    },
    {
     "name": "stdout",
     "output_type": "stream",
     "text": [
      "2185\n",
      "2018-05-07 20:00:00\n"
     ]
    },
    {
     "name": "stderr",
     "output_type": "stream",
     "text": [
      "\r",
      " 70%|██████▉   | 67/96 [00:18<00:08,  3.53it/s]"
     ]
    },
    {
     "name": "stdout",
     "output_type": "stream",
     "text": [
      "2185\n",
      "2018-05-04 15:00:00\n"
     ]
    },
    {
     "name": "stderr",
     "output_type": "stream",
     "text": [
      "\r",
      " 73%|███████▎  | 70/96 [00:19<00:07,  3.63it/s]"
     ]
    },
    {
     "name": "stdout",
     "output_type": "stream",
     "text": [
      "2185\n",
      "2018-05-07 13:00:00\n"
     ]
    },
    {
     "name": "stderr",
     "output_type": "stream",
     "text": [
      "\r",
      " 74%|███████▍  | 71/96 [00:19<00:06,  3.62it/s]"
     ]
    },
    {
     "name": "stdout",
     "output_type": "stream",
     "text": [
      "2185\n",
      "2018-05-07 12:00:00\n"
     ]
    },
    {
     "name": "stderr",
     "output_type": "stream",
     "text": [
      "\r",
      " 75%|███████▌  | 72/96 [00:19<00:06,  3.62it/s]"
     ]
    },
    {
     "name": "stdout",
     "output_type": "stream",
     "text": [
      "2185\n",
      "2018-05-04 17:00:00\n"
     ]
    },
    {
     "name": "stderr",
     "output_type": "stream",
     "text": [
      "\r",
      " 76%|███████▌  | 73/96 [00:20<00:06,  3.60it/s]"
     ]
    },
    {
     "name": "stdout",
     "output_type": "stream",
     "text": [
      "2185\n",
      "2018-05-04 18:00:00\n"
     ]
    },
    {
     "name": "stderr",
     "output_type": "stream",
     "text": [
      "\r",
      " 77%|███████▋  | 74/96 [00:20<00:06,  3.60it/s]"
     ]
    },
    {
     "name": "stdout",
     "output_type": "stream",
     "text": [
      "2185\n",
      "2018-05-05 03:00:00\n"
     ]
    },
    {
     "name": "stderr",
     "output_type": "stream",
     "text": [
      "\r",
      " 78%|███████▊  | 75/96 [00:20<00:05,  3.59it/s]"
     ]
    },
    {
     "name": "stdout",
     "output_type": "stream",
     "text": [
      "2185\n",
      "2018-05-07 00:00:00\n"
     ]
    },
    {
     "name": "stderr",
     "output_type": "stream",
     "text": [
      "\r",
      " 79%|███████▉  | 76/96 [00:21<00:05,  3.59it/s]"
     ]
    },
    {
     "name": "stdout",
     "output_type": "stream",
     "text": [
      "2185\n",
      "2018-05-05 00:00:00\n"
     ]
    },
    {
     "name": "stderr",
     "output_type": "stream",
     "text": [
      "\r",
      " 80%|████████  | 77/96 [00:21<00:05,  3.57it/s]"
     ]
    },
    {
     "name": "stdout",
     "output_type": "stream",
     "text": [
      "2185\n",
      "2018-05-07 10:00:00\n"
     ]
    },
    {
     "name": "stderr",
     "output_type": "stream",
     "text": [
      "\r",
      " 81%|████████▏ | 78/96 [00:21<00:05,  3.57it/s]"
     ]
    },
    {
     "name": "stdout",
     "output_type": "stream",
     "text": [
      "2185\n",
      "2018-05-06 23:00:00\n"
     ]
    },
    {
     "name": "stderr",
     "output_type": "stream",
     "text": [
      "\r",
      " 82%|████████▏ | 79/96 [00:22<00:04,  3.56it/s]"
     ]
    },
    {
     "name": "stdout",
     "output_type": "stream",
     "text": [
      "2185\n",
      "2018-05-05 10:00:00\n"
     ]
    },
    {
     "name": "stderr",
     "output_type": "stream",
     "text": [
      "\r",
      " 83%|████████▎ | 80/96 [00:22<00:04,  3.56it/s]"
     ]
    },
    {
     "name": "stdout",
     "output_type": "stream",
     "text": [
      "2185\n",
      "2018-05-04 13:00:00\n"
     ]
    },
    {
     "name": "stderr",
     "output_type": "stream",
     "text": [
      "\r",
      " 84%|████████▍ | 81/96 [00:22<00:04,  3.55it/s]"
     ]
    },
    {
     "name": "stdout",
     "output_type": "stream",
     "text": [
      "2185\n",
      "2018-05-06 02:00:00\n"
     ]
    },
    {
     "name": "stderr",
     "output_type": "stream",
     "text": [
      "\r",
      " 85%|████████▌ | 82/96 [00:23<00:03,  3.55it/s]"
     ]
    },
    {
     "name": "stdout",
     "output_type": "stream",
     "text": [
      "2185\n",
      "2018-05-06 16:00:00\n"
     ]
    },
    {
     "name": "stderr",
     "output_type": "stream",
     "text": [
      "\r",
      " 86%|████████▋ | 83/96 [00:23<00:03,  3.54it/s]"
     ]
    },
    {
     "name": "stdout",
     "output_type": "stream",
     "text": [
      "2185\n",
      "2018-05-04 07:00:00\n"
     ]
    },
    {
     "name": "stderr",
     "output_type": "stream",
     "text": [
      "\r",
      " 88%|████████▊ | 84/96 [00:23<00:03,  3.53it/s]"
     ]
    },
    {
     "name": "stdout",
     "output_type": "stream",
     "text": [
      "2185\n",
      "2018-05-04 12:00:00\n"
     ]
    },
    {
     "name": "stderr",
     "output_type": "stream",
     "text": [
      "\r",
      " 89%|████████▊ | 85/96 [00:24<00:03,  3.53it/s]"
     ]
    },
    {
     "name": "stdout",
     "output_type": "stream",
     "text": [
      "2185\n",
      "2018-05-06 05:00:00\n"
     ]
    },
    {
     "name": "stderr",
     "output_type": "stream",
     "text": [
      "\r",
      " 90%|████████▉ | 86/96 [00:24<00:02,  3.52it/s]"
     ]
    },
    {
     "name": "stdout",
     "output_type": "stream",
     "text": [
      "2185\n",
      "2018-05-07 18:00:00\n"
     ]
    },
    {
     "name": "stderr",
     "output_type": "stream",
     "text": [
      "\r",
      " 93%|█████████▎| 89/96 [00:24<00:01,  3.60it/s]"
     ]
    },
    {
     "name": "stdout",
     "output_type": "stream",
     "text": [
      "2185\n",
      "2018-05-04 04:00:00\n"
     ]
    },
    {
     "name": "stderr",
     "output_type": "stream",
     "text": [
      "\r",
      " 94%|█████████▍| 90/96 [00:25<00:01,  3.59it/s]"
     ]
    },
    {
     "name": "stdout",
     "output_type": "stream",
     "text": [
      "2185\n",
      "2018-05-04 06:00:00\n"
     ]
    },
    {
     "name": "stderr",
     "output_type": "stream",
     "text": [
      "\r",
      " 95%|█████████▍| 91/96 [00:25<00:01,  3.59it/s]"
     ]
    },
    {
     "name": "stdout",
     "output_type": "stream",
     "text": [
      "2185\n",
      "2018-05-07 06:00:00\n"
     ]
    },
    {
     "name": "stderr",
     "output_type": "stream",
     "text": [
      "\r",
      " 96%|█████████▌| 92/96 [00:25<00:01,  3.58it/s]"
     ]
    },
    {
     "name": "stdout",
     "output_type": "stream",
     "text": [
      "2185\n",
      "2018-05-04 14:00:00\n"
     ]
    },
    {
     "name": "stderr",
     "output_type": "stream",
     "text": [
      "\r",
      " 97%|█████████▋| 93/96 [00:26<00:00,  3.57it/s]"
     ]
    },
    {
     "name": "stdout",
     "output_type": "stream",
     "text": [
      "2185\n",
      "2018-05-07 17:00:00\n"
     ]
    },
    {
     "name": "stderr",
     "output_type": "stream",
     "text": [
      "\r",
      " 98%|█████████▊| 94/96 [00:26<00:00,  3.57it/s]"
     ]
    },
    {
     "name": "stdout",
     "output_type": "stream",
     "text": [
      "2185\n",
      "2018-05-07 05:00:00\n"
     ]
    },
    {
     "name": "stderr",
     "output_type": "stream",
     "text": [
      "\r",
      " 99%|█████████▉| 95/96 [00:26<00:00,  3.56it/s]"
     ]
    },
    {
     "name": "stdout",
     "output_type": "stream",
     "text": [
      "2185\n",
      "2018-05-06 07:00:00\n"
     ]
    },
    {
     "name": "stderr",
     "output_type": "stream",
     "text": [
      "100%|██████████| 96/96 [00:26<00:00,  3.56it/s]\n",
      "100%|██████████| 39/39 [00:00<00:00, 253.81it/s]\n",
      "100%|██████████| 96/96 [00:00<00:00, 37032.39it/s]"
     ]
    },
    {
     "name": "stdout",
     "output_type": "stream",
     "text": [
      "2185\n",
      "2185\n",
      "2185\n",
      "4065"
     ]
    },
    {
     "name": "stderr",
     "output_type": "stream",
     "text": [
      "\n"
     ]
    },
    {
     "name": "stdout",
     "output_type": "stream",
     "text": [
      "\n",
      "2191\n",
      "4065\n",
      "4065\n"
     ]
    }
   ],
   "source": [
    "pre_dict_ld = to_timedict_ld(start = Start, end = End)\n",
    "pre_frame_ld = pd.DataFrame.from_dict(pre_dict_ld).T\n",
    "pre_list_ld = np.array(pre_frame_ld)"
   ]
  },
  {
   "cell_type": "code",
   "execution_count": 37,
   "metadata": {},
   "outputs": [
    {
     "data": {
      "text/plain": [
       "(48, 4065)"
      ]
     },
     "execution_count": 37,
     "metadata": {},
     "output_type": "execute_result"
    }
   ],
   "source": [
    "pre_list_ld.shape"
   ]
  },
  {
   "cell_type": "code",
   "execution_count": 39,
   "metadata": {},
   "outputs": [
    {
     "name": "stderr",
     "output_type": "stream",
     "text": [
      "\n",
      "  0%|          | 0/34 [00:00<?, ?it/s]\u001b[A\n",
      "  3%|▎         | 1/34 [00:01<00:55,  1.69s/it]\u001b[A\n",
      "  6%|▌         | 2/34 [00:03<00:52,  1.64s/it]\u001b[A\n",
      "  9%|▉         | 3/34 [00:04<00:51,  1.66s/it]\u001b[A\n",
      " 12%|█▏        | 4/34 [00:06<00:50,  1.70s/it]\u001b[A\n",
      " 15%|█▍        | 5/34 [00:08<00:49,  1.70s/it]\u001b[A\n",
      "Exception in thread Thread-79:\n",
      "Traceback (most recent call last):\n",
      "  File \"/usr/lib/python3.5/threading.py\", line 914, in _bootstrap_inner\n",
      "    self.run()\n",
      "  File \"/home/lifuzhen/virtual_pytorch_py3.5/lib/python3.5/site-packages/tqdm/_tqdm.py\", line 144, in run\n",
      "    for instance in self.tqdm_cls._instances:\n",
      "  File \"/home/lifuzhen/virtual_pytorch_py3.5/lib/python3.5/_weakrefset.py\", line 60, in __iter__\n",
      "    for itemref in self.data:\n",
      "RuntimeError: Set changed size during iteration\n",
      "\n",
      "100%|██████████| 34/34 [00:56<00:00,  1.68s/it]\n",
      "100%|██████████| 13/13 [00:06<00:00,  1.98it/s]\n"
     ]
    }
   ],
   "source": [
    "import xgboost as xgb\n",
    "\n",
    "date_submit = '2018-5-8_2'\n",
    "submit = pd.read_csv('/home/lifuzhen/KDD2018/sample_submissioin.csv')\n",
    "##########北京##############\n",
    "count = 0\n",
    "for i in tqdm(['aotizhongx', 'badaling', 'beibuxinqu', 'daxing', 'dingling', 'donggaocun', 'dongsi','dongsihuan','fangshan', 'fengtaihua', 'guanyuan', 'gucheng','huairou', 'liulihe', 'mentougou', 'miyun', 'miyunshuik', 'nansanhuan', 'nongzhangu', 'pingchang', 'pinggu','qianmen','shunyi','tiantan','tongzhou','wanliu','wanshouxig','xizhimenbe','yanqin','yizhuang','yongdingme','yongledian','yufa','yungang']):\n",
    "    for j in ['PM2.5','PM10','O3']:\n",
    "        model = xgb.Booster(model_file='/home/lifuzhen/KDD2018/Mini_train/beijing_drop1/'+str(count)+'_'+j+'.model')\n",
    "        for k in range(48):\n",
    "            alt = model.predict(xgb.DMatrix(np.concatenate((pre_list_bj[:,2*count:2*(count+1)],pre_list_bj[:,68:10880],pre_list_bj[:,10880+count*288:10880+(count+1)*288],pre_list_bj[:,-15:]),axis = 1)))\n",
    "            submit.loc[submit['test_id'] == i + '_aq#' + str(k) , j] = alt[k]\n",
    "    count += 1\n",
    "###########伦敦################\n",
    "count = 0\n",
    "for i in tqdm(['CD1','BL0','GR4','MY7','HV1','GN3','GR9','LW2','GN0','KF1','CD9','ST5','TH4']):\n",
    "    for j in ['PM2.5','PM10']:\n",
    "        model = xgb.Booster(model_file='/home/lifuzhen/KDD2018/Mini_train/London_drop1/'+str(count)+'_'+j+'.model')\n",
    "        for k in range(48):\n",
    "            alt = model.predict(xgb.DMatrix(np.concatenate((pre_list_ld[:,2*count:2*(count+1)],pre_list_ld[:,26:1985],pre_list_ld[:,1985+count*144:1985+(count+1)*144],pre_list_ld[:,-8:]),axis = 1)))\n",
    "            submit.loc[submit['test_id'] == i + '#' + str(k) , j] = alt[k]\n",
    "    count += 1\n",
    "submit.to_csv('/home/lifuzhen/KDD2018/Result/result_Mini_drop1_'+date_submit+'.csv',index=False)"
   ]
  },
  {
   "cell_type": "code",
   "execution_count": null,
   "metadata": {},
   "outputs": [],
   "source": []
  }
 ],
 "metadata": {
  "kernelspec": {
   "display_name": "Python 3",
   "language": "python",
   "name": "python3"
  },
  "language_info": {
   "codemirror_mode": {
    "name": "ipython",
    "version": 3
   },
   "file_extension": ".py",
   "mimetype": "text/x-python",
   "name": "python",
   "nbconvert_exporter": "python",
   "pygments_lexer": "ipython3",
   "version": "3.5.2"
  }
 },
 "nbformat": 4,
 "nbformat_minor": 2
}
