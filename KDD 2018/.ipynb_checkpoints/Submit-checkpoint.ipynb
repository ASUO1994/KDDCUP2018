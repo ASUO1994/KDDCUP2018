{
 "cells": [
  {
   "cell_type": "code",
   "execution_count": 11,
   "metadata": {},
   "outputs": [
    {
     "name": "stdout",
     "output_type": "stream",
     "text": [
      "{\"success\": true}\n"
     ]
    }
   ],
   "source": [
    "import requests\n",
    "data_submit = '2018-5-1'\n",
    "files={'files': open('/home/lifuzhen/KDD2018/Result/result72_'+data_submit+'.csv','rb')}\n",
    "data = {\n",
    "    \"user_id\": \"ASUO1994\",\n",
    "    \"team_token\": \"aa41ca01bd57ed41d32b186a8cabd9eede07ef363de84acab949e3974669c38a\",\n",
    "    \"description\": 'diff',\n",
    "    \"filename\": \"2018-5-2+3\",\n",
    "}\n",
    "url = 'https://biendata.com/competition/kdd_2018_submit/'\n",
    "response = requests.post(url, files=files, data=data)\n",
    "print(response.text)"
   ]
  },
  {
   "cell_type": "code",
   "execution_count": null,
   "metadata": {},
   "outputs": [],
   "source": []
  }
 ],
 "metadata": {
  "kernelspec": {
   "display_name": "Python 3",
   "language": "python",
   "name": "python3"
  },
  "language_info": {
   "codemirror_mode": {
    "name": "ipython",
    "version": 3
   },
   "file_extension": ".py",
   "mimetype": "text/x-python",
   "name": "python",
   "nbconvert_exporter": "python",
   "pygments_lexer": "ipython3",
   "version": "3.5.2"
  }
 },
 "nbformat": 4,
 "nbformat_minor": 2
}
