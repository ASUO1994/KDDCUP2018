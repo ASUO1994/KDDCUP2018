{
 "cells": [
  {
   "cell_type": "markdown",
   "metadata": {},
   "source": [
    "# beijing Grab"
   ]
  },
  {
   "cell_type": "code",
   "execution_count": 1,
   "metadata": {},
   "outputs": [],
   "source": [
    "import requests\n",
    "start = '2018-04-27-0'\n",
    "end   = '2018-04-30-23'\n",
    "url = 'https://biendata.com/competition/airquality/bj/'+start +'/'+end+'/2k0d1d8'\n",
    "respones= requests.get(url)\n",
    "with open ('/home/lifuzhen/KDD2018/Predict/bj_airquality_'+start +'_'+end+'.csv','w') as f:\n",
    "    f.write(respones.text)\n",
    "    \n",
    "url = 'https://biendata.com/competition/meteorology/bj/'+start +'/'+end+'/2k0d1d8'\n",
    "respones= requests.get(url)\n",
    "with open ('/home/lifuzhen/KDD2018/Predict/bj_meteorology_'+start +'_'+end+'.csv','w') as f:\n",
    "    f.write(respones.text)\n",
    "\n",
    "url = 'https://biendata.com/competition/meteorology/bj_grid/'+start +'/'+end+'/2k0d1d8'\n",
    "respones= requests.get(url)\n",
    "with open ('/home/lifuzhen/KDD2018/Predict/bj_grid_meteorology_'+start +'_'+end+'.csv','w') as f:\n",
    "    f.write(respones.text)\n",
    "    \n",
    "url = 'http://kdd.caiyunapp.com/competition/forecast/bj/'+end+'/2k0d1d8'\n",
    "respones= requests.get(url)\n",
    "with open ('/home/lifuzhen/KDD2018/Predict/bj_grid_meteorology_forecast_48_hours'+'_'+end+'.csv','w') as f:\n",
    "    f.write(respones.text)"
   ]
  },
  {
   "cell_type": "markdown",
   "metadata": {},
   "source": [
    "# London Grab"
   ]
  },
  {
   "cell_type": "code",
   "execution_count": 2,
   "metadata": {},
   "outputs": [],
   "source": [
    "url = 'https://biendata.com/competition/airquality/ld/'+start +'/'+end+'/2k0d1d8'\n",
    "respones= requests.get(url)\n",
    "with open ('/home/lifuzhen/KDD2018/Predict/ld_airquality_'+start +'_'+end+'.csv','w') as f:\n",
    "    f.write(respones.text)\n",
    "    \n",
    "url = 'https://biendata.com/competition/meteorology/ld_grid/'+start +'/'+end+'/2k0d1d8'\n",
    "respones= requests.get(url)\n",
    "with open ('/home/lifuzhen/KDD2018/Predict/ld_grid_meteorology_'+start +'_'+end+'.csv','w') as f:\n",
    "    f.write(respones.text)\n",
    "    \n",
    "url = 'http://kdd.caiyunapp.com/competition/forecast/ld/'+end+'/2k0d1d8'\n",
    "respones= requests.get(url)\n",
    "with open ('/home/lifuzhen/KDD2018/Predict/ld_grid_meteorology_forecast_48_hours'+'_'+end+'.csv','w') as f:\n",
    "    f.write(respones.text)"
   ]
  },
  {
   "cell_type": "code",
   "execution_count": null,
   "metadata": {},
   "outputs": [],
   "source": []
  }
 ],
 "metadata": {
  "kernelspec": {
   "display_name": "Python 3",
   "language": "python",
   "name": "python3"
  },
  "language_info": {
   "codemirror_mode": {
    "name": "ipython",
    "version": 3
   },
   "file_extension": ".py",
   "mimetype": "text/x-python",
   "name": "python",
   "nbconvert_exporter": "python",
   "pygments_lexer": "ipython3",
   "version": "3.5.2"
  }
 },
 "nbformat": 4,
 "nbformat_minor": 2
}
