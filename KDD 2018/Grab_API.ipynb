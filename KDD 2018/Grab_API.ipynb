{
 "cells": [
  {
   "cell_type": "markdown",
   "metadata": {},
   "source": [
    "# beijing Grab"
   ]
  },
  {
   "cell_type": "code",
   "execution_count": 47,
   "metadata": {},
   "outputs": [
    {
     "name": "stdout",
     "output_type": "stream",
     "text": [
      "bj_aq finished!\n",
      "bj_meo finished!\n",
      "bj_grid finished!\n"
     ]
    }
   ],
   "source": [
    "import requests\n",
    "# start = '2018-05-25-0'\n",
    "# end   = '2018-05-28-23'\n",
    "start = '2018-05-25-12'\n",
    "end   = '2018-05-29-11'\n",
    "url = 'https://biendata.com/competition/airquality/bj/'+start +'/'+end+'/2k0d1d8'\n",
    "respones= requests.get(url)\n",
    "with open ('/home/lifuzhen/KDD2018/Predict/bj_airquality_'+start +'_'+end+'.csv','w') as f:\n",
    "    f.write(respones.text)\n",
    "print('bj_aq finished!')\n",
    "url = 'https://biendata.com/competition/meteorology/bj/'+start +'/'+end+'/2k0d1d8'\n",
    "respones= requests.get(url)\n",
    "with open ('/home/lifuzhen/KDD2018/Predict/bj_meteorology_'+start +'_'+end+'.csv','w') as f:\n",
    "    f.write(respones.text)\n",
    "print('bj_meo finished!')\n",
    "url = 'https://biendata.com/competition/meteorology/bj_grid/'+start +'/'+end+'/2k0d1d8'\n",
    "respones= requests.get(url)\n",
    "with open ('/home/lifuzhen/KDD2018/Predict/bj_grid_meteorology_'+start +'_'+end+'.csv','w') as f:\n",
    "    f.write(respones.text)\n",
    "print('bj_grid finished!')\n",
    "# url = 'http://kdd.caiyunapp.com/competition/forecast/bj/'+end+'/2k0d1d8'\n",
    "# respones= requests.get(url)\n",
    "# with open ('/home/lifuzhen/KDD2018/Predict/bj_grid_meteorology_forecast_48_hours'+'_'+end+'.csv','w') as f:\n",
    "#     f.write(respones.text)"
   ]
  },
  {
   "cell_type": "markdown",
   "metadata": {},
   "source": [
    "# London Grab"
   ]
  },
  {
   "cell_type": "code",
   "execution_count": 51,
   "metadata": {},
   "outputs": [
    {
     "name": "stdout",
     "output_type": "stream",
     "text": [
      "ld_aq finished!\n",
      "ld_grid finished!\n"
     ]
    }
   ],
   "source": [
    "# start = '2018-05-20-0'\n",
    "# end   = '2018-05-23-23'\n",
    "start = '2018-05-25-12'\n",
    "end   = '2018-05-29-11'\n",
    "url = 'https://biendata.com/competition/airquality/ld/'+start +'/'+end+'/2k0d1d8'\n",
    "respones= requests.get(url)\n",
    "with open ('/home/lifuzhen/KDD2018/Predict/ld_airquality_'+start +'_'+end+'.csv','w') as f:\n",
    "    f.write(respones.text)\n",
    "print('ld_aq finished!')\n",
    "url = 'https://biendata.com/competition/meteorology/ld_grid/'+start +'/'+end+'/2k0d1d8'\n",
    "respones= requests.get(url)\n",
    "with open ('/home/lifuzhen/KDD2018/Predict/ld_grid_meteorology_'+start +'_'+end+'.csv','w') as f:\n",
    "    f.write(respones.text)\n",
    "print('ld_grid finished!')\n",
    "# url = 'http://kdd.caiyunapp.com/competition/forecast/ld/'+end+'/2k0d1d8'\n",
    "# respones= requests.get(url)\n",
    "# with open ('/home/lifuzhen/KDD2018/Predict/ld_grid_meteorology_forecast_48_hours'+'_'+end+'.csv','w') as f:\n",
    "#     f.write(respones.text)"
   ]
  },
  {
   "cell_type": "markdown",
   "metadata": {},
   "source": [
    "# 小样本数据 "
   ]
  },
  {
   "cell_type": "code",
   "execution_count": 49,
   "metadata": {},
   "outputs": [
    {
     "name": "stdout",
     "output_type": "stream",
     "text": [
      "aq finished!\n",
      "meo finished!\n",
      "grid finished!\n"
     ]
    }
   ],
   "source": [
    "import requests\n",
    "start = '2018-04-11-0'\n",
    "# start = '2018-05-01-0'\n",
    "end   = '2018-05-29-11'\n",
    "url = 'https://biendata.com/competition/airquality/bj/'+start +'/'+end+'/2k0d1d8'\n",
    "respones= requests.get(url)\n",
    "with open ('/home/lifuzhen/KDD2018/Mini_train/bj_airquality_'+start +'_'+end+'.csv','w') as f:\n",
    "    f.write(respones.text)\n",
    "print('aq finished!')\n",
    "url = 'https://biendata.com/competition/meteorology/bj/'+start +'/'+end+'/2k0d1d8'\n",
    "respones= requests.get(url)\n",
    "with open ('/home/lifuzhen/KDD2018/Mini_train/bj_meteorology_'+start +'_'+end+'.csv','w') as f:\n",
    "    f.write(respones.text)\n",
    "print('meo finished!')\n",
    "url = 'https://biendata.com/competition/meteorology/bj_grid/'+start +'/'+end+'/2k0d1d8'\n",
    "respones= requests.get(url)\n",
    "with open ('/home/lifuzhen/KDD2018/Mini_train/bj_grid_meteorology_'+start +'_'+end+'.csv','w') as f:\n",
    "    f.write(respones.text)\n",
    "print('grid finished!')"
   ]
  },
  {
   "cell_type": "code",
   "execution_count": 50,
   "metadata": {},
   "outputs": [
    {
     "name": "stdout",
     "output_type": "stream",
     "text": [
      "aq finished!\n",
      "grid finished!\n"
     ]
    }
   ],
   "source": [
    "# start = '2018-05-01-0'\n",
    "start = '2018-04-12-0'\n",
    "end   = '2018-05-29-11'\n",
    "url = 'https://biendata.com/competition/airquality/ld/'+start +'/'+end+'/2k0d1d8'\n",
    "respones= requests.get(url)\n",
    "with open ('/home/lifuzhen/KDD2018/Mini_train/ld_airquality_'+start +'_'+end+'.csv','w') as f:\n",
    "    f.write(respones.text)\n",
    "print('aq finished!')\n",
    "\n",
    "url = 'https://biendata.com/competition/meteorology/ld_grid/'+start +'/'+end+'/2k0d1d8'\n",
    "respones= requests.get(url)\n",
    "with open ('/home/lifuzhen/KDD2018/Mini_train/ld_grid_meteorology_'+start +'_'+end+'.csv','w') as f:\n",
    "    f.write(respones.text)\n",
    "print('grid finished!')"
   ]
  },
  {
   "cell_type": "code",
   "execution_count": null,
   "metadata": {},
   "outputs": [],
   "source": []
  }
 ],
 "metadata": {
  "kernelspec": {
   "display_name": "Python 3",
   "language": "python",
   "name": "python3"
  },
  "language_info": {
   "codemirror_mode": {
    "name": "ipython",
    "version": 3
   },
   "file_extension": ".py",
   "mimetype": "text/x-python",
   "name": "python",
   "nbconvert_exporter": "python",
   "pygments_lexer": "ipython3",
   "version": "3.5.2"
  }
 },
 "nbformat": 4,
 "nbformat_minor": 2
}
