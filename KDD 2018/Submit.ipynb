{
 "cells": [
  {
   "cell_type": "code",
   "execution_count": 2,
   "metadata": {},
   "outputs": [
    {
     "name": "stdout",
     "output_type": "stream",
     "text": [
      "{\"success\": true}\n"
     ]
    }
   ],
   "source": [
    "import requests\n",
    "# data_submit = '2018-5-3'\n",
    "files={'files': open('/home/lifuzhen/KDD2018/Result/result_Mini_2018-5-31_big_old_120.csv','rb')}\n",
    "data = {\n",
    "    \"user_id\": \"ASUO1994\",\n",
    "    \"team_token\": \"e4cbc74100e5eba99a9a3857d0424cbe38da5f51ca1274c7f604093f13f0a6d6\",\n",
    "    \"description\": 'big old 120',\n",
    "    \"filename\": \"2018-6-1+6-2\",\n",
    "}\n",
    "url = 'https://biendata.com/competition/kdd_2018_submit/'\n",
    "response = requests.post(url, files=files, data=data)\n",
    "print(response.text)"
   ]
  },
  {
   "cell_type": "code",
   "execution_count": 1,
   "metadata": {},
   "outputs": [
    {
     "name": "stdout",
     "output_type": "stream",
     "text": [
      "{\"success\": true}\n"
     ]
    }
   ],
   "source": [
    "import requests\n",
    "# data_submit = '2018-5-4'\n",
    "files={'files': open('/home/lifuzhen/.ipython/profile_myserver/KDD 2018/Result/5-31_STACKING.csv','rb')}\n",
    "data = {\n",
    "    \"user_id\": \"ASUO1994\",\n",
    "    \"team_token\": \"e4cbc74100e5eba99a9a3857d0424cbe38da5f51ca1274c7f604093f13f0a6d6\",\n",
    "    \"description\": 'STACKING',\n",
    "    \"filename\": \"2018-6-1+6-2\",\n",
    "}\n",
    "url = 'https://biendata.com/competition/kdd_2018_submit/'\n",
    "response = requests.post(url, files=files, data=data)\n",
    "print(response.text)"
   ]
  },
  {
   "cell_type": "code",
   "execution_count": null,
   "metadata": {},
   "outputs": [],
   "source": []
  }
 ],
 "metadata": {
  "kernelspec": {
   "display_name": "Python 3",
   "language": "python",
   "name": "python3"
  },
  "language_info": {
   "codemirror_mode": {
    "name": "ipython",
    "version": 3
   },
   "file_extension": ".py",
   "mimetype": "text/x-python",
   "name": "python",
   "nbconvert_exporter": "python",
   "pygments_lexer": "ipython3",
   "version": "3.5.2"
  }
 },
 "nbformat": 4,
 "nbformat_minor": 2
}
