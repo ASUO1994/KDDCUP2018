{
 "cells": [
  {
   "cell_type": "code",
   "execution_count": 25,
   "metadata": {},
   "outputs": [],
   "source": [
    "import pandas\n",
    "import matplotlib.pyplot as plt\n",
    "def dataset(mode): #mode取weather或air\n",
    "    root = '/home/lifuzhen/KDD2018/'+mode+'.csv'\n",
    "    data = pandas.read_csv(root)\n",
    "    return data"
   ]
  },
  {
   "cell_type": "code",
   "execution_count": 74,
   "metadata": {},
   "outputs": [],
   "source": [
    "mode = 'beijing_17_18_aq' #air day Figure\n",
    "air = dataset(mode)\n",
    "air = air.fillna(0)\n",
    "for i in range(0,100):\n",
    "    plt.plot(range(0,24),air['PM2.5'][10+i*24:34+i*24]/1004,label = 'PM2.5')\n",
    "    plt.plot(range(0,24),air['PM10'][10+i*24:34+i*24]/1500,label = 'PM10')\n",
    "    plt.plot(range(0,24),air['NO2'][10+i*24:34+i*24]/300,label = 'NO2')\n",
    "    plt.plot(range(0,24),air['CO'][10+i*24:34+i*24]/15,label = 'CO')\n",
    "    plt.plot(range(0,24),air['O3'][10+i*24:34+i*24]/504,label = 'O3')\n",
    "    plt.plot(range(0,24),air['SO2'][10+i*24:34+i*24]/307,label = 'SO2')\n",
    "    plt.legend()\n",
    "    plt.savefig('/home/lifuzhen/KDD2018/Figures/air/day/'+format(i)+'.jpg')\n",
    "    plt.close()"
   ]
  },
  {
   "cell_type": "code",
   "execution_count": 75,
   "metadata": {},
   "outputs": [],
   "source": [
    "mode = 'beijing_17_18_aq' #air week Figure\n",
    "air = dataset(mode)\n",
    "air = air.fillna(0)\n",
    "for i in range(0,50):\n",
    "    plt.plot(range(0,168),air['PM2.5'][10+i*168:178+i*168]/1004,label = 'PM2.5')\n",
    "    plt.plot(range(0,168),air['PM10'][10+i*168:178+i*168]/1500,label = 'PM10')\n",
    "    plt.plot(range(0,168),air['NO2'][10+i*168:178+i*168]/300,label = 'NO2')\n",
    "    plt.plot(range(0,168),air['CO'][10+i*168:178+i*168]/15,label = 'CO')\n",
    "    plt.plot(range(0,168),air['O3'][10+i*168:178+i*168]/504,label = 'O3')\n",
    "    plt.plot(range(0,168),air['SO2'][10+i*168:178+i*168]/307,label = 'SO2')\n",
    "    plt.legend()\n",
    "    plt.savefig('/home/lifuzhen/KDD2018/Figures/air/week/'+format(i)+'.jpg')\n",
    "    plt.close()"
   ]
  },
  {
   "cell_type": "code",
   "execution_count": 80,
   "metadata": {},
   "outputs": [
    {
     "data": {
      "text/plain": [
       "0"
      ]
     },
     "execution_count": 80,
     "metadata": {},
     "output_type": "execute_result"
    }
   ],
   "source": [
    "mode = 'beijing_17_18_aq' #air month Figure\n",
    "air = dataset(mode)\n",
    "air = air.fillna(0)\n",
    "n_month = 0\n",
    "for i in range(0,12):\n",
    "    j = 0\n",
    "    while int(air['utc_time'][j].split('-')[1]) == i + 1:\n",
    "        j = j + 1\n",
    "    plt.plot(range(0 , j),air['PM2.5'][n_month:j + n_month]/1004,label='PM2.5')\n",
    "    plt.plot(range(0 , j),air['PM10'][n_month:j + n_month]/1500,label='PM10')\n",
    "    plt.plot(range(0 , j),air['NO2'][n_month:j + n_month]/300,label='NO2')\n",
    "    plt.plot(range(0 , j),air['CO'][n_month:j + n_month]/15,label='CO')\n",
    "    plt.plot(range(0 , j),air['O3'][n_month:j + n_month]/504,label='O3')\n",
    "    plt.plot(range(0 , j),air['SO2'][n_month:j + n_month]/307,label='SO2')\n",
    "    plt.legend()\n",
    "    n_month = j + n_month\n",
    "    plt.savefig('/home/lifuzhen/KDD2018/Figures/air/month/'+format(i)+'.jpg')\n",
    "    plt.close()\n",
    "j"
   ]
  },
  {
   "cell_type": "code",
   "execution_count": 78,
   "metadata": {},
   "outputs": [],
   "source": [
    "mode = 'beijing_17_18_meo' #weather day Figure\n",
    "weather = dataset(mode)\n",
    "weather = weather.fillna(0)\n",
    "for i in range(0,100):\n",
    "    plt.plot(range(0,24),weather['temperature'][8+i*24:32+i*24],label = 'temperature')\n",
    "    plt.savefig('/home/lifuzhen/KDD2018/Figures/weather/day/temperature/'+format(i)+'.jpg')\n",
    "    plt.close()\n",
    "    plt.plot(range(0,24),weather['pressure'][8+i*24:32+i*24],label = 'pressure')\n",
    "    plt.savefig('/home/lifuzhen/KDD2018/Figures/weather/day/pressure/'+format(i)+'.jpg')\n",
    "    plt.close()\n",
    "    plt.plot(range(0,24),weather['humidity'][8+i*24:32+i*24],label = 'humidity')\n",
    "    plt.savefig('/home/lifuzhen/KDD2018/Figures/weather/day/humidity/'+format(i)+'.jpg')\n",
    "    plt.close()\n",
    "    plt.plot(range(0,24),weather['wind_direction'][8+i*24:32+i*24],label = 'wind_direction')\n",
    "    plt.savefig('/home/lifuzhen/KDD2018/Figures/weather/day/wind_direction/'+format(i)+'.jpg')\n",
    "    plt.close()\n",
    "    plt.plot(range(0,24),weather['wind_speed'][8+i*24:32+i*24],label = 'wind_speed')\n",
    "    plt.savefig('/home/lifuzhen/KDD2018/Figures/weather/day/wind_speed/'+format(i)+'.jpg')\n",
    "    plt.close()"
   ]
  },
  {
   "cell_type": "code",
   "execution_count": 79,
   "metadata": {},
   "outputs": [],
   "source": [
    "mode = 'beijing_17_18_meo' #weather week Figure\n",
    "weather = dataset(mode)\n",
    "weather = weather.fillna(0)\n",
    "for i in range(0,50):\n",
    "    plt.plot(range(0,168),weather['temperature'][8+i*168:176+i*168],label = 'temperature')\n",
    "    plt.savefig('/home/lifuzhen/KDD2018/Figures/weather/week/temperature/'+format(i)+'.jpg')\n",
    "    plt.close()\n",
    "    plt.plot(range(0,168),weather['pressure'][8+i*168:176+i*168],label = 'pressure')\n",
    "    plt.savefig('/home/lifuzhen/KDD2018/Figures/weather/week/pressure/'+format(i)+'.jpg')\n",
    "    plt.close()\n",
    "    plt.plot(range(0,168),weather['humidity'][8+i*168:176+i*168],label = 'humidity')\n",
    "    plt.savefig('/home/lifuzhen/KDD2018/Figures/weather/week/humidity/'+format(i)+'.jpg')\n",
    "    plt.close()\n",
    "    plt.plot(range(0,168),weather['wind_direction'][8+i*168:176+i*168],label = 'wind_direction')\n",
    "    plt.savefig('/home/lifuzhen/KDD2018/Figures/weather/week/wind_direction/'+format(i)+'.jpg')\n",
    "    plt.close()\n",
    "    plt.plot(range(0,168),weather['wind_speed'][8+i*168:176+i*168],label = 'wind_speed')\n",
    "    plt.savefig('/home/lifuzhen/KDD2018/Figures/weather/week/wind_speed/'+format(i)+'.jpg')\n",
    "    plt.close()"
   ]
  },
  {
   "cell_type": "code",
   "execution_count": null,
   "metadata": {},
   "outputs": [],
   "source": [
    "mode = 'beijing_17_18_meo' #weather month Figure\n",
    "weather = dataset(mode)\n",
    "weather = weather.fillna(0)\n",
    "n_month = 0\n",
    "for i in range(0,12):\n",
    "    j = 0\n",
    "    while int(weather['utc_time'][j].split('-')[1]) == 1:\n",
    "        j = j + 1\n",
    "    plt.plot(range(0,168),weather['temperature'][8+i*168:176+i*168],label = 'temperature')\n",
    "    plt.savefig('/home/lifuzhen/KDD2018/Figures/weather/week/temperature/'+format(i)+'.jpg')\n",
    "    plt.close()\n",
    "    plt.plot(range(0,168),weather['pressure'][8+i*168:176+i*168],label = 'pressure')\n",
    "    plt.savefig('/home/lifuzhen/KDD2018/Figures/weather/week/pressure/'+format(i)+'.jpg')\n",
    "    plt.close()\n",
    "    plt.plot(range(0,168),weather['humidity'][8+i*168:176+i*168],label = 'humidity')\n",
    "    plt.savefig('/home/lifuzhen/KDD2018/Figures/weather/week/humidity/'+format(i)+'.jpg')\n",
    "    plt.close()\n",
    "    plt.plot(range(0,168),weather['wind_direction'][8+i*168:176+i*168],label = 'wind_direction')\n",
    "    plt.savefig('/home/lifuzhen/KDD2018/Figures/weather/week/wind_direction/'+format(i)+'.jpg')\n",
    "    plt.close()\n",
    "    plt.plot(range(0,168),weather['wind_speed'][8+i*168:176+i*168],label = 'wind_speed')\n",
    "    plt.savefig('/home/lifuzhen/KDD2018/Figures/weather/week/wind_speed/'+format(i)+'.jpg')\n",
    "    plt.close()"
   ]
  }
 ],
 "metadata": {
  "kernelspec": {
   "display_name": "Python 3",
   "language": "python",
   "name": "python3"
  },
  "language_info": {
   "codemirror_mode": {
    "name": "ipython",
    "version": 3
   },
   "file_extension": ".py",
   "mimetype": "text/x-python",
   "name": "python",
   "nbconvert_exporter": "python",
   "pygments_lexer": "ipython3",
   "version": "3.5.2"
  }
 },
 "nbformat": 4,
 "nbformat_minor": 2
}
